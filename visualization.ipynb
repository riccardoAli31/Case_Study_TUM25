{
 "cells": [
  {
   "cell_type": "code",
   "execution_count": 1,
   "id": "0cfe808e",
   "metadata": {},
   "outputs": [],
   "source": [
    "import pandas as pd\n",
    "import plotly.express as px\n",
    "import plotly.graph_objects as go\n",
    "import data_preprocessing.data_preprocess as dp\n",
    "from scipy.stats import spearmanr\n",
    "import data_preprocessing.data_loading as dl\n",
    "import numpy as np\n",
    "from scipy.stats import gaussian_kde\n",
    "import matplotlib.pyplot as plt"
   ]
  },
  {
   "cell_type": "code",
   "execution_count": 2,
   "id": "87530e3a",
   "metadata": {},
   "outputs": [],
   "source": [
    "x_var=\"National Way of Life: Immigration: Negative\"\n",
    "y_var=\"Welfare State\""
   ]
  },
  {
   "cell_type": "code",
   "execution_count": 3,
   "id": "36a8c975",
   "metadata": {},
   "outputs": [],
   "source": [
    "x_scaled = f\"{x_var} Scaled\"\n",
    "y_scaled = f\"{y_var} Scaled\"\n",
    "\n",
    "x_vmean = f\"{x_var} Voters_Mean\"\n",
    "y_vmean = f\"{y_var} Voters_Mean\"\n",
    "\n",
    "x_comb = f\"{x_var} Combined\"\n",
    "y_comb = f\"{y_var} Combined\""
   ]
  },
  {
   "cell_type": "code",
   "execution_count": 4,
   "id": "2ca33a89",
   "metadata": {},
   "outputs": [
    {
     "name": "stderr",
     "output_type": "stream",
     "text": [
      "/Users/hilmar/Desktop/projects/studium/Case_Study_TUM25/data_preprocessing/data_loading.py:39: DtypeWarning: Columns (10) have mixed types. Specify dtype option on import or set low_memory=False.\n",
      "  df = pd.read_csv(csv_path)\n",
      "/Users/hilmar/Desktop/projects/studium/Case_Study_TUM25/data_preprocessing/data_loading.py:54: FutureWarning: errors='ignore' is deprecated and will raise in a future version. Use to_numeric without passing `errors` and catch exceptions explicitly instead\n",
      "  df_filtered = df_filtered.apply(pd.to_numeric, errors=\"ignore\")\n",
      "/Users/hilmar/Desktop/projects/studium/Case_Study_TUM25/data_preprocessing/data_loading.py:60: PerformanceWarning: DataFrame is highly fragmented.  This is usually the result of calling `frame.insert` many times, which has poor performance.  Consider joining all columns at once using pd.concat(axis=1) instead. To get a de-fragmented frame, use `newframe = frame.copy()`\n",
      "  df_filtered['Year'] = (pd.to_datetime(df_filtered['Date'], dayfirst=True).dt.year).astype(str)\n"
     ]
    }
   ],
   "source": [
    "party_scaled, voter_scaled = dp.get_scaled_party_voter_data(x_var=x_var, y_var=y_var, year=\"2009\")"
   ]
  },
  {
   "cell_type": "code",
   "execution_count": 5,
   "id": "13ca1008",
   "metadata": {},
   "outputs": [
    {
     "data": {
      "application/vnd.plotly.v1+json": {
       "config": {
        "plotlyServerURL": "https://plot.ly"
       },
       "data": [
        {
         "hovertemplate": "Party_Name=90/Greens<br>Type=Manifesto Party position<br>National Way of Life: Immigration: Negative (scaled)=%{x}<br>Welfare State (scaled)=%{y}<extra></extra>",
         "legendgroup": "90/Greens, Manifesto Party position",
         "marker": {
          "color": "#636efa",
          "symbol": "circle"
         },
         "mode": "markers",
         "name": "90/Greens, Manifesto Party position",
         "orientation": "v",
         "showlegend": true,
         "type": "scatter",
         "x": {
          "bdata": "AAAAAAAAAAA=",
          "dtype": "f8"
         },
         "xaxis": "x",
         "y": {
          "bdata": "cCLOxaaGzz8=",
          "dtype": "f8"
         },
         "yaxis": "y"
        },
        {
         "hovertemplate": "Party_Name=90/Greens<br>Type=Voter Mean position<br>National Way of Life: Immigration: Negative (scaled)=%{x}<br>Welfare State (scaled)=%{y}<extra></extra>",
         "legendgroup": "90/Greens, Voter Mean position",
         "marker": {
          "color": "#636efa",
          "symbol": "diamond"
         },
         "mode": "markers",
         "name": "90/Greens, Voter Mean position",
         "orientation": "v",
         "showlegend": true,
         "type": "scatter",
         "x": {
          "bdata": "AoVUUbuW5b8=",
          "dtype": "f8"
         },
         "xaxis": "x",
         "y": {
          "bdata": "3cQpk23i2T8=",
          "dtype": "f8"
         },
         "yaxis": "y"
        },
        {
         "hovertemplate": "Party_Name=90/Greens<br>Type=Final party position<br>National Way of Life: Immigration: Negative (scaled)=%{x}<br>Welfare State (scaled)=%{y}<extra></extra>",
         "legendgroup": "90/Greens, Final party position",
         "marker": {
          "color": "#636efa",
          "symbol": "square"
         },
         "mode": "markers",
         "name": "90/Greens, Final party position",
         "orientation": "v",
         "showlegend": true,
         "type": "scatter",
         "x": {
          "bdata": "z9B2p2JF4b8=",
          "dtype": "f8"
         },
         "xaxis": "x",
         "y": {
          "bdata": "vG0cIzXc1z8=",
          "dtype": "f8"
         },
         "yaxis": "y"
        },
        {
         "hovertemplate": "Party_Name=LINKE<br>Type=Manifesto Party position<br>National Way of Life: Immigration: Negative (scaled)=%{x}<br>Welfare State (scaled)=%{y}<extra></extra>",
         "legendgroup": "LINKE, Manifesto Party position",
         "marker": {
          "color": "#EF553B",
          "symbol": "circle"
         },
         "mode": "markers",
         "name": "LINKE, Manifesto Party position",
         "orientation": "v",
         "showlegend": true,
         "type": "scatter",
         "x": {
          "bdata": "AAAAAAAAAAA=",
          "dtype": "f8"
         },
         "xaxis": "x",
         "y": {
          "bdata": "q23/1Dvo+D8=",
          "dtype": "f8"
         },
         "yaxis": "y"
        },
        {
         "hovertemplate": "Party_Name=LINKE<br>Type=Voter Mean position<br>National Way of Life: Immigration: Negative (scaled)=%{x}<br>Welfare State (scaled)=%{y}<extra></extra>",
         "legendgroup": "LINKE, Voter Mean position",
         "marker": {
          "color": "#EF553B",
          "symbol": "diamond"
         },
         "mode": "markers",
         "name": "LINKE, Voter Mean position",
         "orientation": "v",
         "showlegend": true,
         "type": "scatter",
         "x": {
          "bdata": "VWS+QfUDq78=",
          "dtype": "f8"
         },
         "xaxis": "x",
         "y": {
          "bdata": "kmyjo8NP1T8=",
          "dtype": "f8"
         },
         "yaxis": "y"
        },
        {
         "hovertemplate": "Party_Name=LINKE<br>Type=Final party position<br>National Way of Life: Immigration: Negative (scaled)=%{x}<br>Welfare State (scaled)=%{y}<extra></extra>",
         "legendgroup": "LINKE, Final party position",
         "marker": {
          "color": "#EF553B",
          "symbol": "square"
         },
         "mode": "markers",
         "name": "LINKE, Final party position",
         "orientation": "v",
         "showlegend": true,
         "type": "scatter",
         "x": {
          "bdata": "RFCYNMScpb8=",
          "dtype": "f8"
         },
         "xaxis": "x",
         "y": {
          "bdata": "f4qnlsx84j8=",
          "dtype": "f8"
         },
         "yaxis": "y"
        },
        {
         "hovertemplate": "Party_Name=SPD<br>Type=Manifesto Party position<br>National Way of Life: Immigration: Negative (scaled)=%{x}<br>Welfare State (scaled)=%{y}<extra></extra>",
         "legendgroup": "SPD, Manifesto Party position",
         "marker": {
          "color": "#00cc96",
          "symbol": "circle"
         },
         "mode": "markers",
         "name": "SPD, Manifesto Party position",
         "orientation": "v",
         "showlegend": true,
         "type": "scatter",
         "x": {
          "bdata": "AAAAAAAAAAA=",
          "dtype": "f8"
         },
         "xaxis": "x",
         "y": {
          "bdata": "YwTbJMcO2D8=",
          "dtype": "f8"
         },
         "yaxis": "y"
        },
        {
         "hovertemplate": "Party_Name=SPD<br>Type=Voter Mean position<br>National Way of Life: Immigration: Negative (scaled)=%{x}<br>Welfare State (scaled)=%{y}<extra></extra>",
         "legendgroup": "SPD, Voter Mean position",
         "marker": {
          "color": "#00cc96",
          "symbol": "diamond"
         },
         "mode": "markers",
         "name": "SPD, Voter Mean position",
         "orientation": "v",
         "showlegend": true,
         "type": "scatter",
         "x": {
          "bdata": "YAlyCOdGfj8=",
          "dtype": "f8"
         },
         "xaxis": "x",
         "y": {
          "bdata": "lH8EjgSwwT8=",
          "dtype": "f8"
         },
         "yaxis": "y"
        },
        {
         "hovertemplate": "Party_Name=SPD<br>Type=Final party position<br>National Way of Life: Immigration: Negative (scaled)=%{x}<br>Welfare State (scaled)=%{y}<extra></extra>",
         "legendgroup": "SPD, Final party position",
         "marker": {
          "color": "#00cc96",
          "symbol": "square"
         },
         "mode": "markers",
         "name": "SPD, Final party position",
         "orientation": "v",
         "showlegend": true,
         "type": "scatter",
         "x": {
          "bdata": "522O07g4eD8=",
          "dtype": "f8"
         },
         "xaxis": "x",
         "y": {
          "bdata": "BJvB5uzFxz8=",
          "dtype": "f8"
         },
         "yaxis": "y"
        },
        {
         "hovertemplate": "Party_Name=FDP<br>Type=Manifesto Party position<br>National Way of Life: Immigration: Negative (scaled)=%{x}<br>Welfare State (scaled)=%{y}<extra></extra>",
         "legendgroup": "FDP, Manifesto Party position",
         "marker": {
          "color": "#ab63fa",
          "symbol": "circle"
         },
         "mode": "markers",
         "name": "FDP, Manifesto Party position",
         "orientation": "v",
         "showlegend": true,
         "type": "scatter",
         "x": {
          "bdata": "AAAAAAAAAAA=",
          "dtype": "f8"
         },
         "xaxis": "x",
         "y": {
          "bdata": "Vs6MY9vG8b8=",
          "dtype": "f8"
         },
         "yaxis": "y"
        },
        {
         "hovertemplate": "Party_Name=FDP<br>Type=Voter Mean position<br>National Way of Life: Immigration: Negative (scaled)=%{x}<br>Welfare State (scaled)=%{y}<extra></extra>",
         "legendgroup": "FDP, Voter Mean position",
         "marker": {
          "color": "#ab63fa",
          "symbol": "diamond"
         },
         "mode": "markers",
         "name": "FDP, Voter Mean position",
         "orientation": "v",
         "showlegend": true,
         "type": "scatter",
         "x": {
          "bdata": "9TvObcSgxT8=",
          "dtype": "f8"
         },
         "xaxis": "x",
         "y": {
          "bdata": "XPLFiWM93b8=",
          "dtype": "f8"
         },
         "yaxis": "y"
        },
        {
         "hovertemplate": "Party_Name=FDP<br>Type=Final party position<br>National Way of Life: Immigration: Negative (scaled)=%{x}<br>Welfare State (scaled)=%{y}<extra></extra>",
         "legendgroup": "FDP, Final party position",
         "marker": {
          "color": "#ab63fa",
          "symbol": "square"
         },
         "mode": "markers",
         "name": "FDP, Final party position",
         "orientation": "v",
         "showlegend": true,
         "type": "scatter",
         "x": {
          "bdata": "kclx8WlNwT8=",
          "dtype": "f8"
         },
         "xaxis": "x",
         "y": {
          "bdata": "4Rkhkn/O4r8=",
          "dtype": "f8"
         },
         "yaxis": "y"
        },
        {
         "hovertemplate": "Party_Name=CDU/CSU<br>Type=Manifesto Party position<br>National Way of Life: Immigration: Negative (scaled)=%{x}<br>Welfare State (scaled)=%{y}<extra></extra>",
         "legendgroup": "CDU/CSU, Manifesto Party position",
         "marker": {
          "color": "#FFA15A",
          "symbol": "circle"
         },
         "mode": "markers",
         "name": "CDU/CSU, Manifesto Party position",
         "orientation": "v",
         "showlegend": true,
         "type": "scatter",
         "x": {
          "bdata": "AAAAAAAAAAA=",
          "dtype": "f8"
         },
         "xaxis": "x",
         "y": {
          "bdata": "vCRjE+cV8b8=",
          "dtype": "f8"
         },
         "yaxis": "y"
        },
        {
         "hovertemplate": "Party_Name=CDU/CSU<br>Type=Voter Mean position<br>National Way of Life: Immigration: Negative (scaled)=%{x}<br>Welfare State (scaled)=%{y}<extra></extra>",
         "legendgroup": "CDU/CSU, Voter Mean position",
         "marker": {
          "color": "#FFA15A",
          "symbol": "diamond"
         },
         "mode": "markers",
         "name": "CDU/CSU, Voter Mean position",
         "orientation": "v",
         "showlegend": true,
         "type": "scatter",
         "x": {
          "bdata": "YtOIIrDZwT8=",
          "dtype": "f8"
         },
         "xaxis": "x",
         "y": {
          "bdata": "jjj0BM211L8=",
          "dtype": "f8"
         },
         "yaxis": "y"
        },
        {
         "hovertemplate": "Party_Name=CDU/CSU<br>Type=Final party position<br>National Way of Life: Immigration: Negative (scaled)=%{x}<br>Welfare State (scaled)=%{y}<extra></extra>",
         "legendgroup": "CDU/CSU, Final party position",
         "marker": {
          "color": "#FFA15A",
          "symbol": "square"
         },
         "mode": "markers",
         "name": "CDU/CSU, Final party position",
         "orientation": "v",
         "showlegend": true,
         "type": "scatter",
         "x": {
          "bdata": "N1JBN4CPvD8=",
          "dtype": "f8"
         },
         "xaxis": "x",
         "y": {
          "bdata": "bxd5E5A83r8=",
          "dtype": "f8"
         },
         "yaxis": "y"
        }
       ],
       "layout": {
        "legend": {
         "title": {
          "text": "Party_Name, Type"
         },
         "tracegroupgap": 0
        },
        "template": {
         "data": {
          "bar": [
           {
            "error_x": {
             "color": "#2a3f5f"
            },
            "error_y": {
             "color": "#2a3f5f"
            },
            "marker": {
             "line": {
              "color": "#E5ECF6",
              "width": 0.5
             },
             "pattern": {
              "fillmode": "overlay",
              "size": 10,
              "solidity": 0.2
             }
            },
            "type": "bar"
           }
          ],
          "barpolar": [
           {
            "marker": {
             "line": {
              "color": "#E5ECF6",
              "width": 0.5
             },
             "pattern": {
              "fillmode": "overlay",
              "size": 10,
              "solidity": 0.2
             }
            },
            "type": "barpolar"
           }
          ],
          "carpet": [
           {
            "aaxis": {
             "endlinecolor": "#2a3f5f",
             "gridcolor": "white",
             "linecolor": "white",
             "minorgridcolor": "white",
             "startlinecolor": "#2a3f5f"
            },
            "baxis": {
             "endlinecolor": "#2a3f5f",
             "gridcolor": "white",
             "linecolor": "white",
             "minorgridcolor": "white",
             "startlinecolor": "#2a3f5f"
            },
            "type": "carpet"
           }
          ],
          "choropleth": [
           {
            "colorbar": {
             "outlinewidth": 0,
             "ticks": ""
            },
            "type": "choropleth"
           }
          ],
          "contour": [
           {
            "colorbar": {
             "outlinewidth": 0,
             "ticks": ""
            },
            "colorscale": [
             [
              0,
              "#0d0887"
             ],
             [
              0.1111111111111111,
              "#46039f"
             ],
             [
              0.2222222222222222,
              "#7201a8"
             ],
             [
              0.3333333333333333,
              "#9c179e"
             ],
             [
              0.4444444444444444,
              "#bd3786"
             ],
             [
              0.5555555555555556,
              "#d8576b"
             ],
             [
              0.6666666666666666,
              "#ed7953"
             ],
             [
              0.7777777777777778,
              "#fb9f3a"
             ],
             [
              0.8888888888888888,
              "#fdca26"
             ],
             [
              1,
              "#f0f921"
             ]
            ],
            "type": "contour"
           }
          ],
          "contourcarpet": [
           {
            "colorbar": {
             "outlinewidth": 0,
             "ticks": ""
            },
            "type": "contourcarpet"
           }
          ],
          "heatmap": [
           {
            "colorbar": {
             "outlinewidth": 0,
             "ticks": ""
            },
            "colorscale": [
             [
              0,
              "#0d0887"
             ],
             [
              0.1111111111111111,
              "#46039f"
             ],
             [
              0.2222222222222222,
              "#7201a8"
             ],
             [
              0.3333333333333333,
              "#9c179e"
             ],
             [
              0.4444444444444444,
              "#bd3786"
             ],
             [
              0.5555555555555556,
              "#d8576b"
             ],
             [
              0.6666666666666666,
              "#ed7953"
             ],
             [
              0.7777777777777778,
              "#fb9f3a"
             ],
             [
              0.8888888888888888,
              "#fdca26"
             ],
             [
              1,
              "#f0f921"
             ]
            ],
            "type": "heatmap"
           }
          ],
          "histogram": [
           {
            "marker": {
             "pattern": {
              "fillmode": "overlay",
              "size": 10,
              "solidity": 0.2
             }
            },
            "type": "histogram"
           }
          ],
          "histogram2d": [
           {
            "colorbar": {
             "outlinewidth": 0,
             "ticks": ""
            },
            "colorscale": [
             [
              0,
              "#0d0887"
             ],
             [
              0.1111111111111111,
              "#46039f"
             ],
             [
              0.2222222222222222,
              "#7201a8"
             ],
             [
              0.3333333333333333,
              "#9c179e"
             ],
             [
              0.4444444444444444,
              "#bd3786"
             ],
             [
              0.5555555555555556,
              "#d8576b"
             ],
             [
              0.6666666666666666,
              "#ed7953"
             ],
             [
              0.7777777777777778,
              "#fb9f3a"
             ],
             [
              0.8888888888888888,
              "#fdca26"
             ],
             [
              1,
              "#f0f921"
             ]
            ],
            "type": "histogram2d"
           }
          ],
          "histogram2dcontour": [
           {
            "colorbar": {
             "outlinewidth": 0,
             "ticks": ""
            },
            "colorscale": [
             [
              0,
              "#0d0887"
             ],
             [
              0.1111111111111111,
              "#46039f"
             ],
             [
              0.2222222222222222,
              "#7201a8"
             ],
             [
              0.3333333333333333,
              "#9c179e"
             ],
             [
              0.4444444444444444,
              "#bd3786"
             ],
             [
              0.5555555555555556,
              "#d8576b"
             ],
             [
              0.6666666666666666,
              "#ed7953"
             ],
             [
              0.7777777777777778,
              "#fb9f3a"
             ],
             [
              0.8888888888888888,
              "#fdca26"
             ],
             [
              1,
              "#f0f921"
             ]
            ],
            "type": "histogram2dcontour"
           }
          ],
          "mesh3d": [
           {
            "colorbar": {
             "outlinewidth": 0,
             "ticks": ""
            },
            "type": "mesh3d"
           }
          ],
          "parcoords": [
           {
            "line": {
             "colorbar": {
              "outlinewidth": 0,
              "ticks": ""
             }
            },
            "type": "parcoords"
           }
          ],
          "pie": [
           {
            "automargin": true,
            "type": "pie"
           }
          ],
          "scatter": [
           {
            "fillpattern": {
             "fillmode": "overlay",
             "size": 10,
             "solidity": 0.2
            },
            "type": "scatter"
           }
          ],
          "scatter3d": [
           {
            "line": {
             "colorbar": {
              "outlinewidth": 0,
              "ticks": ""
             }
            },
            "marker": {
             "colorbar": {
              "outlinewidth": 0,
              "ticks": ""
             }
            },
            "type": "scatter3d"
           }
          ],
          "scattercarpet": [
           {
            "marker": {
             "colorbar": {
              "outlinewidth": 0,
              "ticks": ""
             }
            },
            "type": "scattercarpet"
           }
          ],
          "scattergeo": [
           {
            "marker": {
             "colorbar": {
              "outlinewidth": 0,
              "ticks": ""
             }
            },
            "type": "scattergeo"
           }
          ],
          "scattergl": [
           {
            "marker": {
             "colorbar": {
              "outlinewidth": 0,
              "ticks": ""
             }
            },
            "type": "scattergl"
           }
          ],
          "scattermap": [
           {
            "marker": {
             "colorbar": {
              "outlinewidth": 0,
              "ticks": ""
             }
            },
            "type": "scattermap"
           }
          ],
          "scattermapbox": [
           {
            "marker": {
             "colorbar": {
              "outlinewidth": 0,
              "ticks": ""
             }
            },
            "type": "scattermapbox"
           }
          ],
          "scatterpolar": [
           {
            "marker": {
             "colorbar": {
              "outlinewidth": 0,
              "ticks": ""
             }
            },
            "type": "scatterpolar"
           }
          ],
          "scatterpolargl": [
           {
            "marker": {
             "colorbar": {
              "outlinewidth": 0,
              "ticks": ""
             }
            },
            "type": "scatterpolargl"
           }
          ],
          "scatterternary": [
           {
            "marker": {
             "colorbar": {
              "outlinewidth": 0,
              "ticks": ""
             }
            },
            "type": "scatterternary"
           }
          ],
          "surface": [
           {
            "colorbar": {
             "outlinewidth": 0,
             "ticks": ""
            },
            "colorscale": [
             [
              0,
              "#0d0887"
             ],
             [
              0.1111111111111111,
              "#46039f"
             ],
             [
              0.2222222222222222,
              "#7201a8"
             ],
             [
              0.3333333333333333,
              "#9c179e"
             ],
             [
              0.4444444444444444,
              "#bd3786"
             ],
             [
              0.5555555555555556,
              "#d8576b"
             ],
             [
              0.6666666666666666,
              "#ed7953"
             ],
             [
              0.7777777777777778,
              "#fb9f3a"
             ],
             [
              0.8888888888888888,
              "#fdca26"
             ],
             [
              1,
              "#f0f921"
             ]
            ],
            "type": "surface"
           }
          ],
          "table": [
           {
            "cells": {
             "fill": {
              "color": "#EBF0F8"
             },
             "line": {
              "color": "white"
             }
            },
            "header": {
             "fill": {
              "color": "#C8D4E3"
             },
             "line": {
              "color": "white"
             }
            },
            "type": "table"
           }
          ]
         },
         "layout": {
          "annotationdefaults": {
           "arrowcolor": "#2a3f5f",
           "arrowhead": 0,
           "arrowwidth": 1
          },
          "autotypenumbers": "strict",
          "coloraxis": {
           "colorbar": {
            "outlinewidth": 0,
            "ticks": ""
           }
          },
          "colorscale": {
           "diverging": [
            [
             0,
             "#8e0152"
            ],
            [
             0.1,
             "#c51b7d"
            ],
            [
             0.2,
             "#de77ae"
            ],
            [
             0.3,
             "#f1b6da"
            ],
            [
             0.4,
             "#fde0ef"
            ],
            [
             0.5,
             "#f7f7f7"
            ],
            [
             0.6,
             "#e6f5d0"
            ],
            [
             0.7,
             "#b8e186"
            ],
            [
             0.8,
             "#7fbc41"
            ],
            [
             0.9,
             "#4d9221"
            ],
            [
             1,
             "#276419"
            ]
           ],
           "sequential": [
            [
             0,
             "#0d0887"
            ],
            [
             0.1111111111111111,
             "#46039f"
            ],
            [
             0.2222222222222222,
             "#7201a8"
            ],
            [
             0.3333333333333333,
             "#9c179e"
            ],
            [
             0.4444444444444444,
             "#bd3786"
            ],
            [
             0.5555555555555556,
             "#d8576b"
            ],
            [
             0.6666666666666666,
             "#ed7953"
            ],
            [
             0.7777777777777778,
             "#fb9f3a"
            ],
            [
             0.8888888888888888,
             "#fdca26"
            ],
            [
             1,
             "#f0f921"
            ]
           ],
           "sequentialminus": [
            [
             0,
             "#0d0887"
            ],
            [
             0.1111111111111111,
             "#46039f"
            ],
            [
             0.2222222222222222,
             "#7201a8"
            ],
            [
             0.3333333333333333,
             "#9c179e"
            ],
            [
             0.4444444444444444,
             "#bd3786"
            ],
            [
             0.5555555555555556,
             "#d8576b"
            ],
            [
             0.6666666666666666,
             "#ed7953"
            ],
            [
             0.7777777777777778,
             "#fb9f3a"
            ],
            [
             0.8888888888888888,
             "#fdca26"
            ],
            [
             1,
             "#f0f921"
            ]
           ]
          },
          "colorway": [
           "#636efa",
           "#EF553B",
           "#00cc96",
           "#ab63fa",
           "#FFA15A",
           "#19d3f3",
           "#FF6692",
           "#B6E880",
           "#FF97FF",
           "#FECB52"
          ],
          "font": {
           "color": "#2a3f5f"
          },
          "geo": {
           "bgcolor": "white",
           "lakecolor": "white",
           "landcolor": "#E5ECF6",
           "showlakes": true,
           "showland": true,
           "subunitcolor": "white"
          },
          "hoverlabel": {
           "align": "left"
          },
          "hovermode": "closest",
          "mapbox": {
           "style": "light"
          },
          "paper_bgcolor": "white",
          "plot_bgcolor": "#E5ECF6",
          "polar": {
           "angularaxis": {
            "gridcolor": "white",
            "linecolor": "white",
            "ticks": ""
           },
           "bgcolor": "#E5ECF6",
           "radialaxis": {
            "gridcolor": "white",
            "linecolor": "white",
            "ticks": ""
           }
          },
          "scene": {
           "xaxis": {
            "backgroundcolor": "#E5ECF6",
            "gridcolor": "white",
            "gridwidth": 2,
            "linecolor": "white",
            "showbackground": true,
            "ticks": "",
            "zerolinecolor": "white"
           },
           "yaxis": {
            "backgroundcolor": "#E5ECF6",
            "gridcolor": "white",
            "gridwidth": 2,
            "linecolor": "white",
            "showbackground": true,
            "ticks": "",
            "zerolinecolor": "white"
           },
           "zaxis": {
            "backgroundcolor": "#E5ECF6",
            "gridcolor": "white",
            "gridwidth": 2,
            "linecolor": "white",
            "showbackground": true,
            "ticks": "",
            "zerolinecolor": "white"
           }
          },
          "shapedefaults": {
           "line": {
            "color": "#2a3f5f"
           }
          },
          "ternary": {
           "aaxis": {
            "gridcolor": "white",
            "linecolor": "white",
            "ticks": ""
           },
           "baxis": {
            "gridcolor": "white",
            "linecolor": "white",
            "ticks": ""
           },
           "bgcolor": "#E5ECF6",
           "caxis": {
            "gridcolor": "white",
            "linecolor": "white",
            "ticks": ""
           }
          },
          "title": {
           "x": 0.05
          },
          "xaxis": {
           "automargin": true,
           "gridcolor": "white",
           "linecolor": "white",
           "ticks": "",
           "title": {
            "standoff": 15
           },
           "zerolinecolor": "white",
           "zerolinewidth": 2
          },
          "yaxis": {
           "automargin": true,
           "gridcolor": "white",
           "linecolor": "white",
           "ticks": "",
           "title": {
            "standoff": 15
           },
           "zerolinecolor": "white",
           "zerolinewidth": 2
          }
         }
        },
        "title": {
         "text": "National Way of Life: Immigration: Negative vs. Welfare State: party positions (manifesto, mean, final)"
        },
        "xaxis": {
         "anchor": "y",
         "domain": [
          0,
          1
         ],
         "title": {
          "text": "National Way of Life: Immigration: Negative (scaled)"
         }
        },
        "yaxis": {
         "anchor": "x",
         "domain": [
          0,
          1
         ],
         "title": {
          "text": "Welfare State (scaled)"
         }
        }
       }
      }
     },
     "metadata": {},
     "output_type": "display_data"
    }
   ],
   "source": [
    "true_df = (party_scaled[['Party_Name', x_scaled, y_scaled]].rename(columns={x_scaled:'x', y_scaled:'y'}).assign(Type='Manifesto Party position'))\n",
    "\n",
    "mean_df = (party_scaled[['Party_Name', x_vmean, y_vmean]].rename(columns={x_vmean:'x', y_vmean:'y'}).assign(Type='Voter Mean position'))\n",
    "\n",
    "comb_df = (party_scaled[['Party_Name', x_comb, y_comb]].rename(columns={x_comb:'x', y_comb:'y'}).assign(Type='Final party position'))\n",
    "\n",
    "# Stack them\n",
    "plot_df = pd.concat([true_df, mean_df, comb_df], ignore_index=True)\n",
    "\n",
    "# Scatter\n",
    "fig = px.scatter(plot_df, x='x', y='y', color='Party_Name', symbol='Type',\n",
    "                 title=f'{x_var} vs. {y_var}: party positions (manifesto, mean, final)',\n",
    "                 labels={'x':f'{x_var} (scaled)', 'y':f'{y_var} (scaled)'})\n",
    "\n",
    "# 4) Tweak marker sizes\n",
    "fig.update_traces(\n",
    "    selector=dict(Type='Manifesto Party position'),\n",
    "    marker=dict(size=12, symbol='circle-open')\n",
    ")\n",
    "fig.update_traces(\n",
    "    selector=dict(Type='Voter Mean position'),\n",
    "    marker=dict(size=16, symbol='x', line=dict(width=3))\n",
    ")\n",
    "fig.update_traces(\n",
    "    selector=dict(Type='Final party position'),\n",
    "    marker=dict(size=12, symbol='diamond')\n",
    ")\n",
    "\n",
    "fig.show()"
   ]
  },
  {
   "cell_type": "code",
   "execution_count": 6,
   "id": "49db009b",
   "metadata": {},
   "outputs": [],
   "source": [
    "party_scaled_df = party_scaled[['Country', 'Date', 'Calendar_Week', 'Party_Name', f\"{x_var} Combined\", f\"{y_var} Combined\", \"Label\"]].rename(columns={\n",
    "    f'{x_var} Combined': f'{x_var} Scaled',\n",
    "    f'{y_var} Combined': f'{y_var} Scaled'})"
   ]
  },
  {
   "cell_type": "code",
   "execution_count": 7,
   "id": "1ca3d905",
   "metadata": {},
   "outputs": [
    {
     "data": {
      "application/vnd.plotly.v1+json": {
       "config": {
        "plotlyServerURL": "https://plot.ly"
       },
       "data": [
        {
         "hovertemplate": "Label=Voter<br>National Way of Life: Immigration: Negative Scaled=%{x}<br>Welfare State Scaled=%{y}<extra></extra>",
         "legendgroup": "Voter",
         "marker": {
          "color": "#636efa",
          "size": 10,
          "symbol": "circle"
         },
         "mode": "markers",
         "name": "Voter",
         "showlegend": true,
         "type": "scattergl",
         "x": {
          "bdata": "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",
          "dtype": "f8"
         },
         "xaxis": "x",
         "y": {
          "bdata": "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",
          "dtype": "f8"
         },
         "yaxis": "y"
        },
        {
         "hovertemplate": "Label=90/Greens<br>National Way of Life: Immigration: Negative Scaled=%{x}<br>Welfare State Scaled=%{y}<extra></extra>",
         "legendgroup": "90/Greens",
         "marker": {
          "color": "#EF553B",
          "size": 10,
          "symbol": "diamond"
         },
         "mode": "markers",
         "name": "90/Greens",
         "showlegend": true,
         "type": "scattergl",
         "x": {
          "bdata": "z9B2p2JF4b8=",
          "dtype": "f8"
         },
         "xaxis": "x",
         "y": {
          "bdata": "vG0cIzXc1z8=",
          "dtype": "f8"
         },
         "yaxis": "y"
        },
        {
         "hovertemplate": "Label=LINKE<br>National Way of Life: Immigration: Negative Scaled=%{x}<br>Welfare State Scaled=%{y}<extra></extra>",
         "legendgroup": "LINKE",
         "marker": {
          "color": "#00cc96",
          "size": 10,
          "symbol": "square"
         },
         "mode": "markers",
         "name": "LINKE",
         "showlegend": true,
         "type": "scattergl",
         "x": {
          "bdata": "RFCYNMScpb8=",
          "dtype": "f8"
         },
         "xaxis": "x",
         "y": {
          "bdata": "f4qnlsx84j8=",
          "dtype": "f8"
         },
         "yaxis": "y"
        },
        {
         "hovertemplate": "Label=SPD<br>National Way of Life: Immigration: Negative Scaled=%{x}<br>Welfare State Scaled=%{y}<extra></extra>",
         "legendgroup": "SPD",
         "marker": {
          "color": "#ab63fa",
          "size": 10,
          "symbol": "x"
         },
         "mode": "markers",
         "name": "SPD",
         "showlegend": true,
         "type": "scattergl",
         "x": {
          "bdata": "522O07g4eD8=",
          "dtype": "f8"
         },
         "xaxis": "x",
         "y": {
          "bdata": "BJvB5uzFxz8=",
          "dtype": "f8"
         },
         "yaxis": "y"
        },
        {
         "hovertemplate": "Label=FDP<br>National Way of Life: Immigration: Negative Scaled=%{x}<br>Welfare State Scaled=%{y}<extra></extra>",
         "legendgroup": "FDP",
         "marker": {
          "color": "#FFA15A",
          "size": 10,
          "symbol": "cross"
         },
         "mode": "markers",
         "name": "FDP",
         "showlegend": true,
         "type": "scattergl",
         "x": {
          "bdata": "kclx8WlNwT8=",
          "dtype": "f8"
         },
         "xaxis": "x",
         "y": {
          "bdata": "4Rkhkn/O4r8=",
          "dtype": "f8"
         },
         "yaxis": "y"
        },
        {
         "hovertemplate": "Label=CDU/CSU<br>National Way of Life: Immigration: Negative Scaled=%{x}<br>Welfare State Scaled=%{y}<extra></extra>",
         "legendgroup": "CDU/CSU",
         "marker": {
          "color": "#19d3f3",
          "size": 10,
          "symbol": "circle"
         },
         "mode": "markers",
         "name": "CDU/CSU",
         "showlegend": true,
         "type": "scattergl",
         "x": {
          "bdata": "N1JBN4CPvD8=",
          "dtype": "f8"
         },
         "xaxis": "x",
         "y": {
          "bdata": "bxd5E5A83r8=",
          "dtype": "f8"
         },
         "yaxis": "y"
        }
       ],
       "layout": {
        "legend": {
         "title": {
          "text": "Label"
         },
         "tracegroupgap": 0
        },
        "margin": {
         "t": 60
        },
        "template": {
         "data": {
          "bar": [
           {
            "error_x": {
             "color": "#2a3f5f"
            },
            "error_y": {
             "color": "#2a3f5f"
            },
            "marker": {
             "line": {
              "color": "#E5ECF6",
              "width": 0.5
             },
             "pattern": {
              "fillmode": "overlay",
              "size": 10,
              "solidity": 0.2
             }
            },
            "type": "bar"
           }
          ],
          "barpolar": [
           {
            "marker": {
             "line": {
              "color": "#E5ECF6",
              "width": 0.5
             },
             "pattern": {
              "fillmode": "overlay",
              "size": 10,
              "solidity": 0.2
             }
            },
            "type": "barpolar"
           }
          ],
          "carpet": [
           {
            "aaxis": {
             "endlinecolor": "#2a3f5f",
             "gridcolor": "white",
             "linecolor": "white",
             "minorgridcolor": "white",
             "startlinecolor": "#2a3f5f"
            },
            "baxis": {
             "endlinecolor": "#2a3f5f",
             "gridcolor": "white",
             "linecolor": "white",
             "minorgridcolor": "white",
             "startlinecolor": "#2a3f5f"
            },
            "type": "carpet"
           }
          ],
          "choropleth": [
           {
            "colorbar": {
             "outlinewidth": 0,
             "ticks": ""
            },
            "type": "choropleth"
           }
          ],
          "contour": [
           {
            "colorbar": {
             "outlinewidth": 0,
             "ticks": ""
            },
            "colorscale": [
             [
              0,
              "#0d0887"
             ],
             [
              0.1111111111111111,
              "#46039f"
             ],
             [
              0.2222222222222222,
              "#7201a8"
             ],
             [
              0.3333333333333333,
              "#9c179e"
             ],
             [
              0.4444444444444444,
              "#bd3786"
             ],
             [
              0.5555555555555556,
              "#d8576b"
             ],
             [
              0.6666666666666666,
              "#ed7953"
             ],
             [
              0.7777777777777778,
              "#fb9f3a"
             ],
             [
              0.8888888888888888,
              "#fdca26"
             ],
             [
              1,
              "#f0f921"
             ]
            ],
            "type": "contour"
           }
          ],
          "contourcarpet": [
           {
            "colorbar": {
             "outlinewidth": 0,
             "ticks": ""
            },
            "type": "contourcarpet"
           }
          ],
          "heatmap": [
           {
            "colorbar": {
             "outlinewidth": 0,
             "ticks": ""
            },
            "colorscale": [
             [
              0,
              "#0d0887"
             ],
             [
              0.1111111111111111,
              "#46039f"
             ],
             [
              0.2222222222222222,
              "#7201a8"
             ],
             [
              0.3333333333333333,
              "#9c179e"
             ],
             [
              0.4444444444444444,
              "#bd3786"
             ],
             [
              0.5555555555555556,
              "#d8576b"
             ],
             [
              0.6666666666666666,
              "#ed7953"
             ],
             [
              0.7777777777777778,
              "#fb9f3a"
             ],
             [
              0.8888888888888888,
              "#fdca26"
             ],
             [
              1,
              "#f0f921"
             ]
            ],
            "type": "heatmap"
           }
          ],
          "histogram": [
           {
            "marker": {
             "pattern": {
              "fillmode": "overlay",
              "size": 10,
              "solidity": 0.2
             }
            },
            "type": "histogram"
           }
          ],
          "histogram2d": [
           {
            "colorbar": {
             "outlinewidth": 0,
             "ticks": ""
            },
            "colorscale": [
             [
              0,
              "#0d0887"
             ],
             [
              0.1111111111111111,
              "#46039f"
             ],
             [
              0.2222222222222222,
              "#7201a8"
             ],
             [
              0.3333333333333333,
              "#9c179e"
             ],
             [
              0.4444444444444444,
              "#bd3786"
             ],
             [
              0.5555555555555556,
              "#d8576b"
             ],
             [
              0.6666666666666666,
              "#ed7953"
             ],
             [
              0.7777777777777778,
              "#fb9f3a"
             ],
             [
              0.8888888888888888,
              "#fdca26"
             ],
             [
              1,
              "#f0f921"
             ]
            ],
            "type": "histogram2d"
           }
          ],
          "histogram2dcontour": [
           {
            "colorbar": {
             "outlinewidth": 0,
             "ticks": ""
            },
            "colorscale": [
             [
              0,
              "#0d0887"
             ],
             [
              0.1111111111111111,
              "#46039f"
             ],
             [
              0.2222222222222222,
              "#7201a8"
             ],
             [
              0.3333333333333333,
              "#9c179e"
             ],
             [
              0.4444444444444444,
              "#bd3786"
             ],
             [
              0.5555555555555556,
              "#d8576b"
             ],
             [
              0.6666666666666666,
              "#ed7953"
             ],
             [
              0.7777777777777778,
              "#fb9f3a"
             ],
             [
              0.8888888888888888,
              "#fdca26"
             ],
             [
              1,
              "#f0f921"
             ]
            ],
            "type": "histogram2dcontour"
           }
          ],
          "mesh3d": [
           {
            "colorbar": {
             "outlinewidth": 0,
             "ticks": ""
            },
            "type": "mesh3d"
           }
          ],
          "parcoords": [
           {
            "line": {
             "colorbar": {
              "outlinewidth": 0,
              "ticks": ""
             }
            },
            "type": "parcoords"
           }
          ],
          "pie": [
           {
            "automargin": true,
            "type": "pie"
           }
          ],
          "scatter": [
           {
            "fillpattern": {
             "fillmode": "overlay",
             "size": 10,
             "solidity": 0.2
            },
            "type": "scatter"
           }
          ],
          "scatter3d": [
           {
            "line": {
             "colorbar": {
              "outlinewidth": 0,
              "ticks": ""
             }
            },
            "marker": {
             "colorbar": {
              "outlinewidth": 0,
              "ticks": ""
             }
            },
            "type": "scatter3d"
           }
          ],
          "scattercarpet": [
           {
            "marker": {
             "colorbar": {
              "outlinewidth": 0,
              "ticks": ""
             }
            },
            "type": "scattercarpet"
           }
          ],
          "scattergeo": [
           {
            "marker": {
             "colorbar": {
              "outlinewidth": 0,
              "ticks": ""
             }
            },
            "type": "scattergeo"
           }
          ],
          "scattergl": [
           {
            "marker": {
             "colorbar": {
              "outlinewidth": 0,
              "ticks": ""
             }
            },
            "type": "scattergl"
           }
          ],
          "scattermap": [
           {
            "marker": {
             "colorbar": {
              "outlinewidth": 0,
              "ticks": ""
             }
            },
            "type": "scattermap"
           }
          ],
          "scattermapbox": [
           {
            "marker": {
             "colorbar": {
              "outlinewidth": 0,
              "ticks": ""
             }
            },
            "type": "scattermapbox"
           }
          ],
          "scatterpolar": [
           {
            "marker": {
             "colorbar": {
              "outlinewidth": 0,
              "ticks": ""
             }
            },
            "type": "scatterpolar"
           }
          ],
          "scatterpolargl": [
           {
            "marker": {
             "colorbar": {
              "outlinewidth": 0,
              "ticks": ""
             }
            },
            "type": "scatterpolargl"
           }
          ],
          "scatterternary": [
           {
            "marker": {
             "colorbar": {
              "outlinewidth": 0,
              "ticks": ""
             }
            },
            "type": "scatterternary"
           }
          ],
          "surface": [
           {
            "colorbar": {
             "outlinewidth": 0,
             "ticks": ""
            },
            "colorscale": [
             [
              0,
              "#0d0887"
             ],
             [
              0.1111111111111111,
              "#46039f"
             ],
             [
              0.2222222222222222,
              "#7201a8"
             ],
             [
              0.3333333333333333,
              "#9c179e"
             ],
             [
              0.4444444444444444,
              "#bd3786"
             ],
             [
              0.5555555555555556,
              "#d8576b"
             ],
             [
              0.6666666666666666,
              "#ed7953"
             ],
             [
              0.7777777777777778,
              "#fb9f3a"
             ],
             [
              0.8888888888888888,
              "#fdca26"
             ],
             [
              1,
              "#f0f921"
             ]
            ],
            "type": "surface"
           }
          ],
          "table": [
           {
            "cells": {
             "fill": {
              "color": "#EBF0F8"
             },
             "line": {
              "color": "white"
             }
            },
            "header": {
             "fill": {
              "color": "#C8D4E3"
             },
             "line": {
              "color": "white"
             }
            },
            "type": "table"
           }
          ]
         },
         "layout": {
          "annotationdefaults": {
           "arrowcolor": "#2a3f5f",
           "arrowhead": 0,
           "arrowwidth": 1
          },
          "autotypenumbers": "strict",
          "coloraxis": {
           "colorbar": {
            "outlinewidth": 0,
            "ticks": ""
           }
          },
          "colorscale": {
           "diverging": [
            [
             0,
             "#8e0152"
            ],
            [
             0.1,
             "#c51b7d"
            ],
            [
             0.2,
             "#de77ae"
            ],
            [
             0.3,
             "#f1b6da"
            ],
            [
             0.4,
             "#fde0ef"
            ],
            [
             0.5,
             "#f7f7f7"
            ],
            [
             0.6,
             "#e6f5d0"
            ],
            [
             0.7,
             "#b8e186"
            ],
            [
             0.8,
             "#7fbc41"
            ],
            [
             0.9,
             "#4d9221"
            ],
            [
             1,
             "#276419"
            ]
           ],
           "sequential": [
            [
             0,
             "#0d0887"
            ],
            [
             0.1111111111111111,
             "#46039f"
            ],
            [
             0.2222222222222222,
             "#7201a8"
            ],
            [
             0.3333333333333333,
             "#9c179e"
            ],
            [
             0.4444444444444444,
             "#bd3786"
            ],
            [
             0.5555555555555556,
             "#d8576b"
            ],
            [
             0.6666666666666666,
             "#ed7953"
            ],
            [
             0.7777777777777778,
             "#fb9f3a"
            ],
            [
             0.8888888888888888,
             "#fdca26"
            ],
            [
             1,
             "#f0f921"
            ]
           ],
           "sequentialminus": [
            [
             0,
             "#0d0887"
            ],
            [
             0.1111111111111111,
             "#46039f"
            ],
            [
             0.2222222222222222,
             "#7201a8"
            ],
            [
             0.3333333333333333,
             "#9c179e"
            ],
            [
             0.4444444444444444,
             "#bd3786"
            ],
            [
             0.5555555555555556,
             "#d8576b"
            ],
            [
             0.6666666666666666,
             "#ed7953"
            ],
            [
             0.7777777777777778,
             "#fb9f3a"
            ],
            [
             0.8888888888888888,
             "#fdca26"
            ],
            [
             1,
             "#f0f921"
            ]
           ]
          },
          "colorway": [
           "#636efa",
           "#EF553B",
           "#00cc96",
           "#ab63fa",
           "#FFA15A",
           "#19d3f3",
           "#FF6692",
           "#B6E880",
           "#FF97FF",
           "#FECB52"
          ],
          "font": {
           "color": "#2a3f5f"
          },
          "geo": {
           "bgcolor": "white",
           "lakecolor": "white",
           "landcolor": "#E5ECF6",
           "showlakes": true,
           "showland": true,
           "subunitcolor": "white"
          },
          "hoverlabel": {
           "align": "left"
          },
          "hovermode": "closest",
          "mapbox": {
           "style": "light"
          },
          "paper_bgcolor": "white",
          "plot_bgcolor": "#E5ECF6",
          "polar": {
           "angularaxis": {
            "gridcolor": "white",
            "linecolor": "white",
            "ticks": ""
           },
           "bgcolor": "#E5ECF6",
           "radialaxis": {
            "gridcolor": "white",
            "linecolor": "white",
            "ticks": ""
           }
          },
          "scene": {
           "xaxis": {
            "backgroundcolor": "#E5ECF6",
            "gridcolor": "white",
            "gridwidth": 2,
            "linecolor": "white",
            "showbackground": true,
            "ticks": "",
            "zerolinecolor": "white"
           },
           "yaxis": {
            "backgroundcolor": "#E5ECF6",
            "gridcolor": "white",
            "gridwidth": 2,
            "linecolor": "white",
            "showbackground": true,
            "ticks": "",
            "zerolinecolor": "white"
           },
           "zaxis": {
            "backgroundcolor": "#E5ECF6",
            "gridcolor": "white",
            "gridwidth": 2,
            "linecolor": "white",
            "showbackground": true,
            "ticks": "",
            "zerolinecolor": "white"
           }
          },
          "shapedefaults": {
           "line": {
            "color": "#2a3f5f"
           }
          },
          "ternary": {
           "aaxis": {
            "gridcolor": "white",
            "linecolor": "white",
            "ticks": ""
           },
           "baxis": {
            "gridcolor": "white",
            "linecolor": "white",
            "ticks": ""
           },
           "bgcolor": "#E5ECF6",
           "caxis": {
            "gridcolor": "white",
            "linecolor": "white",
            "ticks": ""
           }
          },
          "title": {
           "x": 0.05
          },
          "xaxis": {
           "automargin": true,
           "gridcolor": "white",
           "linecolor": "white",
           "ticks": "",
           "title": {
            "standoff": 15
           },
           "zerolinecolor": "white",
           "zerolinewidth": 2
          },
          "yaxis": {
           "automargin": true,
           "gridcolor": "white",
           "linecolor": "white",
           "ticks": "",
           "title": {
            "standoff": 15
           },
           "zerolinecolor": "white",
           "zerolinewidth": 2
          }
         }
        },
        "title": {
         "text": "Scaled Voter and Party Positions"
        },
        "xaxis": {
         "anchor": "y",
         "domain": [
          0,
          1
         ],
         "title": {
          "text": "National Way of Life: Immigration: Negative Scaled"
         }
        },
        "yaxis": {
         "anchor": "x",
         "domain": [
          0,
          1
         ],
         "title": {
          "text": "Welfare State Scaled"
         }
        }
       }
      }
     },
     "metadata": {},
     "output_type": "display_data"
    }
   ],
   "source": [
    "concatenated_df = pd.concat([voter_scaled, party_scaled_df], ignore_index=True)\n",
    "\n",
    "fig = px.scatter(\n",
    "    concatenated_df,\n",
    "    x=x_scaled,\n",
    "    y=y_scaled,\n",
    "    color='Label',\n",
    "    symbol='Label')\n",
    "fig.update_traces(marker=dict(size=10))\n",
    "fig.update_layout(title='Scaled Voter and Party Positions')\n",
    "fig.show()"
   ]
  },
  {
   "cell_type": "code",
   "execution_count": 8,
   "id": "3ee87e85",
   "metadata": {},
   "outputs": [],
   "source": [
    "party_centered, voter_centered = dp.center_party_voter_data(voter_df=voter_scaled, party_df=party_scaled_df, x_var=x_var, y_var=y_var)"
   ]
  },
  {
   "cell_type": "code",
   "execution_count": 9,
   "id": "fedd2d5c",
   "metadata": {},
   "outputs": [
    {
     "data": {
      "application/vnd.plotly.v1+json": {
       "config": {
        "plotlyServerURL": "https://plot.ly"
       },
       "data": [
        {
         "hovertemplate": "Label=Voter<br>National Way of Life: Immigration: Negative Centered=%{x}<br>Welfare State Centered=%{y}<extra></extra>",
         "legendgroup": "Voter",
         "marker": {
          "color": "#636efa",
          "size": 10,
          "symbol": "circle"
         },
         "mode": "markers",
         "name": "Voter",
         "showlegend": true,
         "type": "scattergl",
         "x": {
          "bdata": "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",
          "dtype": "f8"
         },
         "xaxis": "x",
         "y": {
          "bdata": "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",
          "dtype": "f8"
         },
         "yaxis": "y"
        },
        {
         "hovertemplate": "Label=90/Greens<br>National Way of Life: Immigration: Negative Centered=%{x}<br>Welfare State Centered=%{y}<extra></extra>",
         "legendgroup": "90/Greens",
         "marker": {
          "color": "#EF553B",
          "size": 10,
          "symbol": "diamond"
         },
         "mode": "markers",
         "name": "90/Greens",
         "showlegend": true,
         "type": "scattergl",
         "x": {
          "bdata": "z9B2p2JF4b8=",
          "dtype": "f8"
         },
         "xaxis": "x",
         "y": {
          "bdata": "uW0cIzXc1z8=",
          "dtype": "f8"
         },
         "yaxis": "y"
        },
        {
         "hovertemplate": "Label=LINKE<br>National Way of Life: Immigration: Negative Centered=%{x}<br>Welfare State Centered=%{y}<extra></extra>",
         "legendgroup": "LINKE",
         "marker": {
          "color": "#00cc96",
          "size": 10,
          "symbol": "square"
         },
         "mode": "markers",
         "name": "LINKE",
         "showlegend": true,
         "type": "scattergl",
         "x": {
          "bdata": "QVCYNMScpb8=",
          "dtype": "f8"
         },
         "xaxis": "x",
         "y": {
          "bdata": "fYqnlsx84j8=",
          "dtype": "f8"
         },
         "yaxis": "y"
        },
        {
         "hovertemplate": "Label=SPD<br>National Way of Life: Immigration: Negative Centered=%{x}<br>Welfare State Centered=%{y}<extra></extra>",
         "legendgroup": "SPD",
         "marker": {
          "color": "#ab63fa",
          "size": 10,
          "symbol": "x"
         },
         "mode": "markers",
         "name": "SPD",
         "showlegend": true,
         "type": "scattergl",
         "x": {
          "bdata": "/m2O07g4eD8=",
          "dtype": "f8"
         },
         "xaxis": "x",
         "y": {
          "bdata": "/prB5uzFxz8=",
          "dtype": "f8"
         },
         "yaxis": "y"
        },
        {
         "hovertemplate": "Label=FDP<br>National Way of Life: Immigration: Negative Centered=%{x}<br>Welfare State Centered=%{y}<extra></extra>",
         "legendgroup": "FDP",
         "marker": {
          "color": "#FFA15A",
          "size": 10,
          "symbol": "cross"
         },
         "mode": "markers",
         "name": "FDP",
         "showlegend": true,
         "type": "scattergl",
         "x": {
          "bdata": "kslx8WlNwT8=",
          "dtype": "f8"
         },
         "xaxis": "x",
         "y": {
          "bdata": "4xkhkn/O4r8=",
          "dtype": "f8"
         },
         "yaxis": "y"
        },
        {
         "hovertemplate": "Label=CDU/CSU<br>National Way of Life: Immigration: Negative Centered=%{x}<br>Welfare State Centered=%{y}<extra></extra>",
         "legendgroup": "CDU/CSU",
         "marker": {
          "color": "#19d3f3",
          "size": 10,
          "symbol": "circle"
         },
         "mode": "markers",
         "name": "CDU/CSU",
         "showlegend": true,
         "type": "scattergl",
         "x": {
          "bdata": "OFJBN4CPvD8=",
          "dtype": "f8"
         },
         "xaxis": "x",
         "y": {
          "bdata": "chd5E5A83r8=",
          "dtype": "f8"
         },
         "yaxis": "y"
        }
       ],
       "layout": {
        "legend": {
         "title": {
          "text": "Label"
         },
         "tracegroupgap": 0
        },
        "margin": {
         "t": 60
        },
        "template": {
         "data": {
          "bar": [
           {
            "error_x": {
             "color": "#2a3f5f"
            },
            "error_y": {
             "color": "#2a3f5f"
            },
            "marker": {
             "line": {
              "color": "#E5ECF6",
              "width": 0.5
             },
             "pattern": {
              "fillmode": "overlay",
              "size": 10,
              "solidity": 0.2
             }
            },
            "type": "bar"
           }
          ],
          "barpolar": [
           {
            "marker": {
             "line": {
              "color": "#E5ECF6",
              "width": 0.5
             },
             "pattern": {
              "fillmode": "overlay",
              "size": 10,
              "solidity": 0.2
             }
            },
            "type": "barpolar"
           }
          ],
          "carpet": [
           {
            "aaxis": {
             "endlinecolor": "#2a3f5f",
             "gridcolor": "white",
             "linecolor": "white",
             "minorgridcolor": "white",
             "startlinecolor": "#2a3f5f"
            },
            "baxis": {
             "endlinecolor": "#2a3f5f",
             "gridcolor": "white",
             "linecolor": "white",
             "minorgridcolor": "white",
             "startlinecolor": "#2a3f5f"
            },
            "type": "carpet"
           }
          ],
          "choropleth": [
           {
            "colorbar": {
             "outlinewidth": 0,
             "ticks": ""
            },
            "type": "choropleth"
           }
          ],
          "contour": [
           {
            "colorbar": {
             "outlinewidth": 0,
             "ticks": ""
            },
            "colorscale": [
             [
              0,
              "#0d0887"
             ],
             [
              0.1111111111111111,
              "#46039f"
             ],
             [
              0.2222222222222222,
              "#7201a8"
             ],
             [
              0.3333333333333333,
              "#9c179e"
             ],
             [
              0.4444444444444444,
              "#bd3786"
             ],
             [
              0.5555555555555556,
              "#d8576b"
             ],
             [
              0.6666666666666666,
              "#ed7953"
             ],
             [
              0.7777777777777778,
              "#fb9f3a"
             ],
             [
              0.8888888888888888,
              "#fdca26"
             ],
             [
              1,
              "#f0f921"
             ]
            ],
            "type": "contour"
           }
          ],
          "contourcarpet": [
           {
            "colorbar": {
             "outlinewidth": 0,
             "ticks": ""
            },
            "type": "contourcarpet"
           }
          ],
          "heatmap": [
           {
            "colorbar": {
             "outlinewidth": 0,
             "ticks": ""
            },
            "colorscale": [
             [
              0,
              "#0d0887"
             ],
             [
              0.1111111111111111,
              "#46039f"
             ],
             [
              0.2222222222222222,
              "#7201a8"
             ],
             [
              0.3333333333333333,
              "#9c179e"
             ],
             [
              0.4444444444444444,
              "#bd3786"
             ],
             [
              0.5555555555555556,
              "#d8576b"
             ],
             [
              0.6666666666666666,
              "#ed7953"
             ],
             [
              0.7777777777777778,
              "#fb9f3a"
             ],
             [
              0.8888888888888888,
              "#fdca26"
             ],
             [
              1,
              "#f0f921"
             ]
            ],
            "type": "heatmap"
           }
          ],
          "histogram": [
           {
            "marker": {
             "pattern": {
              "fillmode": "overlay",
              "size": 10,
              "solidity": 0.2
             }
            },
            "type": "histogram"
           }
          ],
          "histogram2d": [
           {
            "colorbar": {
             "outlinewidth": 0,
             "ticks": ""
            },
            "colorscale": [
             [
              0,
              "#0d0887"
             ],
             [
              0.1111111111111111,
              "#46039f"
             ],
             [
              0.2222222222222222,
              "#7201a8"
             ],
             [
              0.3333333333333333,
              "#9c179e"
             ],
             [
              0.4444444444444444,
              "#bd3786"
             ],
             [
              0.5555555555555556,
              "#d8576b"
             ],
             [
              0.6666666666666666,
              "#ed7953"
             ],
             [
              0.7777777777777778,
              "#fb9f3a"
             ],
             [
              0.8888888888888888,
              "#fdca26"
             ],
             [
              1,
              "#f0f921"
             ]
            ],
            "type": "histogram2d"
           }
          ],
          "histogram2dcontour": [
           {
            "colorbar": {
             "outlinewidth": 0,
             "ticks": ""
            },
            "colorscale": [
             [
              0,
              "#0d0887"
             ],
             [
              0.1111111111111111,
              "#46039f"
             ],
             [
              0.2222222222222222,
              "#7201a8"
             ],
             [
              0.3333333333333333,
              "#9c179e"
             ],
             [
              0.4444444444444444,
              "#bd3786"
             ],
             [
              0.5555555555555556,
              "#d8576b"
             ],
             [
              0.6666666666666666,
              "#ed7953"
             ],
             [
              0.7777777777777778,
              "#fb9f3a"
             ],
             [
              0.8888888888888888,
              "#fdca26"
             ],
             [
              1,
              "#f0f921"
             ]
            ],
            "type": "histogram2dcontour"
           }
          ],
          "mesh3d": [
           {
            "colorbar": {
             "outlinewidth": 0,
             "ticks": ""
            },
            "type": "mesh3d"
           }
          ],
          "parcoords": [
           {
            "line": {
             "colorbar": {
              "outlinewidth": 0,
              "ticks": ""
             }
            },
            "type": "parcoords"
           }
          ],
          "pie": [
           {
            "automargin": true,
            "type": "pie"
           }
          ],
          "scatter": [
           {
            "fillpattern": {
             "fillmode": "overlay",
             "size": 10,
             "solidity": 0.2
            },
            "type": "scatter"
           }
          ],
          "scatter3d": [
           {
            "line": {
             "colorbar": {
              "outlinewidth": 0,
              "ticks": ""
             }
            },
            "marker": {
             "colorbar": {
              "outlinewidth": 0,
              "ticks": ""
             }
            },
            "type": "scatter3d"
           }
          ],
          "scattercarpet": [
           {
            "marker": {
             "colorbar": {
              "outlinewidth": 0,
              "ticks": ""
             }
            },
            "type": "scattercarpet"
           }
          ],
          "scattergeo": [
           {
            "marker": {
             "colorbar": {
              "outlinewidth": 0,
              "ticks": ""
             }
            },
            "type": "scattergeo"
           }
          ],
          "scattergl": [
           {
            "marker": {
             "colorbar": {
              "outlinewidth": 0,
              "ticks": ""
             }
            },
            "type": "scattergl"
           }
          ],
          "scattermap": [
           {
            "marker": {
             "colorbar": {
              "outlinewidth": 0,
              "ticks": ""
             }
            },
            "type": "scattermap"
           }
          ],
          "scattermapbox": [
           {
            "marker": {
             "colorbar": {
              "outlinewidth": 0,
              "ticks": ""
             }
            },
            "type": "scattermapbox"
           }
          ],
          "scatterpolar": [
           {
            "marker": {
             "colorbar": {
              "outlinewidth": 0,
              "ticks": ""
             }
            },
            "type": "scatterpolar"
           }
          ],
          "scatterpolargl": [
           {
            "marker": {
             "colorbar": {
              "outlinewidth": 0,
              "ticks": ""
             }
            },
            "type": "scatterpolargl"
           }
          ],
          "scatterternary": [
           {
            "marker": {
             "colorbar": {
              "outlinewidth": 0,
              "ticks": ""
             }
            },
            "type": "scatterternary"
           }
          ],
          "surface": [
           {
            "colorbar": {
             "outlinewidth": 0,
             "ticks": ""
            },
            "colorscale": [
             [
              0,
              "#0d0887"
             ],
             [
              0.1111111111111111,
              "#46039f"
             ],
             [
              0.2222222222222222,
              "#7201a8"
             ],
             [
              0.3333333333333333,
              "#9c179e"
             ],
             [
              0.4444444444444444,
              "#bd3786"
             ],
             [
              0.5555555555555556,
              "#d8576b"
             ],
             [
              0.6666666666666666,
              "#ed7953"
             ],
             [
              0.7777777777777778,
              "#fb9f3a"
             ],
             [
              0.8888888888888888,
              "#fdca26"
             ],
             [
              1,
              "#f0f921"
             ]
            ],
            "type": "surface"
           }
          ],
          "table": [
           {
            "cells": {
             "fill": {
              "color": "#EBF0F8"
             },
             "line": {
              "color": "white"
             }
            },
            "header": {
             "fill": {
              "color": "#C8D4E3"
             },
             "line": {
              "color": "white"
             }
            },
            "type": "table"
           }
          ]
         },
         "layout": {
          "annotationdefaults": {
           "arrowcolor": "#2a3f5f",
           "arrowhead": 0,
           "arrowwidth": 1
          },
          "autotypenumbers": "strict",
          "coloraxis": {
           "colorbar": {
            "outlinewidth": 0,
            "ticks": ""
           }
          },
          "colorscale": {
           "diverging": [
            [
             0,
             "#8e0152"
            ],
            [
             0.1,
             "#c51b7d"
            ],
            [
             0.2,
             "#de77ae"
            ],
            [
             0.3,
             "#f1b6da"
            ],
            [
             0.4,
             "#fde0ef"
            ],
            [
             0.5,
             "#f7f7f7"
            ],
            [
             0.6,
             "#e6f5d0"
            ],
            [
             0.7,
             "#b8e186"
            ],
            [
             0.8,
             "#7fbc41"
            ],
            [
             0.9,
             "#4d9221"
            ],
            [
             1,
             "#276419"
            ]
           ],
           "sequential": [
            [
             0,
             "#0d0887"
            ],
            [
             0.1111111111111111,
             "#46039f"
            ],
            [
             0.2222222222222222,
             "#7201a8"
            ],
            [
             0.3333333333333333,
             "#9c179e"
            ],
            [
             0.4444444444444444,
             "#bd3786"
            ],
            [
             0.5555555555555556,
             "#d8576b"
            ],
            [
             0.6666666666666666,
             "#ed7953"
            ],
            [
             0.7777777777777778,
             "#fb9f3a"
            ],
            [
             0.8888888888888888,
             "#fdca26"
            ],
            [
             1,
             "#f0f921"
            ]
           ],
           "sequentialminus": [
            [
             0,
             "#0d0887"
            ],
            [
             0.1111111111111111,
             "#46039f"
            ],
            [
             0.2222222222222222,
             "#7201a8"
            ],
            [
             0.3333333333333333,
             "#9c179e"
            ],
            [
             0.4444444444444444,
             "#bd3786"
            ],
            [
             0.5555555555555556,
             "#d8576b"
            ],
            [
             0.6666666666666666,
             "#ed7953"
            ],
            [
             0.7777777777777778,
             "#fb9f3a"
            ],
            [
             0.8888888888888888,
             "#fdca26"
            ],
            [
             1,
             "#f0f921"
            ]
           ]
          },
          "colorway": [
           "#636efa",
           "#EF553B",
           "#00cc96",
           "#ab63fa",
           "#FFA15A",
           "#19d3f3",
           "#FF6692",
           "#B6E880",
           "#FF97FF",
           "#FECB52"
          ],
          "font": {
           "color": "#2a3f5f"
          },
          "geo": {
           "bgcolor": "white",
           "lakecolor": "white",
           "landcolor": "#E5ECF6",
           "showlakes": true,
           "showland": true,
           "subunitcolor": "white"
          },
          "hoverlabel": {
           "align": "left"
          },
          "hovermode": "closest",
          "mapbox": {
           "style": "light"
          },
          "paper_bgcolor": "white",
          "plot_bgcolor": "#E5ECF6",
          "polar": {
           "angularaxis": {
            "gridcolor": "white",
            "linecolor": "white",
            "ticks": ""
           },
           "bgcolor": "#E5ECF6",
           "radialaxis": {
            "gridcolor": "white",
            "linecolor": "white",
            "ticks": ""
           }
          },
          "scene": {
           "xaxis": {
            "backgroundcolor": "#E5ECF6",
            "gridcolor": "white",
            "gridwidth": 2,
            "linecolor": "white",
            "showbackground": true,
            "ticks": "",
            "zerolinecolor": "white"
           },
           "yaxis": {
            "backgroundcolor": "#E5ECF6",
            "gridcolor": "white",
            "gridwidth": 2,
            "linecolor": "white",
            "showbackground": true,
            "ticks": "",
            "zerolinecolor": "white"
           },
           "zaxis": {
            "backgroundcolor": "#E5ECF6",
            "gridcolor": "white",
            "gridwidth": 2,
            "linecolor": "white",
            "showbackground": true,
            "ticks": "",
            "zerolinecolor": "white"
           }
          },
          "shapedefaults": {
           "line": {
            "color": "#2a3f5f"
           }
          },
          "ternary": {
           "aaxis": {
            "gridcolor": "white",
            "linecolor": "white",
            "ticks": ""
           },
           "baxis": {
            "gridcolor": "white",
            "linecolor": "white",
            "ticks": ""
           },
           "bgcolor": "#E5ECF6",
           "caxis": {
            "gridcolor": "white",
            "linecolor": "white",
            "ticks": ""
           }
          },
          "title": {
           "x": 0.05
          },
          "xaxis": {
           "automargin": true,
           "gridcolor": "white",
           "linecolor": "white",
           "ticks": "",
           "title": {
            "standoff": 15
           },
           "zerolinecolor": "white",
           "zerolinewidth": 2
          },
          "yaxis": {
           "automargin": true,
           "gridcolor": "white",
           "linecolor": "white",
           "ticks": "",
           "title": {
            "standoff": 15
           },
           "zerolinecolor": "white",
           "zerolinewidth": 2
          }
         }
        },
        "title": {
         "text": "Centered and Rotated Voter and Party Positions"
        },
        "xaxis": {
         "anchor": "y",
         "domain": [
          0,
          1
         ],
         "title": {
          "text": "National Way of Life: Immigration: Negative Centered"
         }
        },
        "yaxis": {
         "anchor": "x",
         "domain": [
          0,
          1
         ],
         "title": {
          "text": "Welfare State Centered"
         }
        }
       }
      }
     },
     "metadata": {},
     "output_type": "display_data"
    }
   ],
   "source": [
    "concatenated_df = pd.concat([voter_centered, party_centered], ignore_index=True)\n",
    "\n",
    "fig = px.scatter(\n",
    "    concatenated_df,\n",
    "    x=f\"{x_var} Centered\",\n",
    "    y=f\"{y_var} Centered\",\n",
    "    color='Label',\n",
    "    symbol='Label')\n",
    "fig.update_traces(marker=dict(size=10))\n",
    "fig.update_layout(title='Centered and Rotated Voter and Party Positions')\n",
    "fig.show()"
   ]
  },
  {
   "cell_type": "code",
   "execution_count": 10,
   "id": "87cd61f2",
   "metadata": {},
   "outputs": [
    {
     "data": {
      "image/png": "[encoded data removed]",
      "text/plain": [
       "<Figure size 1000x1000 with 1 Axes>"
      ]
     },
     "metadata": {},
     "output_type": "display_data"
    }
   ],
   "source": [
    "x_v = voter_scaled[x_scaled].values\n",
    "y_v = voter_scaled[y_scaled].values\n",
    "\n",
    "# Stack the data into a 2×N array and hand it to SciPy’s gaussian_kde\n",
    "xy = np.vstack([x_v, y_v])\n",
    "# In two-dimensional KDE, the data points are smoothed in both dimensions, resulting in a surface that represents the joint probability density of the two variables\n",
    "kde = gaussian_kde(xy, bw_method='scott')\n",
    "\n",
    "# You build a 200×200 grid over the observed data‐range, evaluate the estimation at each grid point, and reshape back into a 2-D array zi\n",
    "nbins = 200\n",
    "xi = np.linspace(x_v.min(), x_v.max(), nbins)\n",
    "yi = np.linspace(y_v.min(), y_v.max(), nbins)\n",
    "xi, yi = np.meshgrid(xi, yi)\n",
    "zi = kde(np.vstack([xi.ravel(), yi.ravel()])).reshape(xi.shape)\n",
    "\n",
    "# surface can be visualized using contour plots, where each contour line represents a region of constant density\n",
    "levels = np.percentile(zi, [50, 75, 95])\n",
    "\n",
    "plt.figure(figsize=(10, 10))\n",
    "# filled contours\n",
    "plt.contourf(xi, yi, zi,\n",
    "             levels=[levels[0], levels[1], levels[2], zi.max()],\n",
    "             cmap=\"Greys\",    # or any sequential colormap\n",
    "             alpha=0.5)\n",
    "# outline the contour levels\n",
    "plt.contour(xi, yi, zi, levels=levels, colors=\"k\", linewidths=1)\n",
    "\n",
    "# overlay the voter points \n",
    "plt.scatter(x_v, y_v, s=10, c=\"lightblue\", edgecolor=\"none\", alpha=0.6, label=\"Voter\")\n",
    "\n",
    "# overlay the party means\n",
    "px = party_scaled_df[x_scaled].values\n",
    "py = party_scaled_df[y_scaled].values\n",
    "labels = party_scaled_df[\"Party_Name\"].values\n",
    "\n",
    "plt.scatter(px, py, s=80, c=\"red\", edgecolor=\"white\", linewidth=1.5, label=\"Party\")\n",
    "for name, x, y in zip(labels, px, py):\n",
    "    plt.text(x, y, name, fontsize=9, fontweight=\"bold\",\n",
    "             ha=\"center\", va=\"center\", color=\"darkred\")\n",
    "\n",
    "plt.axhline(0, color=\"grey\", lw=0.8)\n",
    "plt.axvline(0, color=\"grey\", lw=0.8)\n",
    "plt.xlabel(x_scaled)\n",
    "plt.ylabel(y_scaled)\n",
    "plt.title(\"Voter Density & Party Positions\")\n",
    "plt.legend(loc=\"upper left\")\n",
    "plt.tight_layout()\n",
    "plt.show()"
   ]
  },
  {
   "cell_type": "code",
   "execution_count": 11,
   "id": "1e801e9a",
   "metadata": {},
   "outputs": [
    {
     "data": {
      "image/png": "[encoded data removed]",
      "text/plain": [
       "<Figure size 640x480 with 1 Axes>"
      ]
     },
     "metadata": {},
     "output_type": "display_data"
    }
   ],
   "source": [
    "# plot colors for each point according to which party he voted for\n",
    "def plot(voter, party, label: bool):\n",
    "    # get party and voter positions\n",
    "    x_voter = voter[f'{x_var} Centered']\n",
    "    y_voter = voter[f'{y_var} Centered']\n",
    "    x_party = party[f'{x_var} Centered']\n",
    "    y_party = party[f'{y_var} Centered']\n",
    "\n",
    "    # set a color for each person depending on which party he voted for\n",
    "    color = voter[\"party_choice\"].replace([0, 1, 2, 3, 4, 5], [\"green\", \"red\", \"black\", \"blue\", \"purple\", \"yellow\"])\n",
    "\n",
    "    plt.Figure()\n",
    "\n",
    "    plt.scatter(x_voter, y_voter, c=color, alpha=0.5)\n",
    "    plt.scatter(x_party, y_party)\n",
    "    plt.xlabel(x_var)\n",
    "    plt.ylabel(y_var)\n",
    "\n",
    "    # show the name of the parties\n",
    "    if \"Label\" in party and label:\n",
    "        label = party[\"Label\"]\n",
    "        for x, y, text in zip(x_party, y_party, label):\n",
    "            plt.text(x, y, text)\n",
    "\n",
    "plot(voter_centered, party_centered, False)"
   ]
  },
  {
   "cell_type": "code",
   "execution_count": null,
   "id": "d43a5674",
   "metadata": {},
   "outputs": [],
   "source": []
  }
 ],
 "metadata": {
  "kernelspec": {
   "display_name": ".venv",
   "language": "python",
   "name": "python3"
  },
  "language_info": {
   "codemirror_mode": {
    "name": "ipython",
    "version": 3
   },
   "file_extension": ".py",
   "mimetype": "text/x-python",
   "name": "python",
   "nbconvert_exporter": "python",
   "pygments_lexer": "ipython3",
   "version": "3.11.4"
  }
 },
 "nbformat": 4,
 "nbformat_minor": 5
}
