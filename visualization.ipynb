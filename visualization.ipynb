{
 "cells": [
  {
   "cell_type": "code",
   "execution_count": 12,
   "id": "0cfe808e",
   "metadata": {},
   "outputs": [],
   "source": [
    "import pandas as pd\n",
    "import plotly.express as px\n",
    "import plotly.graph_objects as go\n",
    "import data_preprocessing.data_preprocess as dp\n",
    "from scipy.stats import spearmanr\n",
    "import data_preprocessing.data_loading as dl\n",
    "import numpy as np\n",
    "from scipy.stats import gaussian_kde\n",
    "import matplotlib.pyplot as plt"
   ]
  },
  {
   "cell_type": "code",
   "execution_count": 13,
   "id": "87530e3a",
   "metadata": {},
   "outputs": [],
   "source": [
    "x_var = \"Opposition to Immigration\"\n",
    "y_var = \"Welfare State\"\n",
    "year  = \"2025\""
   ]
  },
  {
   "cell_type": "code",
   "execution_count": 14,
   "id": "36a8c975",
   "metadata": {},
   "outputs": [],
   "source": [
    "x_scaled = f\"{x_var} Scaled\"\n",
    "y_scaled = f\"{y_var} Scaled\"\n",
    "\n",
    "x_vmean = f\"{x_var} Voters_Mean\"\n",
    "y_vmean = f\"{y_var} Voters_Mean\"\n",
    "\n",
    "x_comb = f\"{x_var} Combined\"\n",
    "y_comb = f\"{y_var} Combined\""
   ]
  },
  {
   "cell_type": "code",
   "execution_count": 15,
   "id": "2ca33a89",
   "metadata": {},
   "outputs": [
    {
     "name": "stderr",
     "output_type": "stream",
     "text": [
      "/Users/hilmar/Desktop/projects/studium/Case_Study_TUM25/data_preprocessing/data_loading.py:39: DtypeWarning:\n",
      "\n",
      "Columns (10) have mixed types. Specify dtype option on import or set low_memory=False.\n",
      "\n",
      "/Users/hilmar/Desktop/projects/studium/Case_Study_TUM25/data_preprocessing/data_loading.py:54: FutureWarning:\n",
      "\n",
      "errors='ignore' is deprecated and will raise in a future version. Use to_numeric without passing `errors` and catch exceptions explicitly instead\n",
      "\n",
      "/Users/hilmar/Desktop/projects/studium/Case_Study_TUM25/data_preprocessing/data_loading.py:60: PerformanceWarning:\n",
      "\n",
      "DataFrame is highly fragmented.  This is usually the result of calling `frame.insert` many times, which has poor performance.  Consider joining all columns at once using pd.concat(axis=1) instead. To get a de-fragmented frame, use `newframe = frame.copy()`\n",
      "\n",
      "/Users/hilmar/Desktop/projects/studium/Case_Study_TUM25/data_preprocessing/data_preprocess.py:44: UserWarning:\n",
      "\n",
      "Requested year '2025' not found in party data; falling back to most recent year '2021'.\n",
      "\n"
     ]
    }
   ],
   "source": [
    "party_scaled, voter_scaled = dp.get_scaled_party_voter_data(x_var=x_var, y_var=y_var, year=year)"
   ]
  },
  {
   "cell_type": "code",
   "execution_count": 16,
   "id": "13ca1008",
   "metadata": {},
   "outputs": [
    {
     "data": {
      "application/vnd.plotly.v1+json": {
       "config": {
        "plotlyServerURL": "https://plot.ly"
       },
       "data": [
        {
         "hovertemplate": "Party_Name=90/Greens<br>Type=Manifesto Party position<br>Opposition to Immigration (scaled)=%{x}<br>Welfare State (scaled)=%{y}<extra></extra>",
         "legendgroup": "90/Greens, Manifesto Party position",
         "marker": {
          "color": "#636efa",
          "symbol": "circle"
         },
         "mode": "markers",
         "name": "90/Greens, Manifesto Party position",
         "orientation": "v",
         "showlegend": true,
         "type": "scatter",
         "x": {
          "bdata": "fAI7Sw8O4L8=",
          "dtype": "f8"
         },
         "xaxis": "x",
         "y": {
          "bdata": "LX3WsN5Pwz8=",
          "dtype": "f8"
         },
         "yaxis": "y"
        },
        {
         "hovertemplate": "Party_Name=90/Greens<br>Type=Voter Mean position<br>Opposition to Immigration (scaled)=%{x}<br>Welfare State (scaled)=%{y}<extra></extra>",
         "legendgroup": "90/Greens, Voter Mean position",
         "marker": {
          "color": "#636efa",
          "symbol": "diamond"
         },
         "mode": "markers",
         "name": "90/Greens, Voter Mean position",
         "orientation": "v",
         "showlegend": true,
         "type": "scatter",
         "x": {
          "bdata": "isOtJxgL6r8=",
          "dtype": "f8"
         },
         "xaxis": "x",
         "y": {
          "bdata": "lpx0WCAp5D8=",
          "dtype": "f8"
         },
         "yaxis": "y"
        },
        {
         "hovertemplate": "Party_Name=90/Greens<br>Type=Final party position<br>Opposition to Immigration (scaled)=%{x}<br>Welfare State (scaled)=%{y}<extra></extra>",
         "legendgroup": "90/Greens, Final party position",
         "marker": {
          "color": "#636efa",
          "symbol": "square"
         },
         "mode": "markers",
         "name": "90/Greens, Final party position",
         "orientation": "v",
         "showlegend": true,
         "type": "scatter",
         "x": {
          "bdata": "IdCW+68L6L8=",
          "dtype": "f8"
         },
         "xaxis": "x",
         "y": {
          "bdata": "IZ0BNhgY4T8=",
          "dtype": "f8"
         },
         "yaxis": "y"
        },
        {
         "hovertemplate": "Party_Name=LINKE<br>Type=Manifesto Party position<br>Opposition to Immigration (scaled)=%{x}<br>Welfare State (scaled)=%{y}<extra></extra>",
         "legendgroup": "LINKE, Manifesto Party position",
         "marker": {
          "color": "#EF553B",
          "symbol": "circle"
         },
         "mode": "markers",
         "name": "LINKE, Manifesto Party position",
         "orientation": "v",
         "showlegend": true,
         "type": "scatter",
         "x": {
          "bdata": "3O1I1E0a4b8=",
          "dtype": "f8"
         },
         "xaxis": "x",
         "y": {
          "bdata": "2BDdCDDd9j8=",
          "dtype": "f8"
         },
         "yaxis": "y"
        },
        {
         "hovertemplate": "Party_Name=LINKE<br>Type=Voter Mean position<br>Opposition to Immigration (scaled)=%{x}<br>Welfare State (scaled)=%{y}<extra></extra>",
         "legendgroup": "LINKE, Voter Mean position",
         "marker": {
          "color": "#EF553B",
          "symbol": "diamond"
         },
         "mode": "markers",
         "name": "LINKE, Voter Mean position",
         "orientation": "v",
         "showlegend": true,
         "type": "scatter",
         "x": {
          "bdata": "aXUcI7pL6b8=",
          "dtype": "f8"
         },
         "xaxis": "x",
         "y": {
          "bdata": "XINK/uKo5z8=",
          "dtype": "f8"
         },
         "yaxis": "y"
        },
        {
         "hovertemplate": "Party_Name=LINKE<br>Type=Final party position<br>Opposition to Immigration (scaled)=%{x}<br>Welfare State (scaled)=%{y}<extra></extra>",
         "legendgroup": "LINKE, Final party position",
         "marker": {
          "color": "#EF553B",
          "symbol": "square"
         },
         "mode": "markers",
         "name": "LINKE, Final party position",
         "orientation": "v",
         "showlegend": true,
         "type": "scatter",
         "x": {
          "bdata": "gI1YEz6o578=",
          "dtype": "f8"
         },
         "xaxis": "x",
         "y": {
          "bdata": "1G/6zsgS7D8=",
          "dtype": "f8"
         },
         "yaxis": "y"
        },
        {
         "hovertemplate": "Party_Name=SPD<br>Type=Manifesto Party position<br>Opposition to Immigration (scaled)=%{x}<br>Welfare State (scaled)=%{y}<extra></extra>",
         "legendgroup": "SPD, Manifesto Party position",
         "marker": {
          "color": "#00cc96",
          "symbol": "circle"
         },
         "mode": "markers",
         "name": "SPD, Manifesto Party position",
         "orientation": "v",
         "showlegend": true,
         "type": "scatter",
         "x": {
          "bdata": "Rnb6fLmA4b8=",
          "dtype": "f8"
         },
         "xaxis": "x",
         "y": {
          "bdata": "Gk9M0W2o4j8=",
          "dtype": "f8"
         },
         "yaxis": "y"
        },
        {
         "hovertemplate": "Party_Name=SPD<br>Type=Voter Mean position<br>Opposition to Immigration (scaled)=%{x}<br>Welfare State (scaled)=%{y}<extra></extra>",
         "legendgroup": "SPD, Voter Mean position",
         "marker": {
          "color": "#00cc96",
          "symbol": "diamond"
         },
         "mode": "markers",
         "name": "SPD, Voter Mean position",
         "orientation": "v",
         "showlegend": true,
         "type": "scatter",
         "x": {
          "bdata": "T1xpqypm0L8=",
          "dtype": "f8"
         },
         "xaxis": "x",
         "y": {
          "bdata": "IcBs7zml0D8=",
          "dtype": "f8"
         },
         "yaxis": "y"
        },
        {
         "hovertemplate": "Party_Name=SPD<br>Type=Final party position<br>Opposition to Immigration (scaled)=%{x}<br>Welfare State (scaled)=%{y}<extra></extra>",
         "legendgroup": "SPD, Final party position",
         "marker": {
          "color": "#00cc96",
          "symbol": "square"
         },
         "mode": "markers",
         "name": "SPD, Final party position",
         "orientation": "v",
         "showlegend": true,
         "type": "scatter",
         "x": {
          "bdata": "j98eu9Ie1L8=",
          "dtype": "f8"
         },
         "xaxis": "x",
         "y": {
          "bdata": "WLmoeY3H1D8=",
          "dtype": "f8"
         },
         "yaxis": "y"
        },
        {
         "hovertemplate": "Party_Name=FDP<br>Type=Manifesto Party position<br>Opposition to Immigration (scaled)=%{x}<br>Welfare State (scaled)=%{y}<extra></extra>",
         "legendgroup": "FDP, Manifesto Party position",
         "marker": {
          "color": "#ab63fa",
          "symbol": "circle"
         },
         "mode": "markers",
         "name": "FDP, Manifesto Party position",
         "orientation": "v",
         "showlegend": true,
         "type": "scatter",
         "x": {
          "bdata": "nToCefyL2r8=",
          "dtype": "f8"
         },
         "xaxis": "x",
         "y": {
          "bdata": "sYVFPM044r8=",
          "dtype": "f8"
         },
         "yaxis": "y"
        },
        {
         "hovertemplate": "Party_Name=FDP<br>Type=Voter Mean position<br>Opposition to Immigration (scaled)=%{x}<br>Welfare State (scaled)=%{y}<extra></extra>",
         "legendgroup": "FDP, Voter Mean position",
         "marker": {
          "color": "#ab63fa",
          "symbol": "diamond"
         },
         "mode": "markers",
         "name": "FDP, Voter Mean position",
         "orientation": "v",
         "showlegend": true,
         "type": "scatter",
         "x": {
          "bdata": "19YLAo3vwD8=",
          "dtype": "f8"
         },
         "xaxis": "x",
         "y": {
          "bdata": "ZGmoa1y3zb8=",
          "dtype": "f8"
         },
         "yaxis": "y"
        },
        {
         "hovertemplate": "Party_Name=FDP<br>Type=Final party position<br>Opposition to Immigration (scaled)=%{x}<br>Welfare State (scaled)=%{y}<extra></extra>",
         "legendgroup": "FDP, Final party position",
         "marker": {
          "color": "#ab63fa",
          "symbol": "square"
         },
         "mode": "markers",
         "name": "FDP, Final party position",
         "orientation": "v",
         "showlegend": true,
         "type": "scatter",
         "x": {
          "bdata": "BD3eiV5wlz8=",
          "dtype": "f8"
         },
         "xaxis": "x",
         "y": {
          "bdata": "byxfdt0s078=",
          "dtype": "f8"
         },
         "yaxis": "y"
        },
        {
         "hovertemplate": "Party_Name=CDU/CSU<br>Type=Manifesto Party position<br>Opposition to Immigration (scaled)=%{x}<br>Welfare State (scaled)=%{y}<extra></extra>",
         "legendgroup": "CDU/CSU, Manifesto Party position",
         "marker": {
          "color": "#FFA15A",
          "symbol": "circle"
         },
         "mode": "markers",
         "name": "CDU/CSU, Manifesto Party position",
         "orientation": "v",
         "showlegend": true,
         "type": "scatter",
         "x": {
          "bdata": "sjb/JmuFqz8=",
          "dtype": "f8"
         },
         "xaxis": "x",
         "y": {
          "bdata": "SeEgyTYI8b8=",
          "dtype": "f8"
         },
         "yaxis": "y"
        },
        {
         "hovertemplate": "Party_Name=CDU/CSU<br>Type=Voter Mean position<br>Opposition to Immigration (scaled)=%{x}<br>Welfare State (scaled)=%{y}<extra></extra>",
         "legendgroup": "CDU/CSU, Voter Mean position",
         "marker": {
          "color": "#FFA15A",
          "symbol": "diamond"
         },
         "mode": "markers",
         "name": "CDU/CSU, Voter Mean position",
         "orientation": "v",
         "showlegend": true,
         "type": "scatter",
         "x": {
          "bdata": "PFeCYOpv1j8=",
          "dtype": "f8"
         },
         "xaxis": "x",
         "y": {
          "bdata": "p+hd7mHB1L8=",
          "dtype": "f8"
         },
         "yaxis": "y"
        },
        {
         "hovertemplate": "Party_Name=CDU/CSU<br>Type=Final party position<br>Opposition to Immigration (scaled)=%{x}<br>Welfare State (scaled)=%{y}<extra></extra>",
         "legendgroup": "CDU/CSU, Final party position",
         "marker": {
          "color": "#FFA15A",
          "symbol": "square"
         },
         "mode": "markers",
         "name": "CDU/CSU, Final party position",
         "orientation": "v",
         "showlegend": true,
         "type": "scatter",
         "x": {
          "bdata": "jg2VlESj0j8=",
          "dtype": "f8"
         },
         "xaxis": "x",
         "y": {
          "bdata": "wNTLkuA63r8=",
          "dtype": "f8"
         },
         "yaxis": "y"
        },
        {
         "hovertemplate": "Party_Name=SSW<br>Type=Manifesto Party position<br>Opposition to Immigration (scaled)=%{x}<br>Welfare State (scaled)=%{y}<extra></extra>",
         "legendgroup": "SSW, Manifesto Party position",
         "marker": {
          "color": "#19d3f3",
          "symbol": "circle"
         },
         "mode": "markers",
         "name": "SSW, Manifesto Party position",
         "orientation": "v",
         "showlegend": true,
         "type": "scatter",
         "x": {
          "bdata": "unY/wI9n3b8=",
          "dtype": "f8"
         },
         "xaxis": "x",
         "y": {
          "bdata": "VutLz8627j8=",
          "dtype": "f8"
         },
         "yaxis": "y"
        },
        {
         "hovertemplate": "Party_Name=SSW<br>Type=Voter Mean position<br>Opposition to Immigration (scaled)=%{x}<br>Welfare State (scaled)=%{y}<extra></extra>",
         "legendgroup": "SSW, Voter Mean position",
         "marker": {
          "color": "#19d3f3",
          "symbol": "diamond"
         },
         "mode": "markers",
         "name": "SSW, Voter Mean position",
         "orientation": "v",
         "showlegend": true,
         "type": "scatter",
         "x": {
          "bdata": "OPI02YRj1T8=",
          "dtype": "f8"
         },
         "xaxis": "x",
         "y": {
          "bdata": "ijB/CgAtab8=",
          "dtype": "f8"
         },
         "yaxis": "y"
        },
        {
         "hovertemplate": "Party_Name=SSW<br>Type=Final party position<br>Opposition to Immigration (scaled)=%{x}<br>Welfare State (scaled)=%{y}<extra></extra>",
         "legendgroup": "SSW, Final party position",
         "marker": {
          "color": "#19d3f3",
          "symbol": "square"
         },
         "mode": "markers",
         "name": "SSW, Final party position",
         "orientation": "v",
         "showlegend": true,
         "type": "scatter",
         "x": {
          "bdata": "qO3UQc51xj8=",
          "dtype": "f8"
         },
         "xaxis": "x",
         "y": {
          "bdata": "QyUbDK9ByD8=",
          "dtype": "f8"
         },
         "yaxis": "y"
        },
        {
         "hovertemplate": "Party_Name=AfD<br>Type=Manifesto Party position<br>Opposition to Immigration (scaled)=%{x}<br>Welfare State (scaled)=%{y}<extra></extra>",
         "legendgroup": "AfD, Manifesto Party position",
         "marker": {
          "color": "#FF6692",
          "symbol": "circle"
         },
         "mode": "markers",
         "name": "AfD, Manifesto Party position",
         "orientation": "v",
         "showlegend": true,
         "type": "scatter",
         "x": {
          "bdata": "+NKrgaE6A0A=",
          "dtype": "f8"
         },
         "xaxis": "x",
         "y": {
          "bdata": "k1kAyCzS978=",
          "dtype": "f8"
         },
         "yaxis": "y"
        },
        {
         "hovertemplate": "Party_Name=AfD<br>Type=Voter Mean position<br>Opposition to Immigration (scaled)=%{x}<br>Welfare State (scaled)=%{y}<extra></extra>",
         "legendgroup": "AfD, Voter Mean position",
         "marker": {
          "color": "#FF6692",
          "symbol": "diamond"
         },
         "mode": "markers",
         "name": "AfD, Voter Mean position",
         "orientation": "v",
         "showlegend": true,
         "type": "scatter",
         "x": {
          "bdata": "MJ0RGRdx7j8=",
          "dtype": "f8"
         },
         "xaxis": "x",
         "y": {
          "bdata": "40Sc85la5r8=",
          "dtype": "f8"
         },
         "yaxis": "y"
        },
        {
         "hovertemplate": "Party_Name=AfD<br>Type=Final party position<br>Opposition to Immigration (scaled)=%{x}<br>Welfare State (scaled)=%{y}<extra></extra>",
         "legendgroup": "AfD, Final party position",
         "marker": {
          "color": "#FF6692",
          "symbol": "square"
         },
         "mode": "markers",
         "name": "AfD, Final party position",
         "orientation": "v",
         "showlegend": true,
         "type": "scatter",
         "x": {
          "bdata": "qvl+10ne8z8=",
          "dtype": "f8"
         },
         "xaxis": "x",
         "y": {
          "bdata": "8Fqw31lp678=",
          "dtype": "f8"
         },
         "yaxis": "y"
        }
       ],
       "layout": {
        "legend": {
         "title": {
          "text": "Party_Name, Type"
         },
         "tracegroupgap": 0
        },
        "template": {
         "data": {
          "bar": [
           {
            "error_x": {
             "color": "#2a3f5f"
            },
            "error_y": {
             "color": "#2a3f5f"
            },
            "marker": {
             "line": {
              "color": "#E5ECF6",
              "width": 0.5
             },
             "pattern": {
              "fillmode": "overlay",
              "size": 10,
              "solidity": 0.2
             }
            },
            "type": "bar"
           }
          ],
          "barpolar": [
           {
            "marker": {
             "line": {
              "color": "#E5ECF6",
              "width": 0.5
             },
             "pattern": {
              "fillmode": "overlay",
              "size": 10,
              "solidity": 0.2
             }
            },
            "type": "barpolar"
           }
          ],
          "carpet": [
           {
            "aaxis": {
             "endlinecolor": "#2a3f5f",
             "gridcolor": "white",
             "linecolor": "white",
             "minorgridcolor": "white",
             "startlinecolor": "#2a3f5f"
            },
            "baxis": {
             "endlinecolor": "#2a3f5f",
             "gridcolor": "white",
             "linecolor": "white",
             "minorgridcolor": "white",
             "startlinecolor": "#2a3f5f"
            },
            "type": "carpet"
           }
          ],
          "choropleth": [
           {
            "colorbar": {
             "outlinewidth": 0,
             "ticks": ""
            },
            "type": "choropleth"
           }
          ],
          "contour": [
           {
            "colorbar": {
             "outlinewidth": 0,
             "ticks": ""
            },
            "colorscale": [
             [
              0,
              "#0d0887"
             ],
             [
              0.1111111111111111,
              "#46039f"
             ],
             [
              0.2222222222222222,
              "#7201a8"
             ],
             [
              0.3333333333333333,
              "#9c179e"
             ],
             [
              0.4444444444444444,
              "#bd3786"
             ],
             [
              0.5555555555555556,
              "#d8576b"
             ],
             [
              0.6666666666666666,
              "#ed7953"
             ],
             [
              0.7777777777777778,
              "#fb9f3a"
             ],
             [
              0.8888888888888888,
              "#fdca26"
             ],
             [
              1,
              "#f0f921"
             ]
            ],
            "type": "contour"
           }
          ],
          "contourcarpet": [
           {
            "colorbar": {
             "outlinewidth": 0,
             "ticks": ""
            },
            "type": "contourcarpet"
           }
          ],
          "heatmap": [
           {
            "colorbar": {
             "outlinewidth": 0,
             "ticks": ""
            },
            "colorscale": [
             [
              0,
              "#0d0887"
             ],
             [
              0.1111111111111111,
              "#46039f"
             ],
             [
              0.2222222222222222,
              "#7201a8"
             ],
             [
              0.3333333333333333,
              "#9c179e"
             ],
             [
              0.4444444444444444,
              "#bd3786"
             ],
             [
              0.5555555555555556,
              "#d8576b"
             ],
             [
              0.6666666666666666,
              "#ed7953"
             ],
             [
              0.7777777777777778,
              "#fb9f3a"
             ],
             [
              0.8888888888888888,
              "#fdca26"
             ],
             [
              1,
              "#f0f921"
             ]
            ],
            "type": "heatmap"
           }
          ],
          "histogram": [
           {
            "marker": {
             "pattern": {
              "fillmode": "overlay",
              "size": 10,
              "solidity": 0.2
             }
            },
            "type": "histogram"
           }
          ],
          "histogram2d": [
           {
            "colorbar": {
             "outlinewidth": 0,
             "ticks": ""
            },
            "colorscale": [
             [
              0,
              "#0d0887"
             ],
             [
              0.1111111111111111,
              "#46039f"
             ],
             [
              0.2222222222222222,
              "#7201a8"
             ],
             [
              0.3333333333333333,
              "#9c179e"
             ],
             [
              0.4444444444444444,
              "#bd3786"
             ],
             [
              0.5555555555555556,
              "#d8576b"
             ],
             [
              0.6666666666666666,
              "#ed7953"
             ],
             [
              0.7777777777777778,
              "#fb9f3a"
             ],
             [
              0.8888888888888888,
              "#fdca26"
             ],
             [
              1,
              "#f0f921"
             ]
            ],
            "type": "histogram2d"
           }
          ],
          "histogram2dcontour": [
           {
            "colorbar": {
             "outlinewidth": 0,
             "ticks": ""
            },
            "colorscale": [
             [
              0,
              "#0d0887"
             ],
             [
              0.1111111111111111,
              "#46039f"
             ],
             [
              0.2222222222222222,
              "#7201a8"
             ],
             [
              0.3333333333333333,
              "#9c179e"
             ],
             [
              0.4444444444444444,
              "#bd3786"
             ],
             [
              0.5555555555555556,
              "#d8576b"
             ],
             [
              0.6666666666666666,
              "#ed7953"
             ],
             [
              0.7777777777777778,
              "#fb9f3a"
             ],
             [
              0.8888888888888888,
              "#fdca26"
             ],
             [
              1,
              "#f0f921"
             ]
            ],
            "type": "histogram2dcontour"
           }
          ],
          "mesh3d": [
           {
            "colorbar": {
             "outlinewidth": 0,
             "ticks": ""
            },
            "type": "mesh3d"
           }
          ],
          "parcoords": [
           {
            "line": {
             "colorbar": {
              "outlinewidth": 0,
              "ticks": ""
             }
            },
            "type": "parcoords"
           }
          ],
          "pie": [
           {
            "automargin": true,
            "type": "pie"
           }
          ],
          "scatter": [
           {
            "fillpattern": {
             "fillmode": "overlay",
             "size": 10,
             "solidity": 0.2
            },
            "type": "scatter"
           }
          ],
          "scatter3d": [
           {
            "line": {
             "colorbar": {
              "outlinewidth": 0,
              "ticks": ""
             }
            },
            "marker": {
             "colorbar": {
              "outlinewidth": 0,
              "ticks": ""
             }
            },
            "type": "scatter3d"
           }
          ],
          "scattercarpet": [
           {
            "marker": {
             "colorbar": {
              "outlinewidth": 0,
              "ticks": ""
             }
            },
            "type": "scattercarpet"
           }
          ],
          "scattergeo": [
           {
            "marker": {
             "colorbar": {
              "outlinewidth": 0,
              "ticks": ""
             }
            },
            "type": "scattergeo"
           }
          ],
          "scattergl": [
           {
            "marker": {
             "colorbar": {
              "outlinewidth": 0,
              "ticks": ""
             }
            },
            "type": "scattergl"
           }
          ],
          "scattermap": [
           {
            "marker": {
             "colorbar": {
              "outlinewidth": 0,
              "ticks": ""
             }
            },
            "type": "scattermap"
           }
          ],
          "scattermapbox": [
           {
            "marker": {
             "colorbar": {
              "outlinewidth": 0,
              "ticks": ""
             }
            },
            "type": "scattermapbox"
           }
          ],
          "scatterpolar": [
           {
            "marker": {
             "colorbar": {
              "outlinewidth": 0,
              "ticks": ""
             }
            },
            "type": "scatterpolar"
           }
          ],
          "scatterpolargl": [
           {
            "marker": {
             "colorbar": {
              "outlinewidth": 0,
              "ticks": ""
             }
            },
            "type": "scatterpolargl"
           }
          ],
          "scatterternary": [
           {
            "marker": {
             "colorbar": {
              "outlinewidth": 0,
              "ticks": ""
             }
            },
            "type": "scatterternary"
           }
          ],
          "surface": [
           {
            "colorbar": {
             "outlinewidth": 0,
             "ticks": ""
            },
            "colorscale": [
             [
              0,
              "#0d0887"
             ],
             [
              0.1111111111111111,
              "#46039f"
             ],
             [
              0.2222222222222222,
              "#7201a8"
             ],
             [
              0.3333333333333333,
              "#9c179e"
             ],
             [
              0.4444444444444444,
              "#bd3786"
             ],
             [
              0.5555555555555556,
              "#d8576b"
             ],
             [
              0.6666666666666666,
              "#ed7953"
             ],
             [
              0.7777777777777778,
              "#fb9f3a"
             ],
             [
              0.8888888888888888,
              "#fdca26"
             ],
             [
              1,
              "#f0f921"
             ]
            ],
            "type": "surface"
           }
          ],
          "table": [
           {
            "cells": {
             "fill": {
              "color": "#EBF0F8"
             },
             "line": {
              "color": "white"
             }
            },
            "header": {
             "fill": {
              "color": "#C8D4E3"
             },
             "line": {
              "color": "white"
             }
            },
            "type": "table"
           }
          ]
         },
         "layout": {
          "annotationdefaults": {
           "arrowcolor": "#2a3f5f",
           "arrowhead": 0,
           "arrowwidth": 1
          },
          "autotypenumbers": "strict",
          "coloraxis": {
           "colorbar": {
            "outlinewidth": 0,
            "ticks": ""
           }
          },
          "colorscale": {
           "diverging": [
            [
             0,
             "#8e0152"
            ],
            [
             0.1,
             "#c51b7d"
            ],
            [
             0.2,
             "#de77ae"
            ],
            [
             0.3,
             "#f1b6da"
            ],
            [
             0.4,
             "#fde0ef"
            ],
            [
             0.5,
             "#f7f7f7"
            ],
            [
             0.6,
             "#e6f5d0"
            ],
            [
             0.7,
             "#b8e186"
            ],
            [
             0.8,
             "#7fbc41"
            ],
            [
             0.9,
             "#4d9221"
            ],
            [
             1,
             "#276419"
            ]
           ],
           "sequential": [
            [
             0,
             "#0d0887"
            ],
            [
             0.1111111111111111,
             "#46039f"
            ],
            [
             0.2222222222222222,
             "#7201a8"
            ],
            [
             0.3333333333333333,
             "#9c179e"
            ],
            [
             0.4444444444444444,
             "#bd3786"
            ],
            [
             0.5555555555555556,
             "#d8576b"
            ],
            [
             0.6666666666666666,
             "#ed7953"
            ],
            [
             0.7777777777777778,
             "#fb9f3a"
            ],
            [
             0.8888888888888888,
             "#fdca26"
            ],
            [
             1,
             "#f0f921"
            ]
           ],
           "sequentialminus": [
            [
             0,
             "#0d0887"
            ],
            [
             0.1111111111111111,
             "#46039f"
            ],
            [
             0.2222222222222222,
             "#7201a8"
            ],
            [
             0.3333333333333333,
             "#9c179e"
            ],
            [
             0.4444444444444444,
             "#bd3786"
            ],
            [
             0.5555555555555556,
             "#d8576b"
            ],
            [
             0.6666666666666666,
             "#ed7953"
            ],
            [
             0.7777777777777778,
             "#fb9f3a"
            ],
            [
             0.8888888888888888,
             "#fdca26"
            ],
            [
             1,
             "#f0f921"
            ]
           ]
          },
          "colorway": [
           "#636efa",
           "#EF553B",
           "#00cc96",
           "#ab63fa",
           "#FFA15A",
           "#19d3f3",
           "#FF6692",
           "#B6E880",
           "#FF97FF",
           "#FECB52"
          ],
          "font": {
           "color": "#2a3f5f"
          },
          "geo": {
           "bgcolor": "white",
           "lakecolor": "white",
           "landcolor": "#E5ECF6",
           "showlakes": true,
           "showland": true,
           "subunitcolor": "white"
          },
          "hoverlabel": {
           "align": "left"
          },
          "hovermode": "closest",
          "mapbox": {
           "style": "light"
          },
          "paper_bgcolor": "white",
          "plot_bgcolor": "#E5ECF6",
          "polar": {
           "angularaxis": {
            "gridcolor": "white",
            "linecolor": "white",
            "ticks": ""
           },
           "bgcolor": "#E5ECF6",
           "radialaxis": {
            "gridcolor": "white",
            "linecolor": "white",
            "ticks": ""
           }
          },
          "scene": {
           "xaxis": {
            "backgroundcolor": "#E5ECF6",
            "gridcolor": "white",
            "gridwidth": 2,
            "linecolor": "white",
            "showbackground": true,
            "ticks": "",
            "zerolinecolor": "white"
           },
           "yaxis": {
            "backgroundcolor": "#E5ECF6",
            "gridcolor": "white",
            "gridwidth": 2,
            "linecolor": "white",
            "showbackground": true,
            "ticks": "",
            "zerolinecolor": "white"
           },
           "zaxis": {
            "backgroundcolor": "#E5ECF6",
            "gridcolor": "white",
            "gridwidth": 2,
            "linecolor": "white",
            "showbackground": true,
            "ticks": "",
            "zerolinecolor": "white"
           }
          },
          "shapedefaults": {
           "line": {
            "color": "#2a3f5f"
           }
          },
          "ternary": {
           "aaxis": {
            "gridcolor": "white",
            "linecolor": "white",
            "ticks": ""
           },
           "baxis": {
            "gridcolor": "white",
            "linecolor": "white",
            "ticks": ""
           },
           "bgcolor": "#E5ECF6",
           "caxis": {
            "gridcolor": "white",
            "linecolor": "white",
            "ticks": ""
           }
          },
          "title": {
           "x": 0.05
          },
          "xaxis": {
           "automargin": true,
           "gridcolor": "white",
           "linecolor": "white",
           "ticks": "",
           "title": {
            "standoff": 15
           },
           "zerolinecolor": "white",
           "zerolinewidth": 2
          },
          "yaxis": {
           "automargin": true,
           "gridcolor": "white",
           "linecolor": "white",
           "ticks": "",
           "title": {
            "standoff": 15
           },
           "zerolinecolor": "white",
           "zerolinewidth": 2
          }
         }
        },
        "title": {
         "text": "Opposition to Immigration vs. Welfare State: party positions (manifesto, mean, final)"
        },
        "xaxis": {
         "anchor": "y",
         "domain": [
          0,
          1
         ],
         "title": {
          "text": "Opposition to Immigration (scaled)"
         }
        },
        "yaxis": {
         "anchor": "x",
         "domain": [
          0,
          1
         ],
         "title": {
          "text": "Welfare State (scaled)"
         }
        }
       }
      }
     },
     "metadata": {},
     "output_type": "display_data"
    }
   ],
   "source": [
    "true_df = (party_scaled[['Party_Name', x_scaled, y_scaled]].rename(columns={x_scaled:'x', y_scaled:'y'}).assign(Type='Manifesto Party position'))\n",
    "\n",
    "mean_df = (party_scaled[['Party_Name', x_vmean, y_vmean]].rename(columns={x_vmean:'x', y_vmean:'y'}).assign(Type='Voter Mean position'))\n",
    "\n",
    "comb_df = (party_scaled[['Party_Name', x_comb, y_comb]].rename(columns={x_comb:'x', y_comb:'y'}).assign(Type='Final party position'))\n",
    "\n",
    "# Stack them\n",
    "plot_df = pd.concat([true_df, mean_df, comb_df], ignore_index=True)\n",
    "\n",
    "# Scatter\n",
    "fig = px.scatter(plot_df, x='x', y='y', color='Party_Name', symbol='Type',\n",
    "                 title=f'{x_var} vs. {y_var}: party positions (manifesto, mean, final)',\n",
    "                 labels={'x':f'{x_var} (scaled)', 'y':f'{y_var} (scaled)'})\n",
    "\n",
    "# 4) Tweak marker sizes\n",
    "fig.update_traces(\n",
    "    selector=dict(Type='Manifesto Party position'),\n",
    "    marker=dict(size=12, symbol='circle-open')\n",
    ")\n",
    "fig.update_traces(\n",
    "    selector=dict(Type='Voter Mean position'),\n",
    "    marker=dict(size=16, symbol='x', line=dict(width=3))\n",
    ")\n",
    "fig.update_traces(\n",
    "    selector=dict(Type='Final party position'),\n",
    "    marker=dict(size=12, symbol='diamond')\n",
    ")\n",
    "\n",
    "fig.show()"
   ]
  },
  {
   "cell_type": "code",
   "execution_count": 17,
   "id": "49db009b",
   "metadata": {},
   "outputs": [],
   "source": [
    "party_scaled_df = party_scaled[['Country', 'Date', 'Calendar_Week', 'Party_Name', f\"{x_var} Combined\", f\"{y_var} Combined\", \"Label\"]].rename(columns={\n",
    "    f'{x_var} Combined': f'{x_var} Scaled',\n",
    "    f'{y_var} Combined': f'{y_var} Scaled'})"
   ]
  },
  {
   "cell_type": "code",
   "execution_count": 18,
   "id": "1ca3d905",
   "metadata": {},
   "outputs": [
    {
     "data": {
      "application/vnd.plotly.v1+json": {
       "config": {
        "plotlyServerURL": "https://plot.ly"
       },
       "data": [
        {
         "hovertemplate": "Label=Voter<br>Opposition to Immigration Scaled=%{x}<br>Welfare State Scaled=%{y}<extra></extra>",
         "legendgroup": "Voter",
         "marker": {
          "color": "#636efa",
          "size": 10,
          "symbol": "circle"
         },
         "mode": "markers",
         "name": "Voter",
         "showlegend": true,
         "type": "scattergl",
         "x": {
          "bdata": "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",
          "dtype": "f8"
         },
         "xaxis": "x",
         "y": {
          "bdata": "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",
          "dtype": "f8"
         },
         "yaxis": "y"
        },
        {
         "hovertemplate": "Label=90/Greens<br>Opposition to Immigration Scaled=%{x}<br>Welfare State Scaled=%{y}<extra></extra>",
         "legendgroup": "90/Greens",
         "marker": {
          "color": "#EF553B",
          "size": 10,
          "symbol": "diamond"
         },
         "mode": "markers",
         "name": "90/Greens",
         "showlegend": true,
         "type": "scattergl",
         "x": {
          "bdata": "IdCW+68L6L8=",
          "dtype": "f8"
         },
         "xaxis": "x",
         "y": {
          "bdata": "IZ0BNhgY4T8=",
          "dtype": "f8"
         },
         "yaxis": "y"
        },
        {
         "hovertemplate": "Label=LINKE<br>Opposition to Immigration Scaled=%{x}<br>Welfare State Scaled=%{y}<extra></extra>",
         "legendgroup": "LINKE",
         "marker": {
          "color": "#00cc96",
          "size": 10,
          "symbol": "square"
         },
         "mode": "markers",
         "name": "LINKE",
         "showlegend": true,
         "type": "scattergl",
         "x": {
          "bdata": "gI1YEz6o578=",
          "dtype": "f8"
         },
         "xaxis": "x",
         "y": {
          "bdata": "1G/6zsgS7D8=",
          "dtype": "f8"
         },
         "yaxis": "y"
        },
        {
         "hovertemplate": "Label=SPD<br>Opposition to Immigration Scaled=%{x}<br>Welfare State Scaled=%{y}<extra></extra>",
         "legendgroup": "SPD",
         "marker": {
          "color": "#ab63fa",
          "size": 10,
          "symbol": "x"
         },
         "mode": "markers",
         "name": "SPD",
         "showlegend": true,
         "type": "scattergl",
         "x": {
          "bdata": "j98eu9Ie1L8=",
          "dtype": "f8"
         },
         "xaxis": "x",
         "y": {
          "bdata": "WLmoeY3H1D8=",
          "dtype": "f8"
         },
         "yaxis": "y"
        },
        {
         "hovertemplate": "Label=FDP<br>Opposition to Immigration Scaled=%{x}<br>Welfare State Scaled=%{y}<extra></extra>",
         "legendgroup": "FDP",
         "marker": {
          "color": "#FFA15A",
          "size": 10,
          "symbol": "cross"
         },
         "mode": "markers",
         "name": "FDP",
         "showlegend": true,
         "type": "scattergl",
         "x": {
          "bdata": "BD3eiV5wlz8=",
          "dtype": "f8"
         },
         "xaxis": "x",
         "y": {
          "bdata": "byxfdt0s078=",
          "dtype": "f8"
         },
         "yaxis": "y"
        },
        {
         "hovertemplate": "Label=CDU/CSU<br>Opposition to Immigration Scaled=%{x}<br>Welfare State Scaled=%{y}<extra></extra>",
         "legendgroup": "CDU/CSU",
         "marker": {
          "color": "#19d3f3",
          "size": 10,
          "symbol": "circle"
         },
         "mode": "markers",
         "name": "CDU/CSU",
         "showlegend": true,
         "type": "scattergl",
         "x": {
          "bdata": "jg2VlESj0j8=",
          "dtype": "f8"
         },
         "xaxis": "x",
         "y": {
          "bdata": "wNTLkuA63r8=",
          "dtype": "f8"
         },
         "yaxis": "y"
        },
        {
         "hovertemplate": "Label=SSW<br>Opposition to Immigration Scaled=%{x}<br>Welfare State Scaled=%{y}<extra></extra>",
         "legendgroup": "SSW",
         "marker": {
          "color": "#FF6692",
          "size": 10,
          "symbol": "diamond"
         },
         "mode": "markers",
         "name": "SSW",
         "showlegend": true,
         "type": "scattergl",
         "x": {
          "bdata": "qO3UQc51xj8=",
          "dtype": "f8"
         },
         "xaxis": "x",
         "y": {
          "bdata": "QyUbDK9ByD8=",
          "dtype": "f8"
         },
         "yaxis": "y"
        },
        {
         "hovertemplate": "Label=AfD<br>Opposition to Immigration Scaled=%{x}<br>Welfare State Scaled=%{y}<extra></extra>",
         "legendgroup": "AfD",
         "marker": {
          "color": "#B6E880",
          "size": 10,
          "symbol": "square"
         },
         "mode": "markers",
         "name": "AfD",
         "showlegend": true,
         "type": "scattergl",
         "x": {
          "bdata": "qvl+10ne8z8=",
          "dtype": "f8"
         },
         "xaxis": "x",
         "y": {
          "bdata": "8Fqw31lp678=",
          "dtype": "f8"
         },
         "yaxis": "y"
        }
       ],
       "layout": {
        "legend": {
         "title": {
          "text": "Label"
         },
         "tracegroupgap": 0
        },
        "margin": {
         "t": 60
        },
        "template": {
         "data": {
          "bar": [
           {
            "error_x": {
             "color": "#2a3f5f"
            },
            "error_y": {
             "color": "#2a3f5f"
            },
            "marker": {
             "line": {
              "color": "#E5ECF6",
              "width": 0.5
             },
             "pattern": {
              "fillmode": "overlay",
              "size": 10,
              "solidity": 0.2
             }
            },
            "type": "bar"
           }
          ],
          "barpolar": [
           {
            "marker": {
             "line": {
              "color": "#E5ECF6",
              "width": 0.5
             },
             "pattern": {
              "fillmode": "overlay",
              "size": 10,
              "solidity": 0.2
             }
            },
            "type": "barpolar"
           }
          ],
          "carpet": [
           {
            "aaxis": {
             "endlinecolor": "#2a3f5f",
             "gridcolor": "white",
             "linecolor": "white",
             "minorgridcolor": "white",
             "startlinecolor": "#2a3f5f"
            },
            "baxis": {
             "endlinecolor": "#2a3f5f",
             "gridcolor": "white",
             "linecolor": "white",
             "minorgridcolor": "white",
             "startlinecolor": "#2a3f5f"
            },
            "type": "carpet"
           }
          ],
          "choropleth": [
           {
            "colorbar": {
             "outlinewidth": 0,
             "ticks": ""
            },
            "type": "choropleth"
           }
          ],
          "contour": [
           {
            "colorbar": {
             "outlinewidth": 0,
             "ticks": ""
            },
            "colorscale": [
             [
              0,
              "#0d0887"
             ],
             [
              0.1111111111111111,
              "#46039f"
             ],
             [
              0.2222222222222222,
              "#7201a8"
             ],
             [
              0.3333333333333333,
              "#9c179e"
             ],
             [
              0.4444444444444444,
              "#bd3786"
             ],
             [
              0.5555555555555556,
              "#d8576b"
             ],
             [
              0.6666666666666666,
              "#ed7953"
             ],
             [
              0.7777777777777778,
              "#fb9f3a"
             ],
             [
              0.8888888888888888,
              "#fdca26"
             ],
             [
              1,
              "#f0f921"
             ]
            ],
            "type": "contour"
           }
          ],
          "contourcarpet": [
           {
            "colorbar": {
             "outlinewidth": 0,
             "ticks": ""
            },
            "type": "contourcarpet"
           }
          ],
          "heatmap": [
           {
            "colorbar": {
             "outlinewidth": 0,
             "ticks": ""
            },
            "colorscale": [
             [
              0,
              "#0d0887"
             ],
             [
              0.1111111111111111,
              "#46039f"
             ],
             [
              0.2222222222222222,
              "#7201a8"
             ],
             [
              0.3333333333333333,
              "#9c179e"
             ],
             [
              0.4444444444444444,
              "#bd3786"
             ],
             [
              0.5555555555555556,
              "#d8576b"
             ],
             [
              0.6666666666666666,
              "#ed7953"
             ],
             [
              0.7777777777777778,
              "#fb9f3a"
             ],
             [
              0.8888888888888888,
              "#fdca26"
             ],
             [
              1,
              "#f0f921"
             ]
            ],
            "type": "heatmap"
           }
          ],
          "histogram": [
           {
            "marker": {
             "pattern": {
              "fillmode": "overlay",
              "size": 10,
              "solidity": 0.2
             }
            },
            "type": "histogram"
           }
          ],
          "histogram2d": [
           {
            "colorbar": {
             "outlinewidth": 0,
             "ticks": ""
            },
            "colorscale": [
             [
              0,
              "#0d0887"
             ],
             [
              0.1111111111111111,
              "#46039f"
             ],
             [
              0.2222222222222222,
              "#7201a8"
             ],
             [
              0.3333333333333333,
              "#9c179e"
             ],
             [
              0.4444444444444444,
              "#bd3786"
             ],
             [
              0.5555555555555556,
              "#d8576b"
             ],
             [
              0.6666666666666666,
              "#ed7953"
             ],
             [
              0.7777777777777778,
              "#fb9f3a"
             ],
             [
              0.8888888888888888,
              "#fdca26"
             ],
             [
              1,
              "#f0f921"
             ]
            ],
            "type": "histogram2d"
           }
          ],
          "histogram2dcontour": [
           {
            "colorbar": {
             "outlinewidth": 0,
             "ticks": ""
            },
            "colorscale": [
             [
              0,
              "#0d0887"
             ],
             [
              0.1111111111111111,
              "#46039f"
             ],
             [
              0.2222222222222222,
              "#7201a8"
             ],
             [
              0.3333333333333333,
              "#9c179e"
             ],
             [
              0.4444444444444444,
              "#bd3786"
             ],
             [
              0.5555555555555556,
              "#d8576b"
             ],
             [
              0.6666666666666666,
              "#ed7953"
             ],
             [
              0.7777777777777778,
              "#fb9f3a"
             ],
             [
              0.8888888888888888,
              "#fdca26"
             ],
             [
              1,
              "#f0f921"
             ]
            ],
            "type": "histogram2dcontour"
           }
          ],
          "mesh3d": [
           {
            "colorbar": {
             "outlinewidth": 0,
             "ticks": ""
            },
            "type": "mesh3d"
           }
          ],
          "parcoords": [
           {
            "line": {
             "colorbar": {
              "outlinewidth": 0,
              "ticks": ""
             }
            },
            "type": "parcoords"
           }
          ],
          "pie": [
           {
            "automargin": true,
            "type": "pie"
           }
          ],
          "scatter": [
           {
            "fillpattern": {
             "fillmode": "overlay",
             "size": 10,
             "solidity": 0.2
            },
            "type": "scatter"
           }
          ],
          "scatter3d": [
           {
            "line": {
             "colorbar": {
              "outlinewidth": 0,
              "ticks": ""
             }
            },
            "marker": {
             "colorbar": {
              "outlinewidth": 0,
              "ticks": ""
             }
            },
            "type": "scatter3d"
           }
          ],
          "scattercarpet": [
           {
            "marker": {
             "colorbar": {
              "outlinewidth": 0,
              "ticks": ""
             }
            },
            "type": "scattercarpet"
           }
          ],
          "scattergeo": [
           {
            "marker": {
             "colorbar": {
              "outlinewidth": 0,
              "ticks": ""
             }
            },
            "type": "scattergeo"
           }
          ],
          "scattergl": [
           {
            "marker": {
             "colorbar": {
              "outlinewidth": 0,
              "ticks": ""
             }
            },
            "type": "scattergl"
           }
          ],
          "scattermap": [
           {
            "marker": {
             "colorbar": {
              "outlinewidth": 0,
              "ticks": ""
             }
            },
            "type": "scattermap"
           }
          ],
          "scattermapbox": [
           {
            "marker": {
             "colorbar": {
              "outlinewidth": 0,
              "ticks": ""
             }
            },
            "type": "scattermapbox"
           }
          ],
          "scatterpolar": [
           {
            "marker": {
             "colorbar": {
              "outlinewidth": 0,
              "ticks": ""
             }
            },
            "type": "scatterpolar"
           }
          ],
          "scatterpolargl": [
           {
            "marker": {
             "colorbar": {
              "outlinewidth": 0,
              "ticks": ""
             }
            },
            "type": "scatterpolargl"
           }
          ],
          "scatterternary": [
           {
            "marker": {
             "colorbar": {
              "outlinewidth": 0,
              "ticks": ""
             }
            },
            "type": "scatterternary"
           }
          ],
          "surface": [
           {
            "colorbar": {
             "outlinewidth": 0,
             "ticks": ""
            },
            "colorscale": [
             [
              0,
              "#0d0887"
             ],
             [
              0.1111111111111111,
              "#46039f"
             ],
             [
              0.2222222222222222,
              "#7201a8"
             ],
             [
              0.3333333333333333,
              "#9c179e"
             ],
             [
              0.4444444444444444,
              "#bd3786"
             ],
             [
              0.5555555555555556,
              "#d8576b"
             ],
             [
              0.6666666666666666,
              "#ed7953"
             ],
             [
              0.7777777777777778,
              "#fb9f3a"
             ],
             [
              0.8888888888888888,
              "#fdca26"
             ],
             [
              1,
              "#f0f921"
             ]
            ],
            "type": "surface"
           }
          ],
          "table": [
           {
            "cells": {
             "fill": {
              "color": "#EBF0F8"
             },
             "line": {
              "color": "white"
             }
            },
            "header": {
             "fill": {
              "color": "#C8D4E3"
             },
             "line": {
              "color": "white"
             }
            },
            "type": "table"
           }
          ]
         },
         "layout": {
          "annotationdefaults": {
           "arrowcolor": "#2a3f5f",
           "arrowhead": 0,
           "arrowwidth": 1
          },
          "autotypenumbers": "strict",
          "coloraxis": {
           "colorbar": {
            "outlinewidth": 0,
            "ticks": ""
           }
          },
          "colorscale": {
           "diverging": [
            [
             0,
             "#8e0152"
            ],
            [
             0.1,
             "#c51b7d"
            ],
            [
             0.2,
             "#de77ae"
            ],
            [
             0.3,
             "#f1b6da"
            ],
            [
             0.4,
             "#fde0ef"
            ],
            [
             0.5,
             "#f7f7f7"
            ],
            [
             0.6,
             "#e6f5d0"
            ],
            [
             0.7,
             "#b8e186"
            ],
            [
             0.8,
             "#7fbc41"
            ],
            [
             0.9,
             "#4d9221"
            ],
            [
             1,
             "#276419"
            ]
           ],
           "sequential": [
            [
             0,
             "#0d0887"
            ],
            [
             0.1111111111111111,
             "#46039f"
            ],
            [
             0.2222222222222222,
             "#7201a8"
            ],
            [
             0.3333333333333333,
             "#9c179e"
            ],
            [
             0.4444444444444444,
             "#bd3786"
            ],
            [
             0.5555555555555556,
             "#d8576b"
            ],
            [
             0.6666666666666666,
             "#ed7953"
            ],
            [
             0.7777777777777778,
             "#fb9f3a"
            ],
            [
             0.8888888888888888,
             "#fdca26"
            ],
            [
             1,
             "#f0f921"
            ]
           ],
           "sequentialminus": [
            [
             0,
             "#0d0887"
            ],
            [
             0.1111111111111111,
             "#46039f"
            ],
            [
             0.2222222222222222,
             "#7201a8"
            ],
            [
             0.3333333333333333,
             "#9c179e"
            ],
            [
             0.4444444444444444,
             "#bd3786"
            ],
            [
             0.5555555555555556,
             "#d8576b"
            ],
            [
             0.6666666666666666,
             "#ed7953"
            ],
            [
             0.7777777777777778,
             "#fb9f3a"
            ],
            [
             0.8888888888888888,
             "#fdca26"
            ],
            [
             1,
             "#f0f921"
            ]
           ]
          },
          "colorway": [
           "#636efa",
           "#EF553B",
           "#00cc96",
           "#ab63fa",
           "#FFA15A",
           "#19d3f3",
           "#FF6692",
           "#B6E880",
           "#FF97FF",
           "#FECB52"
          ],
          "font": {
           "color": "#2a3f5f"
          },
          "geo": {
           "bgcolor": "white",
           "lakecolor": "white",
           "landcolor": "#E5ECF6",
           "showlakes": true,
           "showland": true,
           "subunitcolor": "white"
          },
          "hoverlabel": {
           "align": "left"
          },
          "hovermode": "closest",
          "mapbox": {
           "style": "light"
          },
          "paper_bgcolor": "white",
          "plot_bgcolor": "#E5ECF6",
          "polar": {
           "angularaxis": {
            "gridcolor": "white",
            "linecolor": "white",
            "ticks": ""
           },
           "bgcolor": "#E5ECF6",
           "radialaxis": {
            "gridcolor": "white",
            "linecolor": "white",
            "ticks": ""
           }
          },
          "scene": {
           "xaxis": {
            "backgroundcolor": "#E5ECF6",
            "gridcolor": "white",
            "gridwidth": 2,
            "linecolor": "white",
            "showbackground": true,
            "ticks": "",
            "zerolinecolor": "white"
           },
           "yaxis": {
            "backgroundcolor": "#E5ECF6",
            "gridcolor": "white",
            "gridwidth": 2,
            "linecolor": "white",
            "showbackground": true,
            "ticks": "",
            "zerolinecolor": "white"
           },
           "zaxis": {
            "backgroundcolor": "#E5ECF6",
            "gridcolor": "white",
            "gridwidth": 2,
            "linecolor": "white",
            "showbackground": true,
            "ticks": "",
            "zerolinecolor": "white"
           }
          },
          "shapedefaults": {
           "line": {
            "color": "#2a3f5f"
           }
          },
          "ternary": {
           "aaxis": {
            "gridcolor": "white",
            "linecolor": "white",
            "ticks": ""
           },
           "baxis": {
            "gridcolor": "white",
            "linecolor": "white",
            "ticks": ""
           },
           "bgcolor": "#E5ECF6",
           "caxis": {
            "gridcolor": "white",
            "linecolor": "white",
            "ticks": ""
           }
          },
          "title": {
           "x": 0.05
          },
          "xaxis": {
           "automargin": true,
           "gridcolor": "white",
           "linecolor": "white",
           "ticks": "",
           "title": {
            "standoff": 15
           },
           "zerolinecolor": "white",
           "zerolinewidth": 2
          },
          "yaxis": {
           "automargin": true,
           "gridcolor": "white",
           "linecolor": "white",
           "ticks": "",
           "title": {
            "standoff": 15
           },
           "zerolinecolor": "white",
           "zerolinewidth": 2
          }
         }
        },
        "title": {
         "text": "Scaled Voter and Party Positions"
        },
        "xaxis": {
         "anchor": "y",
         "domain": [
          0,
          1
         ],
         "title": {
          "text": "Opposition to Immigration Scaled"
         }
        },
        "yaxis": {
         "anchor": "x",
         "domain": [
          0,
          1
         ],
         "title": {
          "text": "Welfare State Scaled"
         }
        }
       }
      }
     },
     "metadata": {},
     "output_type": "display_data"
    }
   ],
   "source": [
    "concatenated_df = pd.concat([voter_scaled, party_scaled_df], ignore_index=True)\n",
    "\n",
    "fig = px.scatter(\n",
    "    concatenated_df,\n",
    "    x=x_scaled,\n",
    "    y=y_scaled,\n",
    "    color='Label',\n",
    "    symbol='Label')\n",
    "fig.update_traces(marker=dict(size=10))\n",
    "fig.update_layout(title='Scaled Voter and Party Positions')\n",
    "fig.show()"
   ]
  },
  {
   "cell_type": "code",
   "execution_count": 19,
   "id": "3ee87e85",
   "metadata": {},
   "outputs": [],
   "source": [
    "party_centered, voter_centered = dp.center_party_voter_data(voter_df=voter_scaled, party_df=party_scaled_df, x_var=x_var, y_var=y_var)"
   ]
  },
  {
   "cell_type": "code",
   "execution_count": 20,
   "id": "fedd2d5c",
   "metadata": {},
   "outputs": [
    {
     "data": {
      "application/vnd.plotly.v1+json": {
       "config": {
        "plotlyServerURL": "https://plot.ly"
       },
       "data": [
        {
         "hovertemplate": "Label=Voter<br>Opposition to Immigration Centered=%{x}<br>Welfare State Centered=%{y}<extra></extra>",
         "legendgroup": "Voter",
         "marker": {
          "color": "#636efa",
          "size": 10,
          "symbol": "circle"
         },
         "mode": "markers",
         "name": "Voter",
         "showlegend": true,
         "type": "scattergl",
         "x": {
          "bdata": "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",
          "dtype": "f8"
         },
         "xaxis": "x",
         "y": {
          "bdata": "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",
          "dtype": "f8"
         },
         "yaxis": "y"
        },
        {
         "hovertemplate": "Label=90/Greens<br>Opposition to Immigration Centered=%{x}<br>Welfare State Centered=%{y}<extra></extra>",
         "legendgroup": "90/Greens",
         "marker": {
          "color": "#EF553B",
          "size": 10,
          "symbol": "diamond"
         },
         "mode": "markers",
         "name": "90/Greens",
         "showlegend": true,
         "type": "scattergl",
         "x": {
          "bdata": "INCW+68L6L8=",
          "dtype": "f8"
         },
         "xaxis": "x",
         "y": {
          "bdata": "IZ0BNhgY4T8=",
          "dtype": "f8"
         },
         "yaxis": "y"
        },
        {
         "hovertemplate": "Label=LINKE<br>Opposition to Immigration Centered=%{x}<br>Welfare State Centered=%{y}<extra></extra>",
         "legendgroup": "LINKE",
         "marker": {
          "color": "#00cc96",
          "size": 10,
          "symbol": "square"
         },
         "mode": "markers",
         "name": "LINKE",
         "showlegend": true,
         "type": "scattergl",
         "x": {
          "bdata": "f41YEz6o578=",
          "dtype": "f8"
         },
         "xaxis": "x",
         "y": {
          "bdata": "1G/6zsgS7D8=",
          "dtype": "f8"
         },
         "yaxis": "y"
        },
        {
         "hovertemplate": "Label=SPD<br>Opposition to Immigration Centered=%{x}<br>Welfare State Centered=%{y}<extra></extra>",
         "legendgroup": "SPD",
         "marker": {
          "color": "#ab63fa",
          "size": 10,
          "symbol": "x"
         },
         "mode": "markers",
         "name": "SPD",
         "showlegend": true,
         "type": "scattergl",
         "x": {
          "bdata": "jN8eu9Ie1L8=",
          "dtype": "f8"
         },
         "xaxis": "x",
         "y": {
          "bdata": "WbmoeY3H1D8=",
          "dtype": "f8"
         },
         "yaxis": "y"
        },
        {
         "hovertemplate": "Label=FDP<br>Opposition to Immigration Centered=%{x}<br>Welfare State Centered=%{y}<extra></extra>",
         "legendgroup": "FDP",
         "marker": {
          "color": "#FFA15A",
          "size": 10,
          "symbol": "cross"
         },
         "mode": "markers",
         "name": "FDP",
         "showlegend": true,
         "type": "scattergl",
         "x": {
          "bdata": "LD3eiV5wlz8=",
          "dtype": "f8"
         },
         "xaxis": "x",
         "y": {
          "bdata": "bixfdt0s078=",
          "dtype": "f8"
         },
         "yaxis": "y"
        },
        {
         "hovertemplate": "Label=CDU/CSU<br>Opposition to Immigration Centered=%{x}<br>Welfare State Centered=%{y}<extra></extra>",
         "legendgroup": "CDU/CSU",
         "marker": {
          "color": "#19d3f3",
          "size": 10,
          "symbol": "circle"
         },
         "mode": "markers",
         "name": "CDU/CSU",
         "showlegend": true,
         "type": "scattergl",
         "x": {
          "bdata": "kQ2VlESj0j8=",
          "dtype": "f8"
         },
         "xaxis": "x",
         "y": {
          "bdata": "v9TLkuA63r8=",
          "dtype": "f8"
         },
         "yaxis": "y"
        },
        {
         "hovertemplate": "Label=SSW<br>Opposition to Immigration Centered=%{x}<br>Welfare State Centered=%{y}<extra></extra>",
         "legendgroup": "SSW",
         "marker": {
          "color": "#FF6692",
          "size": 10,
          "symbol": "diamond"
         },
         "mode": "markers",
         "name": "SSW",
         "showlegend": true,
         "type": "scattergl",
         "x": {
          "bdata": "re3UQc51xj8=",
          "dtype": "f8"
         },
         "xaxis": "x",
         "y": {
          "bdata": "RCUbDK9ByD8=",
          "dtype": "f8"
         },
         "yaxis": "y"
        },
        {
         "hovertemplate": "Label=AfD<br>Opposition to Immigration Centered=%{x}<br>Welfare State Centered=%{y}<extra></extra>",
         "legendgroup": "AfD",
         "marker": {
          "color": "#B6E880",
          "size": 10,
          "symbol": "square"
         },
         "mode": "markers",
         "name": "AfD",
         "showlegend": true,
         "type": "scattergl",
         "x": {
          "bdata": "q/l+10ne8z8=",
          "dtype": "f8"
         },
         "xaxis": "x",
         "y": {
          "bdata": "8Fqw31lp678=",
          "dtype": "f8"
         },
         "yaxis": "y"
        }
       ],
       "layout": {
        "legend": {
         "title": {
          "text": "Label"
         },
         "tracegroupgap": 0
        },
        "margin": {
         "t": 60
        },
        "template": {
         "data": {
          "bar": [
           {
            "error_x": {
             "color": "#2a3f5f"
            },
            "error_y": {
             "color": "#2a3f5f"
            },
            "marker": {
             "line": {
              "color": "#E5ECF6",
              "width": 0.5
             },
             "pattern": {
              "fillmode": "overlay",
              "size": 10,
              "solidity": 0.2
             }
            },
            "type": "bar"
           }
          ],
          "barpolar": [
           {
            "marker": {
             "line": {
              "color": "#E5ECF6",
              "width": 0.5
             },
             "pattern": {
              "fillmode": "overlay",
              "size": 10,
              "solidity": 0.2
             }
            },
            "type": "barpolar"
           }
          ],
          "carpet": [
           {
            "aaxis": {
             "endlinecolor": "#2a3f5f",
             "gridcolor": "white",
             "linecolor": "white",
             "minorgridcolor": "white",
             "startlinecolor": "#2a3f5f"
            },
            "baxis": {
             "endlinecolor": "#2a3f5f",
             "gridcolor": "white",
             "linecolor": "white",
             "minorgridcolor": "white",
             "startlinecolor": "#2a3f5f"
            },
            "type": "carpet"
           }
          ],
          "choropleth": [
           {
            "colorbar": {
             "outlinewidth": 0,
             "ticks": ""
            },
            "type": "choropleth"
           }
          ],
          "contour": [
           {
            "colorbar": {
             "outlinewidth": 0,
             "ticks": ""
            },
            "colorscale": [
             [
              0,
              "#0d0887"
             ],
             [
              0.1111111111111111,
              "#46039f"
             ],
             [
              0.2222222222222222,
              "#7201a8"
             ],
             [
              0.3333333333333333,
              "#9c179e"
             ],
             [
              0.4444444444444444,
              "#bd3786"
             ],
             [
              0.5555555555555556,
              "#d8576b"
             ],
             [
              0.6666666666666666,
              "#ed7953"
             ],
             [
              0.7777777777777778,
              "#fb9f3a"
             ],
             [
              0.8888888888888888,
              "#fdca26"
             ],
             [
              1,
              "#f0f921"
             ]
            ],
            "type": "contour"
           }
          ],
          "contourcarpet": [
           {
            "colorbar": {
             "outlinewidth": 0,
             "ticks": ""
            },
            "type": "contourcarpet"
           }
          ],
          "heatmap": [
           {
            "colorbar": {
             "outlinewidth": 0,
             "ticks": ""
            },
            "colorscale": [
             [
              0,
              "#0d0887"
             ],
             [
              0.1111111111111111,
              "#46039f"
             ],
             [
              0.2222222222222222,
              "#7201a8"
             ],
             [
              0.3333333333333333,
              "#9c179e"
             ],
             [
              0.4444444444444444,
              "#bd3786"
             ],
             [
              0.5555555555555556,
              "#d8576b"
             ],
             [
              0.6666666666666666,
              "#ed7953"
             ],
             [
              0.7777777777777778,
              "#fb9f3a"
             ],
             [
              0.8888888888888888,
              "#fdca26"
             ],
             [
              1,
              "#f0f921"
             ]
            ],
            "type": "heatmap"
           }
          ],
          "histogram": [
           {
            "marker": {
             "pattern": {
              "fillmode": "overlay",
              "size": 10,
              "solidity": 0.2
             }
            },
            "type": "histogram"
           }
          ],
          "histogram2d": [
           {
            "colorbar": {
             "outlinewidth": 0,
             "ticks": ""
            },
            "colorscale": [
             [
              0,
              "#0d0887"
             ],
             [
              0.1111111111111111,
              "#46039f"
             ],
             [
              0.2222222222222222,
              "#7201a8"
             ],
             [
              0.3333333333333333,
              "#9c179e"
             ],
             [
              0.4444444444444444,
              "#bd3786"
             ],
             [
              0.5555555555555556,
              "#d8576b"
             ],
             [
              0.6666666666666666,
              "#ed7953"
             ],
             [
              0.7777777777777778,
              "#fb9f3a"
             ],
             [
              0.8888888888888888,
              "#fdca26"
             ],
             [
              1,
              "#f0f921"
             ]
            ],
            "type": "histogram2d"
           }
          ],
          "histogram2dcontour": [
           {
            "colorbar": {
             "outlinewidth": 0,
             "ticks": ""
            },
            "colorscale": [
             [
              0,
              "#0d0887"
             ],
             [
              0.1111111111111111,
              "#46039f"
             ],
             [
              0.2222222222222222,
              "#7201a8"
             ],
             [
              0.3333333333333333,
              "#9c179e"
             ],
             [
              0.4444444444444444,
              "#bd3786"
             ],
             [
              0.5555555555555556,
              "#d8576b"
             ],
             [
              0.6666666666666666,
              "#ed7953"
             ],
             [
              0.7777777777777778,
              "#fb9f3a"
             ],
             [
              0.8888888888888888,
              "#fdca26"
             ],
             [
              1,
              "#f0f921"
             ]
            ],
            "type": "histogram2dcontour"
           }
          ],
          "mesh3d": [
           {
            "colorbar": {
             "outlinewidth": 0,
             "ticks": ""
            },
            "type": "mesh3d"
           }
          ],
          "parcoords": [
           {
            "line": {
             "colorbar": {
              "outlinewidth": 0,
              "ticks": ""
             }
            },
            "type": "parcoords"
           }
          ],
          "pie": [
           {
            "automargin": true,
            "type": "pie"
           }
          ],
          "scatter": [
           {
            "fillpattern": {
             "fillmode": "overlay",
             "size": 10,
             "solidity": 0.2
            },
            "type": "scatter"
           }
          ],
          "scatter3d": [
           {
            "line": {
             "colorbar": {
              "outlinewidth": 0,
              "ticks": ""
             }
            },
            "marker": {
             "colorbar": {
              "outlinewidth": 0,
              "ticks": ""
             }
            },
            "type": "scatter3d"
           }
          ],
          "scattercarpet": [
           {
            "marker": {
             "colorbar": {
              "outlinewidth": 0,
              "ticks": ""
             }
            },
            "type": "scattercarpet"
           }
          ],
          "scattergeo": [
           {
            "marker": {
             "colorbar": {
              "outlinewidth": 0,
              "ticks": ""
             }
            },
            "type": "scattergeo"
           }
          ],
          "scattergl": [
           {
            "marker": {
             "colorbar": {
              "outlinewidth": 0,
              "ticks": ""
             }
            },
            "type": "scattergl"
           }
          ],
          "scattermap": [
           {
            "marker": {
             "colorbar": {
              "outlinewidth": 0,
              "ticks": ""
             }
            },
            "type": "scattermap"
           }
          ],
          "scattermapbox": [
           {
            "marker": {
             "colorbar": {
              "outlinewidth": 0,
              "ticks": ""
             }
            },
            "type": "scattermapbox"
           }
          ],
          "scatterpolar": [
           {
            "marker": {
             "colorbar": {
              "outlinewidth": 0,
              "ticks": ""
             }
            },
            "type": "scatterpolar"
           }
          ],
          "scatterpolargl": [
           {
            "marker": {
             "colorbar": {
              "outlinewidth": 0,
              "ticks": ""
             }
            },
            "type": "scatterpolargl"
           }
          ],
          "scatterternary": [
           {
            "marker": {
             "colorbar": {
              "outlinewidth": 0,
              "ticks": ""
             }
            },
            "type": "scatterternary"
           }
          ],
          "surface": [
           {
            "colorbar": {
             "outlinewidth": 0,
             "ticks": ""
            },
            "colorscale": [
             [
              0,
              "#0d0887"
             ],
             [
              0.1111111111111111,
              "#46039f"
             ],
             [
              0.2222222222222222,
              "#7201a8"
             ],
             [
              0.3333333333333333,
              "#9c179e"
             ],
             [
              0.4444444444444444,
              "#bd3786"
             ],
             [
              0.5555555555555556,
              "#d8576b"
             ],
             [
              0.6666666666666666,
              "#ed7953"
             ],
             [
              0.7777777777777778,
              "#fb9f3a"
             ],
             [
              0.8888888888888888,
              "#fdca26"
             ],
             [
              1,
              "#f0f921"
             ]
            ],
            "type": "surface"
           }
          ],
          "table": [
           {
            "cells": {
             "fill": {
              "color": "#EBF0F8"
             },
             "line": {
              "color": "white"
             }
            },
            "header": {
             "fill": {
              "color": "#C8D4E3"
             },
             "line": {
              "color": "white"
             }
            },
            "type": "table"
           }
          ]
         },
         "layout": {
          "annotationdefaults": {
           "arrowcolor": "#2a3f5f",
           "arrowhead": 0,
           "arrowwidth": 1
          },
          "autotypenumbers": "strict",
          "coloraxis": {
           "colorbar": {
            "outlinewidth": 0,
            "ticks": ""
           }
          },
          "colorscale": {
           "diverging": [
            [
             0,
             "#8e0152"
            ],
            [
             0.1,
             "#c51b7d"
            ],
            [
             0.2,
             "#de77ae"
            ],
            [
             0.3,
             "#f1b6da"
            ],
            [
             0.4,
             "#fde0ef"
            ],
            [
             0.5,
             "#f7f7f7"
            ],
            [
             0.6,
             "#e6f5d0"
            ],
            [
             0.7,
             "#b8e186"
            ],
            [
             0.8,
             "#7fbc41"
            ],
            [
             0.9,
             "#4d9221"
            ],
            [
             1,
             "#276419"
            ]
           ],
           "sequential": [
            [
             0,
             "#0d0887"
            ],
            [
             0.1111111111111111,
             "#46039f"
            ],
            [
             0.2222222222222222,
             "#7201a8"
            ],
            [
             0.3333333333333333,
             "#9c179e"
            ],
            [
             0.4444444444444444,
             "#bd3786"
            ],
            [
             0.5555555555555556,
             "#d8576b"
            ],
            [
             0.6666666666666666,
             "#ed7953"
            ],
            [
             0.7777777777777778,
             "#fb9f3a"
            ],
            [
             0.8888888888888888,
             "#fdca26"
            ],
            [
             1,
             "#f0f921"
            ]
           ],
           "sequentialminus": [
            [
             0,
             "#0d0887"
            ],
            [
             0.1111111111111111,
             "#46039f"
            ],
            [
             0.2222222222222222,
             "#7201a8"
            ],
            [
             0.3333333333333333,
             "#9c179e"
            ],
            [
             0.4444444444444444,
             "#bd3786"
            ],
            [
             0.5555555555555556,
             "#d8576b"
            ],
            [
             0.6666666666666666,
             "#ed7953"
            ],
            [
             0.7777777777777778,
             "#fb9f3a"
            ],
            [
             0.8888888888888888,
             "#fdca26"
            ],
            [
             1,
             "#f0f921"
            ]
           ]
          },
          "colorway": [
           "#636efa",
           "#EF553B",
           "#00cc96",
           "#ab63fa",
           "#FFA15A",
           "#19d3f3",
           "#FF6692",
           "#B6E880",
           "#FF97FF",
           "#FECB52"
          ],
          "font": {
           "color": "#2a3f5f"
          },
          "geo": {
           "bgcolor": "white",
           "lakecolor": "white",
           "landcolor": "#E5ECF6",
           "showlakes": true,
           "showland": true,
           "subunitcolor": "white"
          },
          "hoverlabel": {
           "align": "left"
          },
          "hovermode": "closest",
          "mapbox": {
           "style": "light"
          },
          "paper_bgcolor": "white",
          "plot_bgcolor": "#E5ECF6",
          "polar": {
           "angularaxis": {
            "gridcolor": "white",
            "linecolor": "white",
            "ticks": ""
           },
           "bgcolor": "#E5ECF6",
           "radialaxis": {
            "gridcolor": "white",
            "linecolor": "white",
            "ticks": ""
           }
          },
          "scene": {
           "xaxis": {
            "backgroundcolor": "#E5ECF6",
            "gridcolor": "white",
            "gridwidth": 2,
            "linecolor": "white",
            "showbackground": true,
            "ticks": "",
            "zerolinecolor": "white"
           },
           "yaxis": {
            "backgroundcolor": "#E5ECF6",
            "gridcolor": "white",
            "gridwidth": 2,
            "linecolor": "white",
            "showbackground": true,
            "ticks": "",
            "zerolinecolor": "white"
           },
           "zaxis": {
            "backgroundcolor": "#E5ECF6",
            "gridcolor": "white",
            "gridwidth": 2,
            "linecolor": "white",
            "showbackground": true,
            "ticks": "",
            "zerolinecolor": "white"
           }
          },
          "shapedefaults": {
           "line": {
            "color": "#2a3f5f"
           }
          },
          "ternary": {
           "aaxis": {
            "gridcolor": "white",
            "linecolor": "white",
            "ticks": ""
           },
           "baxis": {
            "gridcolor": "white",
            "linecolor": "white",
            "ticks": ""
           },
           "bgcolor": "#E5ECF6",
           "caxis": {
            "gridcolor": "white",
            "linecolor": "white",
            "ticks": ""
           }
          },
          "title": {
           "x": 0.05
          },
          "xaxis": {
           "automargin": true,
           "gridcolor": "white",
           "linecolor": "white",
           "ticks": "",
           "title": {
            "standoff": 15
           },
           "zerolinecolor": "white",
           "zerolinewidth": 2
          },
          "yaxis": {
           "automargin": true,
           "gridcolor": "white",
           "linecolor": "white",
           "ticks": "",
           "title": {
            "standoff": 15
           },
           "zerolinecolor": "white",
           "zerolinewidth": 2
          }
         }
        },
        "title": {
         "text": "Centered and Rotated Voter and Party Positions"
        },
        "xaxis": {
         "anchor": "y",
         "domain": [
          0,
          1
         ],
         "title": {
          "text": "Opposition to Immigration Centered"
         }
        },
        "yaxis": {
         "anchor": "x",
         "domain": [
          0,
          1
         ],
         "title": {
          "text": "Welfare State Centered"
         }
        }
       }
      }
     },
     "metadata": {},
     "output_type": "display_data"
    }
   ],
   "source": [
    "concatenated_df = pd.concat([voter_centered, party_centered], ignore_index=True)\n",
    "\n",
    "fig = px.scatter(\n",
    "    concatenated_df,\n",
    "    x=f\"{x_var} Centered\",\n",
    "    y=f\"{y_var} Centered\",\n",
    "    color='Label',\n",
    "    symbol='Label')\n",
    "fig.update_traces(marker=dict(size=10))\n",
    "fig.update_layout(title='Centered and Rotated Voter and Party Positions')\n",
    "fig.show()"
   ]
  },
  {
   "cell_type": "code",
   "execution_count": 21,
   "id": "87cd61f2",
   "metadata": {},
   "outputs": [
    {
     "data": {
      "image/png": "[encoded data removed]",
      "text/plain": [
       "<Figure size 1000x1000 with 1 Axes>"
      ]
     },
     "metadata": {},
     "output_type": "display_data"
    }
   ],
   "source": [
    "x_v = voter_scaled[x_scaled].values\n",
    "y_v = voter_scaled[y_scaled].values\n",
    "\n",
    "# Stack the data into a 2×N array and hand it to SciPy’s gaussian_kde\n",
    "xy = np.vstack([x_v, y_v])\n",
    "# In two-dimensional KDE, the data points are smoothed in both dimensions, resulting in a surface that represents the joint probability density of the two variables\n",
    "kde = gaussian_kde(xy, bw_method='scott')\n",
    "\n",
    "# You build a 200×200 grid over the observed data‐range, evaluate the estimation at each grid point, and reshape back into a 2-D array zi\n",
    "nbins = 200\n",
    "xi = np.linspace(x_v.min(), x_v.max(), nbins)\n",
    "yi = np.linspace(y_v.min(), y_v.max(), nbins)\n",
    "xi, yi = np.meshgrid(xi, yi)\n",
    "zi = kde(np.vstack([xi.ravel(), yi.ravel()])).reshape(xi.shape)\n",
    "\n",
    "# surface can be visualized using contour plots, where each contour line represents a region of constant density\n",
    "levels = np.percentile(zi, [50, 75, 95])\n",
    "\n",
    "plt.figure(figsize=(10, 10))\n",
    "# filled contours\n",
    "plt.contourf(xi, yi, zi,\n",
    "             levels=[levels[0], levels[1], levels[2], zi.max()],\n",
    "             cmap=\"Greys\",    # or any sequential colormap\n",
    "             alpha=0.5)\n",
    "# outline the contour levels\n",
    "plt.contour(xi, yi, zi, levels=levels, colors=\"k\", linewidths=1)\n",
    "\n",
    "# overlay the voter points \n",
    "plt.scatter(x_v, y_v, s=10, c=\"lightblue\", edgecolor=\"none\", alpha=0.6, label=\"Voter\")\n",
    "\n",
    "# overlay the party means\n",
    "px = party_scaled_df[x_scaled].values\n",
    "py = party_scaled_df[y_scaled].values\n",
    "labels = party_scaled_df[\"Party_Name\"].values\n",
    "\n",
    "plt.scatter(px, py, s=80, c=\"red\", edgecolor=\"white\", linewidth=1.5, label=\"Party\")\n",
    "for name, x, y in zip(labels, px, py):\n",
    "    plt.text(x, y, name, fontsize=9, fontweight=\"bold\",\n",
    "             ha=\"center\", va=\"center\", color=\"darkred\")\n",
    "\n",
    "plt.axhline(0, color=\"grey\", lw=0.8)\n",
    "plt.axvline(0, color=\"grey\", lw=0.8)\n",
    "plt.xlabel(x_scaled)\n",
    "plt.ylabel(y_scaled)\n",
    "plt.title(\"Voter Density & Party Positions\")\n",
    "plt.legend(loc=\"upper left\")\n",
    "plt.tight_layout()\n",
    "plt.show()"
   ]
  },
  {
   "cell_type": "code",
   "execution_count": 22,
   "id": "1e801e9a",
   "metadata": {},
   "outputs": [],
   "source": [
    "# # plot colors for each point according to which party he voted for\n",
    "# def plot(voter, party, label: bool):\n",
    "#     # get party and voter positions\n",
    "#     x_voter = voter[f'{x_var} Centered']\n",
    "#     y_voter = voter[f'{y_var} Centered']\n",
    "#     x_party = party[f'{x_var} Centered']\n",
    "#     y_party = party[f'{y_var} Centered']\n",
    "\n",
    "#     # set a color for each person depending on which party he voted for\n",
    "#     color = voter[\"party_choice\"].replace([0, 1, 2, 3, 4, 5], [\"green\", \"red\", \"black\", \"blue\", \"purple\", \"yellow\"])\n",
    "\n",
    "#     plt.Figure()\n",
    "\n",
    "#     plt.scatter(x_voter, y_voter, c=color, alpha=0.5)\n",
    "#     plt.scatter(x_party, y_party)\n",
    "#     plt.xlabel(x_var)\n",
    "#     plt.ylabel(y_var)\n",
    "\n",
    "#     # show the name of the parties\n",
    "#     if \"Label\" in party and label:\n",
    "#         label = party[\"Label\"]\n",
    "#         for x, y, text in zip(x_party, y_party, label):\n",
    "#             plt.text(x, y, text)\n",
    "\n",
    "# plot(voter_centered, party_centered, False)"
   ]
  },
  {
   "cell_type": "code",
   "execution_count": null,
   "id": "d43a5674",
   "metadata": {},
   "outputs": [],
   "source": []
  }
 ],
 "metadata": {
  "kernelspec": {
   "display_name": ".venv",
   "language": "python",
   "name": "python3"
  },
  "language_info": {
   "codemirror_mode": {
    "name": "ipython",
    "version": 3
   },
   "file_extension": ".py",
   "mimetype": "text/x-python",
   "name": "python",
   "nbconvert_exporter": "python",
   "pygments_lexer": "ipython3",
   "version": "3.11.4"
  }
 },
 "nbformat": 4,
 "nbformat_minor": 5
}
