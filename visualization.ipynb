{
 "cells": [
  {
   "cell_type": "code",
   "execution_count": 12,
   "id": "0cfe808e",
   "metadata": {},
   "outputs": [],
   "source": [
    "import pandas as pd\n",
    "import plotly.express as px\n",
    "import plotly.graph_objects as go\n",
    "import data_preprocessing.data_preprocess as dp\n",
    "from scipy.stats import spearmanr\n",
    "import data_preprocessing.data_loading as dl\n",
    "import numpy as np\n",
    "from scipy.stats import gaussian_kde\n",
    "import matplotlib.pyplot as plt"
   ]
  },
  {
   "cell_type": "code",
   "execution_count": 13,
   "id": "87530e3a",
   "metadata": {},
   "outputs": [],
   "source": [
    "x_var=\"Democracy\"\n",
    "y_var=\"Environmental Protection\""
   ]
  },
  {
   "cell_type": "code",
   "execution_count": 14,
   "id": "36a8c975",
   "metadata": {},
   "outputs": [],
   "source": [
    "x_scaled = f\"{x_var} Scaled\"\n",
    "y_scaled = f\"{y_var} Scaled\"\n",
    "\n",
    "x_vmean = f\"{x_var} Voters_Mean\"\n",
    "y_vmean = f\"{y_var} Voters_Mean\"\n",
    "\n",
    "x_comb = f\"{x_var} Combined\"\n",
    "y_comb = f\"{y_var} Combined\""
   ]
  },
  {
   "cell_type": "code",
   "execution_count": 15,
   "id": "2ca33a89",
   "metadata": {},
   "outputs": [
    {
     "name": "stderr",
     "output_type": "stream",
     "text": [
      "/Users/hilmar/Desktop/projects/studium/Case_Study_TUM25/data_preprocessing/data_loading.py:40: DtypeWarning:\n",
      "\n",
      "Columns (10) have mixed types. Specify dtype option on import or set low_memory=False.\n",
      "\n",
      "/Users/hilmar/Desktop/projects/studium/Case_Study_TUM25/data_preprocessing/data_loading.py:57: FutureWarning:\n",
      "\n",
      "errors='ignore' is deprecated and will raise in a future version. Use to_numeric without passing `errors` and catch exceptions explicitly instead\n",
      "\n"
     ]
    }
   ],
   "source": [
    "party_scaled, voter_scaled = dp.get_scaled_party_voter_data(x_var=x_var, y_var=y_var)"
   ]
  },
  {
   "cell_type": "code",
   "execution_count": 16,
   "id": "13ca1008",
   "metadata": {},
   "outputs": [
    {
     "data": {
      "application/vnd.plotly.v1+json": {
       "config": {
        "plotlyServerURL": "https://plot.ly"
       },
       "data": [
        {
         "hovertemplate": "Party_Name=90/Greens<br>Type=Manifesto Party position<br>Democracy (scaled)=%{x}<br>Environmental Protection (scaled)=%{y}<extra></extra>",
         "legendgroup": "90/Greens, Manifesto Party position",
         "marker": {
          "color": "#636efa",
          "symbol": "circle"
         },
         "mode": "markers",
         "name": "90/Greens, Manifesto Party position",
         "orientation": "v",
         "showlegend": true,
         "type": "scatter",
         "x": {
          "bdata": "a+hjB/fo9D8=",
          "dtype": "f8"
         },
         "xaxis": "x",
         "y": {
          "bdata": "qlY+W0qh9D8=",
          "dtype": "f8"
         },
         "yaxis": "y"
        },
        {
         "hovertemplate": "Party_Name=90/Greens<br>Type=Voter Mean position<br>Democracy (scaled)=%{x}<br>Environmental Protection (scaled)=%{y}<extra></extra>",
         "legendgroup": "90/Greens, Voter Mean position",
         "marker": {
          "color": "#636efa",
          "symbol": "diamond"
         },
         "mode": "markers",
         "name": "90/Greens, Voter Mean position",
         "orientation": "v",
         "showlegend": true,
         "type": "scatter",
         "x": {
          "bdata": "Qd+Cq61U2L8=",
          "dtype": "f8"
         },
         "xaxis": "x",
         "y": {
          "bdata": "12muKElh678=",
          "dtype": "f8"
         },
         "yaxis": "y"
        },
        {
         "hovertemplate": "Party_Name=90/Greens<br>Type=Final party position<br>Democracy (scaled)=%{x}<br>Environmental Protection (scaled)=%{y}<extra></extra>",
         "legendgroup": "90/Greens, Final party position",
         "marker": {
          "color": "#636efa",
          "symbol": "square"
         },
         "mode": "markers",
         "name": "90/Greens, Final party position",
         "orientation": "v",
         "showlegend": true,
         "type": "scatter",
         "x": {
          "bdata": "KJIs55Dkpb8=",
          "dtype": "f8"
         },
         "xaxis": "x",
         "y": {
          "bdata": "N5dLK9NN278=",
          "dtype": "f8"
         },
         "yaxis": "y"
        },
        {
         "hovertemplate": "Party_Name=LINKE<br>Type=Manifesto Party position<br>Democracy (scaled)=%{x}<br>Environmental Protection (scaled)=%{y}<extra></extra>",
         "legendgroup": "LINKE, Manifesto Party position",
         "marker": {
          "color": "#EF553B",
          "symbol": "circle"
         },
         "mode": "markers",
         "name": "LINKE, Manifesto Party position",
         "orientation": "v",
         "showlegend": true,
         "type": "scatter",
         "x": {
          "bdata": "1DRLy6bO8j8=",
          "dtype": "f8"
         },
         "xaxis": "x",
         "y": {
          "bdata": "JLMOFgllyb8=",
          "dtype": "f8"
         },
         "yaxis": "y"
        },
        {
         "hovertemplate": "Party_Name=LINKE<br>Type=Voter Mean position<br>Democracy (scaled)=%{x}<br>Environmental Protection (scaled)=%{y}<extra></extra>",
         "legendgroup": "LINKE, Voter Mean position",
         "marker": {
          "color": "#EF553B",
          "symbol": "diamond"
         },
         "mode": "markers",
         "name": "LINKE, Voter Mean position",
         "orientation": "v",
         "showlegend": true,
         "type": "scatter",
         "x": {
          "bdata": "zTc9/5Z3zD8=",
          "dtype": "f8"
         },
         "xaxis": "x",
         "y": {
          "bdata": "PHHKtPOv3L8=",
          "dtype": "f8"
         },
         "yaxis": "y"
        },
        {
         "hovertemplate": "Party_Name=LINKE<br>Type=Final party position<br>Democracy (scaled)=%{x}<br>Environmental Protection (scaled)=%{y}<extra></extra>",
         "legendgroup": "LINKE, Final party position",
         "marker": {
          "color": "#EF553B",
          "symbol": "square"
         },
         "mode": "markers",
         "name": "LINKE, Final party position",
         "orientation": "v",
         "showlegend": true,
         "type": "scatter",
         "x": {
          "bdata": "MNqH1cFu2j8=",
          "dtype": "f8"
         },
         "xaxis": "x",
         "y": {
          "bdata": "gWyj30N92b8=",
          "dtype": "f8"
         },
         "yaxis": "y"
        },
        {
         "hovertemplate": "Party_Name=SPD<br>Type=Manifesto Party position<br>Democracy (scaled)=%{x}<br>Environmental Protection (scaled)=%{y}<extra></extra>",
         "legendgroup": "SPD, Manifesto Party position",
         "marker": {
          "color": "#00cc96",
          "symbol": "circle"
         },
         "mode": "markers",
         "name": "SPD, Manifesto Party position",
         "orientation": "v",
         "showlegend": true,
         "type": "scatter",
         "x": {
          "bdata": "l7XPjs0O2b8=",
          "dtype": "f8"
         },
         "xaxis": "x",
         "y": {
          "bdata": "Xs79Y+DU6L8=",
          "dtype": "f8"
         },
         "yaxis": "y"
        },
        {
         "hovertemplate": "Party_Name=SPD<br>Type=Voter Mean position<br>Democracy (scaled)=%{x}<br>Environmental Protection (scaled)=%{y}<extra></extra>",
         "legendgroup": "SPD, Voter Mean position",
         "marker": {
          "color": "#00cc96",
          "symbol": "diamond"
         },
         "mode": "markers",
         "name": "SPD, Voter Mean position",
         "orientation": "v",
         "showlegend": true,
         "type": "scatter",
         "x": {
          "bdata": "+ebIMgUgzb8=",
          "dtype": "f8"
         },
         "xaxis": "x",
         "y": {
          "bdata": "aF4Ht6FUwr8=",
          "dtype": "f8"
         },
         "yaxis": "y"
        },
        {
         "hovertemplate": "Party_Name=SPD<br>Type=Final party position<br>Democracy (scaled)=%{x}<br>Environmental Protection (scaled)=%{y}<extra></extra>",
         "legendgroup": "SPD, Final party position",
         "marker": {
          "color": "#00cc96",
          "symbol": "square"
         },
         "mode": "markers",
         "name": "SPD, Final party position",
         "orientation": "v",
         "showlegend": true,
         "type": "scatter",
         "x": {
          "bdata": "tYATZF6p0L8=",
          "dtype": "f8"
         },
         "xaxis": "x",
         "y": {
          "bdata": "UHhopM1D0b8=",
          "dtype": "f8"
         },
         "yaxis": "y"
        },
        {
         "hovertemplate": "Party_Name=FDP<br>Type=Manifesto Party position<br>Democracy (scaled)=%{x}<br>Environmental Protection (scaled)=%{y}<extra></extra>",
         "legendgroup": "FDP, Manifesto Party position",
         "marker": {
          "color": "#ab63fa",
          "symbol": "circle"
         },
         "mode": "markers",
         "name": "FDP, Manifesto Party position",
         "orientation": "v",
         "showlegend": true,
         "type": "scatter",
         "x": {
          "bdata": "ezGz5hVE4T8=",
          "dtype": "f8"
         },
         "xaxis": "x",
         "y": {
          "bdata": "3Dm0fhTY2L8=",
          "dtype": "f8"
         },
         "yaxis": "y"
        },
        {
         "hovertemplate": "Party_Name=FDP<br>Type=Voter Mean position<br>Democracy (scaled)=%{x}<br>Environmental Protection (scaled)=%{y}<extra></extra>",
         "legendgroup": "FDP, Voter Mean position",
         "marker": {
          "color": "#ab63fa",
          "symbol": "diamond"
         },
         "mode": "markers",
         "name": "FDP, Voter Mean position",
         "orientation": "v",
         "showlegend": true,
         "type": "scatter",
         "x": {
          "bdata": "/MpMkZHlor8=",
          "dtype": "f8"
         },
         "xaxis": "x",
         "y": {
          "bdata": "OAo419/e1T8=",
          "dtype": "f8"
         },
         "yaxis": "y"
        },
        {
         "hovertemplate": "Party_Name=FDP<br>Type=Final party position<br>Democracy (scaled)=%{x}<br>Environmental Protection (scaled)=%{y}<extra></extra>",
         "legendgroup": "FDP, Final party position",
         "marker": {
          "color": "#ab63fa",
          "symbol": "square"
         },
         "mode": "markers",
         "name": "FDP, Final party position",
         "orientation": "v",
         "showlegend": true,
         "type": "scatter",
         "x": {
          "bdata": "x8rMAxwRtD8=",
          "dtype": "f8"
         },
         "xaxis": "x",
         "y": {
          "bdata": "AsZEvyoOyT8=",
          "dtype": "f8"
         },
         "yaxis": "y"
        },
        {
         "hovertemplate": "Party_Name=CDU/CSU<br>Type=Manifesto Party position<br>Democracy (scaled)=%{x}<br>Environmental Protection (scaled)=%{y}<extra></extra>",
         "legendgroup": "CDU/CSU, Manifesto Party position",
         "marker": {
          "color": "#FFA15A",
          "symbol": "circle"
         },
         "mode": "markers",
         "name": "CDU/CSU, Manifesto Party position",
         "orientation": "v",
         "showlegend": true,
         "type": "scatter",
         "x": {
          "bdata": "xZW/DYpf+78=",
          "dtype": "f8"
         },
         "xaxis": "x",
         "y": {
          "bdata": "IfUvB+0v2r8=",
          "dtype": "f8"
         },
         "yaxis": "y"
        },
        {
         "hovertemplate": "Party_Name=CDU/CSU<br>Type=Voter Mean position<br>Democracy (scaled)=%{x}<br>Environmental Protection (scaled)=%{y}<extra></extra>",
         "legendgroup": "CDU/CSU, Voter Mean position",
         "marker": {
          "color": "#FFA15A",
          "symbol": "diamond"
         },
         "mode": "markers",
         "name": "CDU/CSU, Voter Mean position",
         "orientation": "v",
         "showlegend": true,
         "type": "scatter",
         "x": {
          "bdata": "xLf2BAYE078=",
          "dtype": "f8"
         },
         "xaxis": "x",
         "y": {
          "bdata": "0HaYa7TG0j8=",
          "dtype": "f8"
         },
         "yaxis": "y"
        },
        {
         "hovertemplate": "Party_Name=CDU/CSU<br>Type=Final party position<br>Democracy (scaled)=%{x}<br>Environmental Protection (scaled)=%{y}<extra></extra>",
         "legendgroup": "CDU/CSU, Final party position",
         "marker": {
          "color": "#FFA15A",
          "symbol": "square"
         },
         "mode": "markers",
         "name": "CDU/CSU, Final party position",
         "orientation": "v",
         "showlegend": true,
         "type": "scatter",
         "x": {
          "bdata": "nbgVoTmO4r8=",
          "dtype": "f8"
         },
         "xaxis": "x",
         "y": {
          "bdata": "c8LgQiiRwz8=",
          "dtype": "f8"
         },
         "yaxis": "y"
        },
        {
         "hovertemplate": "Party_Name=AfD<br>Type=Manifesto Party position<br>Democracy (scaled)=%{x}<br>Environmental Protection (scaled)=%{y}<extra></extra>",
         "legendgroup": "AfD, Manifesto Party position",
         "marker": {
          "color": "#19d3f3",
          "symbol": "circle"
         },
         "mode": "markers",
         "name": "AfD, Manifesto Party position",
         "orientation": "v",
         "showlegend": true,
         "type": "scatter",
         "x": {
          "bdata": "YOGsi51t5r8=",
          "dtype": "f8"
         },
         "xaxis": "x",
         "y": {
          "bdata": "xCMykhp/878=",
          "dtype": "f8"
         },
         "yaxis": "y"
        },
        {
         "hovertemplate": "Party_Name=AfD<br>Type=Voter Mean position<br>Democracy (scaled)=%{x}<br>Environmental Protection (scaled)=%{y}<extra></extra>",
         "legendgroup": "AfD, Voter Mean position",
         "marker": {
          "color": "#19d3f3",
          "symbol": "diamond"
         },
         "mode": "markers",
         "name": "AfD, Voter Mean position",
         "orientation": "v",
         "showlegend": true,
         "type": "scatter",
         "x": {
          "bdata": "Y6BFYik48T8=",
          "dtype": "f8"
         },
         "xaxis": "x",
         "y": {
          "bdata": "AQhz2f966j8=",
          "dtype": "f8"
         },
         "yaxis": "y"
        },
        {
         "hovertemplate": "Party_Name=AfD<br>Type=Final party position<br>Democracy (scaled)=%{x}<br>Environmental Protection (scaled)=%{y}<extra></extra>",
         "legendgroup": "AfD, Final party position",
         "marker": {
          "color": "#19d3f3",
          "symbol": "square"
         },
         "mode": "markers",
         "name": "AfD, Final party position",
         "orientation": "v",
         "showlegend": true,
         "type": "scatter",
         "x": {
          "bdata": "WKAZTrwQ5z8=",
          "dtype": "f8"
         },
         "xaxis": "x",
         "y": {
          "bdata": "zIkpGoTF2j8=",
          "dtype": "f8"
         },
         "yaxis": "y"
        }
       ],
       "layout": {
        "legend": {
         "title": {
          "text": "Party_Name, Type"
         },
         "tracegroupgap": 0
        },
        "template": {
         "data": {
          "bar": [
           {
            "error_x": {
             "color": "#2a3f5f"
            },
            "error_y": {
             "color": "#2a3f5f"
            },
            "marker": {
             "line": {
              "color": "#E5ECF6",
              "width": 0.5
             },
             "pattern": {
              "fillmode": "overlay",
              "size": 10,
              "solidity": 0.2
             }
            },
            "type": "bar"
           }
          ],
          "barpolar": [
           {
            "marker": {
             "line": {
              "color": "#E5ECF6",
              "width": 0.5
             },
             "pattern": {
              "fillmode": "overlay",
              "size": 10,
              "solidity": 0.2
             }
            },
            "type": "barpolar"
           }
          ],
          "carpet": [
           {
            "aaxis": {
             "endlinecolor": "#2a3f5f",
             "gridcolor": "white",
             "linecolor": "white",
             "minorgridcolor": "white",
             "startlinecolor": "#2a3f5f"
            },
            "baxis": {
             "endlinecolor": "#2a3f5f",
             "gridcolor": "white",
             "linecolor": "white",
             "minorgridcolor": "white",
             "startlinecolor": "#2a3f5f"
            },
            "type": "carpet"
           }
          ],
          "choropleth": [
           {
            "colorbar": {
             "outlinewidth": 0,
             "ticks": ""
            },
            "type": "choropleth"
           }
          ],
          "contour": [
           {
            "colorbar": {
             "outlinewidth": 0,
             "ticks": ""
            },
            "colorscale": [
             [
              0,
              "#0d0887"
             ],
             [
              0.1111111111111111,
              "#46039f"
             ],
             [
              0.2222222222222222,
              "#7201a8"
             ],
             [
              0.3333333333333333,
              "#9c179e"
             ],
             [
              0.4444444444444444,
              "#bd3786"
             ],
             [
              0.5555555555555556,
              "#d8576b"
             ],
             [
              0.6666666666666666,
              "#ed7953"
             ],
             [
              0.7777777777777778,
              "#fb9f3a"
             ],
             [
              0.8888888888888888,
              "#fdca26"
             ],
             [
              1,
              "#f0f921"
             ]
            ],
            "type": "contour"
           }
          ],
          "contourcarpet": [
           {
            "colorbar": {
             "outlinewidth": 0,
             "ticks": ""
            },
            "type": "contourcarpet"
           }
          ],
          "heatmap": [
           {
            "colorbar": {
             "outlinewidth": 0,
             "ticks": ""
            },
            "colorscale": [
             [
              0,
              "#0d0887"
             ],
             [
              0.1111111111111111,
              "#46039f"
             ],
             [
              0.2222222222222222,
              "#7201a8"
             ],
             [
              0.3333333333333333,
              "#9c179e"
             ],
             [
              0.4444444444444444,
              "#bd3786"
             ],
             [
              0.5555555555555556,
              "#d8576b"
             ],
             [
              0.6666666666666666,
              "#ed7953"
             ],
             [
              0.7777777777777778,
              "#fb9f3a"
             ],
             [
              0.8888888888888888,
              "#fdca26"
             ],
             [
              1,
              "#f0f921"
             ]
            ],
            "type": "heatmap"
           }
          ],
          "histogram": [
           {
            "marker": {
             "pattern": {
              "fillmode": "overlay",
              "size": 10,
              "solidity": 0.2
             }
            },
            "type": "histogram"
           }
          ],
          "histogram2d": [
           {
            "colorbar": {
             "outlinewidth": 0,
             "ticks": ""
            },
            "colorscale": [
             [
              0,
              "#0d0887"
             ],
             [
              0.1111111111111111,
              "#46039f"
             ],
             [
              0.2222222222222222,
              "#7201a8"
             ],
             [
              0.3333333333333333,
              "#9c179e"
             ],
             [
              0.4444444444444444,
              "#bd3786"
             ],
             [
              0.5555555555555556,
              "#d8576b"
             ],
             [
              0.6666666666666666,
              "#ed7953"
             ],
             [
              0.7777777777777778,
              "#fb9f3a"
             ],
             [
              0.8888888888888888,
              "#fdca26"
             ],
             [
              1,
              "#f0f921"
             ]
            ],
            "type": "histogram2d"
           }
          ],
          "histogram2dcontour": [
           {
            "colorbar": {
             "outlinewidth": 0,
             "ticks": ""
            },
            "colorscale": [
             [
              0,
              "#0d0887"
             ],
             [
              0.1111111111111111,
              "#46039f"
             ],
             [
              0.2222222222222222,
              "#7201a8"
             ],
             [
              0.3333333333333333,
              "#9c179e"
             ],
             [
              0.4444444444444444,
              "#bd3786"
             ],
             [
              0.5555555555555556,
              "#d8576b"
             ],
             [
              0.6666666666666666,
              "#ed7953"
             ],
             [
              0.7777777777777778,
              "#fb9f3a"
             ],
             [
              0.8888888888888888,
              "#fdca26"
             ],
             [
              1,
              "#f0f921"
             ]
            ],
            "type": "histogram2dcontour"
           }
          ],
          "mesh3d": [
           {
            "colorbar": {
             "outlinewidth": 0,
             "ticks": ""
            },
            "type": "mesh3d"
           }
          ],
          "parcoords": [
           {
            "line": {
             "colorbar": {
              "outlinewidth": 0,
              "ticks": ""
             }
            },
            "type": "parcoords"
           }
          ],
          "pie": [
           {
            "automargin": true,
            "type": "pie"
           }
          ],
          "scatter": [
           {
            "fillpattern": {
             "fillmode": "overlay",
             "size": 10,
             "solidity": 0.2
            },
            "type": "scatter"
           }
          ],
          "scatter3d": [
           {
            "line": {
             "colorbar": {
              "outlinewidth": 0,
              "ticks": ""
             }
            },
            "marker": {
             "colorbar": {
              "outlinewidth": 0,
              "ticks": ""
             }
            },
            "type": "scatter3d"
           }
          ],
          "scattercarpet": [
           {
            "marker": {
             "colorbar": {
              "outlinewidth": 0,
              "ticks": ""
             }
            },
            "type": "scattercarpet"
           }
          ],
          "scattergeo": [
           {
            "marker": {
             "colorbar": {
              "outlinewidth": 0,
              "ticks": ""
             }
            },
            "type": "scattergeo"
           }
          ],
          "scattergl": [
           {
            "marker": {
             "colorbar": {
              "outlinewidth": 0,
              "ticks": ""
             }
            },
            "type": "scattergl"
           }
          ],
          "scattermap": [
           {
            "marker": {
             "colorbar": {
              "outlinewidth": 0,
              "ticks": ""
             }
            },
            "type": "scattermap"
           }
          ],
          "scattermapbox": [
           {
            "marker": {
             "colorbar": {
              "outlinewidth": 0,
              "ticks": ""
             }
            },
            "type": "scattermapbox"
           }
          ],
          "scatterpolar": [
           {
            "marker": {
             "colorbar": {
              "outlinewidth": 0,
              "ticks": ""
             }
            },
            "type": "scatterpolar"
           }
          ],
          "scatterpolargl": [
           {
            "marker": {
             "colorbar": {
              "outlinewidth": 0,
              "ticks": ""
             }
            },
            "type": "scatterpolargl"
           }
          ],
          "scatterternary": [
           {
            "marker": {
             "colorbar": {
              "outlinewidth": 0,
              "ticks": ""
             }
            },
            "type": "scatterternary"
           }
          ],
          "surface": [
           {
            "colorbar": {
             "outlinewidth": 0,
             "ticks": ""
            },
            "colorscale": [
             [
              0,
              "#0d0887"
             ],
             [
              0.1111111111111111,
              "#46039f"
             ],
             [
              0.2222222222222222,
              "#7201a8"
             ],
             [
              0.3333333333333333,
              "#9c179e"
             ],
             [
              0.4444444444444444,
              "#bd3786"
             ],
             [
              0.5555555555555556,
              "#d8576b"
             ],
             [
              0.6666666666666666,
              "#ed7953"
             ],
             [
              0.7777777777777778,
              "#fb9f3a"
             ],
             [
              0.8888888888888888,
              "#fdca26"
             ],
             [
              1,
              "#f0f921"
             ]
            ],
            "type": "surface"
           }
          ],
          "table": [
           {
            "cells": {
             "fill": {
              "color": "#EBF0F8"
             },
             "line": {
              "color": "white"
             }
            },
            "header": {
             "fill": {
              "color": "#C8D4E3"
             },
             "line": {
              "color": "white"
             }
            },
            "type": "table"
           }
          ]
         },
         "layout": {
          "annotationdefaults": {
           "arrowcolor": "#2a3f5f",
           "arrowhead": 0,
           "arrowwidth": 1
          },
          "autotypenumbers": "strict",
          "coloraxis": {
           "colorbar": {
            "outlinewidth": 0,
            "ticks": ""
           }
          },
          "colorscale": {
           "diverging": [
            [
             0,
             "#8e0152"
            ],
            [
             0.1,
             "#c51b7d"
            ],
            [
             0.2,
             "#de77ae"
            ],
            [
             0.3,
             "#f1b6da"
            ],
            [
             0.4,
             "#fde0ef"
            ],
            [
             0.5,
             "#f7f7f7"
            ],
            [
             0.6,
             "#e6f5d0"
            ],
            [
             0.7,
             "#b8e186"
            ],
            [
             0.8,
             "#7fbc41"
            ],
            [
             0.9,
             "#4d9221"
            ],
            [
             1,
             "#276419"
            ]
           ],
           "sequential": [
            [
             0,
             "#0d0887"
            ],
            [
             0.1111111111111111,
             "#46039f"
            ],
            [
             0.2222222222222222,
             "#7201a8"
            ],
            [
             0.3333333333333333,
             "#9c179e"
            ],
            [
             0.4444444444444444,
             "#bd3786"
            ],
            [
             0.5555555555555556,
             "#d8576b"
            ],
            [
             0.6666666666666666,
             "#ed7953"
            ],
            [
             0.7777777777777778,
             "#fb9f3a"
            ],
            [
             0.8888888888888888,
             "#fdca26"
            ],
            [
             1,
             "#f0f921"
            ]
           ],
           "sequentialminus": [
            [
             0,
             "#0d0887"
            ],
            [
             0.1111111111111111,
             "#46039f"
            ],
            [
             0.2222222222222222,
             "#7201a8"
            ],
            [
             0.3333333333333333,
             "#9c179e"
            ],
            [
             0.4444444444444444,
             "#bd3786"
            ],
            [
             0.5555555555555556,
             "#d8576b"
            ],
            [
             0.6666666666666666,
             "#ed7953"
            ],
            [
             0.7777777777777778,
             "#fb9f3a"
            ],
            [
             0.8888888888888888,
             "#fdca26"
            ],
            [
             1,
             "#f0f921"
            ]
           ]
          },
          "colorway": [
           "#636efa",
           "#EF553B",
           "#00cc96",
           "#ab63fa",
           "#FFA15A",
           "#19d3f3",
           "#FF6692",
           "#B6E880",
           "#FF97FF",
           "#FECB52"
          ],
          "font": {
           "color": "#2a3f5f"
          },
          "geo": {
           "bgcolor": "white",
           "lakecolor": "white",
           "landcolor": "#E5ECF6",
           "showlakes": true,
           "showland": true,
           "subunitcolor": "white"
          },
          "hoverlabel": {
           "align": "left"
          },
          "hovermode": "closest",
          "mapbox": {
           "style": "light"
          },
          "paper_bgcolor": "white",
          "plot_bgcolor": "#E5ECF6",
          "polar": {
           "angularaxis": {
            "gridcolor": "white",
            "linecolor": "white",
            "ticks": ""
           },
           "bgcolor": "#E5ECF6",
           "radialaxis": {
            "gridcolor": "white",
            "linecolor": "white",
            "ticks": ""
           }
          },
          "scene": {
           "xaxis": {
            "backgroundcolor": "#E5ECF6",
            "gridcolor": "white",
            "gridwidth": 2,
            "linecolor": "white",
            "showbackground": true,
            "ticks": "",
            "zerolinecolor": "white"
           },
           "yaxis": {
            "backgroundcolor": "#E5ECF6",
            "gridcolor": "white",
            "gridwidth": 2,
            "linecolor": "white",
            "showbackground": true,
            "ticks": "",
            "zerolinecolor": "white"
           },
           "zaxis": {
            "backgroundcolor": "#E5ECF6",
            "gridcolor": "white",
            "gridwidth": 2,
            "linecolor": "white",
            "showbackground": true,
            "ticks": "",
            "zerolinecolor": "white"
           }
          },
          "shapedefaults": {
           "line": {
            "color": "#2a3f5f"
           }
          },
          "ternary": {
           "aaxis": {
            "gridcolor": "white",
            "linecolor": "white",
            "ticks": ""
           },
           "baxis": {
            "gridcolor": "white",
            "linecolor": "white",
            "ticks": ""
           },
           "bgcolor": "#E5ECF6",
           "caxis": {
            "gridcolor": "white",
            "linecolor": "white",
            "ticks": ""
           }
          },
          "title": {
           "x": 0.05
          },
          "xaxis": {
           "automargin": true,
           "gridcolor": "white",
           "linecolor": "white",
           "ticks": "",
           "title": {
            "standoff": 15
           },
           "zerolinecolor": "white",
           "zerolinewidth": 2
          },
          "yaxis": {
           "automargin": true,
           "gridcolor": "white",
           "linecolor": "white",
           "ticks": "",
           "title": {
            "standoff": 15
           },
           "zerolinecolor": "white",
           "zerolinewidth": 2
          }
         }
        },
        "title": {
         "text": "Democracy vs. Environmental Protection: party positions (manifesto, mean, final)"
        },
        "xaxis": {
         "anchor": "y",
         "domain": [
          0,
          1
         ],
         "title": {
          "text": "Democracy (scaled)"
         }
        },
        "yaxis": {
         "anchor": "x",
         "domain": [
          0,
          1
         ],
         "title": {
          "text": "Environmental Protection (scaled)"
         }
        }
       }
      }
     },
     "metadata": {},
     "output_type": "display_data"
    }
   ],
   "source": [
    "true_df = (party_scaled[['Party_Name', x_scaled, y_scaled]].rename(columns={x_scaled:'x', y_scaled:'y'}).assign(Type='Manifesto Party position'))\n",
    "\n",
    "mean_df = (party_scaled[['Party_Name', x_vmean, y_vmean]].rename(columns={x_vmean:'x', y_vmean:'y'}).assign(Type='Voter Mean position'))\n",
    "\n",
    "comb_df = (party_scaled[['Party_Name', x_comb, y_comb]].rename(columns={x_comb:'x', y_comb:'y'}).assign(Type='Final party position'))\n",
    "\n",
    "# Stack them\n",
    "plot_df = pd.concat([true_df, mean_df, comb_df], ignore_index=True)\n",
    "\n",
    "# Scatter\n",
    "fig = px.scatter(plot_df, x='x', y='y', color='Party_Name', symbol='Type',\n",
    "                 title=f'{x_var} vs. {y_var}: party positions (manifesto, mean, final)',\n",
    "                 labels={'x':f'{x_var} (scaled)', 'y':f'{y_var} (scaled)'})\n",
    "\n",
    "# 4) Tweak marker sizes\n",
    "fig.update_traces(\n",
    "    selector=dict(Type='Manifesto Party position'),\n",
    "    marker=dict(size=12, symbol='circle-open')\n",
    ")\n",
    "fig.update_traces(\n",
    "    selector=dict(Type='Voter Mean position'),\n",
    "    marker=dict(size=16, symbol='x', line=dict(width=3))\n",
    ")\n",
    "fig.update_traces(\n",
    "    selector=dict(Type='Final party position'),\n",
    "    marker=dict(size=12, symbol='diamond')\n",
    ")\n",
    "\n",
    "fig.show()"
   ]
  },
  {
   "cell_type": "code",
   "execution_count": 17,
   "id": "49db009b",
   "metadata": {},
   "outputs": [],
   "source": [
    "party_scaled_df = party_scaled[['Country', 'Date', 'Calendar_Week', 'Party_Name', f\"{x_var} Combined\", f\"{y_var} Combined\", \"Label\"]].rename(columns={\n",
    "    f'{x_var} Combined': f'{x_var} Scaled',\n",
    "    f'{y_var} Combined': f'{y_var} Scaled'})"
   ]
  },
  {
   "cell_type": "code",
   "execution_count": 18,
   "id": "1ca3d905",
   "metadata": {},
   "outputs": [
    {
     "data": {
      "application/vnd.plotly.v1+json": {
       "config": {
        "plotlyServerURL": "https://plot.ly"
       },
       "data": [
        {
         "hovertemplate": "Label=Voter<br>Democracy Scaled=%{x}<br>Environmental Protection Scaled=%{y}<extra></extra>",
         "legendgroup": "Voter",
         "marker": {
          "color": "#636efa",
          "size": 10,
          "symbol": "circle"
         },
         "mode": "markers",
         "name": "Voter",
         "showlegend": true,
         "type": "scattergl",
         "x": {
          "bdata": "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",
          "dtype": "f8"
         },
         "xaxis": "x",
         "y": {
          "bdata": "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",
          "dtype": "f8"
         },
         "yaxis": "y"
        },
        {
         "hovertemplate": "Label=90/Greens<br>Democracy Scaled=%{x}<br>Environmental Protection Scaled=%{y}<extra></extra>",
         "legendgroup": "90/Greens",
         "marker": {
          "color": "#EF553B",
          "size": 10,
          "symbol": "diamond"
         },
         "mode": "markers",
         "name": "90/Greens",
         "showlegend": true,
         "type": "scattergl",
         "x": {
          "bdata": "KJIs55Dkpb8=",
          "dtype": "f8"
         },
         "xaxis": "x",
         "y": {
          "bdata": "N5dLK9NN278=",
          "dtype": "f8"
         },
         "yaxis": "y"
        },
        {
         "hovertemplate": "Label=LINKE<br>Democracy Scaled=%{x}<br>Environmental Protection Scaled=%{y}<extra></extra>",
         "legendgroup": "LINKE",
         "marker": {
          "color": "#00cc96",
          "size": 10,
          "symbol": "square"
         },
         "mode": "markers",
         "name": "LINKE",
         "showlegend": true,
         "type": "scattergl",
         "x": {
          "bdata": "MNqH1cFu2j8=",
          "dtype": "f8"
         },
         "xaxis": "x",
         "y": {
          "bdata": "gWyj30N92b8=",
          "dtype": "f8"
         },
         "yaxis": "y"
        },
        {
         "hovertemplate": "Label=SPD<br>Democracy Scaled=%{x}<br>Environmental Protection Scaled=%{y}<extra></extra>",
         "legendgroup": "SPD",
         "marker": {
          "color": "#ab63fa",
          "size": 10,
          "symbol": "x"
         },
         "mode": "markers",
         "name": "SPD",
         "showlegend": true,
         "type": "scattergl",
         "x": {
          "bdata": "tYATZF6p0L8=",
          "dtype": "f8"
         },
         "xaxis": "x",
         "y": {
          "bdata": "UHhopM1D0b8=",
          "dtype": "f8"
         },
         "yaxis": "y"
        },
        {
         "hovertemplate": "Label=FDP<br>Democracy Scaled=%{x}<br>Environmental Protection Scaled=%{y}<extra></extra>",
         "legendgroup": "FDP",
         "marker": {
          "color": "#FFA15A",
          "size": 10,
          "symbol": "cross"
         },
         "mode": "markers",
         "name": "FDP",
         "showlegend": true,
         "type": "scattergl",
         "x": {
          "bdata": "x8rMAxwRtD8=",
          "dtype": "f8"
         },
         "xaxis": "x",
         "y": {
          "bdata": "AsZEvyoOyT8=",
          "dtype": "f8"
         },
         "yaxis": "y"
        },
        {
         "hovertemplate": "Label=CDU/CSU<br>Democracy Scaled=%{x}<br>Environmental Protection Scaled=%{y}<extra></extra>",
         "legendgroup": "CDU/CSU",
         "marker": {
          "color": "#19d3f3",
          "size": 10,
          "symbol": "circle"
         },
         "mode": "markers",
         "name": "CDU/CSU",
         "showlegend": true,
         "type": "scattergl",
         "x": {
          "bdata": "nbgVoTmO4r8=",
          "dtype": "f8"
         },
         "xaxis": "x",
         "y": {
          "bdata": "c8LgQiiRwz8=",
          "dtype": "f8"
         },
         "yaxis": "y"
        },
        {
         "hovertemplate": "Label=AfD<br>Democracy Scaled=%{x}<br>Environmental Protection Scaled=%{y}<extra></extra>",
         "legendgroup": "AfD",
         "marker": {
          "color": "#FF6692",
          "size": 10,
          "symbol": "diamond"
         },
         "mode": "markers",
         "name": "AfD",
         "showlegend": true,
         "type": "scattergl",
         "x": {
          "bdata": "WKAZTrwQ5z8=",
          "dtype": "f8"
         },
         "xaxis": "x",
         "y": {
          "bdata": "zIkpGoTF2j8=",
          "dtype": "f8"
         },
         "yaxis": "y"
        }
       ],
       "layout": {
        "legend": {
         "title": {
          "text": "Label"
         },
         "tracegroupgap": 0
        },
        "margin": {
         "t": 60
        },
        "template": {
         "data": {
          "bar": [
           {
            "error_x": {
             "color": "#2a3f5f"
            },
            "error_y": {
             "color": "#2a3f5f"
            },
            "marker": {
             "line": {
              "color": "#E5ECF6",
              "width": 0.5
             },
             "pattern": {
              "fillmode": "overlay",
              "size": 10,
              "solidity": 0.2
             }
            },
            "type": "bar"
           }
          ],
          "barpolar": [
           {
            "marker": {
             "line": {
              "color": "#E5ECF6",
              "width": 0.5
             },
             "pattern": {
              "fillmode": "overlay",
              "size": 10,
              "solidity": 0.2
             }
            },
            "type": "barpolar"
           }
          ],
          "carpet": [
           {
            "aaxis": {
             "endlinecolor": "#2a3f5f",
             "gridcolor": "white",
             "linecolor": "white",
             "minorgridcolor": "white",
             "startlinecolor": "#2a3f5f"
            },
            "baxis": {
             "endlinecolor": "#2a3f5f",
             "gridcolor": "white",
             "linecolor": "white",
             "minorgridcolor": "white",
             "startlinecolor": "#2a3f5f"
            },
            "type": "carpet"
           }
          ],
          "choropleth": [
           {
            "colorbar": {
             "outlinewidth": 0,
             "ticks": ""
            },
            "type": "choropleth"
           }
          ],
          "contour": [
           {
            "colorbar": {
             "outlinewidth": 0,
             "ticks": ""
            },
            "colorscale": [
             [
              0,
              "#0d0887"
             ],
             [
              0.1111111111111111,
              "#46039f"
             ],
             [
              0.2222222222222222,
              "#7201a8"
             ],
             [
              0.3333333333333333,
              "#9c179e"
             ],
             [
              0.4444444444444444,
              "#bd3786"
             ],
             [
              0.5555555555555556,
              "#d8576b"
             ],
             [
              0.6666666666666666,
              "#ed7953"
             ],
             [
              0.7777777777777778,
              "#fb9f3a"
             ],
             [
              0.8888888888888888,
              "#fdca26"
             ],
             [
              1,
              "#f0f921"
             ]
            ],
            "type": "contour"
           }
          ],
          "contourcarpet": [
           {
            "colorbar": {
             "outlinewidth": 0,
             "ticks": ""
            },
            "type": "contourcarpet"
           }
          ],
          "heatmap": [
           {
            "colorbar": {
             "outlinewidth": 0,
             "ticks": ""
            },
            "colorscale": [
             [
              0,
              "#0d0887"
             ],
             [
              0.1111111111111111,
              "#46039f"
             ],
             [
              0.2222222222222222,
              "#7201a8"
             ],
             [
              0.3333333333333333,
              "#9c179e"
             ],
             [
              0.4444444444444444,
              "#bd3786"
             ],
             [
              0.5555555555555556,
              "#d8576b"
             ],
             [
              0.6666666666666666,
              "#ed7953"
             ],
             [
              0.7777777777777778,
              "#fb9f3a"
             ],
             [
              0.8888888888888888,
              "#fdca26"
             ],
             [
              1,
              "#f0f921"
             ]
            ],
            "type": "heatmap"
           }
          ],
          "histogram": [
           {
            "marker": {
             "pattern": {
              "fillmode": "overlay",
              "size": 10,
              "solidity": 0.2
             }
            },
            "type": "histogram"
           }
          ],
          "histogram2d": [
           {
            "colorbar": {
             "outlinewidth": 0,
             "ticks": ""
            },
            "colorscale": [
             [
              0,
              "#0d0887"
             ],
             [
              0.1111111111111111,
              "#46039f"
             ],
             [
              0.2222222222222222,
              "#7201a8"
             ],
             [
              0.3333333333333333,
              "#9c179e"
             ],
             [
              0.4444444444444444,
              "#bd3786"
             ],
             [
              0.5555555555555556,
              "#d8576b"
             ],
             [
              0.6666666666666666,
              "#ed7953"
             ],
             [
              0.7777777777777778,
              "#fb9f3a"
             ],
             [
              0.8888888888888888,
              "#fdca26"
             ],
             [
              1,
              "#f0f921"
             ]
            ],
            "type": "histogram2d"
           }
          ],
          "histogram2dcontour": [
           {
            "colorbar": {
             "outlinewidth": 0,
             "ticks": ""
            },
            "colorscale": [
             [
              0,
              "#0d0887"
             ],
             [
              0.1111111111111111,
              "#46039f"
             ],
             [
              0.2222222222222222,
              "#7201a8"
             ],
             [
              0.3333333333333333,
              "#9c179e"
             ],
             [
              0.4444444444444444,
              "#bd3786"
             ],
             [
              0.5555555555555556,
              "#d8576b"
             ],
             [
              0.6666666666666666,
              "#ed7953"
             ],
             [
              0.7777777777777778,
              "#fb9f3a"
             ],
             [
              0.8888888888888888,
              "#fdca26"
             ],
             [
              1,
              "#f0f921"
             ]
            ],
            "type": "histogram2dcontour"
           }
          ],
          "mesh3d": [
           {
            "colorbar": {
             "outlinewidth": 0,
             "ticks": ""
            },
            "type": "mesh3d"
           }
          ],
          "parcoords": [
           {
            "line": {
             "colorbar": {
              "outlinewidth": 0,
              "ticks": ""
             }
            },
            "type": "parcoords"
           }
          ],
          "pie": [
           {
            "automargin": true,
            "type": "pie"
           }
          ],
          "scatter": [
           {
            "fillpattern": {
             "fillmode": "overlay",
             "size": 10,
             "solidity": 0.2
            },
            "type": "scatter"
           }
          ],
          "scatter3d": [
           {
            "line": {
             "colorbar": {
              "outlinewidth": 0,
              "ticks": ""
             }
            },
            "marker": {
             "colorbar": {
              "outlinewidth": 0,
              "ticks": ""
             }
            },
            "type": "scatter3d"
           }
          ],
          "scattercarpet": [
           {
            "marker": {
             "colorbar": {
              "outlinewidth": 0,
              "ticks": ""
             }
            },
            "type": "scattercarpet"
           }
          ],
          "scattergeo": [
           {
            "marker": {
             "colorbar": {
              "outlinewidth": 0,
              "ticks": ""
             }
            },
            "type": "scattergeo"
           }
          ],
          "scattergl": [
           {
            "marker": {
             "colorbar": {
              "outlinewidth": 0,
              "ticks": ""
             }
            },
            "type": "scattergl"
           }
          ],
          "scattermap": [
           {
            "marker": {
             "colorbar": {
              "outlinewidth": 0,
              "ticks": ""
             }
            },
            "type": "scattermap"
           }
          ],
          "scattermapbox": [
           {
            "marker": {
             "colorbar": {
              "outlinewidth": 0,
              "ticks": ""
             }
            },
            "type": "scattermapbox"
           }
          ],
          "scatterpolar": [
           {
            "marker": {
             "colorbar": {
              "outlinewidth": 0,
              "ticks": ""
             }
            },
            "type": "scatterpolar"
           }
          ],
          "scatterpolargl": [
           {
            "marker": {
             "colorbar": {
              "outlinewidth": 0,
              "ticks": ""
             }
            },
            "type": "scatterpolargl"
           }
          ],
          "scatterternary": [
           {
            "marker": {
             "colorbar": {
              "outlinewidth": 0,
              "ticks": ""
             }
            },
            "type": "scatterternary"
           }
          ],
          "surface": [
           {
            "colorbar": {
             "outlinewidth": 0,
             "ticks": ""
            },
            "colorscale": [
             [
              0,
              "#0d0887"
             ],
             [
              0.1111111111111111,
              "#46039f"
             ],
             [
              0.2222222222222222,
              "#7201a8"
             ],
             [
              0.3333333333333333,
              "#9c179e"
             ],
             [
              0.4444444444444444,
              "#bd3786"
             ],
             [
              0.5555555555555556,
              "#d8576b"
             ],
             [
              0.6666666666666666,
              "#ed7953"
             ],
             [
              0.7777777777777778,
              "#fb9f3a"
             ],
             [
              0.8888888888888888,
              "#fdca26"
             ],
             [
              1,
              "#f0f921"
             ]
            ],
            "type": "surface"
           }
          ],
          "table": [
           {
            "cells": {
             "fill": {
              "color": "#EBF0F8"
             },
             "line": {
              "color": "white"
             }
            },
            "header": {
             "fill": {
              "color": "#C8D4E3"
             },
             "line": {
              "color": "white"
             }
            },
            "type": "table"
           }
          ]
         },
         "layout": {
          "annotationdefaults": {
           "arrowcolor": "#2a3f5f",
           "arrowhead": 0,
           "arrowwidth": 1
          },
          "autotypenumbers": "strict",
          "coloraxis": {
           "colorbar": {
            "outlinewidth": 0,
            "ticks": ""
           }
          },
          "colorscale": {
           "diverging": [
            [
             0,
             "#8e0152"
            ],
            [
             0.1,
             "#c51b7d"
            ],
            [
             0.2,
             "#de77ae"
            ],
            [
             0.3,
             "#f1b6da"
            ],
            [
             0.4,
             "#fde0ef"
            ],
            [
             0.5,
             "#f7f7f7"
            ],
            [
             0.6,
             "#e6f5d0"
            ],
            [
             0.7,
             "#b8e186"
            ],
            [
             0.8,
             "#7fbc41"
            ],
            [
             0.9,
             "#4d9221"
            ],
            [
             1,
             "#276419"
            ]
           ],
           "sequential": [
            [
             0,
             "#0d0887"
            ],
            [
             0.1111111111111111,
             "#46039f"
            ],
            [
             0.2222222222222222,
             "#7201a8"
            ],
            [
             0.3333333333333333,
             "#9c179e"
            ],
            [
             0.4444444444444444,
             "#bd3786"
            ],
            [
             0.5555555555555556,
             "#d8576b"
            ],
            [
             0.6666666666666666,
             "#ed7953"
            ],
            [
             0.7777777777777778,
             "#fb9f3a"
            ],
            [
             0.8888888888888888,
             "#fdca26"
            ],
            [
             1,
             "#f0f921"
            ]
           ],
           "sequentialminus": [
            [
             0,
             "#0d0887"
            ],
            [
             0.1111111111111111,
             "#46039f"
            ],
            [
             0.2222222222222222,
             "#7201a8"
            ],
            [
             0.3333333333333333,
             "#9c179e"
            ],
            [
             0.4444444444444444,
             "#bd3786"
            ],
            [
             0.5555555555555556,
             "#d8576b"
            ],
            [
             0.6666666666666666,
             "#ed7953"
            ],
            [
             0.7777777777777778,
             "#fb9f3a"
            ],
            [
             0.8888888888888888,
             "#fdca26"
            ],
            [
             1,
             "#f0f921"
            ]
           ]
          },
          "colorway": [
           "#636efa",
           "#EF553B",
           "#00cc96",
           "#ab63fa",
           "#FFA15A",
           "#19d3f3",
           "#FF6692",
           "#B6E880",
           "#FF97FF",
           "#FECB52"
          ],
          "font": {
           "color": "#2a3f5f"
          },
          "geo": {
           "bgcolor": "white",
           "lakecolor": "white",
           "landcolor": "#E5ECF6",
           "showlakes": true,
           "showland": true,
           "subunitcolor": "white"
          },
          "hoverlabel": {
           "align": "left"
          },
          "hovermode": "closest",
          "mapbox": {
           "style": "light"
          },
          "paper_bgcolor": "white",
          "plot_bgcolor": "#E5ECF6",
          "polar": {
           "angularaxis": {
            "gridcolor": "white",
            "linecolor": "white",
            "ticks": ""
           },
           "bgcolor": "#E5ECF6",
           "radialaxis": {
            "gridcolor": "white",
            "linecolor": "white",
            "ticks": ""
           }
          },
          "scene": {
           "xaxis": {
            "backgroundcolor": "#E5ECF6",
            "gridcolor": "white",
            "gridwidth": 2,
            "linecolor": "white",
            "showbackground": true,
            "ticks": "",
            "zerolinecolor": "white"
           },
           "yaxis": {
            "backgroundcolor": "#E5ECF6",
            "gridcolor": "white",
            "gridwidth": 2,
            "linecolor": "white",
            "showbackground": true,
            "ticks": "",
            "zerolinecolor": "white"
           },
           "zaxis": {
            "backgroundcolor": "#E5ECF6",
            "gridcolor": "white",
            "gridwidth": 2,
            "linecolor": "white",
            "showbackground": true,
            "ticks": "",
            "zerolinecolor": "white"
           }
          },
          "shapedefaults": {
           "line": {
            "color": "#2a3f5f"
           }
          },
          "ternary": {
           "aaxis": {
            "gridcolor": "white",
            "linecolor": "white",
            "ticks": ""
           },
           "baxis": {
            "gridcolor": "white",
            "linecolor": "white",
            "ticks": ""
           },
           "bgcolor": "#E5ECF6",
           "caxis": {
            "gridcolor": "white",
            "linecolor": "white",
            "ticks": ""
           }
          },
          "title": {
           "x": 0.05
          },
          "xaxis": {
           "automargin": true,
           "gridcolor": "white",
           "linecolor": "white",
           "ticks": "",
           "title": {
            "standoff": 15
           },
           "zerolinecolor": "white",
           "zerolinewidth": 2
          },
          "yaxis": {
           "automargin": true,
           "gridcolor": "white",
           "linecolor": "white",
           "ticks": "",
           "title": {
            "standoff": 15
           },
           "zerolinecolor": "white",
           "zerolinewidth": 2
          }
         }
        },
        "title": {
         "text": "Scaled Voter and Party Positions"
        },
        "xaxis": {
         "anchor": "y",
         "domain": [
          0,
          1
         ],
         "title": {
          "text": "Democracy Scaled"
         }
        },
        "yaxis": {
         "anchor": "x",
         "domain": [
          0,
          1
         ],
         "title": {
          "text": "Environmental Protection Scaled"
         }
        }
       }
      }
     },
     "metadata": {},
     "output_type": "display_data"
    }
   ],
   "source": [
    "concatenated_df = pd.concat([voter_scaled, party_scaled_df], ignore_index=True)\n",
    "\n",
    "fig = px.scatter(\n",
    "    concatenated_df,\n",
    "    x=x_scaled,\n",
    "    y=y_scaled,\n",
    "    color='Label',\n",
    "    symbol='Label')\n",
    "fig.update_traces(marker=dict(size=10))\n",
    "fig.update_layout(title='Scaled Voter and Party Positions')\n",
    "fig.show()"
   ]
  },
  {
   "cell_type": "code",
   "execution_count": 19,
   "id": "3ee87e85",
   "metadata": {},
   "outputs": [],
   "source": [
    "party_centered, voter_centered = dp.center_party_voter_data(voter_df=voter_scaled, party_df=party_scaled_df, x_var=x_var, y_var=y_var)"
   ]
  },
  {
   "cell_type": "code",
   "execution_count": 20,
   "id": "fedd2d5c",
   "metadata": {},
   "outputs": [
    {
     "data": {
      "application/vnd.plotly.v1+json": {
       "config": {
        "plotlyServerURL": "https://plot.ly"
       },
       "data": [
        {
         "hovertemplate": "Label=Voter<br>Democracy Centered=%{x}<br>Environmental Protection Centered=%{y}<extra></extra>",
         "legendgroup": "Voter",
         "marker": {
          "color": "#636efa",
          "size": 10,
          "symbol": "circle"
         },
         "mode": "markers",
         "name": "Voter",
         "showlegend": true,
         "type": "scattergl",
         "x": {
          "bdata": "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",
          "dtype": "f8"
         },
         "xaxis": "x",
         "y": {
          "bdata": "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",
          "dtype": "f8"
         },
         "yaxis": "y"
        },
        {
         "hovertemplate": "Label=90/Greens<br>Democracy Centered=%{x}<br>Environmental Protection Centered=%{y}<extra></extra>",
         "legendgroup": "90/Greens",
         "marker": {
          "color": "#EF553B",
          "size": 10,
          "symbol": "diamond"
         },
         "mode": "markers",
         "name": "90/Greens",
         "showlegend": true,
         "type": "scattergl",
         "x": {
          "bdata": "F5Is55Dkpb8=",
          "dtype": "f8"
         },
         "xaxis": "x",
         "y": {
          "bdata": "OZdLK9NN278=",
          "dtype": "f8"
         },
         "yaxis": "y"
        },
        {
         "hovertemplate": "Label=LINKE<br>Democracy Centered=%{x}<br>Environmental Protection Centered=%{y}<extra></extra>",
         "legendgroup": "LINKE",
         "marker": {
          "color": "#00cc96",
          "size": 10,
          "symbol": "square"
         },
         "mode": "markers",
         "name": "LINKE",
         "showlegend": true,
         "type": "scattergl",
         "x": {
          "bdata": "MtqH1cFu2j8=",
          "dtype": "f8"
         },
         "xaxis": "x",
         "y": {
          "bdata": "g2yj30N92b8=",
          "dtype": "f8"
         },
         "yaxis": "y"
        },
        {
         "hovertemplate": "Label=SPD<br>Democracy Centered=%{x}<br>Environmental Protection Centered=%{y}<extra></extra>",
         "legendgroup": "SPD",
         "marker": {
          "color": "#ab63fa",
          "size": 10,
          "symbol": "x"
         },
         "mode": "markers",
         "name": "SPD",
         "showlegend": true,
         "type": "scattergl",
         "x": {
          "bdata": "s4ATZF6p0L8=",
          "dtype": "f8"
         },
         "xaxis": "x",
         "y": {
          "bdata": "UnhopM1D0b8=",
          "dtype": "f8"
         },
         "yaxis": "y"
        },
        {
         "hovertemplate": "Label=FDP<br>Democracy Centered=%{x}<br>Environmental Protection Centered=%{y}<extra></extra>",
         "legendgroup": "FDP",
         "marker": {
          "color": "#FFA15A",
          "size": 10,
          "symbol": "cross"
         },
         "mode": "markers",
         "name": "FDP",
         "showlegend": true,
         "type": "scattergl",
         "x": {
          "bdata": "z8rMAxwRtD8=",
          "dtype": "f8"
         },
         "xaxis": "x",
         "y": {
          "bdata": "/sVEvyoOyT8=",
          "dtype": "f8"
         },
         "yaxis": "y"
        },
        {
         "hovertemplate": "Label=CDU/CSU<br>Democracy Centered=%{x}<br>Environmental Protection Centered=%{y}<extra></extra>",
         "legendgroup": "CDU/CSU",
         "marker": {
          "color": "#19d3f3",
          "size": 10,
          "symbol": "circle"
         },
         "mode": "markers",
         "name": "CDU/CSU",
         "showlegend": true,
         "type": "scattergl",
         "x": {
          "bdata": "nLgVoTmO4r8=",
          "dtype": "f8"
         },
         "xaxis": "x",
         "y": {
          "bdata": "b8LgQiiRwz8=",
          "dtype": "f8"
         },
         "yaxis": "y"
        },
        {
         "hovertemplate": "Label=AfD<br>Democracy Centered=%{x}<br>Environmental Protection Centered=%{y}<extra></extra>",
         "legendgroup": "AfD",
         "marker": {
          "color": "#FF6692",
          "size": 10,
          "symbol": "diamond"
         },
         "mode": "markers",
         "name": "AfD",
         "showlegend": true,
         "type": "scattergl",
         "x": {
          "bdata": "WaAZTrwQ5z8=",
          "dtype": "f8"
         },
         "xaxis": "x",
         "y": {
          "bdata": "yokpGoTF2j8=",
          "dtype": "f8"
         },
         "yaxis": "y"
        }
       ],
       "layout": {
        "legend": {
         "title": {
          "text": "Label"
         },
         "tracegroupgap": 0
        },
        "margin": {
         "t": 60
        },
        "template": {
         "data": {
          "bar": [
           {
            "error_x": {
             "color": "#2a3f5f"
            },
            "error_y": {
             "color": "#2a3f5f"
            },
            "marker": {
             "line": {
              "color": "#E5ECF6",
              "width": 0.5
             },
             "pattern": {
              "fillmode": "overlay",
              "size": 10,
              "solidity": 0.2
             }
            },
            "type": "bar"
           }
          ],
          "barpolar": [
           {
            "marker": {
             "line": {
              "color": "#E5ECF6",
              "width": 0.5
             },
             "pattern": {
              "fillmode": "overlay",
              "size": 10,
              "solidity": 0.2
             }
            },
            "type": "barpolar"
           }
          ],
          "carpet": [
           {
            "aaxis": {
             "endlinecolor": "#2a3f5f",
             "gridcolor": "white",
             "linecolor": "white",
             "minorgridcolor": "white",
             "startlinecolor": "#2a3f5f"
            },
            "baxis": {
             "endlinecolor": "#2a3f5f",
             "gridcolor": "white",
             "linecolor": "white",
             "minorgridcolor": "white",
             "startlinecolor": "#2a3f5f"
            },
            "type": "carpet"
           }
          ],
          "choropleth": [
           {
            "colorbar": {
             "outlinewidth": 0,
             "ticks": ""
            },
            "type": "choropleth"
           }
          ],
          "contour": [
           {
            "colorbar": {
             "outlinewidth": 0,
             "ticks": ""
            },
            "colorscale": [
             [
              0,
              "#0d0887"
             ],
             [
              0.1111111111111111,
              "#46039f"
             ],
             [
              0.2222222222222222,
              "#7201a8"
             ],
             [
              0.3333333333333333,
              "#9c179e"
             ],
             [
              0.4444444444444444,
              "#bd3786"
             ],
             [
              0.5555555555555556,
              "#d8576b"
             ],
             [
              0.6666666666666666,
              "#ed7953"
             ],
             [
              0.7777777777777778,
              "#fb9f3a"
             ],
             [
              0.8888888888888888,
              "#fdca26"
             ],
             [
              1,
              "#f0f921"
             ]
            ],
            "type": "contour"
           }
          ],
          "contourcarpet": [
           {
            "colorbar": {
             "outlinewidth": 0,
             "ticks": ""
            },
            "type": "contourcarpet"
           }
          ],
          "heatmap": [
           {
            "colorbar": {
             "outlinewidth": 0,
             "ticks": ""
            },
            "colorscale": [
             [
              0,
              "#0d0887"
             ],
             [
              0.1111111111111111,
              "#46039f"
             ],
             [
              0.2222222222222222,
              "#7201a8"
             ],
             [
              0.3333333333333333,
              "#9c179e"
             ],
             [
              0.4444444444444444,
              "#bd3786"
             ],
             [
              0.5555555555555556,
              "#d8576b"
             ],
             [
              0.6666666666666666,
              "#ed7953"
             ],
             [
              0.7777777777777778,
              "#fb9f3a"
             ],
             [
              0.8888888888888888,
              "#fdca26"
             ],
             [
              1,
              "#f0f921"
             ]
            ],
            "type": "heatmap"
           }
          ],
          "histogram": [
           {
            "marker": {
             "pattern": {
              "fillmode": "overlay",
              "size": 10,
              "solidity": 0.2
             }
            },
            "type": "histogram"
           }
          ],
          "histogram2d": [
           {
            "colorbar": {
             "outlinewidth": 0,
             "ticks": ""
            },
            "colorscale": [
             [
              0,
              "#0d0887"
             ],
             [
              0.1111111111111111,
              "#46039f"
             ],
             [
              0.2222222222222222,
              "#7201a8"
             ],
             [
              0.3333333333333333,
              "#9c179e"
             ],
             [
              0.4444444444444444,
              "#bd3786"
             ],
             [
              0.5555555555555556,
              "#d8576b"
             ],
             [
              0.6666666666666666,
              "#ed7953"
             ],
             [
              0.7777777777777778,
              "#fb9f3a"
             ],
             [
              0.8888888888888888,
              "#fdca26"
             ],
             [
              1,
              "#f0f921"
             ]
            ],
            "type": "histogram2d"
           }
          ],
          "histogram2dcontour": [
           {
            "colorbar": {
             "outlinewidth": 0,
             "ticks": ""
            },
            "colorscale": [
             [
              0,
              "#0d0887"
             ],
             [
              0.1111111111111111,
              "#46039f"
             ],
             [
              0.2222222222222222,
              "#7201a8"
             ],
             [
              0.3333333333333333,
              "#9c179e"
             ],
             [
              0.4444444444444444,
              "#bd3786"
             ],
             [
              0.5555555555555556,
              "#d8576b"
             ],
             [
              0.6666666666666666,
              "#ed7953"
             ],
             [
              0.7777777777777778,
              "#fb9f3a"
             ],
             [
              0.8888888888888888,
              "#fdca26"
             ],
             [
              1,
              "#f0f921"
             ]
            ],
            "type": "histogram2dcontour"
           }
          ],
          "mesh3d": [
           {
            "colorbar": {
             "outlinewidth": 0,
             "ticks": ""
            },
            "type": "mesh3d"
           }
          ],
          "parcoords": [
           {
            "line": {
             "colorbar": {
              "outlinewidth": 0,
              "ticks": ""
             }
            },
            "type": "parcoords"
           }
          ],
          "pie": [
           {
            "automargin": true,
            "type": "pie"
           }
          ],
          "scatter": [
           {
            "fillpattern": {
             "fillmode": "overlay",
             "size": 10,
             "solidity": 0.2
            },
            "type": "scatter"
           }
          ],
          "scatter3d": [
           {
            "line": {
             "colorbar": {
              "outlinewidth": 0,
              "ticks": ""
             }
            },
            "marker": {
             "colorbar": {
              "outlinewidth": 0,
              "ticks": ""
             }
            },
            "type": "scatter3d"
           }
          ],
          "scattercarpet": [
           {
            "marker": {
             "colorbar": {
              "outlinewidth": 0,
              "ticks": ""
             }
            },
            "type": "scattercarpet"
           }
          ],
          "scattergeo": [
           {
            "marker": {
             "colorbar": {
              "outlinewidth": 0,
              "ticks": ""
             }
            },
            "type": "scattergeo"
           }
          ],
          "scattergl": [
           {
            "marker": {
             "colorbar": {
              "outlinewidth": 0,
              "ticks": ""
             }
            },
            "type": "scattergl"
           }
          ],
          "scattermap": [
           {
            "marker": {
             "colorbar": {
              "outlinewidth": 0,
              "ticks": ""
             }
            },
            "type": "scattermap"
           }
          ],
          "scattermapbox": [
           {
            "marker": {
             "colorbar": {
              "outlinewidth": 0,
              "ticks": ""
             }
            },
            "type": "scattermapbox"
           }
          ],
          "scatterpolar": [
           {
            "marker": {
             "colorbar": {
              "outlinewidth": 0,
              "ticks": ""
             }
            },
            "type": "scatterpolar"
           }
          ],
          "scatterpolargl": [
           {
            "marker": {
             "colorbar": {
              "outlinewidth": 0,
              "ticks": ""
             }
            },
            "type": "scatterpolargl"
           }
          ],
          "scatterternary": [
           {
            "marker": {
             "colorbar": {
              "outlinewidth": 0,
              "ticks": ""
             }
            },
            "type": "scatterternary"
           }
          ],
          "surface": [
           {
            "colorbar": {
             "outlinewidth": 0,
             "ticks": ""
            },
            "colorscale": [
             [
              0,
              "#0d0887"
             ],
             [
              0.1111111111111111,
              "#46039f"
             ],
             [
              0.2222222222222222,
              "#7201a8"
             ],
             [
              0.3333333333333333,
              "#9c179e"
             ],
             [
              0.4444444444444444,
              "#bd3786"
             ],
             [
              0.5555555555555556,
              "#d8576b"
             ],
             [
              0.6666666666666666,
              "#ed7953"
             ],
             [
              0.7777777777777778,
              "#fb9f3a"
             ],
             [
              0.8888888888888888,
              "#fdca26"
             ],
             [
              1,
              "#f0f921"
             ]
            ],
            "type": "surface"
           }
          ],
          "table": [
           {
            "cells": {
             "fill": {
              "color": "#EBF0F8"
             },
             "line": {
              "color": "white"
             }
            },
            "header": {
             "fill": {
              "color": "#C8D4E3"
             },
             "line": {
              "color": "white"
             }
            },
            "type": "table"
           }
          ]
         },
         "layout": {
          "annotationdefaults": {
           "arrowcolor": "#2a3f5f",
           "arrowhead": 0,
           "arrowwidth": 1
          },
          "autotypenumbers": "strict",
          "coloraxis": {
           "colorbar": {
            "outlinewidth": 0,
            "ticks": ""
           }
          },
          "colorscale": {
           "diverging": [
            [
             0,
             "#8e0152"
            ],
            [
             0.1,
             "#c51b7d"
            ],
            [
             0.2,
             "#de77ae"
            ],
            [
             0.3,
             "#f1b6da"
            ],
            [
             0.4,
             "#fde0ef"
            ],
            [
             0.5,
             "#f7f7f7"
            ],
            [
             0.6,
             "#e6f5d0"
            ],
            [
             0.7,
             "#b8e186"
            ],
            [
             0.8,
             "#7fbc41"
            ],
            [
             0.9,
             "#4d9221"
            ],
            [
             1,
             "#276419"
            ]
           ],
           "sequential": [
            [
             0,
             "#0d0887"
            ],
            [
             0.1111111111111111,
             "#46039f"
            ],
            [
             0.2222222222222222,
             "#7201a8"
            ],
            [
             0.3333333333333333,
             "#9c179e"
            ],
            [
             0.4444444444444444,
             "#bd3786"
            ],
            [
             0.5555555555555556,
             "#d8576b"
            ],
            [
             0.6666666666666666,
             "#ed7953"
            ],
            [
             0.7777777777777778,
             "#fb9f3a"
            ],
            [
             0.8888888888888888,
             "#fdca26"
            ],
            [
             1,
             "#f0f921"
            ]
           ],
           "sequentialminus": [
            [
             0,
             "#0d0887"
            ],
            [
             0.1111111111111111,
             "#46039f"
            ],
            [
             0.2222222222222222,
             "#7201a8"
            ],
            [
             0.3333333333333333,
             "#9c179e"
            ],
            [
             0.4444444444444444,
             "#bd3786"
            ],
            [
             0.5555555555555556,
             "#d8576b"
            ],
            [
             0.6666666666666666,
             "#ed7953"
            ],
            [
             0.7777777777777778,
             "#fb9f3a"
            ],
            [
             0.8888888888888888,
             "#fdca26"
            ],
            [
             1,
             "#f0f921"
            ]
           ]
          },
          "colorway": [
           "#636efa",
           "#EF553B",
           "#00cc96",
           "#ab63fa",
           "#FFA15A",
           "#19d3f3",
           "#FF6692",
           "#B6E880",
           "#FF97FF",
           "#FECB52"
          ],
          "font": {
           "color": "#2a3f5f"
          },
          "geo": {
           "bgcolor": "white",
           "lakecolor": "white",
           "landcolor": "#E5ECF6",
           "showlakes": true,
           "showland": true,
           "subunitcolor": "white"
          },
          "hoverlabel": {
           "align": "left"
          },
          "hovermode": "closest",
          "mapbox": {
           "style": "light"
          },
          "paper_bgcolor": "white",
          "plot_bgcolor": "#E5ECF6",
          "polar": {
           "angularaxis": {
            "gridcolor": "white",
            "linecolor": "white",
            "ticks": ""
           },
           "bgcolor": "#E5ECF6",
           "radialaxis": {
            "gridcolor": "white",
            "linecolor": "white",
            "ticks": ""
           }
          },
          "scene": {
           "xaxis": {
            "backgroundcolor": "#E5ECF6",
            "gridcolor": "white",
            "gridwidth": 2,
            "linecolor": "white",
            "showbackground": true,
            "ticks": "",
            "zerolinecolor": "white"
           },
           "yaxis": {
            "backgroundcolor": "#E5ECF6",
            "gridcolor": "white",
            "gridwidth": 2,
            "linecolor": "white",
            "showbackground": true,
            "ticks": "",
            "zerolinecolor": "white"
           },
           "zaxis": {
            "backgroundcolor": "#E5ECF6",
            "gridcolor": "white",
            "gridwidth": 2,
            "linecolor": "white",
            "showbackground": true,
            "ticks": "",
            "zerolinecolor": "white"
           }
          },
          "shapedefaults": {
           "line": {
            "color": "#2a3f5f"
           }
          },
          "ternary": {
           "aaxis": {
            "gridcolor": "white",
            "linecolor": "white",
            "ticks": ""
           },
           "baxis": {
            "gridcolor": "white",
            "linecolor": "white",
            "ticks": ""
           },
           "bgcolor": "#E5ECF6",
           "caxis": {
            "gridcolor": "white",
            "linecolor": "white",
            "ticks": ""
           }
          },
          "title": {
           "x": 0.05
          },
          "xaxis": {
           "automargin": true,
           "gridcolor": "white",
           "linecolor": "white",
           "ticks": "",
           "title": {
            "standoff": 15
           },
           "zerolinecolor": "white",
           "zerolinewidth": 2
          },
          "yaxis": {
           "automargin": true,
           "gridcolor": "white",
           "linecolor": "white",
           "ticks": "",
           "title": {
            "standoff": 15
           },
           "zerolinecolor": "white",
           "zerolinewidth": 2
          }
         }
        },
        "title": {
         "text": "Centered and Rotated Voter and Party Positions"
        },
        "xaxis": {
         "anchor": "y",
         "domain": [
          0,
          1
         ],
         "title": {
          "text": "Democracy Centered"
         }
        },
        "yaxis": {
         "anchor": "x",
         "domain": [
          0,
          1
         ],
         "title": {
          "text": "Environmental Protection Centered"
         }
        }
       }
      }
     },
     "metadata": {},
     "output_type": "display_data"
    }
   ],
   "source": [
    "concatenated_df = pd.concat([voter_centered, party_centered], ignore_index=True)\n",
    "\n",
    "fig = px.scatter(\n",
    "    concatenated_df,\n",
    "    x=f\"{x_var} Centered\",\n",
    "    y=f\"{y_var} Centered\",\n",
    "    color='Label',\n",
    "    symbol='Label')\n",
    "fig.update_traces(marker=dict(size=10))\n",
    "fig.update_layout(title='Centered and Rotated Voter and Party Positions')\n",
    "fig.show()"
   ]
  },
  {
   "cell_type": "code",
   "execution_count": 21,
   "id": "87cd61f2",
   "metadata": {},
   "outputs": [
    {
     "data": {
      "image/png": "[encoded data removed]",
      "text/plain": [
       "<Figure size 1000x1000 with 1 Axes>"
      ]
     },
     "metadata": {},
     "output_type": "display_data"
    }
   ],
   "source": [
    "x_v = voter_scaled[x_scaled].values\n",
    "y_v = voter_scaled[y_scaled].values\n",
    "\n",
    "# Stack the data into a 2×N array and hand it to SciPy’s gaussian_kde\n",
    "xy = np.vstack([x_v, y_v])\n",
    "# In two-dimensional KDE, the data points are smoothed in both dimensions, resulting in a surface that represents the joint probability density of the two variables\n",
    "kde = gaussian_kde(xy, bw_method='scott')\n",
    "\n",
    "# You build a 200×200 grid over the observed data‐range, evaluate the estimation at each grid point, and reshape back into a 2-D array zi\n",
    "nbins = 200\n",
    "xi = np.linspace(x_v.min(), x_v.max(), nbins)\n",
    "yi = np.linspace(y_v.min(), y_v.max(), nbins)\n",
    "xi, yi = np.meshgrid(xi, yi)\n",
    "zi = kde(np.vstack([xi.ravel(), yi.ravel()])).reshape(xi.shape)\n",
    "\n",
    "# surface can be visualized using contour plots, where each contour line represents a region of constant density\n",
    "levels = np.percentile(zi, [50, 75, 95])\n",
    "\n",
    "plt.figure(figsize=(10, 10))\n",
    "# filled contours\n",
    "plt.contourf(xi, yi, zi,\n",
    "             levels=[levels[0], levels[1], levels[2], zi.max()],\n",
    "             cmap=\"Greys\",    # or any sequential colormap\n",
    "             alpha=0.5)\n",
    "# outline the contour levels\n",
    "plt.contour(xi, yi, zi, levels=levels, colors=\"k\", linewidths=1)\n",
    "\n",
    "# overlay the voter points \n",
    "plt.scatter(x_v, y_v, s=10, c=\"lightblue\", edgecolor=\"none\", alpha=0.6, label=\"Voter\")\n",
    "\n",
    "# overlay the party means\n",
    "px = party_scaled_df[x_scaled].values\n",
    "py = party_scaled_df[y_scaled].values\n",
    "labels = party_scaled_df[\"Party_Name\"].values\n",
    "\n",
    "plt.scatter(px, py, s=80, c=\"red\", edgecolor=\"white\", linewidth=1.5, label=\"Party\")\n",
    "for name, x, y in zip(labels, px, py):\n",
    "    plt.text(x, y, name, fontsize=9, fontweight=\"bold\",\n",
    "             ha=\"center\", va=\"center\", color=\"darkred\")\n",
    "\n",
    "plt.axhline(0, color=\"grey\", lw=0.8)\n",
    "plt.axvline(0, color=\"grey\", lw=0.8)\n",
    "plt.xlabel(x_scaled)\n",
    "plt.ylabel(y_scaled)\n",
    "plt.title(\"Voter Density & Party Positions\")\n",
    "plt.legend(loc=\"upper left\")\n",
    "plt.tight_layout()\n",
    "plt.show()"
   ]
  },
  {
   "cell_type": "code",
   "execution_count": 22,
   "id": "1e801e9a",
   "metadata": {},
   "outputs": [
    {
     "data": {
      "image/png": "[encoded data removed]",
      "text/plain": [
       "<Figure size 640x480 with 1 Axes>"
      ]
     },
     "metadata": {},
     "output_type": "display_data"
    }
   ],
   "source": [
    "# plot colors for each point according to which party he voted for\n",
    "def plot(voter, party, label: bool):\n",
    "    # get party and voter positions\n",
    "    x_voter = voter[f'{x_var} Centered']\n",
    "    y_voter = voter[f'{y_var} Centered']\n",
    "    x_party = party[f'{x_var} Centered']\n",
    "    y_party = party[f'{y_var} Centered']\n",
    "\n",
    "    # set a color for each person depending on which party he voted for\n",
    "    color = voter[\"party_choice\"].replace([0, 1, 2, 3, 4, 5], [\"green\", \"red\", \"black\", \"blue\", \"purple\", \"yellow\"])\n",
    "\n",
    "    plt.Figure()\n",
    "\n",
    "    plt.scatter(x_voter, y_voter, c=color, alpha=0.5)\n",
    "    plt.scatter(x_party, y_party)\n",
    "    plt.xlabel(x_var)\n",
    "    plt.ylabel(y_var)\n",
    "\n",
    "    # show the name of the parties\n",
    "    if \"Label\" in party and label:\n",
    "        label = party[\"Label\"]\n",
    "        for x, y, text in zip(x_party, y_party, label):\n",
    "            plt.text(x, y, text)\n",
    "\n",
    "plot(voter_centered, party_centered, False)"
   ]
  },
  {
   "cell_type": "code",
   "execution_count": null,
   "id": "d43a5674",
   "metadata": {},
   "outputs": [],
   "source": []
  }
 ],
 "metadata": {
  "kernelspec": {
   "display_name": ".venv",
   "language": "python",
   "name": "python3"
  },
  "language_info": {
   "codemirror_mode": {
    "name": "ipython",
    "version": 3
   },
   "file_extension": ".py",
   "mimetype": "text/x-python",
   "name": "python",
   "nbconvert_exporter": "python",
   "pygments_lexer": "ipython3",
   "version": "3.11.4"
  }
 },
 "nbformat": 4,
 "nbformat_minor": 5
}
