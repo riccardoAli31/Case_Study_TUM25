{
 "cells": [
  {
   "cell_type": "code",
   "execution_count": 2,
   "id": "709f2674",
   "metadata": {},
   "outputs": [],
   "source": [
    "import pandas as pd\n",
    "import numpy as np\n",
    "import plotly.express as px\n",
    "import matplotlib.pyplot as plt\n",
    "import seaborn as sns\n",
    "import plotly.graph_objects as go\n",
    "import os\n",
    "import sys\n",
    "\n",
    "project_root = os.path.abspath('../')  # adjust path as needed\n",
    "if project_root not in sys.path:\n",
    "    sys.path.insert(0, project_root)\n",
    "from data_preprocessing import data_preprocess as dp\n",
    "import pipeline_helper_functions.schofield_model_helper as sm"
   ]
  },
  {
   "cell_type": "markdown",
   "id": "8ecaf6a1",
   "metadata": {},
   "source": [
    "**1. PARTIES INITIAL POSITIONS**"
   ]
  },
  {
   "cell_type": "code",
   "execution_count": 3,
   "id": "e74a27a2",
   "metadata": {},
   "outputs": [],
   "source": [
    "x_var = \"Opposition to Immigration\"\n",
    "y_var = \"Welfare State\"\n",
    "years = [2009, 2013, 2017, 2021, 2024]"
   ]
  },
  {
   "cell_type": "code",
   "execution_count": 4,
   "id": "86b2ff84",
   "metadata": {},
   "outputs": [
    {
     "ename": "FileNotFoundError",
     "evalue": "CSV file not found at: data_folder/party_dataset.csv",
     "output_type": "error",
     "traceback": [
      "\u001b[31m---------------------------------------------------------------------------\u001b[39m",
      "\u001b[31mFileNotFoundError\u001b[39m                         Traceback (most recent call last)",
      "\u001b[36mCell\u001b[39m\u001b[36m \u001b[39m\u001b[32mIn[4]\u001b[39m\u001b[32m, line 4\u001b[39m\n\u001b[32m      1\u001b[39m dfs = []\n\u001b[32m      3\u001b[39m \u001b[38;5;28;01mfor\u001b[39;00m yr \u001b[38;5;129;01min\u001b[39;00m years:\n\u001b[32m----> \u001b[39m\u001b[32m4\u001b[39m     party_scaled, _ = \u001b[43mdp\u001b[49m\u001b[43m.\u001b[49m\u001b[43mget_scaled_party_voter_data\u001b[49m\u001b[43m(\u001b[49m\u001b[43mx_var\u001b[49m\u001b[43m=\u001b[49m\u001b[43mx_var\u001b[49m\u001b[43m,\u001b[49m\n\u001b[32m      5\u001b[39m \u001b[43m                                                     \u001b[49m\u001b[43my_var\u001b[49m\u001b[43m=\u001b[49m\u001b[43my_var\u001b[49m\u001b[43m,\u001b[49m\n\u001b[32m      6\u001b[39m \u001b[43m                                                     \u001b[49m\u001b[43myear\u001b[49m\u001b[43m=\u001b[49m\u001b[38;5;28;43mstr\u001b[39;49m\u001b[43m(\u001b[49m\u001b[43myr\u001b[49m\u001b[43m)\u001b[49m\u001b[43m)\u001b[49m\n\u001b[32m      7\u001b[39m     df = party_scaled[[\u001b[33m'\u001b[39m\u001b[33mParty_Name\u001b[39m\u001b[33m'\u001b[39m,\n\u001b[32m      8\u001b[39m                         \u001b[33mf\u001b[39m\u001b[33m\"\u001b[39m\u001b[38;5;132;01m{\u001b[39;00mx_var\u001b[38;5;132;01m}\u001b[39;00m\u001b[33m Combined\u001b[39m\u001b[33m\"\u001b[39m,\n\u001b[32m      9\u001b[39m                         \u001b[33mf\u001b[39m\u001b[33m\"\u001b[39m\u001b[38;5;132;01m{\u001b[39;00my_var\u001b[38;5;132;01m}\u001b[39;00m\u001b[33m Combined\u001b[39m\u001b[33m\"\u001b[39m ]].copy()\n\u001b[32m     10\u001b[39m     \u001b[38;5;66;03m# rename to something shorter\u001b[39;00m\n",
      "\u001b[36mFile \u001b[39m\u001b[32m~/Desktop/projects/studium/Case_Study_TUM25/data_preprocessing/data_preprocess.py:107\u001b[39m, in \u001b[36mget_scaled_party_voter_data\u001b[39m\u001b[34m(x_var, y_var, year)\u001b[39m\n\u001b[32m    105\u001b[39m \u001b[38;5;28;01mdef\u001b[39;00m\u001b[38;5;250m \u001b[39m\u001b[34mget_scaled_party_voter_data\u001b[39m(x_var: \u001b[38;5;28mstr\u001b[39m, y_var: \u001b[38;5;28mstr\u001b[39m, year: \u001b[38;5;28mstr\u001b[39m) -> \u001b[38;5;28mtuple\u001b[39m[pd.DataFrame, pd.DataFrame]:\n\u001b[32m--> \u001b[39m\u001b[32m107\u001b[39m     party_year_filtered, voter_agg = \u001b[43mget_raw_party_voter_data\u001b[49m\u001b[43m(\u001b[49m\n\u001b[32m    108\u001b[39m \u001b[43m        \u001b[49m\u001b[43mx_var\u001b[49m\u001b[43m=\u001b[49m\u001b[43mx_var\u001b[49m\u001b[43m,\u001b[49m\u001b[43m \u001b[49m\u001b[43my_var\u001b[49m\u001b[43m=\u001b[49m\u001b[43my_var\u001b[49m\u001b[43m,\u001b[49m\u001b[43m \u001b[49m\u001b[43myear\u001b[49m\u001b[43m=\u001b[49m\u001b[43myear\u001b[49m\u001b[43m)\u001b[49m\n\u001b[32m    110\u001b[39m     \u001b[38;5;66;03m# --- Standardize all clouds ---\u001b[39;00m\n\u001b[32m    111\u001b[39m     vot_pts = voter_agg[[x_var, y_var]].copy()\n",
      "\u001b[36mFile \u001b[39m\u001b[32m~/Desktop/projects/studium/Case_Study_TUM25/data_preprocessing/data_preprocess.py:13\u001b[39m, in \u001b[36mget_raw_party_voter_data\u001b[39m\u001b[34m(x_var, y_var, year, file_dir, country)\u001b[39m\n\u001b[32m     10\u001b[39m \u001b[38;5;28;01mdef\u001b[39;00m\u001b[38;5;250m \u001b[39m\u001b[34mget_raw_party_voter_data\u001b[39m(x_var: \u001b[38;5;28mstr\u001b[39m, y_var: \u001b[38;5;28mstr\u001b[39m, year: \u001b[38;5;28mstr\u001b[39m, file_dir: \u001b[38;5;28mstr\u001b[39m = \u001b[33m'\u001b[39m\u001b[33mdata_folder\u001b[39m\u001b[33m'\u001b[39m, country: \u001b[38;5;28mstr\u001b[39m = \u001b[33m'\u001b[39m\u001b[33mGermany\u001b[39m\u001b[33m'\u001b[39m) -> \u001b[38;5;28mtuple\u001b[39m[pd.DataFrame, pd.DataFrame]:\n\u001b[32m     11\u001b[39m     \u001b[38;5;66;03m# --- Load and filter party data ---\u001b[39;00m\n\u001b[32m     12\u001b[39m     requested_year = year\n\u001b[32m---> \u001b[39m\u001b[32m13\u001b[39m     party_df = \u001b[43mdl\u001b[49m\u001b[43m.\u001b[49m\u001b[43mget_party_positions_data\u001b[49m\u001b[43m(\u001b[49m\u001b[43mfile_dir\u001b[49m\u001b[43m=\u001b[49m\u001b[43mfile_dir\u001b[49m\u001b[43m,\u001b[49m\u001b[43m \u001b[49m\u001b[43mcountry\u001b[49m\u001b[43m=\u001b[49m\u001b[43mcountry\u001b[49m\u001b[43m)\u001b[49m\n\u001b[32m     14\u001b[39m     years_available = \u001b[38;5;28msorted\u001b[39m(party_df[\u001b[33m'\u001b[39m\u001b[33mYear\u001b[39m\u001b[33m'\u001b[39m].unique())\n\u001b[32m     15\u001b[39m     \u001b[38;5;28;01mif\u001b[39;00m year \u001b[38;5;129;01mnot\u001b[39;00m \u001b[38;5;129;01min\u001b[39;00m years_available:\n",
      "\u001b[36mFile \u001b[39m\u001b[32m~/Desktop/projects/studium/Case_Study_TUM25/data_preprocessing/data_loading.py:39\u001b[39m, in \u001b[36mget_party_positions_data\u001b[39m\u001b[34m(file_dir, country, file_name)\u001b[39m\n\u001b[32m     37\u001b[39m csv_path = os.path.join(file_dir, file_name)\n\u001b[32m     38\u001b[39m \u001b[38;5;28;01mif\u001b[39;00m \u001b[38;5;129;01mnot\u001b[39;00m os.path.isfile(csv_path):\n\u001b[32m---> \u001b[39m\u001b[32m39\u001b[39m     \u001b[38;5;28;01mraise\u001b[39;00m \u001b[38;5;167;01mFileNotFoundError\u001b[39;00m(\u001b[33mf\u001b[39m\u001b[33m\"\u001b[39m\u001b[33mCSV file not found at: \u001b[39m\u001b[38;5;132;01m{\u001b[39;00mcsv_path\u001b[38;5;132;01m}\u001b[39;00m\u001b[33m\"\u001b[39m)\n\u001b[32m     40\u001b[39m df = pd.read_csv(csv_path)\n\u001b[32m     41\u001b[39m \u001b[38;5;66;03m# Filter by country\u001b[39;00m\n",
      "\u001b[31mFileNotFoundError\u001b[39m: CSV file not found at: data_folder/party_dataset.csv"
     ]
    }
   ],
   "source": [
    "dfs = []\n",
    "\n",
    "for yr in years:\n",
    "    party_scaled, _ = dp.get_scaled_party_voter_data(x_var=x_var,\n",
    "                                                     y_var=y_var,\n",
    "                                                     year=str(yr))\n",
    "    df = party_scaled[['Party_Name',\n",
    "                        f\"{x_var} Combined\",\n",
    "                        f\"{y_var} Combined\" ]].copy()\n",
    "    # rename to something shorter\n",
    "    df = df.rename(columns={\n",
    "        f\"{x_var} Combined\": f\"{x_var} Scaled\",\n",
    "        f\"{y_var} Combined\": f\"{y_var} Scaled\"\n",
    "    })\n",
    "    df['Year'] = int(yr)   \n",
    "    dfs.append(df)\n",
    "\n",
    "party_all = pd.concat(dfs, ignore_index=True)\n",
    "party_all = party_all[party_all['Party_Name'] != 'SSW']\n",
    "party_all['Year'] = party_all['Year'].astype(int)\n",
    "\n",
    "parties = party_all['Party_Name'].unique()"
   ]
  },
  {
   "cell_type": "code",
   "execution_count": null,
   "id": "9b28b501",
   "metadata": {},
   "outputs": [
    {
     "data": {
      "application/vnd.plotly.v1+json": {
       "config": {
        "plotlyServerURL": "https://plot.ly"
       },
       "data": [
        {
         "line": {
          "color": "rgb(27,158,119)",
          "width": 2
         },
         "mode": "lines",
         "name": "90/Greens",
         "type": "scatter",
         "x": [
          -0.5397198935302415,
          -0.5721779103879191,
          -0.7335648460236357,
          -0.68295593439375,
          -0.8957405843360116
         ],
         "y": [
          0.3728154032594053,
          0.36005573267093094,
          0.4428382152002244,
          0.5244457171500942,
          0.463606107605669
         ]
        },
        {
         "marker": {
          "color": "rgb(27,158,119)",
          "size": 8
         },
         "mode": "markers",
         "showlegend": false,
         "type": "scatter",
         "x": [
          -0.5397198935302415,
          -0.5721779103879191,
          -0.7335648460236357,
          -0.68295593439375,
          -0.8957405843360116
         ],
         "y": [
          0.3728154032594053,
          0.36005573267093094,
          0.4428382152002244,
          0.5244457171500942,
          0.463606107605669
         ]
        },
        {
         "line": {
          "color": "rgb(217,95,2)",
          "width": 2
         },
         "mode": "lines",
         "name": "LINKE",
         "type": "scatter",
         "x": [
          -0.0422116579249239,
          0.0027371751656907386,
          -0.3491833099855795,
          -0.5805695761110999,
          -0.8905641875082104
         ],
         "y": [
          0.577734274146067,
          0.6107915584571544,
          0.8207108264058018,
          0.939536739002213,
          1.0057490044454187
         ]
        },
        {
         "marker": {
          "color": "rgb(217,95,2)",
          "size": 8
         },
         "mode": "markers",
         "showlegend": false,
         "type": "scatter",
         "x": [
          -0.0422116579249239,
          0.0027371751656907386,
          -0.3491833099855795,
          -0.5805695761110999,
          -0.8905641875082104
         ],
         "y": [
          0.577734274146067,
          0.6107915584571544,
          0.8207108264058018,
          0.939536739002213,
          1.0057490044454187
         ]
        },
        {
         "line": {
          "color": "rgb(117,112,179)",
          "width": 2
         },
         "mode": "lines",
         "name": "SPD",
         "type": "scatter",
         "x": [
          0.005913469293683949,
          0.018584635262896276,
          -0.19085617644909086,
          -0.051582743553765104,
          -0.45374740178473405
         ],
         "y": [
          0.18572770373722147,
          0.22463741479224436,
          0.19092589150590367,
          0.13847510707287664,
          0.4463284790939068
         ]
        },
        {
         "marker": {
          "color": "rgb(117,112,179)",
          "size": 8
         },
         "mode": "markers",
         "showlegend": false,
         "type": "scatter",
         "x": [
          0.005913469293683949,
          0.018584635262896276,
          -0.19085617644909086,
          -0.051582743553765104,
          -0.45374740178473405
         ],
         "y": [
          0.18572770373722147,
          0.22463741479224436,
          0.19092589150590367,
          0.13847510707287664,
          0.4463284790939068
         ]
        },
        {
         "line": {
          "color": "rgb(231,41,138)",
          "width": 2
         },
         "mode": "lines",
         "name": "FDP",
         "type": "scatter",
         "x": [
          0.1351749829223761,
          0.08345388110733382,
          -0.012820443820903249,
          0.11233588620310503,
          -0.028029276208752105
         ],
         "y": [
          -0.5877073148811257,
          -0.8553920081406456,
          -0.27317595396754235,
          -0.6085709842131847,
          -0.12348252030202103
         ]
        },
        {
         "marker": {
          "color": "rgb(231,41,138)",
          "size": 8
         },
         "mode": "markers",
         "showlegend": false,
         "type": "scatter",
         "x": [
          0.1351749829223761,
          0.08345388110733382,
          -0.012820443820903249,
          0.11233588620310503,
          -0.028029276208752105
         ],
         "y": [
          -0.5877073148811257,
          -0.8553920081406456,
          -0.27317595396754235,
          -0.6085709842131847,
          -0.12348252030202103
         ]
        },
        {
         "line": {
          "color": "rgb(102,166,30)",
          "width": 2
         },
         "mode": "lines",
         "name": "CDU/CSU",
         "type": "scatter",
         "x": [
          0.11156464909556339,
          0.05509838689331445,
          0.06417043264335189,
          0.1610640023163236,
          0.10413157815918152
         ],
         "y": [
          -0.472446459786048,
          -0.39534779329640723,
          -0.29377032041712625,
          -0.4590388039626554,
          -0.41791487039628894
         ]
        },
        {
         "marker": {
          "color": "rgb(102,166,30)",
          "size": 8
         },
         "mode": "markers",
         "showlegend": false,
         "type": "scatter",
         "x": [
          0.11156464909556339,
          0.05509838689331445,
          0.06417043264335189,
          0.1610640023163236,
          0.10413157815918152
         ],
         "y": [
          -0.472446459786048,
          -0.39534779329640723,
          -0.29377032041712625,
          -0.4590388039626554,
          -0.41791487039628894
         ]
        },
        {
         "line": {
          "color": "rgb(230,171,2)",
          "width": 2
         },
         "mode": "lines",
         "name": "AfD",
         "type": "scatter",
         "x": [
          0.3853599294247355,
          1.1747241847477463,
          1.4078124208129987,
          1.0985231416245096
         ],
         "y": [
          -0.33244594655813287,
          -0.5418726628459498,
          -0.8577650142582796,
          -0.7501040087328685
         ]
        },
        {
         "marker": {
          "color": "rgb(230,171,2)",
          "size": 8
         },
         "mode": "markers",
         "showlegend": false,
         "type": "scatter",
         "x": [
          0.3853599294247355,
          1.1747241847477463,
          1.4078124208129987,
          1.0985231416245096
         ],
         "y": [
          -0.33244594655813287,
          -0.5418726628459498,
          -0.8577650142582796,
          -0.7501040087328685
         ]
        }
       ],
       "layout": {
        "annotations": [
         {
          "arrowcolor": "rgb(27,158,119)",
          "arrowhead": 4,
          "arrowsize": 1,
          "arrowwidth": 3,
          "ax": -0.5397198935302415,
          "axref": "x",
          "ay": 0.3728154032594053,
          "ayref": "y",
          "showarrow": true,
          "x": -0.5721779103879191,
          "xref": "x",
          "y": 0.36005573267093094,
          "yref": "y"
         },
         {
          "arrowcolor": "rgb(27,158,119)",
          "arrowhead": 4,
          "arrowsize": 1,
          "arrowwidth": 3,
          "ax": -0.5721779103879191,
          "axref": "x",
          "ay": 0.36005573267093094,
          "ayref": "y",
          "showarrow": true,
          "x": -0.7335648460236357,
          "xref": "x",
          "y": 0.4428382152002244,
          "yref": "y"
         },
         {
          "arrowcolor": "rgb(27,158,119)",
          "arrowhead": 4,
          "arrowsize": 1,
          "arrowwidth": 3,
          "ax": -0.7335648460236357,
          "axref": "x",
          "ay": 0.4428382152002244,
          "ayref": "y",
          "showarrow": true,
          "x": -0.68295593439375,
          "xref": "x",
          "y": 0.5244457171500942,
          "yref": "y"
         },
         {
          "arrowcolor": "rgb(27,158,119)",
          "arrowhead": 4,
          "arrowsize": 1,
          "arrowwidth": 3,
          "ax": -0.68295593439375,
          "axref": "x",
          "ay": 0.5244457171500942,
          "ayref": "y",
          "showarrow": true,
          "x": -0.8957405843360116,
          "xref": "x",
          "y": 0.463606107605669,
          "yref": "y"
         },
         {
          "arrowcolor": "rgb(217,95,2)",
          "arrowhead": 4,
          "arrowsize": 1,
          "arrowwidth": 3,
          "ax": -0.0422116579249239,
          "axref": "x",
          "ay": 0.577734274146067,
          "ayref": "y",
          "showarrow": true,
          "x": 0.0027371751656907386,
          "xref": "x",
          "y": 0.6107915584571544,
          "yref": "y"
         },
         {
          "arrowcolor": "rgb(217,95,2)",
          "arrowhead": 4,
          "arrowsize": 1,
          "arrowwidth": 3,
          "ax": 0.0027371751656907386,
          "axref": "x",
          "ay": 0.6107915584571544,
          "ayref": "y",
          "showarrow": true,
          "x": -0.3491833099855795,
          "xref": "x",
          "y": 0.8207108264058018,
          "yref": "y"
         },
         {
          "arrowcolor": "rgb(217,95,2)",
          "arrowhead": 4,
          "arrowsize": 1,
          "arrowwidth": 3,
          "ax": -0.3491833099855795,
          "axref": "x",
          "ay": 0.8207108264058018,
          "ayref": "y",
          "showarrow": true,
          "x": -0.5805695761110999,
          "xref": "x",
          "y": 0.939536739002213,
          "yref": "y"
         },
         {
          "arrowcolor": "rgb(217,95,2)",
          "arrowhead": 4,
          "arrowsize": 1,
          "arrowwidth": 3,
          "ax": -0.5805695761110999,
          "axref": "x",
          "ay": 0.939536739002213,
          "ayref": "y",
          "showarrow": true,
          "x": -0.8905641875082104,
          "xref": "x",
          "y": 1.0057490044454187,
          "yref": "y"
         },
         {
          "arrowcolor": "rgb(117,112,179)",
          "arrowhead": 4,
          "arrowsize": 1,
          "arrowwidth": 3,
          "ax": 0.005913469293683949,
          "axref": "x",
          "ay": 0.18572770373722147,
          "ayref": "y",
          "showarrow": true,
          "x": 0.018584635262896276,
          "xref": "x",
          "y": 0.22463741479224436,
          "yref": "y"
         },
         {
          "arrowcolor": "rgb(117,112,179)",
          "arrowhead": 4,
          "arrowsize": 1,
          "arrowwidth": 3,
          "ax": 0.018584635262896276,
          "axref": "x",
          "ay": 0.22463741479224436,
          "ayref": "y",
          "showarrow": true,
          "x": -0.19085617644909086,
          "xref": "x",
          "y": 0.19092589150590367,
          "yref": "y"
         },
         {
          "arrowcolor": "rgb(117,112,179)",
          "arrowhead": 4,
          "arrowsize": 1,
          "arrowwidth": 3,
          "ax": -0.19085617644909086,
          "axref": "x",
          "ay": 0.19092589150590367,
          "ayref": "y",
          "showarrow": true,
          "x": -0.051582743553765104,
          "xref": "x",
          "y": 0.13847510707287664,
          "yref": "y"
         },
         {
          "arrowcolor": "rgb(117,112,179)",
          "arrowhead": 4,
          "arrowsize": 1,
          "arrowwidth": 3,
          "ax": -0.051582743553765104,
          "axref": "x",
          "ay": 0.13847510707287664,
          "ayref": "y",
          "showarrow": true,
          "x": -0.45374740178473405,
          "xref": "x",
          "y": 0.4463284790939068,
          "yref": "y"
         },
         {
          "arrowcolor": "rgb(231,41,138)",
          "arrowhead": 4,
          "arrowsize": 1,
          "arrowwidth": 3,
          "ax": 0.1351749829223761,
          "axref": "x",
          "ay": -0.5877073148811257,
          "ayref": "y",
          "showarrow": true,
          "x": 0.08345388110733382,
          "xref": "x",
          "y": -0.8553920081406456,
          "yref": "y"
         },
         {
          "arrowcolor": "rgb(231,41,138)",
          "arrowhead": 4,
          "arrowsize": 1,
          "arrowwidth": 3,
          "ax": 0.08345388110733382,
          "axref": "x",
          "ay": -0.8553920081406456,
          "ayref": "y",
          "showarrow": true,
          "x": -0.012820443820903249,
          "xref": "x",
          "y": -0.27317595396754235,
          "yref": "y"
         },
         {
          "arrowcolor": "rgb(231,41,138)",
          "arrowhead": 4,
          "arrowsize": 1,
          "arrowwidth": 3,
          "ax": -0.012820443820903249,
          "axref": "x",
          "ay": -0.27317595396754235,
          "ayref": "y",
          "showarrow": true,
          "x": 0.11233588620310503,
          "xref": "x",
          "y": -0.6085709842131847,
          "yref": "y"
         },
         {
          "arrowcolor": "rgb(231,41,138)",
          "arrowhead": 4,
          "arrowsize": 1,
          "arrowwidth": 3,
          "ax": 0.11233588620310503,
          "axref": "x",
          "ay": -0.6085709842131847,
          "ayref": "y",
          "showarrow": true,
          "x": -0.028029276208752105,
          "xref": "x",
          "y": -0.12348252030202103,
          "yref": "y"
         },
         {
          "arrowcolor": "rgb(102,166,30)",
          "arrowhead": 4,
          "arrowsize": 1,
          "arrowwidth": 3,
          "ax": 0.11156464909556339,
          "axref": "x",
          "ay": -0.472446459786048,
          "ayref": "y",
          "showarrow": true,
          "x": 0.05509838689331445,
          "xref": "x",
          "y": -0.39534779329640723,
          "yref": "y"
         },
         {
          "arrowcolor": "rgb(102,166,30)",
          "arrowhead": 4,
          "arrowsize": 1,
          "arrowwidth": 3,
          "ax": 0.05509838689331445,
          "axref": "x",
          "ay": -0.39534779329640723,
          "ayref": "y",
          "showarrow": true,
          "x": 0.06417043264335189,
          "xref": "x",
          "y": -0.29377032041712625,
          "yref": "y"
         },
         {
          "arrowcolor": "rgb(102,166,30)",
          "arrowhead": 4,
          "arrowsize": 1,
          "arrowwidth": 3,
          "ax": 0.06417043264335189,
          "axref": "x",
          "ay": -0.29377032041712625,
          "ayref": "y",
          "showarrow": true,
          "x": 0.1610640023163236,
          "xref": "x",
          "y": -0.4590388039626554,
          "yref": "y"
         },
         {
          "arrowcolor": "rgb(102,166,30)",
          "arrowhead": 4,
          "arrowsize": 1,
          "arrowwidth": 3,
          "ax": 0.1610640023163236,
          "axref": "x",
          "ay": -0.4590388039626554,
          "ayref": "y",
          "showarrow": true,
          "x": 0.10413157815918152,
          "xref": "x",
          "y": -0.41791487039628894,
          "yref": "y"
         },
         {
          "arrowcolor": "rgb(230,171,2)",
          "arrowhead": 4,
          "arrowsize": 1,
          "arrowwidth": 3,
          "ax": 0.3853599294247355,
          "axref": "x",
          "ay": -0.33244594655813287,
          "ayref": "y",
          "showarrow": true,
          "x": 1.1747241847477463,
          "xref": "x",
          "y": -0.5418726628459498,
          "yref": "y"
         },
         {
          "arrowcolor": "rgb(230,171,2)",
          "arrowhead": 4,
          "arrowsize": 1,
          "arrowwidth": 3,
          "ax": 1.1747241847477463,
          "axref": "x",
          "ay": -0.5418726628459498,
          "ayref": "y",
          "showarrow": true,
          "x": 1.4078124208129987,
          "xref": "x",
          "y": -0.8577650142582796,
          "yref": "y"
         },
         {
          "arrowcolor": "rgb(230,171,2)",
          "arrowhead": 4,
          "arrowsize": 1,
          "arrowwidth": 3,
          "ax": 1.4078124208129987,
          "axref": "x",
          "ay": -0.8577650142582796,
          "ayref": "y",
          "showarrow": true,
          "x": 1.0985231416245096,
          "xref": "x",
          "y": -0.7501040087328685,
          "yref": "y"
         },
         {
          "showarrow": false,
          "text": "<i>Immigration should be easier</i>",
          "x": 0.1,
          "xanchor": "center",
          "xref": "paper",
          "y": -0.05,
          "yanchor": "top",
          "yref": "paper"
         },
         {
          "showarrow": false,
          "text": "<i>Immigration should be more difficult</i>",
          "x": 0.9,
          "xanchor": "center",
          "xref": "paper",
          "y": -0.05,
          "yanchor": "top",
          "yref": "paper"
         },
         {
          "showarrow": false,
          "text": "<i>More welfare</i>",
          "textangle": -90,
          "x": -0.04,
          "xanchor": "right",
          "xref": "paper",
          "y": 0.88,
          "yanchor": "middle",
          "yref": "paper"
         },
         {
          "showarrow": false,
          "text": "<i>Less welfare</i>",
          "textangle": -90,
          "x": -0.04,
          "xanchor": "right",
          "xref": "paper",
          "y": 0.15,
          "yanchor": "middle",
          "yref": "paper"
         }
        ],
        "height": 800,
        "legend": {
         "bordercolor": "lightgrey",
         "borderwidth": 1,
         "orientation": "v",
         "title": {
          "text": "PARTY"
         },
         "x": 1.02,
         "y": 1
        },
        "margin": {
         "b": 100,
         "l": 120,
         "r": 200,
         "t": 100
        },
        "paper_bgcolor": "white",
        "plot_bgcolor": "white",
        "showlegend": true,
        "template": {
         "data": {
          "bar": [
           {
            "error_x": {
             "color": "#2a3f5f"
            },
            "error_y": {
             "color": "#2a3f5f"
            },
            "marker": {
             "line": {
              "color": "white",
              "width": 0.5
             },
             "pattern": {
              "fillmode": "overlay",
              "size": 10,
              "solidity": 0.2
             }
            },
            "type": "bar"
           }
          ],
          "barpolar": [
           {
            "marker": {
             "line": {
              "color": "white",
              "width": 0.5
             },
             "pattern": {
              "fillmode": "overlay",
              "size": 10,
              "solidity": 0.2
             }
            },
            "type": "barpolar"
           }
          ],
          "carpet": [
           {
            "aaxis": {
             "endlinecolor": "#2a3f5f",
             "gridcolor": "#C8D4E3",
             "linecolor": "#C8D4E3",
             "minorgridcolor": "#C8D4E3",
             "startlinecolor": "#2a3f5f"
            },
            "baxis": {
             "endlinecolor": "#2a3f5f",
             "gridcolor": "#C8D4E3",
             "linecolor": "#C8D4E3",
             "minorgridcolor": "#C8D4E3",
             "startlinecolor": "#2a3f5f"
            },
            "type": "carpet"
           }
          ],
          "choropleth": [
           {
            "colorbar": {
             "outlinewidth": 0,
             "ticks": ""
            },
            "type": "choropleth"
           }
          ],
          "contour": [
           {
            "colorbar": {
             "outlinewidth": 0,
             "ticks": ""
            },
            "colorscale": [
             [
              0,
              "#0d0887"
             ],
             [
              0.1111111111111111,
              "#46039f"
             ],
             [
              0.2222222222222222,
              "#7201a8"
             ],
             [
              0.3333333333333333,
              "#9c179e"
             ],
             [
              0.4444444444444444,
              "#bd3786"
             ],
             [
              0.5555555555555556,
              "#d8576b"
             ],
             [
              0.6666666666666666,
              "#ed7953"
             ],
             [
              0.7777777777777778,
              "#fb9f3a"
             ],
             [
              0.8888888888888888,
              "#fdca26"
             ],
             [
              1,
              "#f0f921"
             ]
            ],
            "type": "contour"
           }
          ],
          "contourcarpet": [
           {
            "colorbar": {
             "outlinewidth": 0,
             "ticks": ""
            },
            "type": "contourcarpet"
           }
          ],
          "heatmap": [
           {
            "colorbar": {
             "outlinewidth": 0,
             "ticks": ""
            },
            "colorscale": [
             [
              0,
              "#0d0887"
             ],
             [
              0.1111111111111111,
              "#46039f"
             ],
             [
              0.2222222222222222,
              "#7201a8"
             ],
             [
              0.3333333333333333,
              "#9c179e"
             ],
             [
              0.4444444444444444,
              "#bd3786"
             ],
             [
              0.5555555555555556,
              "#d8576b"
             ],
             [
              0.6666666666666666,
              "#ed7953"
             ],
             [
              0.7777777777777778,
              "#fb9f3a"
             ],
             [
              0.8888888888888888,
              "#fdca26"
             ],
             [
              1,
              "#f0f921"
             ]
            ],
            "type": "heatmap"
           }
          ],
          "heatmapgl": [
           {
            "colorbar": {
             "outlinewidth": 0,
             "ticks": ""
            },
            "colorscale": [
             [
              0,
              "#0d0887"
             ],
             [
              0.1111111111111111,
              "#46039f"
             ],
             [
              0.2222222222222222,
              "#7201a8"
             ],
             [
              0.3333333333333333,
              "#9c179e"
             ],
             [
              0.4444444444444444,
              "#bd3786"
             ],
             [
              0.5555555555555556,
              "#d8576b"
             ],
             [
              0.6666666666666666,
              "#ed7953"
             ],
             [
              0.7777777777777778,
              "#fb9f3a"
             ],
             [
              0.8888888888888888,
              "#fdca26"
             ],
             [
              1,
              "#f0f921"
             ]
            ],
            "type": "heatmapgl"
           }
          ],
          "histogram": [
           {
            "marker": {
             "pattern": {
              "fillmode": "overlay",
              "size": 10,
              "solidity": 0.2
             }
            },
            "type": "histogram"
           }
          ],
          "histogram2d": [
           {
            "colorbar": {
             "outlinewidth": 0,
             "ticks": ""
            },
            "colorscale": [
             [
              0,
              "#0d0887"
             ],
             [
              0.1111111111111111,
              "#46039f"
             ],
             [
              0.2222222222222222,
              "#7201a8"
             ],
             [
              0.3333333333333333,
              "#9c179e"
             ],
             [
              0.4444444444444444,
              "#bd3786"
             ],
             [
              0.5555555555555556,
              "#d8576b"
             ],
             [
              0.6666666666666666,
              "#ed7953"
             ],
             [
              0.7777777777777778,
              "#fb9f3a"
             ],
             [
              0.8888888888888888,
              "#fdca26"
             ],
             [
              1,
              "#f0f921"
             ]
            ],
            "type": "histogram2d"
           }
          ],
          "histogram2dcontour": [
           {
            "colorbar": {
             "outlinewidth": 0,
             "ticks": ""
            },
            "colorscale": [
             [
              0,
              "#0d0887"
             ],
             [
              0.1111111111111111,
              "#46039f"
             ],
             [
              0.2222222222222222,
              "#7201a8"
             ],
             [
              0.3333333333333333,
              "#9c179e"
             ],
             [
              0.4444444444444444,
              "#bd3786"
             ],
             [
              0.5555555555555556,
              "#d8576b"
             ],
             [
              0.6666666666666666,
              "#ed7953"
             ],
             [
              0.7777777777777778,
              "#fb9f3a"
             ],
             [
              0.8888888888888888,
              "#fdca26"
             ],
             [
              1,
              "#f0f921"
             ]
            ],
            "type": "histogram2dcontour"
           }
          ],
          "mesh3d": [
           {
            "colorbar": {
             "outlinewidth": 0,
             "ticks": ""
            },
            "type": "mesh3d"
           }
          ],
          "parcoords": [
           {
            "line": {
             "colorbar": {
              "outlinewidth": 0,
              "ticks": ""
             }
            },
            "type": "parcoords"
           }
          ],
          "pie": [
           {
            "automargin": true,
            "type": "pie"
           }
          ],
          "scatter": [
           {
            "fillpattern": {
             "fillmode": "overlay",
             "size": 10,
             "solidity": 0.2
            },
            "type": "scatter"
           }
          ],
          "scatter3d": [
           {
            "line": {
             "colorbar": {
              "outlinewidth": 0,
              "ticks": ""
             }
            },
            "marker": {
             "colorbar": {
              "outlinewidth": 0,
              "ticks": ""
             }
            },
            "type": "scatter3d"
           }
          ],
          "scattercarpet": [
           {
            "marker": {
             "colorbar": {
              "outlinewidth": 0,
              "ticks": ""
             }
            },
            "type": "scattercarpet"
           }
          ],
          "scattergeo": [
           {
            "marker": {
             "colorbar": {
              "outlinewidth": 0,
              "ticks": ""
             }
            },
            "type": "scattergeo"
           }
          ],
          "scattergl": [
           {
            "marker": {
             "colorbar": {
              "outlinewidth": 0,
              "ticks": ""
             }
            },
            "type": "scattergl"
           }
          ],
          "scattermapbox": [
           {
            "marker": {
             "colorbar": {
              "outlinewidth": 0,
              "ticks": ""
             }
            },
            "type": "scattermapbox"
           }
          ],
          "scatterpolar": [
           {
            "marker": {
             "colorbar": {
              "outlinewidth": 0,
              "ticks": ""
             }
            },
            "type": "scatterpolar"
           }
          ],
          "scatterpolargl": [
           {
            "marker": {
             "colorbar": {
              "outlinewidth": 0,
              "ticks": ""
             }
            },
            "type": "scatterpolargl"
           }
          ],
          "scatterternary": [
           {
            "marker": {
             "colorbar": {
              "outlinewidth": 0,
              "ticks": ""
             }
            },
            "type": "scatterternary"
           }
          ],
          "surface": [
           {
            "colorbar": {
             "outlinewidth": 0,
             "ticks": ""
            },
            "colorscale": [
             [
              0,
              "#0d0887"
             ],
             [
              0.1111111111111111,
              "#46039f"
             ],
             [
              0.2222222222222222,
              "#7201a8"
             ],
             [
              0.3333333333333333,
              "#9c179e"
             ],
             [
              0.4444444444444444,
              "#bd3786"
             ],
             [
              0.5555555555555556,
              "#d8576b"
             ],
             [
              0.6666666666666666,
              "#ed7953"
             ],
             [
              0.7777777777777778,
              "#fb9f3a"
             ],
             [
              0.8888888888888888,
              "#fdca26"
             ],
             [
              1,
              "#f0f921"
             ]
            ],
            "type": "surface"
           }
          ],
          "table": [
           {
            "cells": {
             "fill": {
              "color": "#EBF0F8"
             },
             "line": {
              "color": "white"
             }
            },
            "header": {
             "fill": {
              "color": "#C8D4E3"
             },
             "line": {
              "color": "white"
             }
            },
            "type": "table"
           }
          ]
         },
         "layout": {
          "annotationdefaults": {
           "arrowcolor": "#2a3f5f",
           "arrowhead": 0,
           "arrowwidth": 1
          },
          "autotypenumbers": "strict",
          "coloraxis": {
           "colorbar": {
            "outlinewidth": 0,
            "ticks": ""
           }
          },
          "colorscale": {
           "diverging": [
            [
             0,
             "#8e0152"
            ],
            [
             0.1,
             "#c51b7d"
            ],
            [
             0.2,
             "#de77ae"
            ],
            [
             0.3,
             "#f1b6da"
            ],
            [
             0.4,
             "#fde0ef"
            ],
            [
             0.5,
             "#f7f7f7"
            ],
            [
             0.6,
             "#e6f5d0"
            ],
            [
             0.7,
             "#b8e186"
            ],
            [
             0.8,
             "#7fbc41"
            ],
            [
             0.9,
             "#4d9221"
            ],
            [
             1,
             "#276419"
            ]
           ],
           "sequential": [
            [
             0,
             "#0d0887"
            ],
            [
             0.1111111111111111,
             "#46039f"
            ],
            [
             0.2222222222222222,
             "#7201a8"
            ],
            [
             0.3333333333333333,
             "#9c179e"
            ],
            [
             0.4444444444444444,
             "#bd3786"
            ],
            [
             0.5555555555555556,
             "#d8576b"
            ],
            [
             0.6666666666666666,
             "#ed7953"
            ],
            [
             0.7777777777777778,
             "#fb9f3a"
            ],
            [
             0.8888888888888888,
             "#fdca26"
            ],
            [
             1,
             "#f0f921"
            ]
           ],
           "sequentialminus": [
            [
             0,
             "#0d0887"
            ],
            [
             0.1111111111111111,
             "#46039f"
            ],
            [
             0.2222222222222222,
             "#7201a8"
            ],
            [
             0.3333333333333333,
             "#9c179e"
            ],
            [
             0.4444444444444444,
             "#bd3786"
            ],
            [
             0.5555555555555556,
             "#d8576b"
            ],
            [
             0.6666666666666666,
             "#ed7953"
            ],
            [
             0.7777777777777778,
             "#fb9f3a"
            ],
            [
             0.8888888888888888,
             "#fdca26"
            ],
            [
             1,
             "#f0f921"
            ]
           ]
          },
          "colorway": [
           "#636efa",
           "#EF553B",
           "#00cc96",
           "#ab63fa",
           "#FFA15A",
           "#19d3f3",
           "#FF6692",
           "#B6E880",
           "#FF97FF",
           "#FECB52"
          ],
          "font": {
           "color": "#2a3f5f"
          },
          "geo": {
           "bgcolor": "white",
           "lakecolor": "white",
           "landcolor": "white",
           "showlakes": true,
           "showland": true,
           "subunitcolor": "#C8D4E3"
          },
          "hoverlabel": {
           "align": "left"
          },
          "hovermode": "closest",
          "mapbox": {
           "style": "light"
          },
          "paper_bgcolor": "white",
          "plot_bgcolor": "white",
          "polar": {
           "angularaxis": {
            "gridcolor": "#EBF0F8",
            "linecolor": "#EBF0F8",
            "ticks": ""
           },
           "bgcolor": "white",
           "radialaxis": {
            "gridcolor": "#EBF0F8",
            "linecolor": "#EBF0F8",
            "ticks": ""
           }
          },
          "scene": {
           "xaxis": {
            "backgroundcolor": "white",
            "gridcolor": "#DFE8F3",
            "gridwidth": 2,
            "linecolor": "#EBF0F8",
            "showbackground": true,
            "ticks": "",
            "zerolinecolor": "#EBF0F8"
           },
           "yaxis": {
            "backgroundcolor": "white",
            "gridcolor": "#DFE8F3",
            "gridwidth": 2,
            "linecolor": "#EBF0F8",
            "showbackground": true,
            "ticks": "",
            "zerolinecolor": "#EBF0F8"
           },
           "zaxis": {
            "backgroundcolor": "white",
            "gridcolor": "#DFE8F3",
            "gridwidth": 2,
            "linecolor": "#EBF0F8",
            "showbackground": true,
            "ticks": "",
            "zerolinecolor": "#EBF0F8"
           }
          },
          "shapedefaults": {
           "line": {
            "color": "#2a3f5f"
           }
          },
          "ternary": {
           "aaxis": {
            "gridcolor": "#DFE8F3",
            "linecolor": "#A2B1C6",
            "ticks": ""
           },
           "baxis": {
            "gridcolor": "#DFE8F3",
            "linecolor": "#A2B1C6",
            "ticks": ""
           },
           "bgcolor": "white",
           "caxis": {
            "gridcolor": "#DFE8F3",
            "linecolor": "#A2B1C6",
            "ticks": ""
           }
          },
          "title": {
           "x": 0.05
          },
          "xaxis": {
           "automargin": true,
           "gridcolor": "#EBF0F8",
           "linecolor": "#EBF0F8",
           "ticks": "",
           "title": {
            "standoff": 15
           },
           "zerolinecolor": "#EBF0F8",
           "zerolinewidth": 2
          },
          "yaxis": {
           "automargin": true,
           "gridcolor": "#EBF0F8",
           "linecolor": "#EBF0F8",
           "ticks": "",
           "title": {
            "standoff": 15
           },
           "zerolinecolor": "#EBF0F8",
           "zerolinewidth": 2
          }
         }
        },
        "title": {
         "font": {
          "family": "Arial, sans-serif",
          "size": 22
         },
         "text": "<b>Parties on the Move (2009–2024)</b>",
         "x": 0.5,
         "xanchor": "center"
        },
        "width": 1500,
        "xaxis": {
         "gridcolor": "lightgrey",
         "range": [
          -1.5,
          1.5
         ],
         "showgrid": true,
         "title": {
          "font": {
           "family": "Arial, sans-serif",
           "size": 16
          },
          "standoff": 10,
          "text": "<b>Opposition to Immigration</b>"
         }
        },
        "yaxis": {
         "gridcolor": "lightgrey",
         "range": [
          -1.5,
          1.5
         ],
         "showgrid": true,
         "title": {
          "font": {
           "family": "Arial, sans-serif",
           "size": 16
          },
          "standoff": 10,
          "text": "<b>Welfare State</b>"
         }
        }
       }
      }
     },
     "metadata": {},
     "output_type": "display_data"
    }
   ],
   "source": [
    "# 1) Prepare a color map (same palette you were using)\n",
    "palette = px.colors.qualitative.Dark2\n",
    "parties = party_all['Party_Name'].unique()\n",
    "color_map = {p: palette[i % len(palette)] for i, p in enumerate(parties)}\n",
    "\n",
    "# 2) Build a Figure from scratch\n",
    "fig = go.Figure()\n",
    "\n",
    "for party in parties:\n",
    "    dfp = (party_all\n",
    "           .query(\"Party_Name == @party\")\n",
    "           .sort_values(\"Year\")\n",
    "           .reset_index(drop=True))\n",
    "\n",
    "    fig.add_trace(go.Scatter(\n",
    "        x=dfp[f\"{x_var} Scaled\"],\n",
    "        y=dfp[f\"{y_var} Scaled\"],\n",
    "        mode=\"lines\",\n",
    "        line=dict(color=color_map[party], width=2),\n",
    "        name=party,\n",
    "    ))\n",
    "\n",
    "    fig.add_trace(go.Scatter(\n",
    "        x=dfp[f\"{x_var} Scaled\"],\n",
    "        y=dfp[f\"{y_var} Scaled\"],\n",
    "        mode=\"markers\",\n",
    "        marker=dict(color=color_map[party], size=8),\n",
    "        showlegend=False,\n",
    "    ))\n",
    "\n",
    "    for i in range(len(dfp)-1):\n",
    "        x0, y0 = dfp.loc[i,   f\"{x_var} Scaled\"], dfp.loc[i,   f\"{y_var} Scaled\"]\n",
    "        x1, y1 = dfp.loc[i+1, f\"{x_var} Scaled\"], dfp.loc[i+1, f\"{y_var} Scaled\"]\n",
    "        fig.add_annotation(\n",
    "            x=x1, y=y1,\n",
    "            ax=x0, ay=y0,\n",
    "            xref=\"x\", yref=\"y\",\n",
    "            axref=\"x\", ayref=\"y\",\n",
    "            showarrow=True,\n",
    "            arrowhead=4,      # bigger head\n",
    "            arrowsize=1,      # overall scale\n",
    "            arrowwidth=3,     # thicker line\n",
    "            arrowcolor=color_map[party]\n",
    "        )\n",
    "\n",
    "fig.update_layout(\n",
    "    showlegend=True,\n",
    "    legend_title_text=\"PARTY\",\n",
    "    legend=dict(\n",
    "        orientation=\"v\",\n",
    "        x=1.02, y=1,\n",
    "        bordercolor=\"lightgrey\",\n",
    "        borderwidth=1\n",
    "    ),\n",
    "    width=1500, height=800,\n",
    "    margin=dict(l=80, r=200, t=100, b=80),\n",
    "    title=dict(\n",
    "        text=\"<b>Parties on the Move (2009–2024)</b>\",\n",
    "        x=0.5, xanchor=\"center\"\n",
    "    ),\n",
    "    title_font=dict(family=\"Arial, sans-serif\", size=22)\n",
    ")\n",
    "\n",
    "fig.update_xaxes(\n",
    "    range=[-1.5, 1.5],\n",
    "    title=dict(text=f\"<b>{x_var}</b>\",\n",
    "               font=dict(family=\"Arial, sans-serif\", size=16)),\n",
    "    title_standoff=10\n",
    ")\n",
    "fig.update_yaxes(\n",
    "    range=[-1.5, 1.5],\n",
    "    title=dict(text=f\"<b>{y_var}</b>\",\n",
    "               font=dict(family=\"Arial, sans-serif\", size=16)),\n",
    "    title_standoff=10\n",
    ")\n",
    "\n",
    "fig.update_layout(margin=dict(l=120, r=200, t=100, b=100))\n",
    "\n",
    "fig.add_annotation(\n",
    "    text=\"<i>Immigration should be easier</i>\",\n",
    "    xref=\"paper\", yref=\"paper\",\n",
    "    x=0.1, y=-0.05,\n",
    "    xanchor=\"center\", yanchor=\"top\",\n",
    "    showarrow=False\n",
    ")\n",
    "fig.add_annotation(\n",
    "    text=\"<i>Immigration should be more difficult</i>\",\n",
    "    xref=\"paper\", yref=\"paper\",\n",
    "    x=0.9, y=-0.05,\n",
    "    xanchor=\"center\", yanchor=\"top\",\n",
    "    showarrow=False\n",
    ")\n",
    "\n",
    "fig.add_annotation(\n",
    "    text=\"<i>More welfare</i>\",\n",
    "    xref=\"paper\", yref=\"paper\",\n",
    "    x=-0.04, y=0.88,\n",
    "    xanchor=\"right\", yanchor=\"middle\",\n",
    "    showarrow=False,\n",
    "    textangle=-90\n",
    ")\n",
    "fig.add_annotation(\n",
    "    text=\"<i>Less welfare</i>\",\n",
    "    xref=\"paper\", yref=\"paper\",\n",
    "    x=-0.04, y=0.15,\n",
    "    xanchor=\"right\", yanchor=\"middle\",\n",
    "    showarrow=False,\n",
    "    textangle=-90\n",
    ")\n",
    "\n",
    "fig.update_layout(\n",
    "    template=\"plotly_white\",\n",
    "    paper_bgcolor=\"white\",\n",
    "    plot_bgcolor=\"white\",\n",
    "    margin=dict(l=120, r=200, t=100, b=100),\n",
    ")\n",
    "\n",
    "fig.update_xaxes(\n",
    "    showgrid=True,\n",
    "    gridcolor=\"lightgrey\",\n",
    "    range=[-1.5, 1.5],\n",
    "    title=dict(text=f\"<b>{x_var}</b>\", font=dict(size=16)),\n",
    ")\n",
    "\n",
    "fig.update_yaxes(\n",
    "    showgrid=True,\n",
    "    gridcolor=\"lightgrey\",\n",
    "    range=[-1.5, 1.5],\n",
    "    title=dict(text=f\"<b>{y_var}</b>\", font=dict(size=16)),\n",
    ")\n",
    "\n",
    "fig.show()\n"
   ]
  },
  {
   "cell_type": "markdown",
   "id": "cedb5273",
   "metadata": {},
   "source": [
    "**2. VOTER DENSITY & PARTY POSITIONS**"
   ]
  },
  {
   "cell_type": "code",
   "execution_count": null,
   "id": "8d0738d0",
   "metadata": {},
   "outputs": [],
   "source": [
    "x_var = \"Opposition to Immigration\"\n",
    "y_var = \"Welfare State\"\n",
    "year  = \"2021\""
   ]
  },
  {
   "cell_type": "code",
   "execution_count": null,
   "id": "efec34a8",
   "metadata": {},
   "outputs": [
    {
     "name": "stderr",
     "output_type": "stream",
     "text": [
      "c:\\Users\\denid\\Desktop\\Case_Study_TUM25\\data_preprocessing\\data_loading.py:39: DtypeWarning:\n",
      "\n",
      "Columns (10) have mixed types. Specify dtype option on import or set low_memory=False.\n",
      "\n"
     ]
    }
   ],
   "source": [
    "party_scaled, voter_scaled = dp.get_scaled_party_voter_data(x_var=x_var, y_var=y_var, year=year)\n",
    "party_scaled_df = party_scaled[['Country', 'Date', 'Calendar_Week', 'Party_Name', f'{x_var} Combined', f'{y_var} Combined', 'Label']].rename(\n",
    "                            columns={f'{x_var} Combined': f'{x_var} Scaled', f'{y_var} Combined': f'{y_var} Scaled'})\n",
    "party_centered, voter_centered = dp.center_party_voter_data(voter_df=voter_scaled, party_df=party_scaled_df, x_var=x_var, y_var=y_var)"
   ]
  },
  {
   "cell_type": "code",
   "execution_count": null,
   "id": "f0c04af1",
   "metadata": {},
   "outputs": [
    {
     "data": {
      "image/png": "[encoded data removed]",
      "text/plain": [
       "<Figure size 1300x1300 with 1 Axes>"
      ]
     },
     "metadata": {},
     "output_type": "display_data"
    }
   ],
   "source": [
    "x = voter_centered[f\"{x_var} Centered\"]\n",
    "y = voter_centered[f\"{y_var} Centered\"]\n",
    "\n",
    "fig, ax = plt.subplots(figsize=(13,13))\n",
    "\n",
    "levels = [0.25, 0.50, 0.75, 0.95]\n",
    "\n",
    "# 1) filled contours in a bright sequential palette\n",
    "sns.kdeplot(\n",
    "    x=x, y=y,\n",
    "    fill=True,\n",
    "    levels=levels,\n",
    "    thresh=0,\n",
    "    cut=2,\n",
    "    bw_adjust=1.3,\n",
    "    cmap='Greys',   \n",
    "    alpha=0.6,\n",
    "    ax=ax)\n",
    "\n",
    "# 2) overlay the same contours as thick black lines\n",
    "sns.kdeplot(\n",
    "    x=x, y=y,\n",
    "    fill=False,\n",
    "    levels=levels,\n",
    "    thresh=0,\n",
    "    cut=2,\n",
    "    bw_adjust=1.3,\n",
    "    color='black',\n",
    "    linewidths=1,\n",
    "    linestyles='-',\n",
    "    ax=ax)\n",
    "\n",
    "# 3) raw voters underneath\n",
    "ax.scatter(\n",
    "    x, y,\n",
    "    s=18, c='lightblue',\n",
    "    edgecolor='none',\n",
    "    alpha=0.6,\n",
    "    label='Voter',\n",
    "    zorder=1)\n",
    "\n",
    "# 4) big red party markers with black border\n",
    "px = party_centered[f\"{x_var} Centered\"]\n",
    "py = party_centered[f\"{y_var} Centered\"]\n",
    "ax.scatter(\n",
    "    px, py,\n",
    "    s=200, c='red',\n",
    "    edgecolor='black', linewidth=1.5,\n",
    "    zorder=3,\n",
    "    label='Party')\n",
    "\n",
    "# 5) white labels\n",
    "# for name, xi, yi in zip(party_centered['Party_Name'], px, py):\n",
    "#     ax.text(\n",
    "#         xi, yi, name,\n",
    "#         ha='center', va='center',\n",
    "#         color='white', fontweight='bold',\n",
    "#         zorder=4)\n",
    "\n",
    "# 6) cross‐hair & labels\n",
    "ax.axhline(0, color='grey', lw=0.5)\n",
    "ax.axvline(0, color='grey', lw=0.5)\n",
    "ax.set_xlabel(f\"{x_var}\", fontsize=12.5, fontweight='bold')\n",
    "ax.set_ylabel(f\"{y_var}\", fontsize=12.5, fontweight='bold')\n",
    "ax.set_xlim(-2.5, 2.5)\n",
    "ax.set_ylim(-2.5, 2.5)\n",
    "\n",
    "# X-axis end-labels\n",
    "ax.text(\n",
    "    0, -0.03, \n",
    "    \"Immigration should be easier\",\n",
    "    transform=ax.transAxes,\n",
    "    ha=\"left\", va=\"top\",\n",
    "    fontsize=11.5, fontstyle='italic')\n",
    "\n",
    "ax.text(\n",
    "    1, -0.03, \n",
    "    \"Immigration should be more difficult\",\n",
    "    transform=ax.transAxes,\n",
    "    ha=\"right\", va=\"top\",\n",
    "    fontsize=11.5, fontstyle='italic')\n",
    "\n",
    "# Y-axis end-labels\n",
    "ax.text(\n",
    "    -0.025, 0.88,\n",
    "    \"More welfare\",\n",
    "    transform=ax.transAxes,\n",
    "    ha=\"right\", va=\"top\",\n",
    "    rotation=90,\n",
    "    fontsize=11.5, fontstyle='italic')\n",
    "\n",
    "ax.text(\n",
    "    -0.025, 0.13,\n",
    "    \"Less welfare\",\n",
    "    transform=ax.transAxes,\n",
    "    ha=\"right\", va=\"bottom\",\n",
    "    rotation=90,\n",
    "    fontsize=11.5, fontstyle='italic')\n",
    "\n",
    "ax.set_title(\n",
    "    \"Leaders in the Crowd: Voter Density and Party Positions\",\n",
    "    fontsize=16,         \n",
    "    fontweight='bold',   \n",
    "    pad=25)\n",
    "\n",
    "plt.tight_layout()\n",
    "plt.show()"
   ]
  },
  {
   "cell_type": "markdown",
   "id": "23bd5824",
   "metadata": {},
   "source": [
    "**3. VOTER DENSITY & EQUILIBRIUM PARTY POSITIONS**"
   ]
  },
  {
   "cell_type": "code",
   "execution_count": null,
   "id": "060d58ce",
   "metadata": {},
   "outputs": [
    {
     "name": "stderr",
     "output_type": "stream",
     "text": [
      "c:\\Users\\denid\\Desktop\\Case_Study_TUM25\\data_preprocessing\\data_loading.py:39: DtypeWarning:\n",
      "\n",
      "Columns (10) have mixed types. Specify dtype option on import or set low_memory=False.\n",
      "\n",
      "c:\\Users\\denid\\anaconda3\\envs\\i2dl\\Lib\\site-packages\\sklearn\\linear_model\\_logistic.py:469: ConvergenceWarning:\n",
      "\n",
      "lbfgs failed to converge (status=1):\n",
      "STOP: TOTAL NO. of ITERATIONS REACHED LIMIT.\n",
      "\n",
      "Increase the number of iterations (max_iter) or scale the data as shown in:\n",
      "    https://scikit-learn.org/stable/modules/preprocessing.html\n",
      "Please also refer to the documentation for alternative solver options:\n",
      "    https://scikit-learn.org/stable/modules/linear_model.html#logistic-regression\n",
      "\n"
     ]
    }
   ],
   "source": [
    "x_var = \"Opposition to Immigration\"\n",
    "y_var = \"Welfare State\"\n",
    "year  = \"2021\"\n",
    "\n",
    "# ------------------------------------------------------------- Data Preprocessing ------------------------------------------------------------------------------------------------\n",
    "party_scaled, voter_scaled = dp.get_scaled_party_voter_data(x_var=x_var, y_var=y_var, year=year)\n",
    "party_scaled_df = party_scaled[['Country', 'Date', 'Calendar_Week', 'Party_Name', f'{x_var} Combined', f'{y_var} Combined', 'Label']].rename(\n",
    "                            columns={f'{x_var} Combined': f'{x_var} Scaled', f'{y_var} Combined': f'{y_var} Scaled'})\n",
    "party_centered, voter_centered = dp.center_party_voter_data(voter_df=voter_scaled, party_df=party_scaled_df, x_var=x_var, y_var=y_var)\n",
    "\n",
    "# ------------------------------------------- Valences from Multinomial Logistic Regression and from DATA  ------------------------------------------------------------------------\n",
    "lambda_values_logit, lambda_df_logit = sm.fit_multinomial_logit(voter_centered=voter_centered, party_centered=party_centered, x_var=x_var, y_var=y_var)\n",
    "\n",
    "lambda_values_external, lambda_df_external = sm.get_external_valences(lambda_df_logit=lambda_df_logit, year=year)\n",
    "\n",
    "beta = 0.7\n"
   ]
  },
  {
   "cell_type": "code",
   "execution_count": null,
   "id": "6d252389",
   "metadata": {},
   "outputs": [],
   "source": [
    "models = [(\"logit\", lambda_values_logit, lambda_df_logit), (\"external\", lambda_values_external, lambda_df_external)]"
   ]
  },
  {
   "cell_type": "code",
   "execution_count": null,
   "id": "ec2a6ee3",
   "metadata": {},
   "outputs": [
    {
     "name": "stdout",
     "output_type": "stream",
     "text": [
      "logit\n",
      "external\n"
     ]
    }
   ],
   "source": [
    "all_party_movements = []\n",
    "\n",
    "for model_name, lambda_values, lambda_df in models:\n",
    "    print(model_name)\n",
    "    char_df = sm.compute_characteristic_matrices(lambda_values=lambda_values,\n",
    "                                                beta=beta,\n",
    "                                                voter_centered=voter_centered,\n",
    "                                                party_centered=party_centered,\n",
    "                                                lambda_df=lambda_df,\n",
    "                                                x_var=x_var,\n",
    "                                                y_var=y_var)\n",
    "    \n",
    "    # tag it with which model produced it:\n",
    "    char_df = char_df.copy()\n",
    "    char_df[\"Model\"] = model_name\n",
    "    all_party_movements.append(char_df)\n",
    "\n",
    "# stitch them together\n",
    "all_party_movements_df = pd.concat(all_party_movements, ignore_index=True)"
   ]
  },
  {
   "cell_type": "code",
   "execution_count": null,
   "id": "34811047",
   "metadata": {},
   "outputs": [
    {
     "name": "stdout",
     "output_type": "stream",
     "text": [
      "      Model      party    type  direction_x  direction_y     t_opt  share_opt\n",
      "0  external  90/Greens  saddle    -0.707107     0.707107  0.550950   0.200467\n",
      "1  external      LINKE  saddle    -0.707107     0.707107  0.964755   0.133406\n",
      "2  external        FDP  saddle    -0.707107     0.707107 -0.597614   0.212956\n",
      "3  external    CDU/CSU  saddle    -0.707107     0.707107 -1.083257   0.109626\n",
      "4  external        AfD  saddle    -0.707107     0.707107 -1.276948   0.110686\n"
     ]
    }
   ],
   "source": [
    "lambda_map = {\"logit\": lambda_values_logit, \"external\": lambda_values_external}\n",
    "lambda_map_df = {\"logit\": lambda_df_logit, \"external\": lambda_df_external}\n",
    "equilibrium_results = []\n",
    "\n",
    "for model, mov_df in all_party_movements_df.groupby(\"Model\"):\n",
    "    λ_vals = lambda_map[model]\n",
    "    λ_df = lambda_map_df[model]\n",
    "    parties = λ_df[\"Party_Name\"].tolist()\n",
    "\n",
    "    party_sub = party_centered.set_index(\"Party_Name\").loc[parties].reset_index()\n",
    "    # Re-align your λ_vals to exactly that same order:\n",
    "    λ_series    = pd.Series(λ_vals, index=λ_df[\"Party_Name\"])\n",
    "    lambda_aligned = λ_series.loc[parties].to_numpy()\n",
    "    \n",
    "    # automatically pick out which parties need saddle‐point moves\n",
    "    saddle_targets = mov_df.loc[mov_df[\"action\"].str.contains(\"Saddle\", case=False), \"Party_Name\"].tolist()\n",
    "    \n",
    "    # and which ones need local‐min‐point moves\n",
    "    local_min_targets = mov_df.loc[mov_df[\"action\"].str.contains(\"local minimum\", case=False), \"Party_Name\"].tolist()\n",
    "    \n",
    "    # --- compute saddle results ---\n",
    "    for party in saddle_targets:\n",
    "        v_pos, t_opt, share_opt = sm.compute_optimal_movement_saddle_position(\n",
    "            lambda_values     = lambda_aligned,\n",
    "            lambda_df         = λ_df.loc[λ_df[\"Party_Name\"].isin(parties)],\n",
    "            voter_centered    = voter_centered,   \n",
    "            party_centered    = party_sub,         \n",
    "            beta              = beta,\n",
    "            x_var             = x_var,\n",
    "            y_var             = y_var,\n",
    "            target_party_name = party)\n",
    "        equilibrium_results.append({\n",
    "            \"Model\":        model,\n",
    "            \"party\":        party,\n",
    "            \"type\":         \"saddle\",\n",
    "            \"direction_x\":  float(v_pos[0]),\n",
    "            \"direction_y\":  float(v_pos[1]),\n",
    "            \"t_opt\":        float(t_opt),\n",
    "            \"share_opt\":    float(share_opt)})\n",
    "    \n",
    "    # --- compute local‐min results ---\n",
    "    for party in local_min_targets:\n",
    "        z_opt, share_opt, info = sm.compute_optimal_movement_local_min_position(\n",
    "            lambda_values     = lambda_aligned,\n",
    "            lambda_df         = λ_df.loc[λ_df[\"Party_Name\"].isin(parties)],\n",
    "            voter_centered    = voter_centered,\n",
    "            party_centered    = party_sub,\n",
    "            target_party_name = party,\n",
    "            x_var             = x_var,\n",
    "            y_var             = y_var)\n",
    "        equilibrium_results.append({\n",
    "            \"Model\":           model,\n",
    "            \"party\":           party,\n",
    "            \"type\":            \"local_min\",\n",
    "            \"optimal_position\": z_opt,\n",
    "            \"share_opt\":       float(share_opt)})\n",
    "        \n",
    "# put it all in one DataFrame\n",
    "equilibrium_results_df = pd.DataFrame(equilibrium_results)\n",
    "equilibrium_results_df_ex = equilibrium_results_df[equilibrium_results_df['Model'] == 'external']\n",
    "print(equilibrium_results_df_ex)"
   ]
  },
  {
   "cell_type": "code",
   "execution_count": null,
   "id": "02aa383c",
   "metadata": {},
   "outputs": [
    {
     "data": {
      "image/png": "[encoded data removed]",
      "text/plain": [
       "<Figure size 1300x1300 with 1 Axes>"
      ]
     },
     "metadata": {},
     "output_type": "display_data"
    }
   ],
   "source": [
    "x = voter_centered[f\"{x_var} Centered\"]\n",
    "y = voter_centered[f\"{y_var} Centered\"]\n",
    "\n",
    "fig, ax = plt.subplots(figsize=(13,13))\n",
    "\n",
    "levels = [0.25, 0.50, 0.75, 0.95]\n",
    "\n",
    "# 1) filled contours in a bright sequential palette\n",
    "sns.kdeplot(\n",
    "    x=x, y=y,\n",
    "    fill=True,\n",
    "    levels=levels,\n",
    "    thresh=0,\n",
    "    cut=2,\n",
    "    bw_adjust=1.3,\n",
    "    cmap='Greys',   \n",
    "    alpha=0.6,\n",
    "    ax=ax)\n",
    "\n",
    "# 2) overlay the same contours as thick black lines\n",
    "sns.kdeplot(\n",
    "    x=x, y=y,\n",
    "    fill=False,\n",
    "    levels=levels,\n",
    "    thresh=0,\n",
    "    cut=2,\n",
    "    bw_adjust=1.3,\n",
    "    color='black',\n",
    "    linewidths=1,\n",
    "    linestyles='-',\n",
    "    ax=ax)\n",
    "\n",
    "# 3) raw voters underneath\n",
    "ax.scatter(\n",
    "    x, y,\n",
    "    s=18, c='lightblue',\n",
    "    edgecolor='none',\n",
    "    alpha=0.6,\n",
    "    label='Voter',\n",
    "    zorder=1)\n",
    "\n",
    "# 4) big red party markers with black border\n",
    "px = party_centered[f\"{x_var} Centered\"]\n",
    "py = party_centered[f\"{y_var} Centered\"]\n",
    "ax.scatter(\n",
    "    px, py,\n",
    "    s=200, c='red',\n",
    "    edgecolor='black', linewidth=1.5,\n",
    "    zorder=3,\n",
    "    label='Party')\n",
    "\n",
    "# 5) white labels\n",
    "for name, xi, yi in zip(party_centered['Party_Name'], px, py):\n",
    "    ax.text(\n",
    "        xi, yi, name,\n",
    "        ha='center', va='center',\n",
    "        color='white', fontweight='bold',\n",
    "        zorder=4)\n",
    "\n",
    "# 6) cross‐hair & labels\n",
    "ax.axhline(0, color='grey', lw=0.5)\n",
    "ax.axvline(0, color='grey', lw=0.5)\n",
    "ax.set_xlabel(f\"{x_var}\", fontsize=12.5, fontweight='bold')\n",
    "ax.set_ylabel(f\"{y_var}\", fontsize=12.5, fontweight='bold')\n",
    "ax.set_xlim(-2.5, 2.5)\n",
    "ax.set_ylim(-2.5, 2.5)\n",
    "\n",
    "# X-axis end-labels\n",
    "ax.text(\n",
    "    0, -0.03, \n",
    "    \"Immigration should be easier\",\n",
    "    transform=ax.transAxes,\n",
    "    ha=\"left\", va=\"top\",\n",
    "    fontsize=11.5, fontstyle='italic')\n",
    "\n",
    "ax.text(\n",
    "    1, -0.03, \n",
    "    \"Immigration should be more difficult\",\n",
    "    transform=ax.transAxes,\n",
    "    ha=\"right\", va=\"top\",\n",
    "    fontsize=11.5, fontstyle='italic')\n",
    "\n",
    "# Y-axis end-labels\n",
    "ax.text(\n",
    "    -0.025, 0.88,\n",
    "    \"More welfare\",\n",
    "    transform=ax.transAxes,\n",
    "    ha=\"right\", va=\"top\",\n",
    "    rotation=90,\n",
    "    fontsize=11.5, fontstyle='italic')\n",
    "\n",
    "ax.text(\n",
    "    -0.025, 0.13,\n",
    "    \"Less welfare\",\n",
    "    transform=ax.transAxes,\n",
    "    ha=\"right\", va=\"bottom\",\n",
    "    rotation=90,\n",
    "    fontsize=11.5, fontstyle='italic')\n",
    "\n",
    "ax.set_title(\n",
    "    \"Maximizing Votes: How Parties Plot Their Way to Power\",\n",
    "    fontsize=16,         \n",
    "    fontweight='bold',   \n",
    "    pad=25)\n",
    "\n",
    "\n",
    "pc = party_centered.set_index('Party_Name')\n",
    "for _, er in equilibrium_results_df_ex.iterrows():\n",
    "    party = er['party']\n",
    "    if party not in pc.index:\n",
    "        continue\n",
    "\n",
    "    # party's own coords\n",
    "    origin = pc.loc[party, [f\"{x_var} Centered\", f\"{y_var} Centered\"]].values\n",
    "\n",
    "    # equilibrium point z* = origin + t_opt * direction\n",
    "    v     = np.array([er['direction_x'], er['direction_y']])\n",
    "    z_opt = origin + er['t_opt'] * v\n",
    "\n",
    "    # plot a gold star at z*\n",
    "    ax.scatter(\n",
    "        z_opt[0], z_opt[1],\n",
    "        marker='*',\n",
    "        s=250,\n",
    "        c='gold',\n",
    "        edgecolor='black',\n",
    "        linewidth=1.2,\n",
    "        zorder=5,\n",
    "        label='_nolegend_'    \n",
    "    )\n",
    "\n",
    "    # 4) add a \"Party*\" label\n",
    "    ax.text(\n",
    "        z_opt[0], z_opt[1],\n",
    "        f\"{party}*\",\n",
    "        ha='center', va='center',\n",
    "        fontsize=10, fontweight='bold',\n",
    "        color='black',\n",
    "        zorder=6\n",
    "    )\n",
    "\n",
    "plt.tight_layout()\n",
    "plt.show()"
   ]
  }
 ],
 "metadata": {
  "kernelspec": {
   "display_name": ".venv",
   "language": "python",
   "name": "python3"
  },
  "language_info": {
   "codemirror_mode": {
    "name": "ipython",
    "version": 3
   },
   "file_extension": ".py",
   "mimetype": "text/x-python",
   "name": "python",
   "nbconvert_exporter": "python",
   "pygments_lexer": "ipython3",
   "version": "3.11.4"
  }
 },
 "nbformat": 4,
 "nbformat_minor": 5
}
