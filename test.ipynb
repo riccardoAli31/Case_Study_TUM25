{
 "cells": [
  {
   "cell_type": "code",
   "execution_count": 8,
   "id": "9e494a3d",
   "metadata": {},
   "outputs": [],
   "source": [
    "import pandas as pd\n",
    "import numpy as np\n",
    "import matplotlib.pyplot as plt\n",
    "import data_preprocessing.data_loading as dl\n",
    "import data_preprocessing.data_preprocess as dp\n",
    "from sklearn.linear_model import LinearRegression\n",
    "from sklearn.preprocessing import PolynomialFeatures\n",
    "import pipeline_helper_functions.schofield_model_helper as sm"
   ]
  },
  {
   "cell_type": "code",
   "execution_count": 9,
   "id": "a14787df",
   "metadata": {},
   "outputs": [],
   "source": [
    "year = \"2025\"\n",
    "df = dl.get_gesis_data(year=year, fill=False)"
   ]
  },
  {
   "cell_type": "code",
   "execution_count": 10,
   "id": "477ce184",
   "metadata": {},
   "outputs": [],
   "source": [
    "# party_map = dl.load_party_leaders(year=year)\n",
    "# # fetch the external valences\n",
    "# valences = dp.get_valence_from_gesis(politicians=party_map, year=year)  \n",
    "# valences"
   ]
  },
  {
   "cell_type": "code",
   "execution_count": 11,
   "id": "6c4f3758",
   "metadata": {},
   "outputs": [
    {
     "data": {
      "text/plain": [
       "immigration foreigners more difficult\n",
       "11.0    1566\n",
       "6.0      944\n",
       "8.0      817\n",
       "7.0      735\n",
       "9.0      668\n",
       "5.0      657\n",
       "3.0      509\n",
       "4.0      479\n",
       "10.0     440\n",
       "1.0      265\n",
       "2.0      257\n",
       "Name: count, dtype: int64"
      ]
     },
     "execution_count": 11,
     "metadata": {},
     "output_type": "execute_result"
    }
   ],
   "source": [
    "df[\"immigration foreigners more difficult\"].value_counts(dropna=False)"
   ]
  },
  {
   "cell_type": "code",
   "execution_count": 12,
   "id": "e685685a",
   "metadata": {},
   "outputs": [
    {
     "data": {
      "text/plain": [
       "more social service, more taxes\n",
       "6.0     1464\n",
       "5.0     1209\n",
       "1.0      839\n",
       "3.0      792\n",
       "4.0      758\n",
       "7.0      609\n",
       "8.0      536\n",
       "9.0      357\n",
       "2.0      344\n",
       "11.0     253\n",
       "10.0     176\n",
       "Name: count, dtype: int64"
      ]
     },
     "execution_count": 12,
     "metadata": {},
     "output_type": "execute_result"
    }
   ],
   "source": [
    "df[\"more social service, more taxes\"].value_counts(dropna=False)"
   ]
  },
  {
   "cell_type": "code",
   "execution_count": 13,
   "id": "6156556f",
   "metadata": {},
   "outputs": [
    {
     "data": {
      "text/plain": [
       "second vote\n",
       "1.0            1864\n",
       "6.0            1135\n",
       "4.0            1027\n",
       "322.0           875\n",
       "NaN             810\n",
       "7.0             784\n",
       "392.0           348\n",
       "5.0             290\n",
       "801.0           204\n",
       "Name: count, dtype: int64"
      ]
     },
     "execution_count": 13,
     "metadata": {},
     "output_type": "execute_result"
    }
   ],
   "source": [
    "df[[\"second vote\"]].value_counts(dropna=False)"
   ]
  },
  {
   "cell_type": "code",
   "execution_count": null,
   "id": "ed0d16c2",
   "metadata": {},
   "outputs": [
    {
     "name": "stderr",
     "output_type": "stream",
     "text": [
      "/Users/hilmar/Desktop/projects/studium/Case_Study_TUM25/data_preprocessing/data_loading.py:39: DtypeWarning: Columns (10) have mixed types. Specify dtype option on import or set low_memory=False.\n",
      "  df = pd.read_csv(csv_path)\n",
      "/Users/hilmar/Desktop/projects/studium/Case_Study_TUM25/data_preprocessing/data_loading.py:54: FutureWarning: errors='ignore' is deprecated and will raise in a future version. Use to_numeric without passing `errors` and catch exceptions explicitly instead\n",
      "  df_filtered = df_filtered.apply(pd.to_numeric, errors=\"ignore\")\n",
      "/Users/hilmar/Desktop/projects/studium/Case_Study_TUM25/data_preprocessing/data_loading.py:60: PerformanceWarning: DataFrame is highly fragmented.  This is usually the result of calling `frame.insert` many times, which has poor performance.  Consider joining all columns at once using pd.concat(axis=1) instead. To get a de-fragmented frame, use `newframe = frame.copy()`\n",
      "  df_filtered['Year'] = (pd.to_datetime(df_filtered['Date'], dayfirst=True).dt.year).astype(str)\n",
      "/Users/hilmar/Desktop/projects/studium/Case_Study_TUM25/data_preprocessing/data_preprocess.py:17: UserWarning: Requested year '2025' not found in party data; falling back to most recent year '2021'.\n",
      "  warnings.warn(f\"Requested year {year!r} not found in party data; \"f\"falling back to most recent year {fallback!r}.\", UserWarning)\n"
     ]
    },
    {
     "data": {
      "text/html": [
       "<div>\n",
       "<style scoped>\n",
       "    .dataframe tbody tr th:only-of-type {\n",
       "        vertical-align: middle;\n",
       "    }\n",
       "\n",
       "    .dataframe tbody tr th {\n",
       "        vertical-align: top;\n",
       "    }\n",
       "\n",
       "    .dataframe thead th {\n",
       "        text-align: right;\n",
       "    }\n",
       "</style>\n",
       "<table border=\"1\" class=\"dataframe\">\n",
       "  <thead>\n",
       "    <tr style=\"text-align: right;\">\n",
       "      <th></th>\n",
       "      <th>Opposition to Immigration</th>\n",
       "      <th>Welfare State</th>\n",
       "      <th>who did you vote for:second vote</th>\n",
       "      <th>year of birth</th>\n",
       "      <th>bundesland</th>\n",
       "      <th>gender</th>\n",
       "      <th>do you incline towards a party, if so which one</th>\n",
       "      <th>how strongly do you incline towards this party</th>\n",
       "      <th>Party_Name</th>\n",
       "      <th>party_choice</th>\n",
       "    </tr>\n",
       "  </thead>\n",
       "  <tbody>\n",
       "    <tr>\n",
       "      <th>0</th>\n",
       "      <td>7.0</td>\n",
       "      <td>8.0</td>\n",
       "      <td>6.0</td>\n",
       "      <td>1983</td>\n",
       "      <td>15.0</td>\n",
       "      <td>2.0</td>\n",
       "      <td>6.0</td>\n",
       "      <td>2.0</td>\n",
       "      <td>90/Greens</td>\n",
       "      <td>0</td>\n",
       "    </tr>\n",
       "    <tr>\n",
       "      <th>1</th>\n",
       "      <td>7.0</td>\n",
       "      <td>6.0</td>\n",
       "      <td>4.0</td>\n",
       "      <td>1962</td>\n",
       "      <td>15.0</td>\n",
       "      <td>1.0</td>\n",
       "      <td>6.0</td>\n",
       "      <td>2.0</td>\n",
       "      <td>SPD</td>\n",
       "      <td>1</td>\n",
       "    </tr>\n",
       "    <tr>\n",
       "      <th>2</th>\n",
       "      <td>4.0</td>\n",
       "      <td>5.0</td>\n",
       "      <td>7.0</td>\n",
       "      <td>2005</td>\n",
       "      <td>15.0</td>\n",
       "      <td>2.0</td>\n",
       "      <td>7.0</td>\n",
       "      <td>2.0</td>\n",
       "      <td>LINKE</td>\n",
       "      <td>2</td>\n",
       "    </tr>\n",
       "    <tr>\n",
       "      <th>3</th>\n",
       "      <td>5.0</td>\n",
       "      <td>8.0</td>\n",
       "      <td>6.0</td>\n",
       "      <td>1998</td>\n",
       "      <td>15.0</td>\n",
       "      <td>2.0</td>\n",
       "      <td>6.0</td>\n",
       "      <td>3.0</td>\n",
       "      <td>90/Greens</td>\n",
       "      <td>0</td>\n",
       "    </tr>\n",
       "    <tr>\n",
       "      <th>4</th>\n",
       "      <td>8.0</td>\n",
       "      <td>3.0</td>\n",
       "      <td>1.0</td>\n",
       "      <td>1964</td>\n",
       "      <td>15.0</td>\n",
       "      <td>2.0</td>\n",
       "      <td>1.0</td>\n",
       "      <td>2.0</td>\n",
       "      <td>CDU/CSU</td>\n",
       "      <td>3</td>\n",
       "    </tr>\n",
       "    <tr>\n",
       "      <th>...</th>\n",
       "      <td>...</td>\n",
       "      <td>...</td>\n",
       "      <td>...</td>\n",
       "      <td>...</td>\n",
       "      <td>...</td>\n",
       "      <td>...</td>\n",
       "      <td>...</td>\n",
       "      <td>...</td>\n",
       "      <td>...</td>\n",
       "      <td>...</td>\n",
       "    </tr>\n",
       "    <tr>\n",
       "      <th>5861</th>\n",
       "      <td>4.0</td>\n",
       "      <td>1.0</td>\n",
       "      <td>4.0</td>\n",
       "      <td>1966</td>\n",
       "      <td>13.0</td>\n",
       "      <td>2.0</td>\n",
       "      <td>2.0</td>\n",
       "      <td>3.0</td>\n",
       "      <td>SPD</td>\n",
       "      <td>1</td>\n",
       "    </tr>\n",
       "    <tr>\n",
       "      <th>5862</th>\n",
       "      <td>6.0</td>\n",
       "      <td>6.0</td>\n",
       "      <td>322.0</td>\n",
       "      <td>1957</td>\n",
       "      <td>13.0</td>\n",
       "      <td>2.0</td>\n",
       "      <td>322.0</td>\n",
       "      <td>2.0</td>\n",
       "      <td>AfD</td>\n",
       "      <td>4</td>\n",
       "    </tr>\n",
       "    <tr>\n",
       "      <th>5863</th>\n",
       "      <td>11.0</td>\n",
       "      <td>4.0</td>\n",
       "      <td>4.0</td>\n",
       "      <td>1969</td>\n",
       "      <td>13.0</td>\n",
       "      <td>1.0</td>\n",
       "      <td>801.0</td>\n",
       "      <td>NaN</td>\n",
       "      <td>SPD</td>\n",
       "      <td>1</td>\n",
       "    </tr>\n",
       "    <tr>\n",
       "      <th>5864</th>\n",
       "      <td>1.0</td>\n",
       "      <td>6.0</td>\n",
       "      <td>4.0</td>\n",
       "      <td>1966</td>\n",
       "      <td>13.0</td>\n",
       "      <td>2.0</td>\n",
       "      <td>801.0</td>\n",
       "      <td>NaN</td>\n",
       "      <td>SPD</td>\n",
       "      <td>1</td>\n",
       "    </tr>\n",
       "    <tr>\n",
       "      <th>5865</th>\n",
       "      <td>10.0</td>\n",
       "      <td>2.0</td>\n",
       "      <td>322.0</td>\n",
       "      <td>1965</td>\n",
       "      <td>13.0</td>\n",
       "      <td>1.0</td>\n",
       "      <td>322.0</td>\n",
       "      <td>2.0</td>\n",
       "      <td>AfD</td>\n",
       "      <td>4</td>\n",
       "    </tr>\n",
       "  </tbody>\n",
       "</table>\n",
       "<p>5866 rows × 10 columns</p>\n",
       "</div>"
      ],
      "text/plain": [
       "      Opposition to Immigration  Welfare State  \\\n",
       "0                           7.0            8.0   \n",
       "1                           7.0            6.0   \n",
       "2                           4.0            5.0   \n",
       "3                           5.0            8.0   \n",
       "4                           8.0            3.0   \n",
       "...                         ...            ...   \n",
       "5861                        4.0            1.0   \n",
       "5862                        6.0            6.0   \n",
       "5863                       11.0            4.0   \n",
       "5864                        1.0            6.0   \n",
       "5865                       10.0            2.0   \n",
       "\n",
       "      who did you vote for:second vote year of birth  bundesland  gender  \\\n",
       "0                                  6.0          1983        15.0     2.0   \n",
       "1                                  4.0          1962        15.0     1.0   \n",
       "2                                  7.0          2005        15.0     2.0   \n",
       "3                                  6.0          1998        15.0     2.0   \n",
       "4                                  1.0          1964        15.0     2.0   \n",
       "...                                ...           ...         ...     ...   \n",
       "5861                               4.0          1966        13.0     2.0   \n",
       "5862                             322.0          1957        13.0     2.0   \n",
       "5863                               4.0          1969        13.0     1.0   \n",
       "5864                               4.0          1966        13.0     2.0   \n",
       "5865                             322.0          1965        13.0     1.0   \n",
       "\n",
       "      do you incline towards a party, if so which one  \\\n",
       "0                                                 6.0   \n",
       "1                                                 6.0   \n",
       "2                                                 7.0   \n",
       "3                                                 6.0   \n",
       "4                                                 1.0   \n",
       "...                                               ...   \n",
       "5861                                              2.0   \n",
       "5862                                            322.0   \n",
       "5863                                            801.0   \n",
       "5864                                            801.0   \n",
       "5865                                            322.0   \n",
       "\n",
       "      how strongly do you incline towards this party Party_Name  party_choice  \n",
       "0                                                2.0  90/Greens             0  \n",
       "1                                                2.0        SPD             1  \n",
       "2                                                2.0      LINKE             2  \n",
       "3                                                3.0  90/Greens             0  \n",
       "4                                                2.0    CDU/CSU             3  \n",
       "...                                              ...        ...           ...  \n",
       "5861                                             3.0        SPD             1  \n",
       "5862                                             2.0        AfD             4  \n",
       "5863                                             NaN        SPD             1  \n",
       "5864                                             NaN        SPD             1  \n",
       "5865                                             2.0        AfD             4  \n",
       "\n",
       "[5866 rows x 10 columns]"
      ]
     },
     "execution_count": 11,
     "metadata": {},
     "output_type": "execute_result"
    }
   ],
   "source": [
    "x_var = \"Opposition to Immigration\"\n",
    "y_var = \"Welfare State\"\n",
    "year  = \"2025\"\n",
    "_, df = dp.get_raw_party_voter_data(x_var=x_var, y_var=y_var, year=year)\n",
    "\n",
    "df"
   ]
  },
  {
   "cell_type": "code",
   "execution_count": null,
   "id": "3ece1ba3",
   "metadata": {},
   "outputs": [
    {
     "data": {
      "text/plain": [
       "who did you vote for:second vote\n",
       "1.0      1842\n",
       "6.0      1119\n",
       "4.0      1014\n",
       "322.0     858\n",
       "7.0       751\n",
       "5.0       282\n",
       "Name: count, dtype: int64"
      ]
     },
     "execution_count": 12,
     "metadata": {},
     "output_type": "execute_result"
    }
   ],
   "source": [
    "df[\"second vote\"].value_counts()"
   ]
  },
  {
   "cell_type": "code",
   "execution_count": null,
   "id": "485633cc",
   "metadata": {},
   "outputs": [
    {
     "data": {
      "text/plain": [
       "gender\n",
       "1.0    0.595571\n",
       "2.0    0.404429\n",
       "Name: count, dtype: float64"
      ]
     },
     "execution_count": 13,
     "metadata": {},
     "output_type": "execute_result"
    }
   ],
   "source": [
    "# for party in df[\"second vote\"].unique():\n",
    "party = 322\n",
    "(df[df[\"second vote\"] == party][\"gender\"].value_counts()/len(df[df[\"second vote\"] == party])).sort_index()"
   ]
  },
  {
   "cell_type": "code",
   "execution_count": null,
   "id": "a4eed9dc",
   "metadata": {},
   "outputs": [
    {
     "data": {
      "text/plain": [
       "<Axes: >"
      ]
     },
     "execution_count": 14,
     "metadata": {},
     "output_type": "execute_result"
    },
    {
     "data": {
      "image/png": "[encoded data removed]",
      "text/plain": [
       "<Figure size 640x480 with 1 Axes>"
      ]
     },
     "metadata": {},
     "output_type": "display_data"
    }
   ],
   "source": [
    "df[df[\"second vote\"] == party][\"gender\"].hist()"
   ]
  },
  {
   "cell_type": "code",
   "execution_count": null,
   "id": "6f93aaa8",
   "metadata": {},
   "outputs": [],
   "source": []
  }
 ],
 "metadata": {
  "kernelspec": {
   "display_name": ".venv",
   "language": "python",
   "name": "python3"
  },
  "language_info": {
   "codemirror_mode": {
    "name": "ipython",
    "version": 3
   },
   "file_extension": ".py",
   "mimetype": "text/x-python",
   "name": "python",
   "nbconvert_exporter": "python",
   "pygments_lexer": "ipython3",
   "version": "3.11.4"
  }
 },
 "nbformat": 4,
 "nbformat_minor": 5
}
