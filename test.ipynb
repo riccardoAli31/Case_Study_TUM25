{
 "cells": [
  {
   "cell_type": "code",
   "execution_count": 1,
   "id": "9e494a3d",
   "metadata": {},
   "outputs": [],
   "source": [
    "import pandas as pd\n",
    "import numpy as np\n",
    "import matplotlib.pyplot as plt\n",
    "import data_preprocessing.data_loading as dl\n",
    "import data_preprocessing.data_preprocess as dp\n",
    "from sklearn.linear_model import LinearRegression\n",
    "from sklearn.preprocessing import PolynomialFeatures\n",
    "import pipeline_helper_functions.schofield_model_helper as sm"
   ]
  },
  {
   "cell_type": "code",
   "execution_count": 2,
   "id": "a14787df",
   "metadata": {},
   "outputs": [],
   "source": [
    "year = \"2025\"\n",
    "df = dl.get_gesis_data(year=year)"
   ]
  },
  {
   "cell_type": "code",
   "execution_count": 3,
   "id": "477ce184",
   "metadata": {},
   "outputs": [],
   "source": [
    "party_map = dl.load_party_leaders(year=year)\n",
    "# fetch the external valences\n",
    "valences = dp.get_valence_from_gesis(politicians=party_map, year=year)  "
   ]
  },
  {
   "cell_type": "code",
   "execution_count": 4,
   "id": "a0e9a1de",
   "metadata": {},
   "outputs": [
    {
     "data": {
      "text/html": [
       "<div>\n",
       "<style scoped>\n",
       "    .dataframe tbody tr th:only-of-type {\n",
       "        vertical-align: middle;\n",
       "    }\n",
       "\n",
       "    .dataframe tbody tr th {\n",
       "        vertical-align: top;\n",
       "    }\n",
       "\n",
       "    .dataframe thead th {\n",
       "        text-align: right;\n",
       "    }\n",
       "</style>\n",
       "<table border=\"1\" class=\"dataframe\">\n",
       "  <thead>\n",
       "    <tr style=\"text-align: right;\">\n",
       "      <th></th>\n",
       "      <th>Party_Name</th>\n",
       "      <th>politician</th>\n",
       "      <th>valence</th>\n",
       "    </tr>\n",
       "  </thead>\n",
       "  <tbody>\n",
       "    <tr>\n",
       "      <th>0</th>\n",
       "      <td>90/Greens</td>\n",
       "      <td>habeck</td>\n",
       "      <td>0.298248</td>\n",
       "    </tr>\n",
       "    <tr>\n",
       "      <th>1</th>\n",
       "      <td>AfD</td>\n",
       "      <td>weidel</td>\n",
       "      <td>-0.396030</td>\n",
       "    </tr>\n",
       "    <tr>\n",
       "      <th>2</th>\n",
       "      <td>BSW</td>\n",
       "      <td>wagenknecht</td>\n",
       "      <td>-0.150842</td>\n",
       "    </tr>\n",
       "    <tr>\n",
       "      <th>3</th>\n",
       "      <td>CDU/CSU</td>\n",
       "      <td>merz</td>\n",
       "      <td>0.236557</td>\n",
       "    </tr>\n",
       "    <tr>\n",
       "      <th>4</th>\n",
       "      <td>FDP</td>\n",
       "      <td>lindner</td>\n",
       "      <td>-0.124270</td>\n",
       "    </tr>\n",
       "    <tr>\n",
       "      <th>5</th>\n",
       "      <td>LINKE</td>\n",
       "      <td>vanaken</td>\n",
       "      <td>0.056361</td>\n",
       "    </tr>\n",
       "    <tr>\n",
       "      <th>6</th>\n",
       "      <td>SPD</td>\n",
       "      <td>scholz</td>\n",
       "      <td>0.093695</td>\n",
       "    </tr>\n",
       "  </tbody>\n",
       "</table>\n",
       "</div>"
      ],
      "text/plain": [
       "  Party_Name   politician   valence\n",
       "0  90/Greens       habeck  0.298248\n",
       "1        AfD       weidel -0.396030\n",
       "2        BSW  wagenknecht -0.150842\n",
       "3    CDU/CSU         merz  0.236557\n",
       "4        FDP      lindner -0.124270\n",
       "5      LINKE      vanaken  0.056361\n",
       "6        SPD       scholz  0.093695"
      ]
     },
     "execution_count": 4,
     "metadata": {},
     "output_type": "execute_result"
    }
   ],
   "source": [
    "valences"
   ]
  },
  {
   "cell_type": "code",
   "execution_count": 5,
   "id": "e685685a",
   "metadata": {},
   "outputs": [
    {
     "data": {
      "text/plain": [
       "array([ 5.,  3.,  8.,  6.,  7.,  1., 11.,  4.,  9.,  2., 10.])"
      ]
     },
     "execution_count": 5,
     "metadata": {},
     "output_type": "execute_result"
    }
   ],
   "source": [
    "df[\"more social service, more taxes\"].unique()"
   ]
  },
  {
   "cell_type": "code",
   "execution_count": 6,
   "id": "054ba30c",
   "metadata": {},
   "outputs": [
    {
     "data": {
      "text/plain": [
       "array([  6.,   4.,   7.,   1., 322., 801., 392.,   5.])"
      ]
     },
     "execution_count": 6,
     "metadata": {},
     "output_type": "execute_result"
    }
   ],
   "source": [
    "# df[[\"who did you vote for:first vote\", \"who did you vote for:second vote\"]].head(10)\n",
    "df[\"who did you vote for:second vote\"].unique()"
   ]
  },
  {
   "cell_type": "code",
   "execution_count": 7,
   "id": "2a25bc09",
   "metadata": {},
   "outputs": [
    {
     "data": {
      "text/plain": [
       "array(['1999', '2005', '1983', '1962', '1998', '1964', '1941', '1956',\n",
       "       '1997', '1966', '1985', '1969', '1955', '1960', '1995', '1963',\n",
       "       '2003', '1980', '1971', '1993', '1943', '1938', '1945', '1946',\n",
       "       '1949', '1951', '1957', '1959', '1961', '1970', '1979', '1982',\n",
       "       '2000', '2002', '2007', '1935 oder frueher', '1944',\n",
       "       '-99 keine Angabe', '1984', '2006', '1948', '1953', '1954', '2004',\n",
       "       '1981', '1987', '1991', '1990', '1974', '1973', '1939', '1967',\n",
       "       '1937', '1952', '1958', '1972', '1965', '2008', '1947', '1989',\n",
       "       '1942', '1968', '1976', '1988', '1950', '1978', '1986', '1996',\n",
       "       '1992', '1994', '1940', '1975', '1977', '1936', '2001', '2009'],\n",
       "      dtype=object)"
      ]
     },
     "execution_count": 7,
     "metadata": {},
     "output_type": "execute_result"
    }
   ],
   "source": [
    "df[\"year of birth\"].unique()"
   ]
  },
  {
   "cell_type": "code",
   "execution_count": 8,
   "id": "c055ad4c",
   "metadata": {},
   "outputs": [
    {
     "name": "stdout",
     "output_type": "stream",
     "text": [
      "'asda' is not an int\n"
     ]
    }
   ],
   "source": [
    "a = \"asda\"\n",
    "print(f\"'{a}' is not an int\")"
   ]
  },
  {
   "cell_type": "code",
   "execution_count": 14,
   "id": "ed0d16c2",
   "metadata": {},
   "outputs": [
    {
     "name": "stderr",
     "output_type": "stream",
     "text": [
      "/Users/hilmar/Desktop/projects/studium/Case_Study_TUM25/data_preprocessing/data_loading.py:39: DtypeWarning: Columns (10) have mixed types. Specify dtype option on import or set low_memory=False.\n",
      "  df = pd.read_csv(csv_path)\n",
      "/Users/hilmar/Desktop/projects/studium/Case_Study_TUM25/data_preprocessing/data_loading.py:54: FutureWarning: errors='ignore' is deprecated and will raise in a future version. Use to_numeric without passing `errors` and catch exceptions explicitly instead\n",
      "  df_filtered = df_filtered.apply(pd.to_numeric, errors=\"ignore\")\n",
      "/Users/hilmar/Desktop/projects/studium/Case_Study_TUM25/data_preprocessing/data_loading.py:60: PerformanceWarning: DataFrame is highly fragmented.  This is usually the result of calling `frame.insert` many times, which has poor performance.  Consider joining all columns at once using pd.concat(axis=1) instead. To get a de-fragmented frame, use `newframe = frame.copy()`\n",
      "  df_filtered['Year'] = (pd.to_datetime(df_filtered['Date'], dayfirst=True).dt.year).astype(str)\n",
      "/Users/hilmar/Desktop/projects/studium/Case_Study_TUM25/data_preprocessing/data_preprocess.py:16: UserWarning: Requested year '2025' not found in party data; falling back to most recent year '2021'.\n",
      "  warnings.warn(f\"Requested year {year!r} not found in party data; \"f\"falling back to most recent year {fallback!r}.\", UserWarning)\n"
     ]
    }
   ],
   "source": [
    "x_var = \"Opposition to Immigration\"\n",
    "y_var = \"Welfare State\"\n",
    "year  = \"2025\"\n",
    "_, df = dp.get_raw_party_voter_data(x_var=x_var, y_var=y_var, year=year)\n",
    "\n",
    "# df.drop(df[df[\"year of birth\"] == '-99 keine Angabe'])\n",
    "# df[\"year of birth\"].unique()\n",
    "\n",
    "df[\"year of birth\"] = pd.to_numeric(df[\"year of birth\"], errors=\"coerce\")\n",
    "df.dropna(subset=\"year of birth\", inplace=True, ignore_index=True)"
   ]
  },
  {
   "cell_type": "code",
   "execution_count": 15,
   "id": "2053cd85",
   "metadata": {},
   "outputs": [
    {
     "data": {
      "text/html": [
       "<div>\n",
       "<style scoped>\n",
       "    .dataframe tbody tr th:only-of-type {\n",
       "        vertical-align: middle;\n",
       "    }\n",
       "\n",
       "    .dataframe tbody tr th {\n",
       "        vertical-align: top;\n",
       "    }\n",
       "\n",
       "    .dataframe thead th {\n",
       "        text-align: right;\n",
       "    }\n",
       "</style>\n",
       "<table border=\"1\" class=\"dataframe\">\n",
       "  <thead>\n",
       "    <tr style=\"text-align: right;\">\n",
       "      <th></th>\n",
       "      <th>Opposition to Immigration</th>\n",
       "      <th>Welfare State</th>\n",
       "      <th>who did you vote for:second vote</th>\n",
       "      <th>year of birth</th>\n",
       "      <th>do you incline towards a party, if so which one</th>\n",
       "      <th>how strongly do you incline towards this party</th>\n",
       "      <th>Party_Name</th>\n",
       "      <th>party_choice</th>\n",
       "      <th>age</th>\n",
       "      <th>bracket</th>\n",
       "    </tr>\n",
       "  </thead>\n",
       "  <tbody>\n",
       "    <tr>\n",
       "      <th>0</th>\n",
       "      <td>9.0</td>\n",
       "      <td>5.0</td>\n",
       "      <td>6.0</td>\n",
       "      <td>1999.0</td>\n",
       "      <td>4.0</td>\n",
       "      <td>3.0</td>\n",
       "      <td>90/Greens</td>\n",
       "      <td>0</td>\n",
       "      <td>26.0</td>\n",
       "      <td>1.0</td>\n",
       "    </tr>\n",
       "    <tr>\n",
       "      <th>1</th>\n",
       "      <td>9.0</td>\n",
       "      <td>3.0</td>\n",
       "      <td>6.0</td>\n",
       "      <td>2005.0</td>\n",
       "      <td>6.0</td>\n",
       "      <td>2.0</td>\n",
       "      <td>90/Greens</td>\n",
       "      <td>0</td>\n",
       "      <td>20.0</td>\n",
       "      <td>0.0</td>\n",
       "    </tr>\n",
       "    <tr>\n",
       "      <th>2</th>\n",
       "      <td>7.0</td>\n",
       "      <td>8.0</td>\n",
       "      <td>6.0</td>\n",
       "      <td>1983.0</td>\n",
       "      <td>6.0</td>\n",
       "      <td>2.0</td>\n",
       "      <td>90/Greens</td>\n",
       "      <td>0</td>\n",
       "      <td>42.0</td>\n",
       "      <td>2.0</td>\n",
       "    </tr>\n",
       "    <tr>\n",
       "      <th>3</th>\n",
       "      <td>7.0</td>\n",
       "      <td>6.0</td>\n",
       "      <td>4.0</td>\n",
       "      <td>1962.0</td>\n",
       "      <td>6.0</td>\n",
       "      <td>2.0</td>\n",
       "      <td>SPD</td>\n",
       "      <td>1</td>\n",
       "      <td>63.0</td>\n",
       "      <td>4.0</td>\n",
       "    </tr>\n",
       "    <tr>\n",
       "      <th>4</th>\n",
       "      <td>4.0</td>\n",
       "      <td>5.0</td>\n",
       "      <td>7.0</td>\n",
       "      <td>2005.0</td>\n",
       "      <td>7.0</td>\n",
       "      <td>2.0</td>\n",
       "      <td>LINKE</td>\n",
       "      <td>2</td>\n",
       "      <td>20.0</td>\n",
       "      <td>0.0</td>\n",
       "    </tr>\n",
       "    <tr>\n",
       "      <th>...</th>\n",
       "      <td>...</td>\n",
       "      <td>...</td>\n",
       "      <td>...</td>\n",
       "      <td>...</td>\n",
       "      <td>...</td>\n",
       "      <td>...</td>\n",
       "      <td>...</td>\n",
       "      <td>...</td>\n",
       "      <td>...</td>\n",
       "      <td>...</td>\n",
       "    </tr>\n",
       "    <tr>\n",
       "      <th>6672</th>\n",
       "      <td>6.0</td>\n",
       "      <td>6.0</td>\n",
       "      <td>322.0</td>\n",
       "      <td>1957.0</td>\n",
       "      <td>322.0</td>\n",
       "      <td>2.0</td>\n",
       "      <td>AfD</td>\n",
       "      <td>4</td>\n",
       "      <td>68.0</td>\n",
       "      <td>5.0</td>\n",
       "    </tr>\n",
       "    <tr>\n",
       "      <th>6673</th>\n",
       "      <td>8.0</td>\n",
       "      <td>3.0</td>\n",
       "      <td>6.0</td>\n",
       "      <td>1977.0</td>\n",
       "      <td>801.0</td>\n",
       "      <td>2.0</td>\n",
       "      <td>90/Greens</td>\n",
       "      <td>0</td>\n",
       "      <td>48.0</td>\n",
       "      <td>3.0</td>\n",
       "    </tr>\n",
       "    <tr>\n",
       "      <th>6674</th>\n",
       "      <td>11.0</td>\n",
       "      <td>4.0</td>\n",
       "      <td>4.0</td>\n",
       "      <td>1969.0</td>\n",
       "      <td>801.0</td>\n",
       "      <td>2.0</td>\n",
       "      <td>SPD</td>\n",
       "      <td>1</td>\n",
       "      <td>56.0</td>\n",
       "      <td>4.0</td>\n",
       "    </tr>\n",
       "    <tr>\n",
       "      <th>6675</th>\n",
       "      <td>1.0</td>\n",
       "      <td>6.0</td>\n",
       "      <td>4.0</td>\n",
       "      <td>1966.0</td>\n",
       "      <td>801.0</td>\n",
       "      <td>2.0</td>\n",
       "      <td>SPD</td>\n",
       "      <td>1</td>\n",
       "      <td>59.0</td>\n",
       "      <td>4.0</td>\n",
       "    </tr>\n",
       "    <tr>\n",
       "      <th>6676</th>\n",
       "      <td>10.0</td>\n",
       "      <td>2.0</td>\n",
       "      <td>322.0</td>\n",
       "      <td>1965.0</td>\n",
       "      <td>322.0</td>\n",
       "      <td>2.0</td>\n",
       "      <td>AfD</td>\n",
       "      <td>4</td>\n",
       "      <td>60.0</td>\n",
       "      <td>4.0</td>\n",
       "    </tr>\n",
       "  </tbody>\n",
       "</table>\n",
       "<p>6677 rows × 10 columns</p>\n",
       "</div>"
      ],
      "text/plain": [
       "      Opposition to Immigration  Welfare State  \\\n",
       "0                           9.0            5.0   \n",
       "1                           9.0            3.0   \n",
       "2                           7.0            8.0   \n",
       "3                           7.0            6.0   \n",
       "4                           4.0            5.0   \n",
       "...                         ...            ...   \n",
       "6672                        6.0            6.0   \n",
       "6673                        8.0            3.0   \n",
       "6674                       11.0            4.0   \n",
       "6675                        1.0            6.0   \n",
       "6676                       10.0            2.0   \n",
       "\n",
       "      who did you vote for:second vote  year of birth  \\\n",
       "0                                  6.0         1999.0   \n",
       "1                                  6.0         2005.0   \n",
       "2                                  6.0         1983.0   \n",
       "3                                  4.0         1962.0   \n",
       "4                                  7.0         2005.0   \n",
       "...                                ...            ...   \n",
       "6672                             322.0         1957.0   \n",
       "6673                               6.0         1977.0   \n",
       "6674                               4.0         1969.0   \n",
       "6675                               4.0         1966.0   \n",
       "6676                             322.0         1965.0   \n",
       "\n",
       "      do you incline towards a party, if so which one  \\\n",
       "0                                                 4.0   \n",
       "1                                                 6.0   \n",
       "2                                                 6.0   \n",
       "3                                                 6.0   \n",
       "4                                                 7.0   \n",
       "...                                               ...   \n",
       "6672                                            322.0   \n",
       "6673                                            801.0   \n",
       "6674                                            801.0   \n",
       "6675                                            801.0   \n",
       "6676                                            322.0   \n",
       "\n",
       "      how strongly do you incline towards this party Party_Name  party_choice  \\\n",
       "0                                                3.0  90/Greens             0   \n",
       "1                                                2.0  90/Greens             0   \n",
       "2                                                2.0  90/Greens             0   \n",
       "3                                                2.0        SPD             1   \n",
       "4                                                2.0      LINKE             2   \n",
       "...                                              ...        ...           ...   \n",
       "6672                                             2.0        AfD             4   \n",
       "6673                                             2.0  90/Greens             0   \n",
       "6674                                             2.0        SPD             1   \n",
       "6675                                             2.0        SPD             1   \n",
       "6676                                             2.0        AfD             4   \n",
       "\n",
       "       age  bracket  \n",
       "0     26.0      1.0  \n",
       "1     20.0      0.0  \n",
       "2     42.0      2.0  \n",
       "3     63.0      4.0  \n",
       "4     20.0      0.0  \n",
       "...    ...      ...  \n",
       "6672  68.0      5.0  \n",
       "6673  48.0      3.0  \n",
       "6674  56.0      4.0  \n",
       "6675  59.0      4.0  \n",
       "6676  60.0      4.0  \n",
       "\n",
       "[6677 rows x 10 columns]"
      ]
     },
     "execution_count": 15,
     "metadata": {},
     "output_type": "execute_result"
    }
   ],
   "source": [
    "def get_age(voter_df: pd.DataFrame, year_of_survey: int):\n",
    "    if \"year of birth\" not in voter_df:\n",
    "        print(\"haja\")\n",
    "        return\n",
    "    def calculate_age(year): return year_of_survey - year\n",
    "    voter_df[\"age\"] = voter_df[\"year of birth\"].apply(calculate_age)\n",
    "    # voter_df.drop(\"year of birth\", axis=1, inplace=True)\n",
    "    return voter_df    \n",
    "\n",
    "\n",
    "def get_age_bracket(voter_df: pd.DataFrame):\n",
    "    brackets = {(18, 25): 0, (26, 35): 1, (36, 45): 2, (46, 55): 3, (56, 65): 4, (66, 200): 5}\n",
    "\n",
    "    def find_bracket(age): \n",
    "        for (start, end), bracket in brackets.items(): \n",
    "            if start <= age <= end: \n",
    "                return bracket\n",
    "            \n",
    "    voter_df[\"bracket\"] = voter_df[\"age\"].apply(find_bracket)\n",
    "    # voter_df.drop(\"age\", axis=1, inplace=True)\n",
    "    return voter_df\n",
    "\n",
    "\n",
    "\n",
    "df = get_age(df, int(year))\n",
    "df = get_age_bracket(df)\n",
    "\n",
    "df"
   ]
  },
  {
   "cell_type": "code",
   "execution_count": 16,
   "id": "3ece1ba3",
   "metadata": {},
   "outputs": [
    {
     "data": {
      "text/plain": [
       "who did you vote for:second vote\n",
       "6.0      2005\n",
       "1.0      1808\n",
       "4.0       994\n",
       "322.0     848\n",
       "7.0       741\n",
       "5.0       281\n",
       "Name: count, dtype: int64"
      ]
     },
     "execution_count": 16,
     "metadata": {},
     "output_type": "execute_result"
    }
   ],
   "source": [
    "df[\"who did you vote for:second vote\"].value_counts()"
   ]
  },
  {
   "cell_type": "code",
   "execution_count": 19,
   "id": "485633cc",
   "metadata": {},
   "outputs": [
    {
     "data": {
      "text/plain": [
       "bracket\n",
       "0.0    0.101247\n",
       "1.0    0.135162\n",
       "2.0    0.145137\n",
       "3.0    0.160599\n",
       "4.0    0.200000\n",
       "5.0    0.219451\n",
       "Name: count, dtype: float64"
      ]
     },
     "execution_count": 19,
     "metadata": {},
     "output_type": "execute_result"
    }
   ],
   "source": [
    "# for party in df[\"who did you vote for:second vote\"].unique():\n",
    "party = 6\n",
    "(df[df[\"who did you vote for:second vote\"] == party][\"bracket\"].value_counts()/len(df[df[\"who did you vote for:second vote\"] == party])).sort_index()"
   ]
  },
  {
   "cell_type": "code",
   "execution_count": 20,
   "id": "a4eed9dc",
   "metadata": {},
   "outputs": [
    {
     "data": {
      "text/plain": [
       "<Axes: >"
      ]
     },
     "execution_count": 20,
     "metadata": {},
     "output_type": "execute_result"
    },
    {
     "data": {
      "image/png": "[encoded data removed]",
      "text/plain": [
       "<Figure size 640x480 with 1 Axes>"
      ]
     },
     "metadata": {},
     "output_type": "display_data"
    }
   ],
   "source": [
    "df[df[\"who did you vote for:second vote\"] == party][\"bracket\"].hist()"
   ]
  },
  {
   "cell_type": "code",
   "execution_count": null,
   "id": "6f93aaa8",
   "metadata": {},
   "outputs": [],
   "source": []
  }
 ],
 "metadata": {
  "kernelspec": {
   "display_name": ".venv",
   "language": "python",
   "name": "python3"
  },
  "language_info": {
   "codemirror_mode": {
    "name": "ipython",
    "version": 3
   },
   "file_extension": ".py",
   "mimetype": "text/x-python",
   "name": "python",
   "nbconvert_exporter": "python",
   "pygments_lexer": "ipython3",
   "version": "3.11.4"
  }
 },
 "nbformat": 4,
 "nbformat_minor": 5
}
