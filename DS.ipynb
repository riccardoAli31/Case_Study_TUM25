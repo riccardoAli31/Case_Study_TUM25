{
 "cells": [
  {
   "cell_type": "code",
   "execution_count": 30,
   "id": "2ea05a22",
   "metadata": {},
   "outputs": [],
   "source": [
    "import pandas as pd\n",
    "import plotly.express as px\n",
    "import data_preprocessing.data_preprocess as dp\n",
    "import numpy as np\n",
    "from scipy.stats import gaussian_kde\n",
    "import matplotlib.pyplot as plt\n",
    "from sklearn.mixture import GaussianMixture\n",
    "from scipy.spatial.distance import cdist\n",
    "from scipy.stats import multivariate_normal\n",
    "from scipy.spatial.distance import cdist"
   ]
  },
  {
   "cell_type": "code",
   "execution_count": 2,
   "id": "a42cb699",
   "metadata": {},
   "outputs": [],
   "source": [
    "# Interesting variables to be considered for policy space\n",
    "policy_vars = [\n",
    "    \"Military: Positive\",\n",
    "    \"European Community/Union: Positive\",\n",
    "    \"Freedom and Human Rights\",\n",
    "    \"Democracy\",\n",
    "    \"Political Corruption\",\n",
    "    \"Environmental Protection\",\n",
    "    \"Welfare State\",\n",
    "    \"Right-left position\",\n",
    "    \"Planned Economy\",\n",
    "    \"Equality: Positive\"]"
   ]
  },
  {
   "cell_type": "code",
   "execution_count": 7,
   "id": "3d093be7",
   "metadata": {},
   "outputs": [
    {
     "name": "stderr",
     "output_type": "stream",
     "text": [
      "c:\\Users\\natal\\Case_Study_TUM25\\data_preprocessing\\data_loading.py:39: DtypeWarning: Columns (10) have mixed types. Specify dtype option on import or set low_memory=False.\n",
      "  df = pd.read_csv(csv_path)\n",
      "c:\\Users\\natal\\Case_Study_TUM25\\data_preprocessing\\data_loading.py:54: FutureWarning: errors='ignore' is deprecated and will raise in a future version. Use to_numeric without passing `errors` and catch exceptions explicitly instead\n",
      "  df_filtered = df_filtered.apply(pd.to_numeric, errors=\"ignore\")\n",
      "c:\\Users\\natal\\Case_Study_TUM25\\data_preprocessing\\data_loading.py:60: PerformanceWarning: DataFrame is highly fragmented.  This is usually the result of calling `frame.insert` many times, which has poor performance.  Consider joining all columns at once using pd.concat(axis=1) instead. To get a de-fragmented frame, use `newframe = frame.copy()`\n",
      "  df_filtered['Year'] = (pd.to_datetime(df_filtered['Date'], dayfirst=True).dt.year).astype(str)\n",
      "c:\\Users\\natal\\Case_Study_TUM25\\data_preprocessing\\data_preprocess.py:44: UserWarning: Requested year 2021 not found in party data; falling back to most recent year '2021'.\n",
      "  warnings.warn(f\"Requested year {year!r} not found in party data; \"f\"falling back to most recent year {fallback!r}.\", UserWarning)\n"
     ]
    },
    {
     "name": "stdout",
     "output_type": "stream",
     "text": [
      "voters_2021.sav\n"
     ]
    }
   ],
   "source": [
    "party_scaled, voter_scaled = dp.get_scaled_party_voter_data(x_var='Democracy', y_var='Welfare State',year=2021)"
   ]
  },
  {
   "cell_type": "code",
   "execution_count": 8,
   "id": "60f90055",
   "metadata": {},
   "outputs": [
    {
     "data": {
      "text/html": [
       "<div>\n",
       "<style scoped>\n",
       "    .dataframe tbody tr th:only-of-type {\n",
       "        vertical-align: middle;\n",
       "    }\n",
       "\n",
       "    .dataframe tbody tr th {\n",
       "        vertical-align: top;\n",
       "    }\n",
       "\n",
       "    .dataframe thead th {\n",
       "        text-align: right;\n",
       "    }\n",
       "</style>\n",
       "<table border=\"1\" class=\"dataframe\">\n",
       "  <thead>\n",
       "    <tr style=\"text-align: right;\">\n",
       "      <th></th>\n",
       "      <th>Country</th>\n",
       "      <th>Date</th>\n",
       "      <th>Calendar_Week</th>\n",
       "      <th>Party_Name</th>\n",
       "      <th>Democracy</th>\n",
       "      <th>Welfare State</th>\n",
       "      <th>Democracy Scaled</th>\n",
       "      <th>Welfare State Scaled</th>\n",
       "      <th>Democracy Voters_Mean</th>\n",
       "      <th>Welfare State Voters_Mean</th>\n",
       "      <th>Democracy Combined</th>\n",
       "      <th>Welfare State Combined</th>\n",
       "      <th>Label</th>\n",
       "    </tr>\n",
       "  </thead>\n",
       "  <tbody>\n",
       "    <tr>\n",
       "      <th>0</th>\n",
       "      <td>Germany</td>\n",
       "      <td>26/09/2021</td>\n",
       "      <td>202109</td>\n",
       "      <td>90/Greens</td>\n",
       "      <td>5.544</td>\n",
       "      <td>19.342</td>\n",
       "      <td>1.306876</td>\n",
       "      <td>0.150875</td>\n",
       "      <td>0.221756</td>\n",
       "      <td>0.528214</td>\n",
       "      <td>0.438780</td>\n",
       "      <td>0.452746</td>\n",
       "      <td>90/Greens</td>\n",
       "    </tr>\n",
       "    <tr>\n",
       "      <th>1</th>\n",
       "      <td>Germany</td>\n",
       "      <td>26/09/2021</td>\n",
       "      <td>202109</td>\n",
       "      <td>LINKE</td>\n",
       "      <td>5.414</td>\n",
       "      <td>28.427</td>\n",
       "      <td>1.175452</td>\n",
       "      <td>1.429001</td>\n",
       "      <td>-0.276607</td>\n",
       "      <td>0.888032</td>\n",
       "      <td>0.013805</td>\n",
       "      <td>0.996226</td>\n",
       "      <td>LINKE</td>\n",
       "    </tr>\n",
       "    <tr>\n",
       "      <th>2</th>\n",
       "      <td>Germany</td>\n",
       "      <td>26/09/2021</td>\n",
       "      <td>202109</td>\n",
       "      <td>SPD</td>\n",
       "      <td>3.864</td>\n",
       "      <td>22.414</td>\n",
       "      <td>-0.391529</td>\n",
       "      <td>0.583060</td>\n",
       "      <td>-0.024614</td>\n",
       "      <td>0.135886</td>\n",
       "      <td>-0.097997</td>\n",
       "      <td>0.225321</td>\n",
       "      <td>SPD</td>\n",
       "    </tr>\n",
       "    <tr>\n",
       "      <th>3</th>\n",
       "      <td>Germany</td>\n",
       "      <td>26/09/2021</td>\n",
       "      <td>202109</td>\n",
       "      <td>FDP</td>\n",
       "      <td>4.785</td>\n",
       "      <td>14.222</td>\n",
       "      <td>0.539561</td>\n",
       "      <td>-0.569434</td>\n",
       "      <td>-0.046485</td>\n",
       "      <td>-0.653846</td>\n",
       "      <td>0.070724</td>\n",
       "      <td>-0.636964</td>\n",
       "      <td>FDP</td>\n",
       "    </tr>\n",
       "    <tr>\n",
       "      <th>4</th>\n",
       "      <td>Germany</td>\n",
       "      <td>26/09/2021</td>\n",
       "      <td>202109</td>\n",
       "      <td>CDU/CSU</td>\n",
       "      <td>2.559</td>\n",
       "      <td>10.703</td>\n",
       "      <td>-1.710825</td>\n",
       "      <td>-1.064505</td>\n",
       "      <td>0.110111</td>\n",
       "      <td>-0.400705</td>\n",
       "      <td>-0.254076</td>\n",
       "      <td>-0.533465</td>\n",
       "      <td>CDU/CSU</td>\n",
       "    </tr>\n",
       "    <tr>\n",
       "      <th>5</th>\n",
       "      <td>Germany</td>\n",
       "      <td>26/09/2021</td>\n",
       "      <td>202109</td>\n",
       "      <td>AfD</td>\n",
       "      <td>3.558</td>\n",
       "      <td>7.687</td>\n",
       "      <td>-0.700881</td>\n",
       "      <td>-1.488812</td>\n",
       "      <td>-0.555041</td>\n",
       "      <td>-0.524120</td>\n",
       "      <td>-0.584209</td>\n",
       "      <td>-0.717059</td>\n",
       "      <td>AfD</td>\n",
       "    </tr>\n",
       "  </tbody>\n",
       "</table>\n",
       "</div>"
      ],
      "text/plain": [
       "   Country        Date Calendar_Week Party_Name  Democracy  Welfare State  \\\n",
       "0  Germany  26/09/2021        202109  90/Greens      5.544         19.342   \n",
       "1  Germany  26/09/2021        202109      LINKE      5.414         28.427   \n",
       "2  Germany  26/09/2021        202109        SPD      3.864         22.414   \n",
       "3  Germany  26/09/2021        202109        FDP      4.785         14.222   \n",
       "4  Germany  26/09/2021        202109    CDU/CSU      2.559         10.703   \n",
       "5  Germany  26/09/2021        202109        AfD      3.558          7.687   \n",
       "\n",
       "   Democracy Scaled  Welfare State Scaled  Democracy Voters_Mean  \\\n",
       "0          1.306876              0.150875               0.221756   \n",
       "1          1.175452              1.429001              -0.276607   \n",
       "2         -0.391529              0.583060              -0.024614   \n",
       "3          0.539561             -0.569434              -0.046485   \n",
       "4         -1.710825             -1.064505               0.110111   \n",
       "5         -0.700881             -1.488812              -0.555041   \n",
       "\n",
       "   Welfare State Voters_Mean  Democracy Combined  Welfare State Combined  \\\n",
       "0                   0.528214            0.438780                0.452746   \n",
       "1                   0.888032            0.013805                0.996226   \n",
       "2                   0.135886           -0.097997                0.225321   \n",
       "3                  -0.653846            0.070724               -0.636964   \n",
       "4                  -0.400705           -0.254076               -0.533465   \n",
       "5                  -0.524120           -0.584209               -0.717059   \n",
       "\n",
       "       Label  \n",
       "0  90/Greens  \n",
       "1      LINKE  \n",
       "2        SPD  \n",
       "3        FDP  \n",
       "4    CDU/CSU  \n",
       "5        AfD  "
      ]
     },
     "execution_count": 8,
     "metadata": {},
     "output_type": "execute_result"
    }
   ],
   "source": [
    "party_scaled"
   ]
  },
  {
   "cell_type": "code",
   "execution_count": 9,
   "id": "20e5e655",
   "metadata": {},
   "outputs": [
    {
     "data": {
      "text/html": [
       "<div>\n",
       "<style scoped>\n",
       "    .dataframe tbody tr th:only-of-type {\n",
       "        vertical-align: middle;\n",
       "    }\n",
       "\n",
       "    .dataframe tbody tr th {\n",
       "        vertical-align: top;\n",
       "    }\n",
       "\n",
       "    .dataframe thead th {\n",
       "        text-align: right;\n",
       "    }\n",
       "</style>\n",
       "<table border=\"1\" class=\"dataframe\">\n",
       "  <thead>\n",
       "    <tr style=\"text-align: right;\">\n",
       "      <th></th>\n",
       "      <th>Democracy</th>\n",
       "      <th>Welfare State</th>\n",
       "      <th>who did you vote for:second vote</th>\n",
       "      <th>do you incline towards a party, if so which one</th>\n",
       "      <th>how strongly do you incline towards this party</th>\n",
       "      <th>Party_Name</th>\n",
       "      <th>party_choice</th>\n",
       "      <th>Democracy Scaled</th>\n",
       "      <th>Welfare State Scaled</th>\n",
       "      <th>Label</th>\n",
       "    </tr>\n",
       "  </thead>\n",
       "  <tbody>\n",
       "    <tr>\n",
       "      <th>0</th>\n",
       "      <td>3.000000</td>\n",
       "      <td>1.000000</td>\n",
       "      <td>4.0</td>\n",
       "      <td>4.0</td>\n",
       "      <td>3.0</td>\n",
       "      <td>SPD</td>\n",
       "      <td>0</td>\n",
       "      <td>0.485631</td>\n",
       "      <td>-2.248722</td>\n",
       "      <td>Voter</td>\n",
       "    </tr>\n",
       "    <tr>\n",
       "      <th>1</th>\n",
       "      <td>3.000000</td>\n",
       "      <td>1.000000</td>\n",
       "      <td>5.0</td>\n",
       "      <td>5.0</td>\n",
       "      <td>2.0</td>\n",
       "      <td>FDP</td>\n",
       "      <td>1</td>\n",
       "      <td>0.485631</td>\n",
       "      <td>-2.248722</td>\n",
       "      <td>Voter</td>\n",
       "    </tr>\n",
       "    <tr>\n",
       "      <th>2</th>\n",
       "      <td>2.666667</td>\n",
       "      <td>3.666667</td>\n",
       "      <td>6.0</td>\n",
       "      <td>6.0</td>\n",
       "      <td>3.0</td>\n",
       "      <td>90/Greens</td>\n",
       "      <td>2</td>\n",
       "      <td>-0.006648</td>\n",
       "      <td>0.797943</td>\n",
       "      <td>Voter</td>\n",
       "    </tr>\n",
       "    <tr>\n",
       "      <th>3</th>\n",
       "      <td>3.000000</td>\n",
       "      <td>4.333333</td>\n",
       "      <td>4.0</td>\n",
       "      <td>4.0</td>\n",
       "      <td>2.0</td>\n",
       "      <td>SPD</td>\n",
       "      <td>0</td>\n",
       "      <td>0.485631</td>\n",
       "      <td>1.559609</td>\n",
       "      <td>Voter</td>\n",
       "    </tr>\n",
       "    <tr>\n",
       "      <th>4</th>\n",
       "      <td>3.333333</td>\n",
       "      <td>2.333333</td>\n",
       "      <td>1.0</td>\n",
       "      <td>0.0</td>\n",
       "      <td>3.0</td>\n",
       "      <td>CDU/CSU</td>\n",
       "      <td>3</td>\n",
       "      <td>0.977910</td>\n",
       "      <td>-0.725390</td>\n",
       "      <td>Voter</td>\n",
       "    </tr>\n",
       "    <tr>\n",
       "      <th>...</th>\n",
       "      <td>...</td>\n",
       "      <td>...</td>\n",
       "      <td>...</td>\n",
       "      <td>...</td>\n",
       "      <td>...</td>\n",
       "      <td>...</td>\n",
       "      <td>...</td>\n",
       "      <td>...</td>\n",
       "      <td>...</td>\n",
       "      <td>...</td>\n",
       "    </tr>\n",
       "    <tr>\n",
       "      <th>2735</th>\n",
       "      <td>3.000000</td>\n",
       "      <td>2.000000</td>\n",
       "      <td>5.0</td>\n",
       "      <td>1.0</td>\n",
       "      <td>2.0</td>\n",
       "      <td>FDP</td>\n",
       "      <td>1</td>\n",
       "      <td>0.485631</td>\n",
       "      <td>-1.106223</td>\n",
       "      <td>Voter</td>\n",
       "    </tr>\n",
       "    <tr>\n",
       "      <th>2736</th>\n",
       "      <td>1.666667</td>\n",
       "      <td>2.666667</td>\n",
       "      <td>5.0</td>\n",
       "      <td>5.0</td>\n",
       "      <td>3.0</td>\n",
       "      <td>FDP</td>\n",
       "      <td>1</td>\n",
       "      <td>-1.483484</td>\n",
       "      <td>-0.344557</td>\n",
       "      <td>Voter</td>\n",
       "    </tr>\n",
       "    <tr>\n",
       "      <th>2737</th>\n",
       "      <td>3.000000</td>\n",
       "      <td>2.333333</td>\n",
       "      <td>5.0</td>\n",
       "      <td>1.0</td>\n",
       "      <td>2.0</td>\n",
       "      <td>FDP</td>\n",
       "      <td>1</td>\n",
       "      <td>0.485631</td>\n",
       "      <td>-0.725390</td>\n",
       "      <td>Voter</td>\n",
       "    </tr>\n",
       "    <tr>\n",
       "      <th>2738</th>\n",
       "      <td>2.333333</td>\n",
       "      <td>1.000000</td>\n",
       "      <td>4.0</td>\n",
       "      <td>4.0</td>\n",
       "      <td>3.0</td>\n",
       "      <td>SPD</td>\n",
       "      <td>0</td>\n",
       "      <td>-0.498926</td>\n",
       "      <td>-2.248722</td>\n",
       "      <td>Voter</td>\n",
       "    </tr>\n",
       "    <tr>\n",
       "      <th>2739</th>\n",
       "      <td>5.000000</td>\n",
       "      <td>1.666667</td>\n",
       "      <td>5.0</td>\n",
       "      <td>0.0</td>\n",
       "      <td>0.0</td>\n",
       "      <td>FDP</td>\n",
       "      <td>1</td>\n",
       "      <td>3.439304</td>\n",
       "      <td>-1.487056</td>\n",
       "      <td>Voter</td>\n",
       "    </tr>\n",
       "  </tbody>\n",
       "</table>\n",
       "<p>2740 rows × 10 columns</p>\n",
       "</div>"
      ],
      "text/plain": [
       "      Democracy  Welfare State  who did you vote for:second vote  \\\n",
       "0      3.000000       1.000000                               4.0   \n",
       "1      3.000000       1.000000                               5.0   \n",
       "2      2.666667       3.666667                               6.0   \n",
       "3      3.000000       4.333333                               4.0   \n",
       "4      3.333333       2.333333                               1.0   \n",
       "...         ...            ...                               ...   \n",
       "2735   3.000000       2.000000                               5.0   \n",
       "2736   1.666667       2.666667                               5.0   \n",
       "2737   3.000000       2.333333                               5.0   \n",
       "2738   2.333333       1.000000                               4.0   \n",
       "2739   5.000000       1.666667                               5.0   \n",
       "\n",
       "      do you incline towards a party, if so which one  \\\n",
       "0                                                 4.0   \n",
       "1                                                 5.0   \n",
       "2                                                 6.0   \n",
       "3                                                 4.0   \n",
       "4                                                 0.0   \n",
       "...                                               ...   \n",
       "2735                                              1.0   \n",
       "2736                                              5.0   \n",
       "2737                                              1.0   \n",
       "2738                                              4.0   \n",
       "2739                                              0.0   \n",
       "\n",
       "      how strongly do you incline towards this party Party_Name  party_choice  \\\n",
       "0                                                3.0        SPD             0   \n",
       "1                                                2.0        FDP             1   \n",
       "2                                                3.0  90/Greens             2   \n",
       "3                                                2.0        SPD             0   \n",
       "4                                                3.0    CDU/CSU             3   \n",
       "...                                              ...        ...           ...   \n",
       "2735                                             2.0        FDP             1   \n",
       "2736                                             3.0        FDP             1   \n",
       "2737                                             2.0        FDP             1   \n",
       "2738                                             3.0        SPD             0   \n",
       "2739                                             0.0        FDP             1   \n",
       "\n",
       "      Democracy Scaled  Welfare State Scaled  Label  \n",
       "0             0.485631             -2.248722  Voter  \n",
       "1             0.485631             -2.248722  Voter  \n",
       "2            -0.006648              0.797943  Voter  \n",
       "3             0.485631              1.559609  Voter  \n",
       "4             0.977910             -0.725390  Voter  \n",
       "...                ...                   ...    ...  \n",
       "2735          0.485631             -1.106223  Voter  \n",
       "2736         -1.483484             -0.344557  Voter  \n",
       "2737          0.485631             -0.725390  Voter  \n",
       "2738         -0.498926             -2.248722  Voter  \n",
       "2739          3.439304             -1.487056  Voter  \n",
       "\n",
       "[2740 rows x 10 columns]"
      ]
     },
     "execution_count": 9,
     "metadata": {},
     "output_type": "execute_result"
    }
   ],
   "source": [
    "voter_scaled"
   ]
  },
  {
   "cell_type": "code",
   "execution_count": 11,
   "id": "dfb093da",
   "metadata": {},
   "outputs": [
    {
     "data": {
      "application/vnd.plotly.v1+json": {
       "config": {
        "plotlyServerURL": "https://plot.ly"
       },
       "data": [
        {
         "hovertemplate": "Color=Voter<br>Type=Voter<br>Democracy=%{x}<br>Welfare State=%{y}<br>Size=%{marker.size}<extra></extra>",
         "legendgroup": "Voter, Voter",
         "marker": {
          "color": "#636efa",
          "size": {
           "bdata": "BQUFBQUFBQUFBQUFBQUFBQUFBQUFBQUFBQUFBQUFBQUFBQUFBQUFBQUFBQUFBQUFBQUFBQUFBQUFBQUFBQUFBQUFBQUFBQUFBQUFBQUFBQUFBQUFBQUFBQUFBQUFBQUFBQUFBQUFBQUFBQUFBQUFBQUFBQUFBQUFBQUFBQUFBQUFBQUFBQUFBQUFBQUFBQUFBQUFBQUFBQUFBQUFBQUFBQUFBQUFBQUFBQUFBQUFBQUFBQUFBQUFBQUFBQUFBQUFBQUFBQUFBQUFBQUFBQUFBQUFBQUFBQUFBQUFBQUFBQUFBQUFBQUFBQUFBQUFBQUFBQUFBQUFBQUFBQUFBQUFBQUFBQUFBQUFBQUFBQUFBQUFBQUFBQUFBQUFBQUFBQUFBQUFBQUFBQUFBQUFBQUFBQUFBQUFBQUFBQUFBQUFBQUFBQUFBQUFBQUFBQUFBQUFBQUFBQUFBQUFBQUFBQUFBQUFBQUFBQUFBQUFBQUFBQUFBQUFBQUFBQUFBQUFBQUFBQUFBQUFBQUFBQUFBQUFBQUFBQUFBQUFBQUFBQUFBQUFBQUFBQUFBQUFBQUFBQUFBQUFBQUFBQUFBQUFBQUFBQUFBQUFBQUFBQUFBQUFBQUFBQUFBQUFBQUFBQUFBQUFBQUFBQUFBQUFBQUFBQUFBQUFBQUFBQUFBQUFBQUFBQUFBQUFBQUFBQUFBQUFBQUFBQUFBQUFBQUFBQUFBQUFBQUFBQUFBQUFBQUFBQUFBQUFBQUFBQUFBQUFBQUFBQUFBQUFBQUFBQUFBQUFBQUFBQUFBQUFBQUFBQUFBQUFBQUFBQUFBQUFBQUFBQUFBQUFBQUFBQUFBQUFBQUFBQUFBQUFBQUFBQUFBQUFBQUFBQUFBQUFBQUFBQUFBQUFBQUFBQUFBQUFBQUFBQUFBQUFBQUFBQUFBQUFBQUFBQUFBQUFBQUFBQUFBQUFBQUFBQUFBQUFBQUFBQUFBQUFBQUFBQUFBQUFBQUFBQUFBQUFBQUFBQUFBQUFBQUFBQUFBQUFBQUFBQUFBQUFBQUFBQUFBQUFBQUFBQUFBQUFBQUFBQUFBQUFBQUFBQUFBQUFBQUFBQUFBQUFBQUFBQUFBQUFBQUFBQUFBQUFBQUFBQUFBQUFBQUFBQUFBQUFBQUFBQUFBQUFBQUFBQUFBQUFBQUFBQUFBQUFBQUFBQUFBQUFBQUFBQUFBQUFBQUFBQUFBQUFBQUFBQUFBQUFBQUFBQUFBQUFBQUFBQUFBQUFBQUFBQUFBQUFBQUFBQUFBQUFBQUFBQUFBQUFBQUFBQUFBQUFBQUFBQUFBQUFBQUFBQUFBQUFBQUFBQUFBQUFBQUFBQUFBQUFBQUFBQUFBQUFBQUFBQUFBQUFBQUFBQUFBQUFBQUFBQUFBQUFBQUFBQUFBQUFBQUFBQUFBQUFBQUFBQUFBQUFBQUFBQUFBQUFBQUFBQUFBQUFBQUFBQUFBQUFBQUFBQUFBQUFBQUFBQUFBQUFBQUFBQUFBQUFBQUFBQUFBQUFBQUFBQUFBQUFBQUFBQUFBQUFBQUFBQUFBQUFBQUFBQUFBQUFBQUFBQUFBQUFBQUFBQUFBQUFBQUFBQUFBQUFBQUFBQUFBQUFBQUFBQUFBQUFBQUFBQUFBQUFBQUFBQUFBQUFBQUFBQUFBQUFBQUFBQUFBQUFBQUFBQUFBQUFBQUFBQUFBQUFBQUFBQUFBQUFBQUFBQUFBQUFBQUFBQUFBQUFBQUFBQUFBQUFBQUFBQUFBQUFBQUFBQUFBQUFBQUFBQUFBQUFBQUFBQUFBQUFBQUFBQUFBQUFBQUFBQUFBQUFBQUFBQUFBQUFBQUFBQUFBQUFBQUFBQUFBQUFBQUFBQUFBQUFBQUFBQUFBQUFBQUFBQUFBQUFBQUFBQUFBQUFBQUFBQUFBQUFBQUFBQUFBQUFBQUFBQUFBQUFBQUFBQUFBQUFBQUFBQUFBQUFBQUFBQUFBQUFBQUFBQUFBQUFBQUFBQUFBQUFBQUFBQUFBQUFBQUFBQUFBQUFBQUFBQUFBQUFBQUFBQUFBQUFBQUFBQUFBQUFBQUFBQUFBQUFBQUFBQUFBQUFBQUFBQUFBQUFBQUFBQUFBQUFBQUFBQUFBQUFBQUFBQUFBQUFBQUFBQUFBQUFBQUFBQUFBQUFBQUFBQUFBQUFBQUFBQUFBQUFBQUFBQUFBQUFBQUFBQUFBQUFBQUFBQUFBQUFBQUFBQUFBQUFBQUFBQUFBQUFBQUFBQUFBQUFBQUFBQUFBQUFBQUFBQUFBQUFBQUFBQUFBQUFBQUFBQUFBQUFBQUFBQUFBQUFBQUFBQUFBQUFBQUFBQUFBQUFBQUFBQUFBQUFBQUFBQUFBQUFBQUFBQUFBQUFBQUFBQUFBQUFBQUFBQUFBQUFBQUFBQUFBQUFBQUFBQUFBQUFBQUFBQUFBQUFBQUFBQUFBQUFBQUFBQUFBQUFBQUFBQUFBQUFBQUFBQUFBQUFBQUFBQUFBQUFBQUFBQUFBQUFBQUFBQUFBQUFBQUFBQUFBQUFBQUFBQUFBQUFBQUFBQUFBQUFBQUFBQUFBQUFBQUFBQUFBQUFBQUFBQUFBQUFBQUFBQUFBQUFBQUFBQUFBQUFBQUFBQUFBQUFBQUFBQUFBQUFBQUFBQUFBQUFBQUFBQUFBQUFBQUFBQUFBQUFBQUFBQUFBQUFBQUFBQUFBQUFBQUFBQUFBQUFBQUFBQUFBQUFBQUFBQUFBQUFBQUFBQUFBQUFBQUFBQUFBQUFBQUFBQUFBQUFBQUFBQUFBQUFBQUFBQUFBQUFBQUFBQUFBQUFBQUFBQUFBQUFBQUFBQUFBQUFBQUFBQUFBQUFBQUFBQUFBQUFBQUFBQUFBQUFBQUFBQUFBQUFBQUFBQUFBQUFBQUFBQUFBQUFBQUFBQUFBQUFBQUFBQUFBQUFBQUFBQUFBQUFBQUFBQUFBQUFBQUFBQUFBQUFBQUFBQUFBQUFBQUFBQUFBQUFBQUFBQUFBQUFBQUFBQUFBQUFBQUFBQUFBQUFBQUFBQUFBQUFBQUFBQUFBQUFBQUFBQUFBQUFBQUFBQUFBQUFBQUFBQUFBQUFBQUFBQUFBQUFBQUFBQUFBQUFBQUFBQUFBQUFBQUFBQUFBQUFBQUFBQUFBQUFBQUFBQUFBQUFBQUFBQUFBQUFBQUFBQUFBQUFBQUFBQUFBQUFBQUFBQUFBQUFBQUFBQUFBQUFBQUFBQUFBQUFBQUFBQUFBQUFBQUFBQUFBQUFBQUFBQUFBQUFBQUFBQUFBQUFBQUFBQUFBQUFBQUFBQUFBQUFBQUFBQUFBQUFBQUFBQUFBQUFBQUFBQUFBQUFBQUFBQUFBQUFBQUFBQUFBQUFBQUFBQUFBQUFBQUFBQUFBQUFBQUFBQUFBQUFBQUFBQUFBQUFBQUFBQUFBQUFBQUFBQUFBQUFBQUFBQUFBQUFBQUFBQUFBQUFBQUFBQUFBQUFBQUFBQUFBQUFBQUFBQUFBQUFBQUFBQUFBQUFBQUFBQUFBQUFBQUFBQUFBQUFBQUFBQUFBQUFBQUFBQUFBQUFBQUFBQUFBQUFBQUFBQUFBQUFBQUFBQUFBQUFBQUFBQUFBQUFBQUFBQUFBQUFBQUFBQUFBQUFBQUFBQUFBQUFBQUFBQUFBQUFBQUFBQUFBQUFBQ==",
           "dtype": "i1"
          },
          "sizemode": "area",
          "sizeref": 0.0375,
          "symbol": "circle"
         },
         "mode": "markers",
         "name": "Voter, Voter",
         "showlegend": true,
         "textposition": "top center",
         "type": "scattergl",
         "x": {
          "bdata": "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",
          "dtype": "f8"
         },
         "xaxis": "x",
         "y": {
          "bdata": "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",
          "dtype": "f8"
         },
         "yaxis": "y"
        },
        {
         "hovertemplate": "Color=90/Greens<br>Type=Party<br>Democracy=%{x}<br>Welfare State=%{y}<br>Size=%{marker.size}<extra></extra>",
         "legendgroup": "90/Greens, Party",
         "marker": {
          "color": "#EF553B",
          "size": {
           "bdata": "Dw==",
           "dtype": "i1"
          },
          "sizemode": "area",
          "sizeref": 0.0375,
          "symbol": "diamond"
         },
         "mode": "markers",
         "name": "90/Greens, Party",
         "showlegend": true,
         "textposition": "top center",
         "type": "scattergl",
         "x": {
          "bdata": "kxgEVg4tFkA=",
          "dtype": "f8"
         },
         "xaxis": "x",
         "y": {
          "bdata": "ZDvfT41XM0A=",
          "dtype": "f8"
         },
         "yaxis": "y"
        },
        {
         "hovertemplate": "Color=LINKE<br>Type=Party<br>Democracy=%{x}<br>Welfare State=%{y}<br>Size=%{marker.size}<extra></extra>",
         "legendgroup": "LINKE, Party",
         "marker": {
          "color": "#00cc96",
          "size": {
           "bdata": "Dw==",
           "dtype": "i1"
          },
          "sizemode": "area",
          "sizeref": 0.0375,
          "symbol": "diamond"
         },
         "mode": "markers",
         "name": "LINKE, Party",
         "showlegend": true,
         "textposition": "top center",
         "type": "scattergl",
         "x": {
          "bdata": "Di2yne+nFUA=",
          "dtype": "f8"
         },
         "xaxis": "x",
         "y": {
          "bdata": "WmQ7309tPEA=",
          "dtype": "f8"
         },
         "yaxis": "y"
        },
        {
         "hovertemplate": "Color=SPD<br>Type=Party<br>Democracy=%{x}<br>Welfare State=%{y}<br>Size=%{marker.size}<extra></extra>",
         "legendgroup": "SPD, Party",
         "marker": {
          "color": "#ab63fa",
          "size": {
           "bdata": "Dw==",
           "dtype": "i1"
          },
          "sizemode": "area",
          "sizeref": 0.0375,
          "symbol": "diamond"
         },
         "mode": "markers",
         "name": "SPD, Party",
         "showlegend": true,
         "textposition": "top center",
         "type": "scattergl",
         "x": {
          "bdata": "tvP91HjpDkA=",
          "dtype": "f8"
         },
         "xaxis": "x",
         "y": {
          "bdata": "RIts5/tpNkA=",
          "dtype": "f8"
         },
         "yaxis": "y"
        },
        {
         "hovertemplate": "Color=FDP<br>Type=Party<br>Democracy=%{x}<br>Welfare State=%{y}<br>Size=%{marker.size}<extra></extra>",
         "legendgroup": "FDP, Party",
         "marker": {
          "color": "#FFA15A",
          "size": {
           "bdata": "Dw==",
           "dtype": "i1"
          },
          "sizemode": "area",
          "sizeref": 0.0375,
          "symbol": "diamond"
         },
         "mode": "markers",
         "name": "FDP, Party",
         "showlegend": true,
         "textposition": "top center",
         "type": "scattergl",
         "x": {
          "bdata": "pHA9CtcjE0A=",
          "dtype": "f8"
         },
         "xaxis": "x",
         "y": {
          "bdata": "i2zn+6lxLEA=",
          "dtype": "f8"
         },
         "yaxis": "y"
        },
        {
         "hovertemplate": "Color=CDU/CSU<br>Type=Party<br>Democracy=%{x}<br>Welfare State=%{y}<br>Size=%{marker.size}<extra></extra>",
         "legendgroup": "CDU/CSU, Party",
         "marker": {
          "color": "#19d3f3",
          "size": {
           "bdata": "Dw==",
           "dtype": "i1"
          },
          "sizemode": "area",
          "sizeref": 0.0375,
          "symbol": "diamond"
         },
         "mode": "markers",
         "name": "CDU/CSU, Party",
         "showlegend": true,
         "textposition": "top center",
         "type": "scattergl",
         "x": {
          "bdata": "Rrbz/dR4BEA=",
          "dtype": "f8"
         },
         "xaxis": "x",
         "y": {
          "bdata": "Di2yne9nJUA=",
          "dtype": "f8"
         },
         "yaxis": "y"
        },
        {
         "hovertemplate": "Color=AfD<br>Type=Party<br>Democracy=%{x}<br>Welfare State=%{y}<br>Size=%{marker.size}<extra></extra>",
         "legendgroup": "AfD, Party",
         "marker": {
          "color": "#FF6692",
          "size": {
           "bdata": "Dw==",
           "dtype": "i1"
          },
          "sizemode": "area",
          "sizeref": 0.0375,
          "symbol": "diamond"
         },
         "mode": "markers",
         "name": "AfD, Party",
         "showlegend": true,
         "textposition": "top center",
         "type": "scattergl",
         "x": {
          "bdata": "EFg5tMh2DEA=",
          "dtype": "f8"
         },
         "xaxis": "x",
         "y": {
          "bdata": "c2iR7Xy/HkA=",
          "dtype": "f8"
         },
         "yaxis": "y"
        }
       ],
       "layout": {
        "legend": {
         "itemsizing": "constant",
         "title": {
          "text": "Color, Type"
         },
         "tracegroupgap": 0
        },
        "template": {
         "data": {
          "bar": [
           {
            "error_x": {
             "color": "#2a3f5f"
            },
            "error_y": {
             "color": "#2a3f5f"
            },
            "marker": {
             "line": {
              "color": "#E5ECF6",
              "width": 0.5
             },
             "pattern": {
              "fillmode": "overlay",
              "size": 10,
              "solidity": 0.2
             }
            },
            "type": "bar"
           }
          ],
          "barpolar": [
           {
            "marker": {
             "line": {
              "color": "#E5ECF6",
              "width": 0.5
             },
             "pattern": {
              "fillmode": "overlay",
              "size": 10,
              "solidity": 0.2
             }
            },
            "type": "barpolar"
           }
          ],
          "carpet": [
           {
            "aaxis": {
             "endlinecolor": "#2a3f5f",
             "gridcolor": "white",
             "linecolor": "white",
             "minorgridcolor": "white",
             "startlinecolor": "#2a3f5f"
            },
            "baxis": {
             "endlinecolor": "#2a3f5f",
             "gridcolor": "white",
             "linecolor": "white",
             "minorgridcolor": "white",
             "startlinecolor": "#2a3f5f"
            },
            "type": "carpet"
           }
          ],
          "choropleth": [
           {
            "colorbar": {
             "outlinewidth": 0,
             "ticks": ""
            },
            "type": "choropleth"
           }
          ],
          "contour": [
           {
            "colorbar": {
             "outlinewidth": 0,
             "ticks": ""
            },
            "colorscale": [
             [
              0,
              "#0d0887"
             ],
             [
              0.1111111111111111,
              "#46039f"
             ],
             [
              0.2222222222222222,
              "#7201a8"
             ],
             [
              0.3333333333333333,
              "#9c179e"
             ],
             [
              0.4444444444444444,
              "#bd3786"
             ],
             [
              0.5555555555555556,
              "#d8576b"
             ],
             [
              0.6666666666666666,
              "#ed7953"
             ],
             [
              0.7777777777777778,
              "#fb9f3a"
             ],
             [
              0.8888888888888888,
              "#fdca26"
             ],
             [
              1,
              "#f0f921"
             ]
            ],
            "type": "contour"
           }
          ],
          "contourcarpet": [
           {
            "colorbar": {
             "outlinewidth": 0,
             "ticks": ""
            },
            "type": "contourcarpet"
           }
          ],
          "heatmap": [
           {
            "colorbar": {
             "outlinewidth": 0,
             "ticks": ""
            },
            "colorscale": [
             [
              0,
              "#0d0887"
             ],
             [
              0.1111111111111111,
              "#46039f"
             ],
             [
              0.2222222222222222,
              "#7201a8"
             ],
             [
              0.3333333333333333,
              "#9c179e"
             ],
             [
              0.4444444444444444,
              "#bd3786"
             ],
             [
              0.5555555555555556,
              "#d8576b"
             ],
             [
              0.6666666666666666,
              "#ed7953"
             ],
             [
              0.7777777777777778,
              "#fb9f3a"
             ],
             [
              0.8888888888888888,
              "#fdca26"
             ],
             [
              1,
              "#f0f921"
             ]
            ],
            "type": "heatmap"
           }
          ],
          "histogram": [
           {
            "marker": {
             "pattern": {
              "fillmode": "overlay",
              "size": 10,
              "solidity": 0.2
             }
            },
            "type": "histogram"
           }
          ],
          "histogram2d": [
           {
            "colorbar": {
             "outlinewidth": 0,
             "ticks": ""
            },
            "colorscale": [
             [
              0,
              "#0d0887"
             ],
             [
              0.1111111111111111,
              "#46039f"
             ],
             [
              0.2222222222222222,
              "#7201a8"
             ],
             [
              0.3333333333333333,
              "#9c179e"
             ],
             [
              0.4444444444444444,
              "#bd3786"
             ],
             [
              0.5555555555555556,
              "#d8576b"
             ],
             [
              0.6666666666666666,
              "#ed7953"
             ],
             [
              0.7777777777777778,
              "#fb9f3a"
             ],
             [
              0.8888888888888888,
              "#fdca26"
             ],
             [
              1,
              "#f0f921"
             ]
            ],
            "type": "histogram2d"
           }
          ],
          "histogram2dcontour": [
           {
            "colorbar": {
             "outlinewidth": 0,
             "ticks": ""
            },
            "colorscale": [
             [
              0,
              "#0d0887"
             ],
             [
              0.1111111111111111,
              "#46039f"
             ],
             [
              0.2222222222222222,
              "#7201a8"
             ],
             [
              0.3333333333333333,
              "#9c179e"
             ],
             [
              0.4444444444444444,
              "#bd3786"
             ],
             [
              0.5555555555555556,
              "#d8576b"
             ],
             [
              0.6666666666666666,
              "#ed7953"
             ],
             [
              0.7777777777777778,
              "#fb9f3a"
             ],
             [
              0.8888888888888888,
              "#fdca26"
             ],
             [
              1,
              "#f0f921"
             ]
            ],
            "type": "histogram2dcontour"
           }
          ],
          "mesh3d": [
           {
            "colorbar": {
             "outlinewidth": 0,
             "ticks": ""
            },
            "type": "mesh3d"
           }
          ],
          "parcoords": [
           {
            "line": {
             "colorbar": {
              "outlinewidth": 0,
              "ticks": ""
             }
            },
            "type": "parcoords"
           }
          ],
          "pie": [
           {
            "automargin": true,
            "type": "pie"
           }
          ],
          "scatter": [
           {
            "fillpattern": {
             "fillmode": "overlay",
             "size": 10,
             "solidity": 0.2
            },
            "type": "scatter"
           }
          ],
          "scatter3d": [
           {
            "line": {
             "colorbar": {
              "outlinewidth": 0,
              "ticks": ""
             }
            },
            "marker": {
             "colorbar": {
              "outlinewidth": 0,
              "ticks": ""
             }
            },
            "type": "scatter3d"
           }
          ],
          "scattercarpet": [
           {
            "marker": {
             "colorbar": {
              "outlinewidth": 0,
              "ticks": ""
             }
            },
            "type": "scattercarpet"
           }
          ],
          "scattergeo": [
           {
            "marker": {
             "colorbar": {
              "outlinewidth": 0,
              "ticks": ""
             }
            },
            "type": "scattergeo"
           }
          ],
          "scattergl": [
           {
            "marker": {
             "colorbar": {
              "outlinewidth": 0,
              "ticks": ""
             }
            },
            "type": "scattergl"
           }
          ],
          "scattermap": [
           {
            "marker": {
             "colorbar": {
              "outlinewidth": 0,
              "ticks": ""
             }
            },
            "type": "scattermap"
           }
          ],
          "scattermapbox": [
           {
            "marker": {
             "colorbar": {
              "outlinewidth": 0,
              "ticks": ""
             }
            },
            "type": "scattermapbox"
           }
          ],
          "scatterpolar": [
           {
            "marker": {
             "colorbar": {
              "outlinewidth": 0,
              "ticks": ""
             }
            },
            "type": "scatterpolar"
           }
          ],
          "scatterpolargl": [
           {
            "marker": {
             "colorbar": {
              "outlinewidth": 0,
              "ticks": ""
             }
            },
            "type": "scatterpolargl"
           }
          ],
          "scatterternary": [
           {
            "marker": {
             "colorbar": {
              "outlinewidth": 0,
              "ticks": ""
             }
            },
            "type": "scatterternary"
           }
          ],
          "surface": [
           {
            "colorbar": {
             "outlinewidth": 0,
             "ticks": ""
            },
            "colorscale": [
             [
              0,
              "#0d0887"
             ],
             [
              0.1111111111111111,
              "#46039f"
             ],
             [
              0.2222222222222222,
              "#7201a8"
             ],
             [
              0.3333333333333333,
              "#9c179e"
             ],
             [
              0.4444444444444444,
              "#bd3786"
             ],
             [
              0.5555555555555556,
              "#d8576b"
             ],
             [
              0.6666666666666666,
              "#ed7953"
             ],
             [
              0.7777777777777778,
              "#fb9f3a"
             ],
             [
              0.8888888888888888,
              "#fdca26"
             ],
             [
              1,
              "#f0f921"
             ]
            ],
            "type": "surface"
           }
          ],
          "table": [
           {
            "cells": {
             "fill": {
              "color": "#EBF0F8"
             },
             "line": {
              "color": "white"
             }
            },
            "header": {
             "fill": {
              "color": "#C8D4E3"
             },
             "line": {
              "color": "white"
             }
            },
            "type": "table"
           }
          ]
         },
         "layout": {
          "annotationdefaults": {
           "arrowcolor": "#2a3f5f",
           "arrowhead": 0,
           "arrowwidth": 1
          },
          "autotypenumbers": "strict",
          "coloraxis": {
           "colorbar": {
            "outlinewidth": 0,
            "ticks": ""
           }
          },
          "colorscale": {
           "diverging": [
            [
             0,
             "#8e0152"
            ],
            [
             0.1,
             "#c51b7d"
            ],
            [
             0.2,
             "#de77ae"
            ],
            [
             0.3,
             "#f1b6da"
            ],
            [
             0.4,
             "#fde0ef"
            ],
            [
             0.5,
             "#f7f7f7"
            ],
            [
             0.6,
             "#e6f5d0"
            ],
            [
             0.7,
             "#b8e186"
            ],
            [
             0.8,
             "#7fbc41"
            ],
            [
             0.9,
             "#4d9221"
            ],
            [
             1,
             "#276419"
            ]
           ],
           "sequential": [
            [
             0,
             "#0d0887"
            ],
            [
             0.1111111111111111,
             "#46039f"
            ],
            [
             0.2222222222222222,
             "#7201a8"
            ],
            [
             0.3333333333333333,
             "#9c179e"
            ],
            [
             0.4444444444444444,
             "#bd3786"
            ],
            [
             0.5555555555555556,
             "#d8576b"
            ],
            [
             0.6666666666666666,
             "#ed7953"
            ],
            [
             0.7777777777777778,
             "#fb9f3a"
            ],
            [
             0.8888888888888888,
             "#fdca26"
            ],
            [
             1,
             "#f0f921"
            ]
           ],
           "sequentialminus": [
            [
             0,
             "#0d0887"
            ],
            [
             0.1111111111111111,
             "#46039f"
            ],
            [
             0.2222222222222222,
             "#7201a8"
            ],
            [
             0.3333333333333333,
             "#9c179e"
            ],
            [
             0.4444444444444444,
             "#bd3786"
            ],
            [
             0.5555555555555556,
             "#d8576b"
            ],
            [
             0.6666666666666666,
             "#ed7953"
            ],
            [
             0.7777777777777778,
             "#fb9f3a"
            ],
            [
             0.8888888888888888,
             "#fdca26"
            ],
            [
             1,
             "#f0f921"
            ]
           ]
          },
          "colorway": [
           "#636efa",
           "#EF553B",
           "#00cc96",
           "#ab63fa",
           "#FFA15A",
           "#19d3f3",
           "#FF6692",
           "#B6E880",
           "#FF97FF",
           "#FECB52"
          ],
          "font": {
           "color": "#2a3f5f"
          },
          "geo": {
           "bgcolor": "white",
           "lakecolor": "white",
           "landcolor": "#E5ECF6",
           "showlakes": true,
           "showland": true,
           "subunitcolor": "white"
          },
          "hoverlabel": {
           "align": "left"
          },
          "hovermode": "closest",
          "mapbox": {
           "style": "light"
          },
          "paper_bgcolor": "white",
          "plot_bgcolor": "#E5ECF6",
          "polar": {
           "angularaxis": {
            "gridcolor": "white",
            "linecolor": "white",
            "ticks": ""
           },
           "bgcolor": "#E5ECF6",
           "radialaxis": {
            "gridcolor": "white",
            "linecolor": "white",
            "ticks": ""
           }
          },
          "scene": {
           "xaxis": {
            "backgroundcolor": "#E5ECF6",
            "gridcolor": "white",
            "gridwidth": 2,
            "linecolor": "white",
            "showbackground": true,
            "ticks": "",
            "zerolinecolor": "white"
           },
           "yaxis": {
            "backgroundcolor": "#E5ECF6",
            "gridcolor": "white",
            "gridwidth": 2,
            "linecolor": "white",
            "showbackground": true,
            "ticks": "",
            "zerolinecolor": "white"
           },
           "zaxis": {
            "backgroundcolor": "#E5ECF6",
            "gridcolor": "white",
            "gridwidth": 2,
            "linecolor": "white",
            "showbackground": true,
            "ticks": "",
            "zerolinecolor": "white"
           }
          },
          "shapedefaults": {
           "line": {
            "color": "#2a3f5f"
           }
          },
          "ternary": {
           "aaxis": {
            "gridcolor": "white",
            "linecolor": "white",
            "ticks": ""
           },
           "baxis": {
            "gridcolor": "white",
            "linecolor": "white",
            "ticks": ""
           },
           "bgcolor": "#E5ECF6",
           "caxis": {
            "gridcolor": "white",
            "linecolor": "white",
            "ticks": ""
           }
          },
          "title": {
           "x": 0.05
          },
          "xaxis": {
           "automargin": true,
           "gridcolor": "white",
           "linecolor": "white",
           "ticks": "",
           "title": {
            "standoff": 15
           },
           "zerolinecolor": "white",
           "zerolinewidth": 2
          },
          "yaxis": {
           "automargin": true,
           "gridcolor": "white",
           "linecolor": "white",
           "ticks": "",
           "title": {
            "standoff": 15
           },
           "zerolinecolor": "white",
           "zerolinewidth": 2
          }
         }
        },
        "title": {
         "text": "Unscaled Voter and Party Positions"
        },
        "xaxis": {
         "anchor": "y",
         "domain": [
          0,
          1
         ],
         "title": {
          "text": "Democracy"
         }
        },
        "yaxis": {
         "anchor": "x",
         "domain": [
          0,
          1
         ],
         "title": {
          "text": "Welfare State"
         }
        }
       }
      }
     },
     "metadata": {},
     "output_type": "display_data"
    }
   ],
   "source": [
    "# Plot without scaling\n",
    "fig = px.scatter(\n",
    "    pd.concat([\n",
    "        voter_scaled.assign(Type=\"Voter\", Size=5, Color=\"Voter\"),\n",
    "        party_scaled.assign(Type=\"Party\", Size=15, Color=party_scaled[\"Party_Name\"])\n",
    "    ]),\n",
    "    x=\"Democracy\",\n",
    "    y=\"Welfare State\",\n",
    "    color=\"Color\",\n",
    "    symbol=\"Type\",\n",
    "    size=\"Size\",\n",
    "    title=\"Unscaled Voter and Party Positions\"\n",
    ")\n",
    "fig.update_traces(textposition=\"top center\")\n",
    "fig.show()"
   ]
  },
  {
   "cell_type": "code",
   "execution_count": 14,
   "id": "e3e681c1",
   "metadata": {},
   "outputs": [
    {
     "data": {
      "application/vnd.plotly.v1+json": {
       "config": {
        "plotlyServerURL": "https://plot.ly"
       },
       "data": [
        {
         "hovertemplate": "Label=Voter<br>Democracy Scaled=%{x}<br>Welfare State Scaled=%{y}<extra></extra>",
         "legendgroup": "Voter",
         "marker": {
          "color": "#636efa",
          "size": 10,
          "symbol": "circle"
         },
         "mode": "markers",
         "name": "Voter",
         "showlegend": true,
         "type": "scattergl",
         "x": {
          "bdata": "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",
          "dtype": "f8"
         },
         "xaxis": "x",
         "y": {
          "bdata": "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",
          "dtype": "f8"
         },
         "yaxis": "y"
        },
        {
         "hovertemplate": "Label=90/Greens<br>Democracy Scaled=%{x}<br>Welfare State Scaled=%{y}<extra></extra>",
         "legendgroup": "90/Greens",
         "marker": {
          "color": "#EF553B",
          "size": 10,
          "symbol": "diamond"
         },
         "mode": "markers",
         "name": "90/Greens",
         "showlegend": true,
         "type": "scattergl",
         "x": {
          "bdata": "a+hjB/fo9D8=",
          "dtype": "f8"
         },
         "xaxis": "x",
         "y": {
          "bdata": "LX3WsN5Pwz8=",
          "dtype": "f8"
         },
         "yaxis": "y"
        },
        {
         "hovertemplate": "Label=LINKE<br>Democracy Scaled=%{x}<br>Welfare State Scaled=%{y}<extra></extra>",
         "legendgroup": "LINKE",
         "marker": {
          "color": "#00cc96",
          "size": 10,
          "symbol": "square"
         },
         "mode": "markers",
         "name": "LINKE",
         "showlegend": true,
         "type": "scattergl",
         "x": {
          "bdata": "1DRLy6bO8j8=",
          "dtype": "f8"
         },
         "xaxis": "x",
         "y": {
          "bdata": "2BDdCDDd9j8=",
          "dtype": "f8"
         },
         "yaxis": "y"
        },
        {
         "hovertemplate": "Label=SPD<br>Democracy Scaled=%{x}<br>Welfare State Scaled=%{y}<extra></extra>",
         "legendgroup": "SPD",
         "marker": {
          "color": "#ab63fa",
          "size": 10,
          "symbol": "x"
         },
         "mode": "markers",
         "name": "SPD",
         "showlegend": true,
         "type": "scattergl",
         "x": {
          "bdata": "l7XPjs0O2b8=",
          "dtype": "f8"
         },
         "xaxis": "x",
         "y": {
          "bdata": "Gk9M0W2o4j8=",
          "dtype": "f8"
         },
         "yaxis": "y"
        },
        {
         "hovertemplate": "Label=FDP<br>Democracy Scaled=%{x}<br>Welfare State Scaled=%{y}<extra></extra>",
         "legendgroup": "FDP",
         "marker": {
          "color": "#FFA15A",
          "size": 10,
          "symbol": "cross"
         },
         "mode": "markers",
         "name": "FDP",
         "showlegend": true,
         "type": "scattergl",
         "x": {
          "bdata": "ezGz5hVE4T8=",
          "dtype": "f8"
         },
         "xaxis": "x",
         "y": {
          "bdata": "sYVFPM044r8=",
          "dtype": "f8"
         },
         "yaxis": "y"
        },
        {
         "hovertemplate": "Label=CDU/CSU<br>Democracy Scaled=%{x}<br>Welfare State Scaled=%{y}<extra></extra>",
         "legendgroup": "CDU/CSU",
         "marker": {
          "color": "#19d3f3",
          "size": 10,
          "symbol": "circle"
         },
         "mode": "markers",
         "name": "CDU/CSU",
         "showlegend": true,
         "type": "scattergl",
         "x": {
          "bdata": "xZW/DYpf+78=",
          "dtype": "f8"
         },
         "xaxis": "x",
         "y": {
          "bdata": "SeEgyTYI8b8=",
          "dtype": "f8"
         },
         "yaxis": "y"
        },
        {
         "hovertemplate": "Label=AfD<br>Democracy Scaled=%{x}<br>Welfare State Scaled=%{y}<extra></extra>",
         "legendgroup": "AfD",
         "marker": {
          "color": "#FF6692",
          "size": 10,
          "symbol": "diamond"
         },
         "mode": "markers",
         "name": "AfD",
         "showlegend": true,
         "type": "scattergl",
         "x": {
          "bdata": "YOGsi51t5r8=",
          "dtype": "f8"
         },
         "xaxis": "x",
         "y": {
          "bdata": "k1kAyCzS978=",
          "dtype": "f8"
         },
         "yaxis": "y"
        }
       ],
       "layout": {
        "legend": {
         "title": {
          "text": "Label"
         },
         "tracegroupgap": 0
        },
        "margin": {
         "t": 60
        },
        "template": {
         "data": {
          "bar": [
           {
            "error_x": {
             "color": "#2a3f5f"
            },
            "error_y": {
             "color": "#2a3f5f"
            },
            "marker": {
             "line": {
              "color": "#E5ECF6",
              "width": 0.5
             },
             "pattern": {
              "fillmode": "overlay",
              "size": 10,
              "solidity": 0.2
             }
            },
            "type": "bar"
           }
          ],
          "barpolar": [
           {
            "marker": {
             "line": {
              "color": "#E5ECF6",
              "width": 0.5
             },
             "pattern": {
              "fillmode": "overlay",
              "size": 10,
              "solidity": 0.2
             }
            },
            "type": "barpolar"
           }
          ],
          "carpet": [
           {
            "aaxis": {
             "endlinecolor": "#2a3f5f",
             "gridcolor": "white",
             "linecolor": "white",
             "minorgridcolor": "white",
             "startlinecolor": "#2a3f5f"
            },
            "baxis": {
             "endlinecolor": "#2a3f5f",
             "gridcolor": "white",
             "linecolor": "white",
             "minorgridcolor": "white",
             "startlinecolor": "#2a3f5f"
            },
            "type": "carpet"
           }
          ],
          "choropleth": [
           {
            "colorbar": {
             "outlinewidth": 0,
             "ticks": ""
            },
            "type": "choropleth"
           }
          ],
          "contour": [
           {
            "colorbar": {
             "outlinewidth": 0,
             "ticks": ""
            },
            "colorscale": [
             [
              0,
              "#0d0887"
             ],
             [
              0.1111111111111111,
              "#46039f"
             ],
             [
              0.2222222222222222,
              "#7201a8"
             ],
             [
              0.3333333333333333,
              "#9c179e"
             ],
             [
              0.4444444444444444,
              "#bd3786"
             ],
             [
              0.5555555555555556,
              "#d8576b"
             ],
             [
              0.6666666666666666,
              "#ed7953"
             ],
             [
              0.7777777777777778,
              "#fb9f3a"
             ],
             [
              0.8888888888888888,
              "#fdca26"
             ],
             [
              1,
              "#f0f921"
             ]
            ],
            "type": "contour"
           }
          ],
          "contourcarpet": [
           {
            "colorbar": {
             "outlinewidth": 0,
             "ticks": ""
            },
            "type": "contourcarpet"
           }
          ],
          "heatmap": [
           {
            "colorbar": {
             "outlinewidth": 0,
             "ticks": ""
            },
            "colorscale": [
             [
              0,
              "#0d0887"
             ],
             [
              0.1111111111111111,
              "#46039f"
             ],
             [
              0.2222222222222222,
              "#7201a8"
             ],
             [
              0.3333333333333333,
              "#9c179e"
             ],
             [
              0.4444444444444444,
              "#bd3786"
             ],
             [
              0.5555555555555556,
              "#d8576b"
             ],
             [
              0.6666666666666666,
              "#ed7953"
             ],
             [
              0.7777777777777778,
              "#fb9f3a"
             ],
             [
              0.8888888888888888,
              "#fdca26"
             ],
             [
              1,
              "#f0f921"
             ]
            ],
            "type": "heatmap"
           }
          ],
          "histogram": [
           {
            "marker": {
             "pattern": {
              "fillmode": "overlay",
              "size": 10,
              "solidity": 0.2
             }
            },
            "type": "histogram"
           }
          ],
          "histogram2d": [
           {
            "colorbar": {
             "outlinewidth": 0,
             "ticks": ""
            },
            "colorscale": [
             [
              0,
              "#0d0887"
             ],
             [
              0.1111111111111111,
              "#46039f"
             ],
             [
              0.2222222222222222,
              "#7201a8"
             ],
             [
              0.3333333333333333,
              "#9c179e"
             ],
             [
              0.4444444444444444,
              "#bd3786"
             ],
             [
              0.5555555555555556,
              "#d8576b"
             ],
             [
              0.6666666666666666,
              "#ed7953"
             ],
             [
              0.7777777777777778,
              "#fb9f3a"
             ],
             [
              0.8888888888888888,
              "#fdca26"
             ],
             [
              1,
              "#f0f921"
             ]
            ],
            "type": "histogram2d"
           }
          ],
          "histogram2dcontour": [
           {
            "colorbar": {
             "outlinewidth": 0,
             "ticks": ""
            },
            "colorscale": [
             [
              0,
              "#0d0887"
             ],
             [
              0.1111111111111111,
              "#46039f"
             ],
             [
              0.2222222222222222,
              "#7201a8"
             ],
             [
              0.3333333333333333,
              "#9c179e"
             ],
             [
              0.4444444444444444,
              "#bd3786"
             ],
             [
              0.5555555555555556,
              "#d8576b"
             ],
             [
              0.6666666666666666,
              "#ed7953"
             ],
             [
              0.7777777777777778,
              "#fb9f3a"
             ],
             [
              0.8888888888888888,
              "#fdca26"
             ],
             [
              1,
              "#f0f921"
             ]
            ],
            "type": "histogram2dcontour"
           }
          ],
          "mesh3d": [
           {
            "colorbar": {
             "outlinewidth": 0,
             "ticks": ""
            },
            "type": "mesh3d"
           }
          ],
          "parcoords": [
           {
            "line": {
             "colorbar": {
              "outlinewidth": 0,
              "ticks": ""
             }
            },
            "type": "parcoords"
           }
          ],
          "pie": [
           {
            "automargin": true,
            "type": "pie"
           }
          ],
          "scatter": [
           {
            "fillpattern": {
             "fillmode": "overlay",
             "size": 10,
             "solidity": 0.2
            },
            "type": "scatter"
           }
          ],
          "scatter3d": [
           {
            "line": {
             "colorbar": {
              "outlinewidth": 0,
              "ticks": ""
             }
            },
            "marker": {
             "colorbar": {
              "outlinewidth": 0,
              "ticks": ""
             }
            },
            "type": "scatter3d"
           }
          ],
          "scattercarpet": [
           {
            "marker": {
             "colorbar": {
              "outlinewidth": 0,
              "ticks": ""
             }
            },
            "type": "scattercarpet"
           }
          ],
          "scattergeo": [
           {
            "marker": {
             "colorbar": {
              "outlinewidth": 0,
              "ticks": ""
             }
            },
            "type": "scattergeo"
           }
          ],
          "scattergl": [
           {
            "marker": {
             "colorbar": {
              "outlinewidth": 0,
              "ticks": ""
             }
            },
            "type": "scattergl"
           }
          ],
          "scattermap": [
           {
            "marker": {
             "colorbar": {
              "outlinewidth": 0,
              "ticks": ""
             }
            },
            "type": "scattermap"
           }
          ],
          "scattermapbox": [
           {
            "marker": {
             "colorbar": {
              "outlinewidth": 0,
              "ticks": ""
             }
            },
            "type": "scattermapbox"
           }
          ],
          "scatterpolar": [
           {
            "marker": {
             "colorbar": {
              "outlinewidth": 0,
              "ticks": ""
             }
            },
            "type": "scatterpolar"
           }
          ],
          "scatterpolargl": [
           {
            "marker": {
             "colorbar": {
              "outlinewidth": 0,
              "ticks": ""
             }
            },
            "type": "scatterpolargl"
           }
          ],
          "scatterternary": [
           {
            "marker": {
             "colorbar": {
              "outlinewidth": 0,
              "ticks": ""
             }
            },
            "type": "scatterternary"
           }
          ],
          "surface": [
           {
            "colorbar": {
             "outlinewidth": 0,
             "ticks": ""
            },
            "colorscale": [
             [
              0,
              "#0d0887"
             ],
             [
              0.1111111111111111,
              "#46039f"
             ],
             [
              0.2222222222222222,
              "#7201a8"
             ],
             [
              0.3333333333333333,
              "#9c179e"
             ],
             [
              0.4444444444444444,
              "#bd3786"
             ],
             [
              0.5555555555555556,
              "#d8576b"
             ],
             [
              0.6666666666666666,
              "#ed7953"
             ],
             [
              0.7777777777777778,
              "#fb9f3a"
             ],
             [
              0.8888888888888888,
              "#fdca26"
             ],
             [
              1,
              "#f0f921"
             ]
            ],
            "type": "surface"
           }
          ],
          "table": [
           {
            "cells": {
             "fill": {
              "color": "#EBF0F8"
             },
             "line": {
              "color": "white"
             }
            },
            "header": {
             "fill": {
              "color": "#C8D4E3"
             },
             "line": {
              "color": "white"
             }
            },
            "type": "table"
           }
          ]
         },
         "layout": {
          "annotationdefaults": {
           "arrowcolor": "#2a3f5f",
           "arrowhead": 0,
           "arrowwidth": 1
          },
          "autotypenumbers": "strict",
          "coloraxis": {
           "colorbar": {
            "outlinewidth": 0,
            "ticks": ""
           }
          },
          "colorscale": {
           "diverging": [
            [
             0,
             "#8e0152"
            ],
            [
             0.1,
             "#c51b7d"
            ],
            [
             0.2,
             "#de77ae"
            ],
            [
             0.3,
             "#f1b6da"
            ],
            [
             0.4,
             "#fde0ef"
            ],
            [
             0.5,
             "#f7f7f7"
            ],
            [
             0.6,
             "#e6f5d0"
            ],
            [
             0.7,
             "#b8e186"
            ],
            [
             0.8,
             "#7fbc41"
            ],
            [
             0.9,
             "#4d9221"
            ],
            [
             1,
             "#276419"
            ]
           ],
           "sequential": [
            [
             0,
             "#0d0887"
            ],
            [
             0.1111111111111111,
             "#46039f"
            ],
            [
             0.2222222222222222,
             "#7201a8"
            ],
            [
             0.3333333333333333,
             "#9c179e"
            ],
            [
             0.4444444444444444,
             "#bd3786"
            ],
            [
             0.5555555555555556,
             "#d8576b"
            ],
            [
             0.6666666666666666,
             "#ed7953"
            ],
            [
             0.7777777777777778,
             "#fb9f3a"
            ],
            [
             0.8888888888888888,
             "#fdca26"
            ],
            [
             1,
             "#f0f921"
            ]
           ],
           "sequentialminus": [
            [
             0,
             "#0d0887"
            ],
            [
             0.1111111111111111,
             "#46039f"
            ],
            [
             0.2222222222222222,
             "#7201a8"
            ],
            [
             0.3333333333333333,
             "#9c179e"
            ],
            [
             0.4444444444444444,
             "#bd3786"
            ],
            [
             0.5555555555555556,
             "#d8576b"
            ],
            [
             0.6666666666666666,
             "#ed7953"
            ],
            [
             0.7777777777777778,
             "#fb9f3a"
            ],
            [
             0.8888888888888888,
             "#fdca26"
            ],
            [
             1,
             "#f0f921"
            ]
           ]
          },
          "colorway": [
           "#636efa",
           "#EF553B",
           "#00cc96",
           "#ab63fa",
           "#FFA15A",
           "#19d3f3",
           "#FF6692",
           "#B6E880",
           "#FF97FF",
           "#FECB52"
          ],
          "font": {
           "color": "#2a3f5f"
          },
          "geo": {
           "bgcolor": "white",
           "lakecolor": "white",
           "landcolor": "#E5ECF6",
           "showlakes": true,
           "showland": true,
           "subunitcolor": "white"
          },
          "hoverlabel": {
           "align": "left"
          },
          "hovermode": "closest",
          "mapbox": {
           "style": "light"
          },
          "paper_bgcolor": "white",
          "plot_bgcolor": "#E5ECF6",
          "polar": {
           "angularaxis": {
            "gridcolor": "white",
            "linecolor": "white",
            "ticks": ""
           },
           "bgcolor": "#E5ECF6",
           "radialaxis": {
            "gridcolor": "white",
            "linecolor": "white",
            "ticks": ""
           }
          },
          "scene": {
           "xaxis": {
            "backgroundcolor": "#E5ECF6",
            "gridcolor": "white",
            "gridwidth": 2,
            "linecolor": "white",
            "showbackground": true,
            "ticks": "",
            "zerolinecolor": "white"
           },
           "yaxis": {
            "backgroundcolor": "#E5ECF6",
            "gridcolor": "white",
            "gridwidth": 2,
            "linecolor": "white",
            "showbackground": true,
            "ticks": "",
            "zerolinecolor": "white"
           },
           "zaxis": {
            "backgroundcolor": "#E5ECF6",
            "gridcolor": "white",
            "gridwidth": 2,
            "linecolor": "white",
            "showbackground": true,
            "ticks": "",
            "zerolinecolor": "white"
           }
          },
          "shapedefaults": {
           "line": {
            "color": "#2a3f5f"
           }
          },
          "ternary": {
           "aaxis": {
            "gridcolor": "white",
            "linecolor": "white",
            "ticks": ""
           },
           "baxis": {
            "gridcolor": "white",
            "linecolor": "white",
            "ticks": ""
           },
           "bgcolor": "#E5ECF6",
           "caxis": {
            "gridcolor": "white",
            "linecolor": "white",
            "ticks": ""
           }
          },
          "title": {
           "x": 0.05
          },
          "xaxis": {
           "automargin": true,
           "gridcolor": "white",
           "linecolor": "white",
           "ticks": "",
           "title": {
            "standoff": 15
           },
           "zerolinecolor": "white",
           "zerolinewidth": 2
          },
          "yaxis": {
           "automargin": true,
           "gridcolor": "white",
           "linecolor": "white",
           "ticks": "",
           "title": {
            "standoff": 15
           },
           "zerolinecolor": "white",
           "zerolinewidth": 2
          }
         }
        },
        "title": {
         "text": "Scaled Voter and Party Positions"
        },
        "xaxis": {
         "anchor": "y",
         "domain": [
          0,
          1
         ],
         "title": {
          "text": "Democracy Scaled"
         }
        },
        "yaxis": {
         "anchor": "x",
         "domain": [
          0,
          1
         ],
         "title": {
          "text": "Welfare State Scaled"
         }
        }
       }
      }
     },
     "metadata": {},
     "output_type": "display_data"
    }
   ],
   "source": [
    "concatenated_df = pd.concat([voter_scaled, party_scaled], ignore_index=True)\n",
    "\n",
    "fig = px.scatter(\n",
    "    concatenated_df,\n",
    "    x='Democracy Scaled',\n",
    "    y='Welfare State Scaled',\n",
    "    color='Label',\n",
    "    symbol='Label')\n",
    "fig.update_traces(marker=dict(size=10))\n",
    "fig.update_layout(title='Scaled Voter and Party Positions')\n",
    "fig.show()"
   ]
  },
  {
   "cell_type": "code",
   "execution_count": 16,
   "id": "195f2f27",
   "metadata": {},
   "outputs": [],
   "source": [
    "from scipy.stats import gaussian_kde\n",
    "import numpy as np\n",
    "\n",
    "x_var = \"Democracy\"\n",
    "y_var = \"Welfare State\"\n",
    "\n",
    "# Your voter cloud (already scaled to [0,10])\n",
    "x = voter_scaled[f\"{x_var} Scaled\"].values\n",
    "y = voter_scaled[f\"{y_var} Scaled\"].values\n",
    "\n",
    "# Stack for 2D\n",
    "data = np.vstack([x, y])\n",
    "\n",
    "# Build KDE — you now have a continuous density function!\n",
    "kde = gaussian_kde(data, bw_method='scott')  # or 'silverman', or custom float\n",
    "\n",
    "# Evaluate anywhere in 2D space:\n",
    "density_at_5_5 = kde([5, 5])  # returns a scalar density estimate\n"
   ]
  },
  {
   "cell_type": "code",
   "execution_count": 17,
   "id": "e212f26b",
   "metadata": {},
   "outputs": [],
   "source": [
    "def voter_density(x_input, y_input):\n",
    "    \"\"\"\n",
    "    Continuous density function over 2D space from KDE.\n",
    "    \n",
    "    Parameters:\n",
    "    -----------\n",
    "    x_input, y_input : float or np.ndarray\n",
    "        Coordinates in policy space (can be scalars or arrays).\n",
    "    \n",
    "    Returns:\n",
    "    --------\n",
    "    float or np.ndarray\n",
    "        Density estimate(s) at the given location(s).\n",
    "    \"\"\"\n",
    "    xy = np.vstack([np.ravel(x_input), np.ravel(y_input)])\n",
    "    density_vals = kde(xy)\n",
    "    return density_vals.reshape(np.shape(x_input))\n"
   ]
  },
  {
   "cell_type": "code",
   "execution_count": 18,
   "id": "9134003c",
   "metadata": {},
   "outputs": [],
   "source": [
    "# Scalar evaluation\n",
    "voter_density(5, 5)   # → float\n",
    "\n",
    "# Grid evaluation (e.g. for plotting or integration)\n",
    "X, Y = np.meshgrid(np.linspace(0, 10, 100), np.linspace(0, 10, 100))\n",
    "Z = voter_density(X, Y)  # shape (100, 100)"
   ]
  },
  {
   "cell_type": "code",
   "execution_count": 19,
   "id": "3afc9bde",
   "metadata": {},
   "outputs": [
    {
     "data": {
      "text/html": [
       "<style>#sk-container-id-1 {\n",
       "  /* Definition of color scheme common for light and dark mode */\n",
       "  --sklearn-color-text: #000;\n",
       "  --sklearn-color-text-muted: #666;\n",
       "  --sklearn-color-line: gray;\n",
       "  /* Definition of color scheme for unfitted estimators */\n",
       "  --sklearn-color-unfitted-level-0: #fff5e6;\n",
       "  --sklearn-color-unfitted-level-1: #f6e4d2;\n",
       "  --sklearn-color-unfitted-level-2: #ffe0b3;\n",
       "  --sklearn-color-unfitted-level-3: chocolate;\n",
       "  /* Definition of color scheme for fitted estimators */\n",
       "  --sklearn-color-fitted-level-0: #f0f8ff;\n",
       "  --sklearn-color-fitted-level-1: #d4ebff;\n",
       "  --sklearn-color-fitted-level-2: #b3dbfd;\n",
       "  --sklearn-color-fitted-level-3: cornflowerblue;\n",
       "\n",
       "  /* Specific color for light theme */\n",
       "  --sklearn-color-text-on-default-background: var(--sg-text-color, var(--theme-code-foreground, var(--jp-content-font-color1, black)));\n",
       "  --sklearn-color-background: var(--sg-background-color, var(--theme-background, var(--jp-layout-color0, white)));\n",
       "  --sklearn-color-border-box: var(--sg-text-color, var(--theme-code-foreground, var(--jp-content-font-color1, black)));\n",
       "  --sklearn-color-icon: #696969;\n",
       "\n",
       "  @media (prefers-color-scheme: dark) {\n",
       "    /* Redefinition of color scheme for dark theme */\n",
       "    --sklearn-color-text-on-default-background: var(--sg-text-color, var(--theme-code-foreground, var(--jp-content-font-color1, white)));\n",
       "    --sklearn-color-background: var(--sg-background-color, var(--theme-background, var(--jp-layout-color0, #111)));\n",
       "    --sklearn-color-border-box: var(--sg-text-color, var(--theme-code-foreground, var(--jp-content-font-color1, white)));\n",
       "    --sklearn-color-icon: #878787;\n",
       "  }\n",
       "}\n",
       "\n",
       "#sk-container-id-1 {\n",
       "  color: var(--sklearn-color-text);\n",
       "}\n",
       "\n",
       "#sk-container-id-1 pre {\n",
       "  padding: 0;\n",
       "}\n",
       "\n",
       "#sk-container-id-1 input.sk-hidden--visually {\n",
       "  border: 0;\n",
       "  clip: rect(1px 1px 1px 1px);\n",
       "  clip: rect(1px, 1px, 1px, 1px);\n",
       "  height: 1px;\n",
       "  margin: -1px;\n",
       "  overflow: hidden;\n",
       "  padding: 0;\n",
       "  position: absolute;\n",
       "  width: 1px;\n",
       "}\n",
       "\n",
       "#sk-container-id-1 div.sk-dashed-wrapped {\n",
       "  border: 1px dashed var(--sklearn-color-line);\n",
       "  margin: 0 0.4em 0.5em 0.4em;\n",
       "  box-sizing: border-box;\n",
       "  padding-bottom: 0.4em;\n",
       "  background-color: var(--sklearn-color-background);\n",
       "}\n",
       "\n",
       "#sk-container-id-1 div.sk-container {\n",
       "  /* jupyter's `normalize.less` sets `[hidden] { display: none; }`\n",
       "     but bootstrap.min.css set `[hidden] { display: none !important; }`\n",
       "     so we also need the `!important` here to be able to override the\n",
       "     default hidden behavior on the sphinx rendered scikit-learn.org.\n",
       "     See: https://github.com/scikit-learn/scikit-learn/issues/21755 */\n",
       "  display: inline-block !important;\n",
       "  position: relative;\n",
       "}\n",
       "\n",
       "#sk-container-id-1 div.sk-text-repr-fallback {\n",
       "  display: none;\n",
       "}\n",
       "\n",
       "div.sk-parallel-item,\n",
       "div.sk-serial,\n",
       "div.sk-item {\n",
       "  /* draw centered vertical line to link estimators */\n",
       "  background-image: linear-gradient(var(--sklearn-color-text-on-default-background), var(--sklearn-color-text-on-default-background));\n",
       "  background-size: 2px 100%;\n",
       "  background-repeat: no-repeat;\n",
       "  background-position: center center;\n",
       "}\n",
       "\n",
       "/* Parallel-specific style estimator block */\n",
       "\n",
       "#sk-container-id-1 div.sk-parallel-item::after {\n",
       "  content: \"\";\n",
       "  width: 100%;\n",
       "  border-bottom: 2px solid var(--sklearn-color-text-on-default-background);\n",
       "  flex-grow: 1;\n",
       "}\n",
       "\n",
       "#sk-container-id-1 div.sk-parallel {\n",
       "  display: flex;\n",
       "  align-items: stretch;\n",
       "  justify-content: center;\n",
       "  background-color: var(--sklearn-color-background);\n",
       "  position: relative;\n",
       "}\n",
       "\n",
       "#sk-container-id-1 div.sk-parallel-item {\n",
       "  display: flex;\n",
       "  flex-direction: column;\n",
       "}\n",
       "\n",
       "#sk-container-id-1 div.sk-parallel-item:first-child::after {\n",
       "  align-self: flex-end;\n",
       "  width: 50%;\n",
       "}\n",
       "\n",
       "#sk-container-id-1 div.sk-parallel-item:last-child::after {\n",
       "  align-self: flex-start;\n",
       "  width: 50%;\n",
       "}\n",
       "\n",
       "#sk-container-id-1 div.sk-parallel-item:only-child::after {\n",
       "  width: 0;\n",
       "}\n",
       "\n",
       "/* Serial-specific style estimator block */\n",
       "\n",
       "#sk-container-id-1 div.sk-serial {\n",
       "  display: flex;\n",
       "  flex-direction: column;\n",
       "  align-items: center;\n",
       "  background-color: var(--sklearn-color-background);\n",
       "  padding-right: 1em;\n",
       "  padding-left: 1em;\n",
       "}\n",
       "\n",
       "\n",
       "/* Toggleable style: style used for estimator/Pipeline/ColumnTransformer box that is\n",
       "clickable and can be expanded/collapsed.\n",
       "- Pipeline and ColumnTransformer use this feature and define the default style\n",
       "- Estimators will overwrite some part of the style using the `sk-estimator` class\n",
       "*/\n",
       "\n",
       "/* Pipeline and ColumnTransformer style (default) */\n",
       "\n",
       "#sk-container-id-1 div.sk-toggleable {\n",
       "  /* Default theme specific background. It is overwritten whether we have a\n",
       "  specific estimator or a Pipeline/ColumnTransformer */\n",
       "  background-color: var(--sklearn-color-background);\n",
       "}\n",
       "\n",
       "/* Toggleable label */\n",
       "#sk-container-id-1 label.sk-toggleable__label {\n",
       "  cursor: pointer;\n",
       "  display: flex;\n",
       "  width: 100%;\n",
       "  margin-bottom: 0;\n",
       "  padding: 0.5em;\n",
       "  box-sizing: border-box;\n",
       "  text-align: center;\n",
       "  align-items: start;\n",
       "  justify-content: space-between;\n",
       "  gap: 0.5em;\n",
       "}\n",
       "\n",
       "#sk-container-id-1 label.sk-toggleable__label .caption {\n",
       "  font-size: 0.6rem;\n",
       "  font-weight: lighter;\n",
       "  color: var(--sklearn-color-text-muted);\n",
       "}\n",
       "\n",
       "#sk-container-id-1 label.sk-toggleable__label-arrow:before {\n",
       "  /* Arrow on the left of the label */\n",
       "  content: \"▸\";\n",
       "  float: left;\n",
       "  margin-right: 0.25em;\n",
       "  color: var(--sklearn-color-icon);\n",
       "}\n",
       "\n",
       "#sk-container-id-1 label.sk-toggleable__label-arrow:hover:before {\n",
       "  color: var(--sklearn-color-text);\n",
       "}\n",
       "\n",
       "/* Toggleable content - dropdown */\n",
       "\n",
       "#sk-container-id-1 div.sk-toggleable__content {\n",
       "  max-height: 0;\n",
       "  max-width: 0;\n",
       "  overflow: hidden;\n",
       "  text-align: left;\n",
       "  /* unfitted */\n",
       "  background-color: var(--sklearn-color-unfitted-level-0);\n",
       "}\n",
       "\n",
       "#sk-container-id-1 div.sk-toggleable__content.fitted {\n",
       "  /* fitted */\n",
       "  background-color: var(--sklearn-color-fitted-level-0);\n",
       "}\n",
       "\n",
       "#sk-container-id-1 div.sk-toggleable__content pre {\n",
       "  margin: 0.2em;\n",
       "  border-radius: 0.25em;\n",
       "  color: var(--sklearn-color-text);\n",
       "  /* unfitted */\n",
       "  background-color: var(--sklearn-color-unfitted-level-0);\n",
       "}\n",
       "\n",
       "#sk-container-id-1 div.sk-toggleable__content.fitted pre {\n",
       "  /* unfitted */\n",
       "  background-color: var(--sklearn-color-fitted-level-0);\n",
       "}\n",
       "\n",
       "#sk-container-id-1 input.sk-toggleable__control:checked~div.sk-toggleable__content {\n",
       "  /* Expand drop-down */\n",
       "  max-height: 200px;\n",
       "  max-width: 100%;\n",
       "  overflow: auto;\n",
       "}\n",
       "\n",
       "#sk-container-id-1 input.sk-toggleable__control:checked~label.sk-toggleable__label-arrow:before {\n",
       "  content: \"▾\";\n",
       "}\n",
       "\n",
       "/* Pipeline/ColumnTransformer-specific style */\n",
       "\n",
       "#sk-container-id-1 div.sk-label input.sk-toggleable__control:checked~label.sk-toggleable__label {\n",
       "  color: var(--sklearn-color-text);\n",
       "  background-color: var(--sklearn-color-unfitted-level-2);\n",
       "}\n",
       "\n",
       "#sk-container-id-1 div.sk-label.fitted input.sk-toggleable__control:checked~label.sk-toggleable__label {\n",
       "  background-color: var(--sklearn-color-fitted-level-2);\n",
       "}\n",
       "\n",
       "/* Estimator-specific style */\n",
       "\n",
       "/* Colorize estimator box */\n",
       "#sk-container-id-1 div.sk-estimator input.sk-toggleable__control:checked~label.sk-toggleable__label {\n",
       "  /* unfitted */\n",
       "  background-color: var(--sklearn-color-unfitted-level-2);\n",
       "}\n",
       "\n",
       "#sk-container-id-1 div.sk-estimator.fitted input.sk-toggleable__control:checked~label.sk-toggleable__label {\n",
       "  /* fitted */\n",
       "  background-color: var(--sklearn-color-fitted-level-2);\n",
       "}\n",
       "\n",
       "#sk-container-id-1 div.sk-label label.sk-toggleable__label,\n",
       "#sk-container-id-1 div.sk-label label {\n",
       "  /* The background is the default theme color */\n",
       "  color: var(--sklearn-color-text-on-default-background);\n",
       "}\n",
       "\n",
       "/* On hover, darken the color of the background */\n",
       "#sk-container-id-1 div.sk-label:hover label.sk-toggleable__label {\n",
       "  color: var(--sklearn-color-text);\n",
       "  background-color: var(--sklearn-color-unfitted-level-2);\n",
       "}\n",
       "\n",
       "/* Label box, darken color on hover, fitted */\n",
       "#sk-container-id-1 div.sk-label.fitted:hover label.sk-toggleable__label.fitted {\n",
       "  color: var(--sklearn-color-text);\n",
       "  background-color: var(--sklearn-color-fitted-level-2);\n",
       "}\n",
       "\n",
       "/* Estimator label */\n",
       "\n",
       "#sk-container-id-1 div.sk-label label {\n",
       "  font-family: monospace;\n",
       "  font-weight: bold;\n",
       "  display: inline-block;\n",
       "  line-height: 1.2em;\n",
       "}\n",
       "\n",
       "#sk-container-id-1 div.sk-label-container {\n",
       "  text-align: center;\n",
       "}\n",
       "\n",
       "/* Estimator-specific */\n",
       "#sk-container-id-1 div.sk-estimator {\n",
       "  font-family: monospace;\n",
       "  border: 1px dotted var(--sklearn-color-border-box);\n",
       "  border-radius: 0.25em;\n",
       "  box-sizing: border-box;\n",
       "  margin-bottom: 0.5em;\n",
       "  /* unfitted */\n",
       "  background-color: var(--sklearn-color-unfitted-level-0);\n",
       "}\n",
       "\n",
       "#sk-container-id-1 div.sk-estimator.fitted {\n",
       "  /* fitted */\n",
       "  background-color: var(--sklearn-color-fitted-level-0);\n",
       "}\n",
       "\n",
       "/* on hover */\n",
       "#sk-container-id-1 div.sk-estimator:hover {\n",
       "  /* unfitted */\n",
       "  background-color: var(--sklearn-color-unfitted-level-2);\n",
       "}\n",
       "\n",
       "#sk-container-id-1 div.sk-estimator.fitted:hover {\n",
       "  /* fitted */\n",
       "  background-color: var(--sklearn-color-fitted-level-2);\n",
       "}\n",
       "\n",
       "/* Specification for estimator info (e.g. \"i\" and \"?\") */\n",
       "\n",
       "/* Common style for \"i\" and \"?\" */\n",
       "\n",
       ".sk-estimator-doc-link,\n",
       "a:link.sk-estimator-doc-link,\n",
       "a:visited.sk-estimator-doc-link {\n",
       "  float: right;\n",
       "  font-size: smaller;\n",
       "  line-height: 1em;\n",
       "  font-family: monospace;\n",
       "  background-color: var(--sklearn-color-background);\n",
       "  border-radius: 1em;\n",
       "  height: 1em;\n",
       "  width: 1em;\n",
       "  text-decoration: none !important;\n",
       "  margin-left: 0.5em;\n",
       "  text-align: center;\n",
       "  /* unfitted */\n",
       "  border: var(--sklearn-color-unfitted-level-1) 1pt solid;\n",
       "  color: var(--sklearn-color-unfitted-level-1);\n",
       "}\n",
       "\n",
       ".sk-estimator-doc-link.fitted,\n",
       "a:link.sk-estimator-doc-link.fitted,\n",
       "a:visited.sk-estimator-doc-link.fitted {\n",
       "  /* fitted */\n",
       "  border: var(--sklearn-color-fitted-level-1) 1pt solid;\n",
       "  color: var(--sklearn-color-fitted-level-1);\n",
       "}\n",
       "\n",
       "/* On hover */\n",
       "div.sk-estimator:hover .sk-estimator-doc-link:hover,\n",
       ".sk-estimator-doc-link:hover,\n",
       "div.sk-label-container:hover .sk-estimator-doc-link:hover,\n",
       ".sk-estimator-doc-link:hover {\n",
       "  /* unfitted */\n",
       "  background-color: var(--sklearn-color-unfitted-level-3);\n",
       "  color: var(--sklearn-color-background);\n",
       "  text-decoration: none;\n",
       "}\n",
       "\n",
       "div.sk-estimator.fitted:hover .sk-estimator-doc-link.fitted:hover,\n",
       ".sk-estimator-doc-link.fitted:hover,\n",
       "div.sk-label-container:hover .sk-estimator-doc-link.fitted:hover,\n",
       ".sk-estimator-doc-link.fitted:hover {\n",
       "  /* fitted */\n",
       "  background-color: var(--sklearn-color-fitted-level-3);\n",
       "  color: var(--sklearn-color-background);\n",
       "  text-decoration: none;\n",
       "}\n",
       "\n",
       "/* Span, style for the box shown on hovering the info icon */\n",
       ".sk-estimator-doc-link span {\n",
       "  display: none;\n",
       "  z-index: 9999;\n",
       "  position: relative;\n",
       "  font-weight: normal;\n",
       "  right: .2ex;\n",
       "  padding: .5ex;\n",
       "  margin: .5ex;\n",
       "  width: min-content;\n",
       "  min-width: 20ex;\n",
       "  max-width: 50ex;\n",
       "  color: var(--sklearn-color-text);\n",
       "  box-shadow: 2pt 2pt 4pt #999;\n",
       "  /* unfitted */\n",
       "  background: var(--sklearn-color-unfitted-level-0);\n",
       "  border: .5pt solid var(--sklearn-color-unfitted-level-3);\n",
       "}\n",
       "\n",
       ".sk-estimator-doc-link.fitted span {\n",
       "  /* fitted */\n",
       "  background: var(--sklearn-color-fitted-level-0);\n",
       "  border: var(--sklearn-color-fitted-level-3);\n",
       "}\n",
       "\n",
       ".sk-estimator-doc-link:hover span {\n",
       "  display: block;\n",
       "}\n",
       "\n",
       "/* \"?\"-specific style due to the `<a>` HTML tag */\n",
       "\n",
       "#sk-container-id-1 a.estimator_doc_link {\n",
       "  float: right;\n",
       "  font-size: 1rem;\n",
       "  line-height: 1em;\n",
       "  font-family: monospace;\n",
       "  background-color: var(--sklearn-color-background);\n",
       "  border-radius: 1rem;\n",
       "  height: 1rem;\n",
       "  width: 1rem;\n",
       "  text-decoration: none;\n",
       "  /* unfitted */\n",
       "  color: var(--sklearn-color-unfitted-level-1);\n",
       "  border: var(--sklearn-color-unfitted-level-1) 1pt solid;\n",
       "}\n",
       "\n",
       "#sk-container-id-1 a.estimator_doc_link.fitted {\n",
       "  /* fitted */\n",
       "  border: var(--sklearn-color-fitted-level-1) 1pt solid;\n",
       "  color: var(--sklearn-color-fitted-level-1);\n",
       "}\n",
       "\n",
       "/* On hover */\n",
       "#sk-container-id-1 a.estimator_doc_link:hover {\n",
       "  /* unfitted */\n",
       "  background-color: var(--sklearn-color-unfitted-level-3);\n",
       "  color: var(--sklearn-color-background);\n",
       "  text-decoration: none;\n",
       "}\n",
       "\n",
       "#sk-container-id-1 a.estimator_doc_link.fitted:hover {\n",
       "  /* fitted */\n",
       "  background-color: var(--sklearn-color-fitted-level-3);\n",
       "}\n",
       "</style><div id=\"sk-container-id-1\" class=\"sk-top-container\"><div class=\"sk-text-repr-fallback\"><pre>GaussianMixture(n_components=4, random_state=0)</pre><b>In a Jupyter environment, please rerun this cell to show the HTML representation or trust the notebook. <br />On GitHub, the HTML representation is unable to render, please try loading this page with nbviewer.org.</b></div><div class=\"sk-container\" hidden><div class=\"sk-item\"><div class=\"sk-estimator fitted sk-toggleable\"><input class=\"sk-toggleable__control sk-hidden--visually\" id=\"sk-estimator-id-1\" type=\"checkbox\" checked><label for=\"sk-estimator-id-1\" class=\"sk-toggleable__label fitted sk-toggleable__label-arrow\"><div><div>GaussianMixture</div></div><div><a class=\"sk-estimator-doc-link fitted\" rel=\"noreferrer\" target=\"_blank\" href=\"https://scikit-learn.org/1.6/modules/generated/sklearn.mixture.GaussianMixture.html\">?<span>Documentation for GaussianMixture</span></a><span class=\"sk-estimator-doc-link fitted\">i<span>Fitted</span></span></div></label><div class=\"sk-toggleable__content fitted\"><pre>GaussianMixture(n_components=4, random_state=0)</pre></div> </div></div></div></div>"
      ],
      "text/plain": [
       "GaussianMixture(n_components=4, random_state=0)"
      ]
     },
     "execution_count": 19,
     "metadata": {},
     "output_type": "execute_result"
    }
   ],
   "source": [
    "from sklearn.mixture import GaussianMixture\n",
    "import numpy as np\n",
    "\n",
    "# Step 1: Prepare your 2D data\n",
    "X = voter_scaled[[f\"{x_var} Scaled\", f\"{y_var} Scaled\"]].values\n",
    "\n",
    "# Step 2: Fit GMM — choose number of components (e.g. 4)\n",
    "gmm = GaussianMixture(n_components=4, covariance_type='full', random_state=0)\n",
    "gmm.fit(X)\n"
   ]
  },
  {
   "cell_type": "code",
   "execution_count": 20,
   "id": "8a80b339",
   "metadata": {},
   "outputs": [],
   "source": [
    "from scipy.stats import multivariate_normal\n",
    "\n",
    "def gmm_density(x_input, y_input):\n",
    "    \"\"\"\n",
    "    Evaluate the GMM density at given (x, y).\n",
    "    \n",
    "    Parameters:\n",
    "    -----------\n",
    "    x_input, y_input : float or np.ndarray\n",
    "        Coordinates in policy space.\n",
    "    \n",
    "    Returns:\n",
    "    --------\n",
    "    float or np.ndarray\n",
    "        Density value(s).\n",
    "    \"\"\"\n",
    "    x_flat = np.ravel(x_input)\n",
    "    y_flat = np.ravel(y_input)\n",
    "    points = np.column_stack([x_flat, y_flat])\n",
    "    \n",
    "    density_vals = np.zeros(len(points))\n",
    "    for weight, mean, cov in zip(gmm.weights_, gmm.means_, gmm.covariances_):\n",
    "        rv = multivariate_normal(mean=mean, cov=cov)\n",
    "        density_vals += weight * rv.pdf(points)\n",
    "    \n",
    "    return density_vals.reshape(np.shape(x_input))\n"
   ]
  },
  {
   "cell_type": "code",
   "execution_count": 21,
   "id": "d07e7293",
   "metadata": {},
   "outputs": [],
   "source": [
    "Xgrid, Ygrid = np.meshgrid(np.linspace(0, 10, 100), np.linspace(0, 10, 100))\n",
    "Z = gmm_density(Xgrid, Ygrid)\n"
   ]
  },
  {
   "cell_type": "code",
   "execution_count": 22,
   "id": "5ab3baf1",
   "metadata": {},
   "outputs": [
    {
     "name": "stdout",
     "output_type": "stream",
     "text": [
      "Weights: [0.1762098  0.43550087 0.1658385  0.22245083]\n",
      "Means:\n",
      " [[-1.42467127 -0.00853157]\n",
      " [ 0.18879468 -0.0776696 ]\n",
      " [ 0.41688876 -1.26521089]\n",
      " [ 0.44811963  1.10203767]]\n",
      "Covariances:\n",
      " [[[ 0.84018245  0.0440322 ]\n",
      "  [ 0.0440322   1.09490141]]\n",
      "\n",
      " [[ 0.41041078 -0.00221388]\n",
      "  [-0.00221388  0.22800006]]\n",
      "\n",
      " [[ 0.9705861  -0.08021978]\n",
      "  [-0.08021978  0.46509448]]\n",
      "\n",
      " [[ 0.29485797  0.02938366]\n",
      "  [ 0.02938366  0.41525035]]]\n"
     ]
    }
   ],
   "source": [
    "print(\"Weights:\", gmm.weights_)\n",
    "print(\"Means:\\n\", gmm.means_)\n",
    "print(\"Covariances:\\n\", gmm.covariances_)\n"
   ]
  },
  {
   "cell_type": "code",
   "execution_count": 23,
   "id": "bd01920c",
   "metadata": {},
   "outputs": [],
   "source": [
    "from scipy.stats import multivariate_normal\n",
    "import numpy as np\n",
    "\n",
    "def gmm_indefinite_integral(x, y):\n",
    "    total_cdf = 0\n",
    "    point = np.array([x, y])\n",
    "    for w, mu, cov in zip(gmm.weights_, gmm.means_, gmm.covariances_):\n",
    "        total_cdf += w * multivariate_normal.cdf(point, mean=mu, cov=cov)\n",
    "    return total_cdf\n"
   ]
  },
  {
   "cell_type": "code",
   "execution_count": 24,
   "id": "b44f0b46",
   "metadata": {},
   "outputs": [],
   "source": [
    "def gmm_density_and_loggrad(x_input, y_input, gmm):\n",
    "    \"\"\"\n",
    "    Evaluate the GMM density and gradient of log-density at given (x, y).\n",
    "\n",
    "    Parameters:\n",
    "    -----------\n",
    "    x_input, y_input : float or np.ndarray\n",
    "        Coordinates in policy space.\n",
    "    gmm : fitted sklearn.mixture.GaussianMixture object\n",
    "\n",
    "    Returns:\n",
    "    --------\n",
    "    density_vals : np.ndarray\n",
    "        GMM density values at input points.\n",
    "    grad_log_density : np.ndarray\n",
    "        Gradient of log-density at input points. Shape: (N, 2)\n",
    "    \"\"\"\n",
    "    x_flat = np.ravel(x_input)\n",
    "    y_flat = np.ravel(y_input)\n",
    "    points = np.column_stack([x_flat, y_flat])  # Shape: (N, 2)\n",
    "    N = len(points)\n",
    "\n",
    "    density_vals = np.zeros(N)\n",
    "    grad = np.zeros_like(points)\n",
    "\n",
    "    # Loop over components\n",
    "    for weight, mean, cov in zip(gmm.weights_, gmm.means_, gmm.covariances_):\n",
    "        rv = multivariate_normal(mean=mean, cov=cov)\n",
    "        pdf_vals = rv.pdf(points)                          # (N,)\n",
    "        diff = points - mean                               # (N, 2)\n",
    "        inv_cov = np.linalg.inv(cov)                       # (2, 2)\n",
    "        grad_comp = -pdf_vals[:, None] * (diff @ inv_cov.T)  # (N, 2)\n",
    "\n",
    "        density_vals += weight * pdf_vals\n",
    "        grad += weight * grad_comp\n",
    "\n",
    "    # Compute ∇ log p(x) = ∇p(x) / p(x)\n",
    "    eps = 1e-9  # to avoid divide-by-zero\n",
    "    grad_log_density = grad / (density_vals[:, None] + eps)\n",
    "\n",
    "    # Reshape density to match input shape\n",
    "    density_vals = density_vals.reshape(np.shape(x_input))\n",
    "\n",
    "    return grad_log_density\n"
   ]
  },
  {
   "cell_type": "code",
   "execution_count": 25,
   "id": "1a5941a2",
   "metadata": {},
   "outputs": [],
   "source": [
    "def run_simulation(data,T,N,D,sigma_noise,gmm_components,alpha,beta,gamma):\n",
    "    history = [data.copy()]\n",
    "    \n",
    "    for t in range(T):\n",
    "    # Current positions\n",
    "        X_t = history[-1]\n",
    "\n",
    "    # Compute weight matrix w_ij = exp(-||x_i - x_j||)\n",
    "        distances = cdist(X_t.T, X_t.T,metric='euclidean')  \n",
    "        W = np.exp(-distances)\n",
    "        W /= W.sum(axis=1, keepdims=True)\n",
    "\n",
    "    # Weighted average term\n",
    "        weighted_sum = W @ X_t.T\n",
    "        #print(weighted_sum.shape)\n",
    "        \n",
    "    # Drift term: -∇ log gmm_density(x_i)\n",
    "        F_x=gmm_density_and_loggrad(X_t[0,:],X_t[1,:],gmm)\n",
    "       \n",
    "\n",
    "    # Error term (Gaussian noise)\n",
    "        noise = np.random.normal(0, sigma_noise, size=(N, D))\n",
    "        \n",
    "    # Update rule\n",
    "        X_next = alpha*weighted_sum*X_t.T - beta*F_x + gamma*noise\n",
    "\n",
    "        history.append(X_next.T)\n",
    "        \n",
    "    final_positions = history[-1]\n",
    "    return final_positions    "
   ]
  },
  {
   "cell_type": "code",
   "execution_count": 32,
   "id": "f46a9eb0",
   "metadata": {},
   "outputs": [],
   "source": [
    "def plot_with_simulation_separate(concatenated_df, simulation_points):\n",
    "    fig = px.scatter(\n",
    "        concatenated_df,\n",
    "        x='Democracy Scaled',\n",
    "        y='Welfare State Scaled',\n",
    "        color='Label',\n",
    "        symbol='Label'\n",
    "    )\n",
    "    \n",
    "    # Add simulation points as a separate trace\n",
    "    fig.add_scatter(\n",
    "        x=simulation_points[0],\n",
    "        y=simulation_points[1],\n",
    "        mode='markers',\n",
    "        marker=dict(\n",
    "            color='rgba(0,0,0,0.2)',\n",
    "            size=4,\n",
    "            symbol='circle'\n",
    "        ),\n",
    "        name='Simulation Points'\n",
    "    )\n",
    "    \n",
    "    fig.update_layout(title='Scaled Positions with Simulation Overlay')\n",
    "    return fig"
   ]
  },
  {
   "cell_type": "code",
   "execution_count": 28,
   "id": "f0916f6a",
   "metadata": {},
   "outputs": [],
   "source": [
    "N = x.__len__()             \n",
    "D = 2                \n",
    "T = 500               \n",
    "sigma_noise = 0.05   \n",
    "gmm_components = 4 "
   ]
  },
  {
   "cell_type": "code",
   "execution_count": 45,
   "id": "1661dfb2",
   "metadata": {},
   "outputs": [
    {
     "data": {
      "application/vnd.plotly.v1+json": {
       "config": {
        "plotlyServerURL": "https://plot.ly"
       },
       "data": [
        {
         "hovertemplate": "Label=Voter<br>Democracy Scaled=%{x}<br>Welfare State Scaled=%{y}<extra></extra>",
         "legendgroup": "Voter",
         "marker": {
          "color": "#636efa",
          "symbol": "circle"
         },
         "mode": "markers",
         "name": "Voter",
         "showlegend": true,
         "type": "scattergl",
         "x": {
          "bdata": "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",
          "dtype": "f8"
         },
         "xaxis": "x",
         "y": {
          "bdata": "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",
          "dtype": "f8"
         },
         "yaxis": "y"
        },
        {
         "hovertemplate": "Label=90/Greens<br>Democracy Scaled=%{x}<br>Welfare State Scaled=%{y}<extra></extra>",
         "legendgroup": "90/Greens",
         "marker": {
          "color": "#EF553B",
          "symbol": "diamond"
         },
         "mode": "markers",
         "name": "90/Greens",
         "showlegend": true,
         "type": "scattergl",
         "x": {
          "bdata": "a+hjB/fo9D8=",
          "dtype": "f8"
         },
         "xaxis": "x",
         "y": {
          "bdata": "LX3WsN5Pwz8=",
          "dtype": "f8"
         },
         "yaxis": "y"
        },
        {
         "hovertemplate": "Label=LINKE<br>Democracy Scaled=%{x}<br>Welfare State Scaled=%{y}<extra></extra>",
         "legendgroup": "LINKE",
         "marker": {
          "color": "#00cc96",
          "symbol": "square"
         },
         "mode": "markers",
         "name": "LINKE",
         "showlegend": true,
         "type": "scattergl",
         "x": {
          "bdata": "1DRLy6bO8j8=",
          "dtype": "f8"
         },
         "xaxis": "x",
         "y": {
          "bdata": "2BDdCDDd9j8=",
          "dtype": "f8"
         },
         "yaxis": "y"
        },
        {
         "hovertemplate": "Label=SPD<br>Democracy Scaled=%{x}<br>Welfare State Scaled=%{y}<extra></extra>",
         "legendgroup": "SPD",
         "marker": {
          "color": "#ab63fa",
          "symbol": "x"
         },
         "mode": "markers",
         "name": "SPD",
         "showlegend": true,
         "type": "scattergl",
         "x": {
          "bdata": "l7XPjs0O2b8=",
          "dtype": "f8"
         },
         "xaxis": "x",
         "y": {
          "bdata": "Gk9M0W2o4j8=",
          "dtype": "f8"
         },
         "yaxis": "y"
        },
        {
         "hovertemplate": "Label=FDP<br>Democracy Scaled=%{x}<br>Welfare State Scaled=%{y}<extra></extra>",
         "legendgroup": "FDP",
         "marker": {
          "color": "#FFA15A",
          "symbol": "cross"
         },
         "mode": "markers",
         "name": "FDP",
         "showlegend": true,
         "type": "scattergl",
         "x": {
          "bdata": "ezGz5hVE4T8=",
          "dtype": "f8"
         },
         "xaxis": "x",
         "y": {
          "bdata": "sYVFPM044r8=",
          "dtype": "f8"
         },
         "yaxis": "y"
        },
        {
         "hovertemplate": "Label=CDU/CSU<br>Democracy Scaled=%{x}<br>Welfare State Scaled=%{y}<extra></extra>",
         "legendgroup": "CDU/CSU",
         "marker": {
          "color": "#19d3f3",
          "symbol": "circle"
         },
         "mode": "markers",
         "name": "CDU/CSU",
         "showlegend": true,
         "type": "scattergl",
         "x": {
          "bdata": "xZW/DYpf+78=",
          "dtype": "f8"
         },
         "xaxis": "x",
         "y": {
          "bdata": "SeEgyTYI8b8=",
          "dtype": "f8"
         },
         "yaxis": "y"
        },
        {
         "hovertemplate": "Label=AfD<br>Democracy Scaled=%{x}<br>Welfare State Scaled=%{y}<extra></extra>",
         "legendgroup": "AfD",
         "marker": {
          "color": "#FF6692",
          "symbol": "diamond"
         },
         "mode": "markers",
         "name": "AfD",
         "showlegend": true,
         "type": "scattergl",
         "x": {
          "bdata": "YOGsi51t5r8=",
          "dtype": "f8"
         },
         "xaxis": "x",
         "y": {
          "bdata": "k1kAyCzS978=",
          "dtype": "f8"
         },
         "yaxis": "y"
        },
        {
         "marker": {
          "color": "rgba(0,0,0,0.2)",
          "size": 4,
          "symbol": "circle"
         },
         "mode": "markers",
         "name": "Simulation Points",
         "type": "scatter",
         "x": {
          "bdata": "aK3DDNe8gD+O2sG7ngWavzKj9BLGBqi/UgOA/c/nuL8IOfW7lsCqv1q0l0emm7G/4M9RbYVYdz94+COLM/+qvzQFAUitk4m/U9+T5UgTrL90Gq9ZEdWFvy4MLQrjbqG/hqkl+E8ZwL/g9mMggTPGv/Qg9m7yWJm/wPrQiyBDwb9BGvfC9Celv9EDYs/nEqa/bNqOLH2KrL+OaSbv+Wqxv1BzEeY8wbe/ugCxWSXRlr8UpsKrv42yvzpSDQqjArS/jpqMvdBZvL8LEol2F52Rv6S900AMEoU/jCw2TfO5u796r3QiPs29v6Sikm4Nv72/CifvNPeXrb89KHgHVDCvv5do7lqYnZm//g39PCt/tL+0OfAwl9/Av6zqJjLpIry/8DL6XnwAub/poKpxrk60v8z8HUm8caq/WAi3lpP/ej8wh1Z9sT6vv9ujK3J+PbK/1KUdvQmLwr92AX38aH6Xvy53i50pT8K/8EWIVsU4r78gs4scFIOVP3UD1XD8Kba/YK5xQMCjjj+acFlq03mYv7BQrmFF7mk/BATyuLRkrr8uJajPj6WvPypCgWwLEaG/5h+Pbeubnr/s1SYSiAauv1RfYIn/loU/as6Hgl3sur9AV7ccir6Wv3zO2lhwlKM/JN80h++7ur/6JRnlUsWwvxBYZu2mToe/N+bAg3uwpL80OlGIgzupv1Zgw9d0JpO/uk1XhTqPmb/gPvOfcFJ1P3C8vsv5W7+/KaWCznbQl79FwECTN5OjvySPxJLS7ci/enymtK2OqL/I+fg6Ilt1P+pHfNHY6bC/CpzGjsCMvb82AIT6jWK3v/IZ5JvE2sK/nMbleHO7sb8gRXpJz8lqP3lxjTvJxaM/AjunKf86qb/uEv2meFKav/eKrAA8wae/7tbkNDtsv7+6/bv1FbS5v+ykwAEMk6C/217fEy+2sr8A5E9OzBycv4LedHWasbW/5nBKH6hKsb8zPQawFVO1PwR1BdLdv7K/shtgcQT4sL8BaivzaDvCv8iMCbNF76m/UFZLdzNGpb8XsmZgU42vv6wUJUlGaay/jnPHmmWjsb9YCORxwBurv9BsUHKLFsK/jFpYe4Mdsb+G+sfJl1WUPzh7b2FVHbO/Si686E4ntL8YpesKCGeUv/ViDCzUnr6/LJhk/6AXjr/+lDBlKGqqv33TAt6WM8G/irhm+B6WsL9m48MjC1+Vv1JApnaN4qO/wq2yMYI6qb8o0zo36z2gP66ppDCqhpK/kiw6HASak7+OCdh29tTFv7JqmK29Ja2/ZkWW8i9vub8Q2aFO1BlnPy5tf6YVaKW/oNK++s2pmj84mpptOndzv9bZNl2iSbu/nqcYMWvNlb838teeJtSgv1i9BOrlBKg/gjwla5CJm7+5x0hqK3Shv9KeKvZZWLS/VLmmElYplr8A8p++eT1lP1rt4rnOgre/kD6KVrgOv7/JXXdIJDywv37GCkuYMMG/wrhHKksiub/51w1TNEirv6kfIx0XhrK/lJ5VIQTqor/2atX8BGuQvxHBVnq4i5+/8iQpHrNsw784cKvX99aYPyr9qpDqWbu/uHIsqGURdb944h/j8uqbv5nfnjgboK6/rHzsH1jXk79Ivbu8hNR7P+pm1YPz2cO/06nT2d0aoz/Suzq+1ku2vzhPZ6xzIby/MF0k5xzPnb/YiZVZaj2Rv1jTdbJbmJi/KofQ1Rennr+vMQxMAs+WvzSOdp1WuJc/lqV2tsl2mL+wo0FB56uyvwf6Ey7zbqO/LZu2wejIwL9MCzoeSDy7vxbN0gFrN6u/1dm6GZ1Uq78lNNJr/MusP0bSiTDAyq2/VMrPc9n6nb8AMlzNMv2KPyH2bnJ/S7+/EBdxyUXxcr9CCwv+Xd2wvz56xQrYpaG/6iXSpYwWpr8X6eVVKS6nPyQ3Vhy6ZKi/BOiEselTvb/s3O2laPGzv2k28YDCOa+/LkGNhiXqvL8lyuu4CbGhvzTPNIIdGri/Q9laUCLQqb8SismC/XzAvxby34y7XrW/CgRGL3Tat7/QQ3T1ipvCv5a7JTEWdaW/UCIwXXFmlb9YRiziZqmLvzDwzmMfS7C/ZMQtTXMPnb9s4KflcZeUv+xFNbi4AKm/1imYegPaur/PiR09rRCxv1wuwFV5qbC/biIjrPnesL/ABUJL8DO5v1aYaRqCf6C/wL/H5OU6o7/CDdBFT4+ovx/M3hjsB6q/XTXlC9Wctb/qzcEleFyxv9rmAjOkm8C/Yqdxa1zepr9IO/Uv0aJ2v6RcVhdm/MO/BiXW4UvpwL9QCYqchpW3v5YssvmLCLS/LPLHYqC6gD9yPWjbd4Csv8SC0Wh49Je/nAq0syVYhr9K19exPmq3v5w1VzgMD4m/UB/CyiEiq78MlsItLIS7v6f2TyUxyrW/2Xw+Mkzrrb8YaTh7xfmtv/lgkm7fHKa/zybvgIT7sr/UdmfzKjuev4DORzWa0qa/7PeeDv4mu7+qqs1Hy2apvxd6ZfNCW5+/Sj13BBQLur/WRbZofiOav6rwIeiJ5KS/GdazXZM5uz9G1RXdA52ZP5B6z+spsX2/+AgEO1JylL/KcZUBrGupv+H6QBUAXba/XKZuq9rFib+HR7HZxFupvxE9Io3PhcG/jQIiSLuatL+zMxmT6oGyv2g6RI1FmYG/uNgWVe3LmT+icGmJ3vKuvxhg+K9R8Ka/zYbfsKfjrb9gb0dA9/GfP4idkCG775Q/eC9lPGu+rr8AdzdNTNmZP4KNnY1145u/RpbK9dI1p79IMtQA+LmYv3/9bx9TobK/3PfstKFet7/AvySXOemJv5wV2mPvYbK/TPwaBAPNjb9ALgzHDpWFv4DUN0SBk12/4Aq0R+HOZT8C2wxhE/2cv8RUCrhzb6a/M/QMdjYDoL+YT8+39V6mv9VQy2ABJMS/4k/X56WSvb+WcWDcUBHDv2OZIqanTsC/S47Zlmpqsr9Y1aDMO4qOP1/twgEvf7u/oPuruytvXb8Nn9w/j86qv/jRY6taAoA/TMyDyoKWmb/uTXqhoCezv7Zy3W7WIb6/SHzIPaoAhL+gUfJWm9uAv2Iklo56Gqm/jLO++IB1lj9KsOo4QzyWvziHBB+uw4w/uS1uYgrckr8OK2CF5POqv0xKPY4YgJQ/fJ6vzUUEir8k9/8Ys0afv/4WdyYifMK/OFamsdPWoL+0QC+eY+Kav+JTaVEKLr6/4x3L80s5tL8r8tI3/L6gvzZcVjwyRL6/UH4F3wHPsb84DxXkAKGFP3EHoL0saac/4NtiFzG2XL+gNHAdJSaBP7Q6h6EQ77W/KzFNetq9wL8gUc1TYm1hvwgZE1RS35Q/DNewwslWuL8uxIg0hLukv/TDd8UAxo6/TB2qmqiqlb94d++Zynu8vyTdEQmRuLO/eoJcAHCulr8qCRFPpueNvxlvFc/K3a2/1dyp5cV7sL9aenFGgvy2v9atNxgBq5m/Y+8O7fNBsr9C1gdRtvPAPx/hLCcRWqM//Fd3MCHGir98WA4TAhS7vww1il0t2ai/V9XVF+QZtL9d7vnDsnWfv5JvEQSQaq6/0KPH2Im8gb947nvVgL+2v1Sq8jfeE64/HL7Xbq5SpL9GV2Yz/Em5v73J1oyUkqA/AN/Ji/HcM79sHNM+6SGmv1yMO+2R8bG/WDLljsd/er8EF0lOYiK3vz7YAHIOrrK/DCZhp4jvj79w43akRvZnP7UA/fC6ALa/ktyRJZC4kD96F9e+gkS6vzRdnVqhG7u/YGKGu9xJw7/Ox2OnYaa2v4A83q8MflI/VPUaiOFBg7/8QJd5NN2iv3btSRVEF7i/6rK569ebkT9vKtYm6sWyv1xTTqotU6Q/3FQXARb6w78iKzBeCzy8vwlkdOEkkrC/CMrKsXPGur+XD+HCXEHAv9gYqg0jrb2/PCaDESQAsr+o2YF4ibV5Pz0XXiejzak/50NmzYsAkz/y7asEFWO2v39v52zkGqU/lKXe5uaSg7+cTn2BTTbDv5g8R54WZ7y/Fd5gRc/8wb/CYw0eLhWyv1YpjKbktqW/eBSzsG03fL9gEe7S+PW5v/kwR6fka8K/pFZq49E6sL++YrqrAhaiP4r8M7ZaBK+/XAwrfAQ6vr94GqwiTfeiv4eckTaV+Le/1r1ML1oSnb8gQ5KFvHOovyShW78VxKQ/jpeWa/atp79+rdUVIVTGv5JP2Wzaraa/Kjs2v8E+kr+ly/yfCqmzvwAAUbohY5C/lkmFkv4ktL9WNG8CgpGsvzBkvUCIMHQ/Kre56FIstL+awmN6sQ6kvzpQbMALtrm/y8/fqwd8wr/MhDkkP1a5vwufxYga5KE/MPBi2aBGoL9AvcRYrbKDvzMMjXsUJ7a/CCHwiOxpcL+SFHeiUleSv8hQ3BEjK6q/ZGj43ujjuL8LvZDtIs+4v/Z0ZKmV9J+/wMTb6Qe8ar9A8nlG5XlfvzCOU0VNSbK/OQITGnIVrj8Ci0Bp1+2xv+GOuDG7OrS/b8RYKSkZsr+AklfHzb5CP2hb8FOY/XS/TKXZj+Anhj8CWi2YTH2qv+DJAXcxz8G/EGqerzzsbz/+nuBOvJi0v9zPFfvRva6/BuI4QI7Unr+XByNgHH3Dv9t1i9GcIbm/jKcxtngrtr8g9RdSBLxrP0wCBrW3M7C/amm5VdGxqb+u0xvftSCQv9zimS14WMi/BId80oCqpr+a5K+62gafvzdQio9yr7O/oJUA5cNzo78w8z9q1P9hP5ac/d8geK6/FMcCWD/gqz/wGswqzaCZv1LYKwLIKZA/ZKryyLFjjD/OpNsYwZuiv+ar90BQScC/jGTmz1/fmD9CI+6v7Su8vzfFukXNM7K/pimsgtFPq79spWcTpWGyv59Fs3Q6Z56/8to+MzS2lL+60sxVrvOdv2gH7bchCq+/7bqFiLcjo78nE49FLxStvxHnYs6+gKi/zs0DTxfDo7/YO/xyBpOLv3lfzAC2i7S/oR5BH5wDoL+9c2PwqgnBv+Yr5UpXe8G/VDT0zLFLuL+04AruB9Cjv6C3YuE0WrG/Z0vpwGF6yb9Q8YuY96h7v7mGiGDZGsW/Z7zYNXRFwL9frtgOAaHDv76gGCLnBqy/xG36FkY1jT8kxpWGNwurv5MSiBBaTsC/8NoiQTzMw79Ww+KkvdC2v2AXH3rkB22/c49Zf416ob+sBuCRQV7Dv7qP/VPaXKg/WLam3FdttL/WqXkd63/Av4BskKFANlS/uooJnSZ0rb+0xoixnm2iP+gWAcQqt8u/aT48GuksmL8qAsF4Gmm9v2xz/rgMpIO/YubLONYLrD/JHd+4We6av9SjFVwORLm/IBu1BRDeq78QOarj2Iijv3fgLAzST7e/1lClhM1KoT+dwn0u4L+tvzAyrBYPpqa/gDJC+0mvtL+TQ1+27KWsv0H3owv3Sa6/bEdZDUcypL9+q1Kre7u2v5RZuVZUPJE/BF4klHZ4uL920wTDTGq3v3KOKL8w9JE/IhVQYlKhlj96T3Karcyhv7pq5VMjNbi/ONR1c4MBvb/QUv3JaHy9v/Wb+H6HAKa/mIdOZvhsjz/APBojmLVCv9pdUvVu55k/EMgJShNqmj/8Pcct4OGRvyyd1RW4u4u/v82vh/b7pb92yqG6I6a0vxJZ13UME7q/IiD+8iIUtL9G3U1sBBqdP8CkZDIEfF6/QGd/evSbbb8XJCktpt+pv4JihbKVp7C/ZtOaVwZ0pr9Y+GyyC7G+v1sQ1U1dBrq/Xlfbefrss78IeLLer8eVP/CcmUNbx4K/AuyoV9ksqL+iZmgp9U6nvzhuQuUlU5O/JBz/4ovbqr/o9guPMGl2v6HGoDP22ac/eqDljchVs7/wNay6GbSGvzLXwcdtvLS/FsB7wDEms79sh/zGv024v+wI8Rg+SbC/AAOC+MCGrL8N2MeLCVi6v3o+AsZe2aK/AFxM/PNbt78+IkCOL92wvxDCBt6v9rU/IinGfM6Nur+U62hSkrPFv566mKDyS6i/tBrA3C4kur+HJlha4R2lv4ARGmaoEXa/iNdy1WfyuL8AAXv8m7iTP8K1FXCT16G/rMTjZSiPob8UPqRsPZyOv6jADe+IPoy/JCGpMwh2mz/7HZfCy1O5v/RQoap2YLm/aYRg4EjWrj/WFYNhAL24v7x9DcgvwIK/6H8ZDIvTub8GrXKuE8ubvxfEVnTyDLC/TmAABpW8lL96QJpz12Wzv0yT4XmqHLq/af32q4V4uL/Ah17sERy0v4awZLkyxrS/v5B5DQPsp79srQTdruSPv9GFYOB2+Ki/40F9KVZuqL/ENoVjuBDCvxPyaWTREMK/Tbyl6KQMob+ESduOypWyv//gsVduA7e/RoalV3Plt78CVt9jChi0v39uOcCHcJu/UhroVn0Vxr9sTfIc6c+7v8xIGgra24y/RtPJzLOgmD9guGPJFTGbv1+/Z2vVH7u/7HO7wRs4s7+KedlZcIO5v6qZC96ae6K/sf2CxQujsb/lJjK6QgWtvzGhSv14VLy/EBWfcwsXnT+KE81mX5CaP2iuYsiBCq+/6LcA3nsHpL8+7L0JpwStv5A1kmBIH62/gIZDEzoncD+Bv2pSEG60v1BkhXzLtoS/VnxwQM6Ntr9wijtgPh1rv6YViN1s5KM/k87RHdXqqr/pnMkQ1gu0vyYoqGM/L7C/cse8cStPqr8wnM5i+3OCP/PwmSRTaZ2/uHGJOhc/xb+cPjRvn0i7v+QdTcv7P4I/ZOZM6D4apb/MVt4zlsqxv9Al0YaJg7O/uLIU8D7Zgz9uhqNCaDydv8AlP0ELApq/vN8jlqCxw7+4X/wkcHjGvyJ1EGV6YL2/uQPHk0/mqT8U2e8tU5S6v96k8ZnhV7e//FUkIQSjgL8hKd5YZPOxvzBy0bzsULy/4CScLfU/k79JLNMd1miqP+YppPiER7W/BIvw+s8Rqr8S+3GyAxuhP3znXtSvG52/TIS7Va38vr9Y2VMmMCrDvzjjCQMre5k/PzpanaNOs7/mq/nv8XHDvz47l0JE4J4/PAhrx7xpp7/s1jD/yZaOP8UHz0raU6E/hPWxkGpmwb8p5J46rAOtv6uKug6HQcW/2mHyweQvsL/puYerda20P88G2m9Rwr6/eKSpq2Xuhb/2sh7T8DLCv+j7WUhI6qa/sVFAnBNov79IKidRti98v1T3R0/sVKA/QCyZa7qfvr9rBWukTwWhvx0cLaTZbqK/dI5Swa7Kib+I9rHKpjOPPxj79QwyO7q/zpySvFrmmr+CvVltqryov6oSL7TSjLS/KwC0gIdiub8NNqbf6rqlv7sxGe70nbO/lW1atBSwoD/g0jALb8KBPzI34PcWH50/GYQjVQdIvL+mx4ByhJC5vwwUWn229r6/qM0n/ls/or8sQoUYOb3Av1i+tYkLLre/8GWQClQQsr+6U7wIyxqzv9aGdyM+P6i/yjdvFhZyp78Qbmklqb1wv45fIK0pdLq/ECv6oLcgt7+nlHda7uyoPwradZ2GqZO/HmrUigq5sb88IqiXOEy4v/pNG6cQhpS/pQg1Dw4ctr9z2wm90Fuhv0MvyeSy/bO/c/P6gwWopr99UKnbW+qcv1ZMsJGZFbO/DYP2pUaSqT+A2VV0+cehv65vPGdHDaa/J3yQGbgZqL8waVd/0lOKvz4l87tMSLM/ysSUyEu3qb/5Xyq8VYijvxS+y/C+V72/ptWeeYCIsr9wV1TXw/6+v/ZQCf1arry/HGCNGlBYrr/QW3pWmBSpvxIscruyE7K/bIKu0zmwoL/Vwa18swW3v+1h5Voegqq/oH2qTpqJrL/AMASP2au/vzSpQiFBY5A/Rz+t5lAFqr929dMP2QWwvxRjRQ8aNLa/3XQkTTYgsL+hzl8wrYfCv1Z3rN5XwaE/8HiiKwRaqj+UKKwmO1rBvxyawdiOF7O/OvZoVCQcpr/KpXdFzOW/v7Td3fBXWoY/CEDIWCKZv79YrANoZmRxP5zwLNgia7+/4cnLxF0gtb8u/KaaPUOlv0PTuEkk3KM/x9Oj7I96tr/1psHu1ieuv6J+PtxFcaG/sQ1P12VHsL+xyBV9aMGjvxf2K4YtbbG/JFaazOhswL/TfUOt2F+9v5DZ6c71H7C/3ZurCKkAlb/eUGsz5nqivwh0rin7jpW/xX/Y4d1Jkj9wE8RLb9CPv1pCnty2dLu/2BPcf5YVhb9BriJKIFyxv2RP3HwNxrW/MBj41XmJZb//GjJrWpSqv/kJSBC/4cC/xBcgdK87jr9MC41tCx7Cv30Wq5bj2qS/YCm1m1Sucb/infosqBGzP5whA0by/KS/DMJ397LAnr90M5q4R9Cwv+B4rthu/oM/eFQ9BlE9hL9EbM1Vu26PP1K5sawyE6i/7vkI79kvur8PTKjP99y4vxeGyVXwfqw/Y1tt4QFPs7+2jbo9bGuwv8exNyEEx7C/4tBwPprRp7/hcVtLorS0v75sCHCIzZy/2E02ELrnsL8TZeXI5ESlvxStpz/X1sC/K3yq6VItq79aKjx2r/+rvwya020KKIc/pCfTg3JCsb8ddBLOtyWzv1GMg9EmC6A/PFcLq+Ditb/WSgbHIwCvvzdcHbNfMsC/IMm4VoIQh78KEGy/dH+7v7wK6592P7e//fma4AvAmL9gIBDzJHNQv8GSbsJkcLk/YtrxB0aZor8qNddBfKezv6iQW6ll3pI/j/UP5Lwxnb/pFHxDOd6jv+tmVL2viLu/kBa5QGDEn78g/W3QbdOdP7DtxRe8t6W//FYcBevDyL8dNZek2re+v7rNqWfnnbi/cf81Vd6CoL/s1fKxKfOivxX/gCnHwKm/IviXGtfLtb/mo7ynqFOgv4wFzBI+yqG/gHcfj8y6qL9AGUJAs0WdP5DIhahZVcK/KT+Q+dgmuL8KZ/UBq16iP7ajcQ+13sC/PA6995AMrL+Qqrw/L19kP7z8yRFSdMC/DMOVKBDExL+ApFv//9s+P7KOH3N9G7q/8rNUAst0ur/QhdgMWTifvwZn8YxrUK6/6DSamgbAcD8cG3tP8IGAP8i7ilbyQcK/WoWdvsrrqL+ibwl3aO+yv7huxWHF9nu/dkcgwenpmr+xD2rgpMWcv3DbcVwWC2u/etf59Jzpub9aSyHylLepvwNRSTf7vrq/XNqIJLgIh7/HhPxysMCrv+iPQLJzb4a/lbxem/Prt79kW8bvoYuAP3Bj9cfsUZw/iVeYFb2asr96p7wpu1HGvwgXb9xquqK/1ErVCaIPob8oV8BzI62mv2ripSVnFq2/9I4tiIUlub+yz0f2M12dv0kXHV1bo7C/1nuvTpufyL8b4BNqO7WgvzLmtzkYfMO/ICOVKy2Xjr+cEPW3zjCmvyyW44upOXc/SBiP59ofgb/KAPdqXYecvxZrn3dDt6G/mikFbwrls781llPht/ekv1RXdPEuFLW/9odIxHdNvL9p8xqWJ+Cnv3wu9njvioy/QT8rt9+PoL8bE6Yd/t+mP8wSJUPvqqa/TdKt6HzErb8CM6ZIvDuLv+TwxK10NMO/LuwLKFumsL9icPQvDB3BvzSpfEDPhrC/7keU+SJHrb/fK3HVdZywv7JJt2a6B6e/gYBsBFCCpb8QMx/dpWRyv8wHVOVTZsG/Evpr+iNpp79a0sJ07Eqqv2hzwkGXbnU/PprNCT3ctb/GXmurinWlP0kXImrkzLm/fefvSEc7v7+OXvPa4sGSv3k4Q9ivfrO/IvkySTE6wr/uEpIM5VG5v1gNMk9bc5U/iGjwD0i2iT/i2j/jk3mnv+iavhULgre/BmjGkORhub+IAmn03gujv7yoU9NEBLq/Lse4EKxwrj/vmNMl+MOvvysPgkkZebK/uCQxlKF9nL9NwrhfXQCUv5rnUlbDLKu/hj0ya0yHnb9hm8N0fSOwvwAotZRppBy/Wkn0bHjrtb+OQWNxlU+tvzrpgneUpqK/Vi8hf/OEsL/fdZBXC2DBv4gU1qr4ypw/vMk5c05jor/hj6Wr9srAv7ZF4Y3oM7O/GIoGUOkeqb9QYcBzs0lyP2JguJWznMG/Yvzn63/3kj9JCcTXJ0igv+VSESk3H6A/sIXhAhirur+LkDvHwZWpv6lctIwRrqW/5Mn5gOiStb9aReKNF7OYv1ZmCjkW1KC/w9/ZGDIysr8Ag/K7COYtP4hvq2cc3sC/MRwRZxXQu7+ks+d/xzKDv1SMvi+sBa6/6AewCeFRjj/ozdMfxp6jv1zbHZzIsqi/tHn1Vwrko7+3LoZ5ZlCXv+gZn59okqO/4QgAdmZaqj8YVjIxPCfAv6N2i8ftALC/GFHOFLyhjb/wqcrNOyp4P2bEfXPb77y/eoqA0wo5or/eMjOPp4jFv5TbzULgyLm/cSmpxMY4r79KRjYmm9yjvyRildKPfo+/RBTfttqjsL+KY+g9FTuYP6PIveipRqK/BEPCa7Mvq78qjdzerdyrv/gvC6qLH7W/XUcTPVjyqL9Gxham1E+8v5yOP5rw4ri/rv995PUspr+y4bbHDsqsvy8rJdxKs8O/2gs6Kw0jvb+msidfJA6xv9QHNMGIQo4/UP01h9Huij845/ly6V+OP66S/1LTA6e/Iy+VvOtrur+Aum72avh1vzb+5GSS6qu/G26QnBvttb+Az/+UX4G4v7GGoBkaJ7i//iQhAQPCob8zt916UoWyvx6hFUTxzpe/K3XM7aotsL/qQvpv1Quwv8lVVg3P+L+/ZcgZ+XWpvL+6zQd39kTAv7BJZL/8OGq/hj6qI1ADwb+i2sMm7nmsP11pnH/K9bu/BxLFHPDlr79yvSlzCDrBv8wzMt/GQbm/mrHQLUyGpr9bnpfsY8a8v9Aegai42bC/pDlhmi6Sgr+vqyqeb3Cmv/5oQGoI6La/KoN0h2vJwb+/NCZxHGeQvzZ4rzYwTJW/RWeRbkRvor9LWtVzGrrEvwU50fcUmqi/v9dJMcAcrr8+pwaTTR/Av7TPS33xoae//uJoSNvWqL/4adn9by6kv7HsPePiS8C/WtWsqgOPnL9wd5P67xOEvzg5ATgsopu/QDsGrXyIWb8D5XEov8mrvzRIQI8IKJg/3DcIvC1shz9wrkwH3hGDvyBSQaEprLe/bwvkmGHYor93tStpRPKyv/vfNKFc07+/ZEJqk03ws79YqeQIcyGsv+ghbxzsQ3O/kE+Rt21aub9dLXfCZ9qyvzUc3uJeqra/Bi8m8yN3xr9ct2/UAPevP/VtvAlfQMC/YE0Syz08mL+aBENjwa+TP0ZxXxEJSbm/fwIO83e0pr8y3Yu2maikv1ywMTy8rba/srXgLigkkb+EVfTak2KQv0hDE4mkaYu/EMuAyKJnpb85ghubCcChv4S+IM63XLC/uDGR4vZDsb8MwkXZgF2/v7DCm+AYSLq/ZK08YSnilb9gbL7Luft7P0KASPnQm6c/QoSh/uverr+qEt3UWg6zv/YYL7sQarC/GuG+vs9dkL884rtl3yu9v+6i6U99orm/ZImr7TVQwL/+gBWKVoK6vwi2IGFnKLK/JtOcAYhPpr/CyDa0LKe3v3Ids8drdL+/wMltYQy6fz8UVLA6xDSVPwv+Ma7I8Ly/GMM8Kyc6kr+JAHgKhv2wvyQHqbbJ3r+/6oDd772WqL8cxJ5prRe+v5OmslE2dKO/FoRhS0j+kT9wHr/QUJhvv+zA66jCQpG/GoVHSoYTmD96PH/yeEjBvwhN38KJ6ZE/fS0WH4N1rL9aNQ8j9EWWv2jowYIK/JY/7KsnSnj+o7+QVdyQCsVnP4T8cgz+Tbe/HnjWCi8/u7/Oe5Ox5Qyuv1im6BAJvKM/zAsiEx0yhT/zlEYBk8y8v3TzS5of7L+/3nIPPrL3rr8CMBiVEzS0v7jsKn7jmb6/ZQGn7UACrL8I8vh3PaCwv2A7cDkfsJU/XgL7/e/5mr9Pqg0bR5Gqv3BkAVvuAKy/dph2k5Q7rr/O6fADeo66v7MOcu3zxqm/hlJdr2QZo78oHvnZJlmwv+WzRqXe86u/ZKrVdxw4rb+e9dZ8yjS5vyrNwmfGpbW/GGY6Z/tAvb8gDtIEUbRxP3xQji6jK4A/R862KMFMvr+ApL/b/Jqzv8AaD11IzIc/WVlIKz2Tor/2qot1dFG4vzhn22YRsLS/FJ8iZbO7vb/dTt2BmVqpv7AzJIfLwmc/irqSSVaBtb/Ekj9p3lqrP8NbQ6BfcKk/SI5FE24llD/yqG+LuiiSvwPaOYR8u6M/hH84t2X8qD+sB5Wz/ESmv1/zekgacpm/QLsKDV0Vpj+7aE+QVy+wv9UBXQ7vKaC/56Y00y0gur+mROwoMEWxvzy5A9uELaC/Sqsa+klKsL8dBoSly92tv+frUMi0Caq//GWaSYO6ur9c9VZtWuSbP92VN1RPJMC/JEJTNrJ2sr8aj8V/Y8qzv3oJTyoaNJ+/UQ7lQpjZnL/P37h7A67Cv1PbX24kEcK/+G59roUAj79FVe5rcNezv8CvTV+tIq6/7x9S68JOsj+rqmukiWy6vwVucZAcL7q/ZJY8kpaeub965Pmf70S1v9AYXqA6aqA/z4vtfqP/qb+AmHhq5Ic4P/wNkSLQgr6/N5q36KwDtr/1ax3UtQ+sPxDPJGxrTYu/BnqpuicKqb9VUnXpq4qqv0o00ooBpbm/oMNi6tihnj8LoQRdZGmvv0RfA2O+/rS/IB9LX1Aslb9siws7pc6+v365nLuv78i/HL7gOT/tjL8AwMyavJWaP/UlUn4NXcC/0rwFifkzu785LXB1y9Kvv7fGneSNnb2/xsmfHz0PsL/A9cngDJZ6P8TWuxCIJcK/srmtjOo+pz/9DKGWATanv590Lm0FRqK/PqCYU/y/pD8SPKmfBJ23v3sPS5+urcO/nsSX9Fqyor9eloT0jTOZvyBHmnxdZoG/pMXx6yeMwL+IapERPsWHvyn018hXl7u/aIVNZ0Q5rb9a1Nfig/rBv76AseCD8r2/WeveH5PVq79ANHIn4kGzv/8ALv9k6r6/rEEURkHvo78AlQKu9LOLP8zQMNAb+7u/j6hI/cQusj/CbMgttZCzPzhwTwIGDKO/rVl/I/k1r7/hrrmshGe7vzLrG0f05aM/dc9aiZkTwb+ETx1muR60v9wPpMm87pA/qNRmtRr4dD9IA4dJsHWNv7bb/EexRrW/cH71oKYSib9U7Qy4toWAv8PfU1IrrbG/c/rtKg4HtL8KPgs/MAqTv0/vPbyuR6K/0nJ3FtKvvb9fzrdSNJy0vytQlnXaGLa/Ww+c4s96sb8y7FYxmR7Bvy26r5/3erG/JeqOpgFcqz+y2WmlJeGzv/sTQAynaqK/dPxWWHI4sb+WcdG8AX+aP3/nRN0MOpu/8AY//DJsor9T70VK4FWtvyqJByi/v5y/kD7pmboQub/KYG7gBA+4v9Nza/GyAqi/QNu4Qghswb80juGi6l+kv5inYJVTKLS/0MPjkn1Atb+hfEQe3qyjv41rtMl4cLW/KO5IasYvgb+Bb2dnbSmuv8oM4eYcVMS/jpJEVASusL9Syr1ziDrEv4C2tzXRXJy/FqlCg1FNwL/A6UObTrOSv6qeqoB7rLi/WHYhn7xXwL9KdhFb4Wadv5ij7GEqU4k/ZClgCYdTmr/AllaMJS2Mvy5LOnl2X6u/BGAwHlJqqL+X8d/vFj+tvxK04+4OqbK/rJwwZ2aTib8gv/FjAEmfP7SjhHtdNpo/Bn2JeAKWvb/Im3ygoUq9v/xH0lfY2bq/kB0/W+K5hD8cFuJweLi1v9ILmHsMjrm/8Pp3Rc1vwb/0n4GMos66v+gehK8WCXq/1xAmAuw2sL/+RQLVR+eYv8hzSNpA8ZK/k5moRNi2ob92n24SekW6v+TAzqcaqcK/cPS/f3h2d7/AhNOZNoFvv+h18IIaw66/OLcw0DVcor84GI9OoXOBP5a0ROiAL8O/Tqi7ffz9tL/SXRvsAhGkvyhnfgBzYKm/IC7MainjwL/GFbliRbC0v6RP/FpuEcO/np8aPiVftr/MtktY9wy5v9tFf8InfLy/w2hnrfxtrL/ig3x9vkmWv3eOmcAmaaK/Su5ugvlouL8O3xosCs6qv05OJt7dnbK/5reqx/KKvr9wRQET0h9mvzIvorS2w6W/uQdsRHorrr+NDAcUZda1v4H0h9ALxaO/jjq2XCHIvr/4EOOTGZytvyAJQQQycLC/pdg6ZSkRnT+Qpuj6QCCyv4rSaC8Ygre/UMF+A+ZRmj9Uz+Hzhninv/Q5SoDEQIa/WsPL5Tndwr9dwEEbqtakv+QFagrwq7O/c0Y8YN2srr88CPsX3aeov4s9kYiq87e/64Z8dTNcub+yH+eIxMSfvxKTS2sMQoO/jHj0AeADsr9xqMxSy0msv6rj6yvItLW/CFT3uZH6cD9LFNuBfkqzv4T36a0G6La/F7FoRGKYpr/jZVDY2lmgvzX7oT87tbK/igxNIwZVtL+CrqY2uXzMvxAPDx7aQrK/6hDGUCr7s798VNv8XqbEv4HDrYbqUrG/YNMD/OPfob80P10cRh2EP/qcbqcN+7W/rGKrDiRIs7/1ClgbtXWiv29qmAw5jZm/QM36pd8Wl7+t5fgWIimlv6hQKJ7ztIQ/uPmwo5hDeL/EdTwYyQ6eP7iB5yndHo+//lU/5UffkL8YYFlT8CmOP3LGJa5IZaO/6LKFu7yUi79WXqDJsyufvysRHj/ymLO/93th5tr2pb9dIM6ATbvAv3TJrHr+3LO/tXfywQ8UvL+UC5J72Qqyv1p0uzZanJO/N6Zp0CzVr790HzoHy3S8v1fI2Ps2z7K/foHRzWtXub+Qw/zs3+iwvwZrcsQlRb6/+Aq2ZsIVt79RKWTLOavCvwDQ8wa+UoY/cMASck6Fnr+AquBF98BqP5lx2cv+Aam/0Is6sYHWcL+6fY8eJP65vxtmt3l4Rak/FD6OAMucuj9yGaKALJGiv6adYVAiX7a/jv9bL6UElL+ci9OcAgi3v0wXvCyOObG/5KbjSh9Vqr9zPNCI4XWkv+eZxXG1r50/RLi4rRfliz9E/lfSqKigv7n+/eyjTrG/tFQJ3HPPxL9L2P4raQuqvzUl8ppXhcG/cY+0xJxnpr+63jekixO4v6fdYYlAS62/oVKNqifttD+oXE0whnWuv/+DJL8YWqK/zWwSyaWnv78Yk5O3ALSpvy6BZh6kFca/urZNBAXap79nPYxM9OSpP7AoyZDXpLa/ntGE7kM5tD/Uab3RRsKhv7jsFWnXlno/Fp+5Q7btnj8uFQyQm7ahv+yknX3s/rO/7oK8TTCeqj+IcmBxuLGNvwSEFMB6Qr+/M1FaupEQwb+wd9l7tzuFP1goC6IqlX0/kEWJ2SOpbL9goU/+kNGZv+iJX72Ht3S/xOtzLM6Gjj/YY23zJvHBv+jLkZ2M0J4/aEidDGuzsr9auUxi2Huyv2kCq5ctz7u/bh2cnFmPxb/QH4t1MJVoPybsvbPwEaM/ULcyHGytrb8Iy0i8VFuvv2TBYRfZw5e/NMwgl3xupT9AwtncwlSYvyR9Pcg3Ra+/cAPig8jobr/x/5faGN64v8vzc8rZu6I/6gSisvUfwL+bKcD+iTGkv7d8vj/md66/QJP3dzviuL99+mnuKjOov212YbTeOaC/I18hHM9go78Z9jHcDvOzv9Tm0N8os7S/AFZo9E9qPL+21w7W132Pv+/EJxKXg6+/2GG4ceI9fr+l/Sr5mMukvya8f+O2kbK/CJsyRLFomD9ab/Ct2XOjv6h+Zb8Usse/xhWx8Nfum79/PsIGrsWfv860kZeAs6M/4iB9pfDMpL8RaSmZrpu0P0yy9Lk1Br6/rs4+3pY+ob+kQK/nL6qQPyD5K4y/7Y+/xid0pg+qsr/0MoRFKFm7v2ApnPXE/ZS/QMVf/lD7nb8auIY6l1G3v0JEtpVjFL+/hHKYi8JznT+3RM94cgi0v/70EIHI7r+/Zm+2Q6VIrL9ceaUdtxqlvwztt0AKf6O//fCqu+mZr78CGcvrzguWv0Eqh3YFVa2/KL5q+Jcowb81svbhNQytvzCPRPIsqJO/Ega7PK3Lsb98jS8XjyybP1oqXQ+Qm7K/UpO3rLtKmz92QqhA1ym2v9C6dQ0FTng/qPXGofM/rT89QZ3ke/bDvy9RvbOujLW/cEpWbx/di78uiZXc8rS1v/U1sZGGj8C/z58v46MFwb9eM4LEMjG6v6iBmXwy/Ja/mLG1h6pntL8dF/efGRq3v4ohD5rmaaW/OBt6RGR5kD8ACu8/haSOP0Qi5bdciJs/yP9Gbjvid7+uKzmzjeerv/Ut/owkprK/XuaiBPGhsr+/z406ul2hv2aN9OD6fJK/RtjmpWsXmT9HvsHSdN2qv5NAlJ6MObG/BEMr26+6m78FdD6y6I2cv7Q3nkJ9dKm/fIM9aaEXw78ZRoPlGe68v+I6/iZlC52/wMQGyUiDk798ORCQycnBv9rGzqw+lZ0/oA4s5zBxqr+6aNfq/Hahv9Jyqa9QFrK/DoXFtIvCt78o9ou+mb+qvyDxARaca1K/9mLHMbXJsL8AAzMyqc54P+v4+3eFEqq/bD5IpR3Ot7+SGci2U2ygv9yFRzK1HMO/+opmhrWPnT/EALGFbv+UvxTmpVynQKu/usquR+HSwL8OvOJExGyZv2LYsyN0n6i/3BxzntMLpr/4ZU9TTiCuv3yuc0R61JC/sKAq7kBEpL864BLBWkq+v7RvN4TrSMC/YCiHspG7xL/jgH5DEgKUv3B6eeJqKqG/7vux2vvUnb/udJS7Cv3Dv+Tlhb3/3oY/frq8uPsXpD8ewKmJ6223v+IVXduBELS/QQThwC6CsL8y9kw7X6iov9fTxaeu4K6/nwR4xEvpwL+cQjUdw56wvwn0SqLZsJ6/84IWfOQNr79aE/XNyWmevxwc0qMjFbe/FgvJTd6Ioz/gaQSPZsikPzqOiW93CsS/CP84cQ8KmL/5sCYSgtWwv7POO0U927a/aHQuubNFrb8yvFNshWG4vxsPJxU7IcK/KM7J6U3qqr86D/3GK+yyvxSO3hXXTYy/hgEDS/7Mmr9zpi4QT6Swv8ClRfWn1jC/vkFvBzgtm7/0KxHK7zySvzYJFRwAz7e/gnQ9gR8Anb9SWfU5Kx2+vyFarOMG4ba/KDKsWtFjvr9mq06XJnuzv8KtxQiOWK+/gFu0I2hiqb+QbkPi1k+wv2xOVcnu97m/gZfvpaCIsb/CPu9GYCC3v5FQeqSFj6k/DXnSnI3Lu7/mkMjsjQO6v1YWYSyHGb+/Uoj4Dyd8u7/htmDid9Kqv4Adetan7ja/1iG8rHlLrr/UvcJfnyWgv0j0uFH9wYk/5DoXpCAFo7/vvP0vOy6pv9ZAFJaPj72/ml/R9pwswr9YGlNxS1OVP5D6FXJM3Ly/MeUPwFylpL/bae9C14ugv6nGX7qeysC/erIQiO02tr89JFJEfjusv23N/8HSJMC/e+nKYDCzrL/GfwDqw/OUP3gBhXpbZbq/tqcxPM/PpT8QwoTZDhebPyupRH7aLbC/WC/nBDTDqb9A35xds6mqv1Ng7pLOdLO/8KsSXCn8hD9/au8kw7CWv9vcEnR1jJS/Qf/FcDMRtb9IktrP+8auv0vEL9sI0am/wDGphLWsRD8EnCFrlkCuv4MCOUREn7a/Nl02uxIlw79Ijyc0bae7v/TqdOSlcqe/zlww79clpL9Ca0z+HDysv/zcPRiyW7a/ox1YEDNPu7/g1pay6pl8P54Xd0NTuaC/CITHehJko7/iCIjEe0G5vzK5ZHnQ2au/7PtDz1+Nv7/aDNmOvY/Ev0a6znYqUKm/zCF0X7AVvL/arFTFOfW2vx5ZpcU/p6G/8MhI7XN/jb/Jhjhcxu+jv4YVIpZHB6i/IfewunKnr7/gJAJxsVxav/goGZRgWYE/RRgM4xdMtL/YiRCAsCrDvwaXG3n/u5g/fGsHAfRnpr9hpuOXx16vv4RVJYNyuMO/WHMmCaRan7/CmfaaUBqQv/awwPt0hJ4/tvWk1lsxn78HBfdYvNbAv5ql8Jcaz7K/0AdSyl49tr/Q29JGDhuuvzYDs+w9ebO/zx/1TqBfmL+9gegF5wexv4Bz4oI6SaK/HoKTkn5Tvr/Ysa0ZjOOAv5Hzps1iSLG/WkqoYA2XuL+ZCNk4SHShv2ZPqyhhVbC/yHwdi/P8ir/Ab5nFrE6AP2Kl0UKK6Lq/nlf+8BMStb9Km6XnAW21v1oFVIL3G7O/IRgdvPaot79YSRJ6triFv6nSyTI1NK6/kE+Cfk27wr/+27jLn6vBvxh11zAJULu/+FnSXeFwlr9wskCRiNSYvyGSe9e6OrS/YrWjmUTNsr+4em+f4IKOPwxi5g8gGIU/iIm2SU/1fT/G9MWqlFS0v466pdwoSaa/1iHN1c+msb8I1PFauuatv7Y7YKdqPLC/NDgviFY9s7/NyYJsef2SvwEf0Fczdb+/F5d/fGiOpL/SSzqPjvm8v2H1/d9XBKK/LHBbn/sSwb/yVWzTIla2vyteeE95ZaA/EVpZtIfHur94h3yjlwSVv5zrv5KwNLS/pL3VO0ZUjb/A6KHVFo69v+h/FreJ6qa/oANTF5zvsL9g0z5MUtXAvwEEAm2gfsS/I9VUsVFzsb9AWvrciHO8v2QZtDywLMW/sOdfpz+por8k4K0rtkqFP30ihxk0y62/1n8K44MJtb+7u9b3Zk2mv4jmhjmr57a/GAv3EjFlr7+03ieApdOwv0KrmXA7Bci/gErFUkN8Zb/3xdQK24PEvwxrHhD2q7S/7CMWeJFwjr9auOFEvc21vwgIGaQ3Ibq/pIWNCfNVsL96YP4m4BG/vyKpHnuPN4O/RI/l0rJhlr92VYtz9unAv1gvqRprdKK/0pgbuixqur9XamGXV+OivyyaVu+TCI4/sEggOP8soz8grl+PLSWGv6H+KgVkybS/hviUlvVWr7/8/kUq7A6Ev97STAOx4Zk/DVA9x5Anp78X7l8tApWwv1RFErqgp4+/fqTKR59xwr8yUefZRgq4v1g4QMnWEKW/sIMz8vJxj78JrS6a5d+3v8TcCLrYVaA/DBCDoQvHwL/k0AG8YqKcP8TtqrWzP5W/0DcopRfDdz9KgIM4TP6Ov60gOvuQ0rm//YftWkHUwr+wFWEq7meBv0DEWVgUBbm/XvlfDyZus78W4JPoM1+0vwipbw74JJs/TlQm/STynr8q+9Fi0Hamvyyd3dFv8sG/qzGGVTGqt7/lELIP9V+Zv/eV0CZGF6+/cFOoof0inr8Xv4wr/5+gv3YQXdBC25O/cMIqzdnbqr+weH+baF5gv84fzNu/cq6/UhwcvHR3tb/qTFH3lb64v0ItfJzL0Z2/RHPkotVit79pR6zxqaaov2SVs60SHoE/f+GlbE36pL+eb3d++PWUv3CL6t1rLri/tk1O+D49ub89PlI/quC6v9VP3KBHIMC/jv0kMttyt7+F4B4Lwgm5vw7jk2yCz5O/fHapFmX4tL/jU4tLQVCkv9StGZ6pQ7O/Q2ovwGKKlr/6kYq4fcWuv0Q7OH7nZ5C/3Lm+gGhyub/OCL/bMD6WvxjrITa/ZnA/0hbOj4mjxb+2mCjvxL2wv4jSquVIMay//LDSf8Xwiz/+jGZT/pKpv8yea54Khoi/X20OwUL5oL+QJshRlpasvySGgkg2Hrm/YluyxC00kr8LUkQ/wAStv24ICKFSSsO/iE+AOa0Bjb/Gqxcd1DiQP7n+u4/21LC/tzGvIYP7sr/JE39sSdavv0+r98Sbiqs/PlVsQWeDqb/YeCaXQwR6P+saJgW8OaS/zngxPxdbor8a0pJIbIyxvxWdMhLsWqs/YNNFLRxUor+QMVP+HPyov9SCIxGCLri/gtPTElhmo79b7KC0Admcv6Ooe0bqm6u/vBt9CCo2tb+gjT3cgVaCvwIyLetr6Li/wGPhQNNKhr9u/YHOWPC5vx9v8RFhjKw/c/N8pEwvtr/Ns01n7R+zv6OL6LlprJC/eX5mz+HFpL/ljPisNiitPzD6nw1BWGu/gtT/5Lg4k79Y5xd3DU3Dv0Pk1Brby5G/gIklrANMZb9gYlqYuSuKv6KF1spQjbO/eUNeGyjkwb+6LBfOdLKYvxiutpXsOHe/Vtz0jKrKwr949FGrMDGmv8LJh/1qyqC/AMgxVF9dg7+KTPNjWRG4v9O+l+9au7C/tk9b4ZEkqb+D5kHaaHCwvxBFX3/kg52/RogJEE7zpr8+cyphiMiqv7A3S7RkO7C/VPASoqx6rz9f8bXcdWC0v7GnLO+btKe/SOf6Shr8lb9EEndWjH2zvyF7Ql+fyq2/cHgY2OF5eT/pyzOKNw6gvz+nnlqU6Ke/iXpmEqZJu7/06ZWAtdCTP86sQQgCkMG/NiX0hfSVsb+ODZLP27ekv5R7/6spZ4c/cKceYiXGbT8ADUv1S5dQv2V88o+YNKG/8VLiR1TEsL+DsVK/I5Swv5/rKJxS4LC/WMavfueYkT/zrVh0EAKmv+qVxHC9QLm/KhvT19OKq79EHKymea6dv85kxHyXMsC/7DW0PTngub9QyrBgW/6Rv057OBeM7LW/IvaZc8T+kT/aHu+15UKhv7Q8BKrzjr+/cWvgE/lVo7+CB4UWVCiyv7jld22d8JI/0um3SmQdwb+Ug0W2EsC+v64A8wuYhpy/TpXmg5YFs79avXYd5xLCv/LLKnW5l6m/HqULqMLkur+khVsNYdq4v5Kk+MqNyLq/2cKWBUsGnL+UUgmOvmTBvwoDKsNZF8G/ylQPNZF+qb+O7rPeYSeyv/C8+iKpvne/tuwGdMMCk7+bQJ72i9ipvzcfkm9toqK/iyyual0InL9+o0wp+UG0v1NZaGvymLG/zceYESiprr9wl+StHfalv4f4YY0HxrS/LMRMqPm/lr9Hue8RldLBvxhkwNbrRoo/+pQJUnB/qL9p3h4Wiyeuv09XeQFC7bi/Qzr1Xu9Iqr++7pLFtUOuvyAimnH34Mq/mIYWOa2Eq78iTKF5C2aRv7i3703hmIS/EE2JmJW6sr+fsl9hsXvCvzIe1IJTqqc/oXkKwmeOoL+ARMxxe4huP/gisTgFkLC/w3PKY8UYrb/Nbe9pXAu3vyyFOwD1HbK/oMs9rOnjc7+gS2m9Q/SwvxTtjdQ5TZ+/wEVxbbFSt79xsUO1aCi9v5Jjk3HVu7u/LO8GkrlznT+/D1VMuSi1v24aSBdGQ6q/LqqOe2d7lb/Q43K0w2Jiv8AOoS9qm3g/3glRqw2elL/Qgt2uwmG7v7Qd2woGdLS/yl8cISD5or9NHddYZ4m4v1qLXxShyLu/oNORFjcihr/SQsCRnhWhv4oCvUhwM8S/R+noaCuqy7/3N/Gc2Py0vzdHVWzwUqu/4TW/B9I+tL94OMVOdISdv3xaSWeAN7e/HhPaW9+gs792CBPfIkq+v274swZhtZG/EtzlwVJmnr+uqq/XUDGuvxiHrS7R37e/BwoYL5JJoT/ID9xyMvyOvwo8jYoGgrC/jFaYBkU2ib/3TCMlztC6v8bedxsa472/IHGcYcbyp7+OJ2Sk9d64vzSl9DDQsq6/znw5mTIAsL/szy+/sL+/v75MoSt7trK/qmz9LVtvs784kkeOpkqxv3Fv9fPGoqa/GNO9Y6zHh7+GUDJgZUC8v7CVJt7mJ1q/fL7PycHnt7/wFm8MyNm2vwJAOqghMKi/NN2Yx3Q8ij8MR8dFbY2vv8oBpoi8AaI/DjZhTtQ4t7+Xfor+ckC0vwIQ+iZ3WsO/WD9zDcy9mL+qds34+8y5vx1Ktc0uEMC/lbm3at9hw78GcW+EL9Ckv96gMI+w5rK/IGbz+1tusL9r0vP0p1SovwBQABGE0oi/mkTpJlrnpb9AMmm4pAyEP/anvL3zh6C/LfhjwDagpr8bmfivddG3v9XND4N5PK6/l3oMnRuZwb9gZSwbCARav5zLnuhlp66/toZ9pKw7rb/gyqcyy5WBv7771FSubqC/R4iGEx/7qb8sECfXp2jJv1F+cbpz5ri/GYGjmartr7+AesGV8qlvP6FgB2cdwLC/lZFfXoXGq79KjSQ/s2Glv5x8fLaPt7S/tjV6niYGr78oRaEWyNyYPwwEsBM6To6/jPNdagchtr/dF1V1FkCyv17/fV8+fqm/ly+eWNt0uL/sIAlBK6CHP3/QLvfRmLS/sHTvtlVQsb+Dc9FSdRabvw5jhKFyh8G/bIpx8gIFgL/86O6bj6qyv3Cv0SKJnmc/y69OJYhXwL9VT5AimW7DvxJkzcVXH6I/zacJHa9utb8oc5nnvwe0v/DbK3qT0Xo/TUvCxiumwb8oiAgqCB7Jv1K39TWkZ6O/nVL5oedVrL91zzObLUy8v1pfD6QofJA//msHhvk2mz9Wx/3Vz8GLv6gbHarOvXc/agH6hF7NuT+SiKvph261v25tXO73iMK/8mu2jmWnur9ucUspncWtvyVkyJ6/y6K/MPMR4CHVur/wWP8zF0dovyFYN3MHSaa/L+TOr2Upub+KMWOZbQe3v5DoXCaNvmQ/aUOWGU0RoD9OxvSUjF2iv6JDdOL/ebu/VH1YdlI8rL9aSlUO0mavv0gIbitw55+/gFTMIhY9fT+DadJlRAO7v5SZosOHn7O/935+S/NuvL/cIkxltVa5v3DsPaqurMC/thYJg5Bprr82fAejBf+5vyLhjtxdMZw/g9Up6Cv8pT9QDn5uuxt9PzlCqBLOebq/0PDYNa/0tL/wF2lx5UnDv/K2d/F1rZM/wguyZMd1qr+w161vh0Ggv+ylK1CF3rG/brXzJW9Tt78SSkPe2/CTv2/XjIxcm7y/UKbjaGrylD8mCk37W5ujv9DL7whrD4I/5qxLYiw+tb+c1GFuupKdPxJofYeNiai/O8DsycmQwr+iUNak1A6qP7D0Ekf/QG6/DGG9Yd0Vpb8Mm0Amtiu8v8gCmXNtLbe/rlcs/lSVkD8zqC6hrJKwv7f2ftfs6q2/E1MajP0rsL9WgFIHIlGjv7qKFjELQ7a/kFJa+n66bz8jV84afKu+v3ANRxw2Oqs/ObHWtY9qvL/BzNH1k0e3v1jdQVai48C/VQuj59h2mL9Tx5z+Zf+uv4zCdxj255Q/3+2rZOOopT9jUbWDdkDCvwabuefkRbG/TFX+uDRsoL9uqfFd1Xetv1gRaw3BwHm//rl/oGqLor+K9QOmAYrAvwQCNxwZXaq/ulU7S82dpL96wFpELUO9v5y2f2nVmra/ayNw6jT+qb/upSIf3U60v4LD5OXfjJo/gBpZ6iqXl7+44LTR/Rt9v/XcTOdN/6w/yKPHiHANk7+8EidxID6qv0Vc2LKHib+/FH3B95qwmb+M2bCTALOcP5iFTbuOdpm/ZeyZKAQvs79OM+EoMe+SP/AOB7/Blpe/67kj6b1YuL+MuKQKfsK8v/zXth8elbe/z9pTSXEyv78AKpeBZ2G2vz0D77dm77O/Y6VQVKCKsL+qPoOUajqdv2hLatcDYnQ/vuDNwPyLkT/sQpNcZyHDvwB1yRNVXrW/319VyExZpj/LUVlZ5gilvwR5DNv3jIe/SA8wi6sLv79oV2Av3wVyP8JZLIOFwbG/YEv1BU0ztb9shZJeRUOwv9pd0Fz/Zrm/EucZWZCqub8YGVcazWaDP1InmRcDGpg/lrwTWfQnor81OTMRc6aov2PzOGQUvL2/TrI1pXlcob8GGyfZ9tO0v7v/SACj8Ju/wOVJr41JRL+jIvqGAAewv0wOxuQXWLS/hmxAKIFkoL/ldDvnyZGhv1TO2Laae7S/xlLm+8TZsL8y81tbw7jCv+SgUBKtsqC/FqIHToLIor+2VYrrKB+SP7aIhndkZa6/EuyYKf9ngr98bchAjlG3vyBqHxpw54Q/KHNvsouMd7/4WqSWih62P1Vb+miITqO/yPZ5ztywn79dk3mlAh+tv9fYMN/MnbS/8pOUEY0Cn7/ihekBJ+uLv3x7+L8HLpY/hMhvDAbhij8QK9Kl5QV2vxypCOcJrbC/OuR2dZRRt79eWQBrjw61v1xrTFfqJ7O/wB3ydQc4f78nHL4UNXSavy7EdbEuCom/MMunHNyjcT9g0MHm/UGWP+lQUFgrJ7W/kk6GJb+ltr/nYVRX/+e1v9D3TMZW9o+/8CKlkpyCcj/IyR/4tiSDv8ThvWlvHJW/cFrCiD/Tir8Q7H376rm8v8CTgjw47ny/CAwbKK0Osb+/rVsGW4ajP7KsTFS5i7a/2lbPPFRpvL/9tjjcxTmhv4Cu/EeHxrW/aCVFJBe5tL/Qc+R4F62YP3NRE9g/U62/KMQ5P6BWlT8kwBb25Vq4v5hRPsHxSq6/8vZzajYamb/Gpz2so2q5v4/6r1QV9Lm/OfuTGZLcsr/k9N9169mYP01W7WIAJK6/9vCfZCLPtb8ZaCYHhLvBv6AOKqVegmC/lCssRoI9h79w9LISReSNP8A9Q1PqnIs/QZw/72f0r7/YOwBGX7u8vwDP4F8jy0E/Oz+b0QK2w7+I0QFs7oG8v1DdMWIQsoi/eRYE0Aahwr8OMraRWZ2yv+3z2Bqn1Ka/PrTT0Px8nj9LbslcYcuQv4QuXTtLvcG/mjHHkACyrr8I9WYgRGaZv+otGhWgEcS/jkRdik75ur80qZjRMwaLv5wLN7pBcKa/dIOzdVBthL+uYr7xNiaQv8oE2mKNd5A/GkdXxjy1tr8A7N/wX3u1v1jLICpDo58/Hkx58XM0pL8cxLLWkWO2v3DPY9pNp44/jEs6ouNKib/+p/+ZnGHDvxd4PZFPma2/Uk55ApH1rb9PDHN1qRe1v8qUBqjF2La/afn/8vR9wb8q+0xQRsW2v96wFWd8QLS/iKkQoji4hb9r217FlDCwv6brThvEh72/xE1REjeslT+eQzsRuoKTP/8TKBOsAbq/IoTbo3hVur9A0sXgDHZnP0iWaX+xBJm/pJxPPUpHur/Qz9BPAuOdP/wyShihu4q/RibdPRRup78UOf67LR2/v2KfTuQov6u/MjIEam7iwL+WjxOulqanvyTlGKiofqS/tvq/gFqWwr/6ud2azYeWvxQ6TJX09qA/mNaA32Bdtb/SfQeDu3Ktvw5V8wLeNbM/rvQn11k1mT9MbHeTVjekv5YQBFCVO6q/oofhcwjOtr9Fxy6c8l+tv8c2H6DoVaU/9FSM6iZsvL9TlvBNyJCtv4Y0te0Uh6i/wLVSSichur8RHKDuIxCpvwDPSyTtDnY/zn55UDpLxL/S5eNX33SovwLtOhmkL6C/t5EcR7U7or8/0fIKgn+sv+4EpO5Arbq/Adi0/izwtr8IN13qkgF7Pw9ykBNVAJG/K550fNS1pD8QQ6HGW4Zmv2dcCtA4ubC/gNt7IdoSmL/6Uxh5yEuXv8CQw/EwT2i/6Xad4DFtpL80/xvZpBS4v0nPrKSEZ6G/t7TxxRIXrb8VdgkBi6iivwfhQrTIOJa/AJWr86swUb8QgxVduly6v0Q5/SnyZZ8/KdnTBI4Lpr/RCqdeeL2gv8xfpkazhpq/AAaEtcrQXz+eH/4uwEq9v9aNcxeJB7Y/gOT5rOICjT+QmCOILuVoP9PsfL++16e/J2fbLLfGxL/up5hLuFi7vx5RTIGOE5k/FITNvTTBi7/omR8YuSWuv9MTupAYt6i/gljWpLkttr8ikixuR9e1v6A3XjJyPaa/UJPKEV9Aw78kBc3AQmS5v9LBWLXaXMG/sf1lNK4Myr+PL5hcKT+3v3qqVDQgGca/btM/1m3xnL8l6P0tT02nv6KkR4G64rK/Zih9lkNcmL8qWb7wj9Sov0wHwgpI4qo/LOGBCK19ob+MbAa/Qd2bv7lMvfv4PrO/rd6s1eYfwL+IzhzYP/a+v2DHkueUwGG/FpMmqGFxm797l0P05xaxvxwGS7vSNIq/ASTyAPwmqb8K8O8sBoyvv2TbxK2Ejru/ZB8PPQOarz/6a17yUUHAv7hO5A9B+7C/uEowJuWKhT9bqqXWvxylP/j5WqbjD7W/yKziO1l3cr/g0YZhkg55v4onOP3x/6e/+v+cEw6apr9gUNoEJFS2vx43bj02KKK/kLU+Tz2lkr+MXp+Yc2zBv388KnMm6Ka/bsULolbotL8gXGbXbHFjv2EX3xTS9pa/xAcFwJlPpj/v62H7xtutvy0ATzFlTba/HCX/sPfnrL+q1aapHACnv54kSH0Xr5e/ooqJ3+0Yqj/Nqu6HZO2bv3FmMIPZ1cK/uNHXfb60j78g+awtwKCCv1Sc3dz8crO/tCuodGHmhD+JRcZudFqhv4ANh/Ld+Wa/k1EDHWbioL+mCh2yLtO2v6fGzINmk6S/8y9j9bLgtb/Kz9999Rehv7Ur4/82t7a/6WuNN7IWpr/6nvqeIyK5v5KKndzHIcS/IJ6US2vttb8P8qPkvki3v2oxjX7Z/by/EFiNqyJ5Yr9OQsOzbT25v/5+ZV6Vwri/UjwBC/Nlkr8QEINtBkSiv02dujIFDrC/bYgkUdXwp79QpVe1pNepv7KAqUY5SrS/1ouEKuQiuL94WQGa/8WAPwpigfO42p4/wZdy8ApppL9J+LpOxmiuv8a4OzNMfKy/ME/bqTa/qD+bkg/fR12pv0s5I27yrLG/7u1y0+0Vsr8A2I0Sis6lvxTBVprtjpy//RcCJOfPrL9vAvBfrI+xvzLPUgNaxqO/CwyTgwhmsL+ludR7ibq/v/WXoEvPLb2/4DB+UBLmnT85mfSFMwGxv6anCnhFtbW/SSUKLJC1sb9WQSLmVkWlv0iYns8W57m/FhIHVPKSwr8GHVTD6fKnvwoUEtpuToo/vhj3xYT3ub+0WW/RZLayvxCYggrVwIM/3pX0je8pwb+8g5P66l+gv26mLUklgrG/JKvMrYK5sr/joBSkeBXCv5AsItAh2ru/SaI9Iu4ksr9wBFMgaBKnP+g99CHySL2/5iY1VkW8tL+19MAtzBKhv8j5NfvamI+/tgIvGxjXmb9pA0QLgEywv0x9KAsXurO/pCf/Ga4Nvb/4db99QNx9v7CCkwPpNbO/UGkLSYrmZr8OJhLX/uWUv3QACWtDsqC/WP4EBvLPvr8qI0Ac9Tu1vyHBWKY3m6y/DqjRo7Wln7/91sQVdY2ov/FnWxmwOLW/fPMMfZDenz98IDzgz3mrv54Y6bqa3Li/7qRmLEHcvr+QY4ziSFqovwCFXIOkwkk/8cft34Y/pL/mA5b8tgPDv5JHmiWLLaq/AEgPhJtbZr9JOe2sOz+dvx98EGbG9Je/E/ts/ktJsb/in2o2fS2hv/hNYDWhPbC/BOki1RV6nj+JtuTbeBOrvxWsn/bW07C/PbzSG/opwr8IaJXlL6afP8xJrTQtIri/bulhNiepoT9UrZbH+q+3P8SvOj+O2L2/Ec9OoI28r78bpTGk3MrDv11kEX2LlKu/sOO+/M/BbL/A4A5Z14+gP/RH7QhwpbO/NrQNia2Bvb9Ybni37ljAv48WTgSwVqK/wKeY0KKaYr95NMehMF3Bv49bRk8sp7e/3Ns/fTEmfr8y6E4U2Me5v6QXRXkq/ri/Rt9GuJw6sr+6/ZjfAA6xv261rVojhbC/tm+sM3jbuL/YW8RaWtXAv6/k22L+4Z+/zMJgmv8Rtr+cvhSYYMrAvyD+iXCd/G0/zFyEf8lqob+ADT8IeWRlP95V6Z8ryqy/35KNvALcob/YDrQkstawv7oub+Ow2qi/sA5geQ41u7+TzZK5+Sqrv+BpS1+01Ga/lACw1JdIpb9g63Tq8wa5v0wCmeuj4bq/E15Xwd57sb+qdjV9OFCWP9sGEs4VRa6/LHqEkRg+jb9O5kgsv7utvyiMi1mKWoo/tZsAEGgOpb+/M8D/Nyexv3SMW8r26LO/jf2Py9ANrb/VDIAx1MOmv2O/QBvwB7Q/MiFFXWfEpL+yEFiD2kfEv35cjGKaxKS/FFZ7kjd7tL8qoc16Vn2lvzRQcRLO3Ji/lGbZoMkrnb+MfretafqJvzA6P5XrOLO/oHcPZYsep78Ij/ANu7HEv21pAKGttrG//PNAIU6BtL+noFR5O/SQv9DNs71eL6m/IBaoallcur9tFD/mU4PAv5TRsr3Bupo/FL0TcZhbhz8anGa7m6ivv8AdcNtHUZC/34ukrJFDoL9IZ21ZNPWCPyCQM66vjqy/EkUCNAOsqL/F3FT3lFGiv/iplcFjXq4/spNUQ+qAtb/2uK96tbS/vwc/w+KSTcC/2dKCxeUkwb9cVe8NG++rvxE7CFdUxby/fvnTUAyqn7//yrcKETC7v9KSvs+PTcO/X85eAoi8pj86OYQHKCWXP0SW0H3ZD7q/3OKWgKC5kb/wV6tuOdinv5i0WI/9bL+/Soa5bNeWt7+s3/JZVja1vyH8gGX8irm/cri1cgZGtr8I44dbsD+RPwiWc5cXj3G/vB9/Z5ziw7+qAgNjlvu+vz6hTx9nEaW/8Blxyj36bL/0fsMbp9GYvxSqgWDvUaQ/nBaOlGI+qL/78+ebe52rv2S8gmQb9be/cDWwklAktb+9suPtoWynv75DnDi5Na2/tou4Lbihsr8MTVtzcc+0v9Z5vUCPtbC/PeqhVUyyq79SrsA/6my4v9iabS5scow/td8/b6d2tL+UVbWhgPGovwSLzQjMrbm/nEkFtelpeb/CUohy4LGevw6oK8zojrm/UFP7IAFYtb/04nT6CYytvwhNwQLkz8S/pnuDf+uyq79Wi++fC0qnv+9rrzMI8MC/ih66+vJruL8Tc128/zm5vwmv3IESc7C/FyeKfohOtL+st0n6UR+OP3BxvIPxEHm/4PVFhU9Mfb85XXR3L2C3vy1mXVSbn7O/Rq/wKeNMt79ErDIQSADAv+BCL3FE0X4/aZ0Txo5gqL96KBKG0Y+zv3keA7qJfLI/QNpbt1Y9tr98M/Et3+2Dv3iyb5au5qS/IMeYY3Ujsj95anLm3361vwQZ+3CqwMW/AlD8xbpbo78R87w146ytv0wsnAys4oE/qLa0GtrEw79mQiSBQVCqv8CpFYjjiKS/DTl4bz1Qob+EmghbCkW4v2HGQ+L9x6i/ZMNbXayDqL8eWGnJBky/vxjok1FN88m/MlMl7mhUmr99mVc2JRC1v0ZYRKj+0Jq/zkFm3iU2wb8DI2QYkWC/vyT3e/Zpx7C/UNIZ4N9/wb91bLmebqeav4d/BnAyEcK/7qXZ96JAnL/Jxpywrzq7vzVfnEi8zru/AJcdnvl2s7/6xX7hcB6yv8aoxsU/Fry/mPQ8g/vRc7/41T6K+72IP9KyaXBLc7u/fyZtzdjqs7/gwYG6F0Gov3qlJTbQv6y/VCCXzPeSwL8=",
          "dtype": "f8"
         },
         "y": {
          "bdata": "flIqiIaxkD9ALYCURVGDP3oTHsHLoa4/CQIMeJ9Emz/iYYg/0luZv3wGAuS68Ko/1UlswOEyij+NSaAFiIG3P0SLLAkmRFU/os7HtpUPrj/FjiGsRpaxP6QMkHlOdbI/RevVrkLbqD+vlS8CgJGwPwG80ka3QpK/vqyFuOMctj+OVPiyvlqQv/PDBmdSVbA/VDabJr0vqD8P/9UhbcOev8tz7vk7O6k/BBkiQkBXoj/N8uZrLfydP9h6dXiDQoo/KUXqFD3Fsz9y/uJyPIKxvxgpJfN9QKU/Zk0VnV8glr8RRv1XXE+Wv+AetOKQiXw/VNoP0A30rj9wGGFYHpKkP1Bz+LBVfJS/ZKLNU+OlsD8ozYo77ni/P9X+OnzDQ6W/JJ++Tn3DmL9oDASZZE+Nv3XCiYwDTru/kjSyo3khnb/18CzXaOOmP5ZmxrFtCp0/L+Yn96AtsL8BNx4GB+62P+KJTvTj8KA/APxeenXXaj+3Kmh31I66P4D9n6Kxb32/MmQ95hmGrj/HsVhVwcCbP4ZUzLYSybU/ADAuLwDhDb9cxMrH6bi9P/gl9aEiu7C/R7qy2yG+tz8A7pjCN7ujP8LRYe1Pi6M/GMdym19gpr9MrhL+dk+ZPw4EDn+CvL4/hjtcLZKKhj8bozmynyyuP+HS4wPQlbY/DpRCJtMmpz+YdkRCUGFvPz6K8amKl6s/LnrwphFshL8AKXZnHL8rP+otwn7ZK7U/aEgE5VWzqz9Es5QNOp2lPwwC3IM7iZO/pLZsmWsqwT9fXEG1iLiaP4TmAIYMKIA/SA4G6CPwb79u5PgdPaS1P5a1W5hUZ7E/cPHXM7n+Vz/Eg/CPhFyXP/5Pa0rnwb4/YpWS8l3Apz9Y5QkKrOKkvzh5ziWWwI2/cZ0IhV34pT+IQv9q9OCTv6Eja/NTGLm/lkJYgYrmlz9QFZbSvFNrP0sTPnCIuqc/oDLWFsAOVT8QuWponWFwP8zsOcpOrKM/QJ1mbwvLiT8RKmM6sciov05+WYAbEqW/kFwFD3Ggmb84SHk+RcaxP+5kmmUM95S/0B45ky4hlb+O1On08uCJv+Zl8eV7K4S/Gjl2M5yyuT8cjv0A2jqwP8BVzmdjxL0/oP8Z/I+OYb8KTlDwXkS0P5BMc/g8KVq/wMyxOs5cRD/gS80QeuxaP7z3GUjQIbc/5Cex7JLjpD+IkH3W3eG3P6gHUmd2O5y/VlYES6YbkL/d05lZFgCyvzxd1OZP+JA/ZIfZK9dBkL8bHCaDvLWRP510NSqMYr0/LJeegzSMsT9Wu33I4GGTv9n6bI+isKi/HPYO9Cxqcb9VQiRdBSWlP0BKeOomXoi/IXK29Q3lrT8ygR7p+CupPwkTPbxuo6I/gJljb9wItz8Wstm6wouuv1ldTWjCK6I/ndteXfQ6qb8hpX42NdenPztZyR4Lp6G/TlQozlqwvD/wYjUXRSh5P7uYRMQAGqg/QNrViDglsj+bjf1hHnG4PyhQN8lZu5m/IOviA3aDuT9kKbSJI49+P9KstYdv5ro/6PQnVhtFVz/AnVcl+7JuPxCE/ijCwJw/gBRIcREGJb/QeFv0N1qAv8I1cOfmO64/jHVs4vfZxz/IOj+1ujfDP5VSNPiPiK6/rAW4ucWRrj90T2+rX1ykP8DxH6TYhYk/vIkTxWf0uD9XMs6NGcyovyXb/rpMPLA/KvHQLQS8nj+JPvCFExK0P6192K+V3bi/cCkNyYYuZj89EMs+07ihP7zHQgdYcZA/Ek6Fe+PuvD/lIQokrntxP09SjBqraKY/vP/Y0t8Yqz8A6Ks9KTZTP8/d0CDFuqI/AEJ2PldIaL8aVC8ZC+imv2zKfcjzZaY/w8ORKwB3wj8Wfw6GEImzP25+OYOo7ak/mPcxabZJoj9M2RON+mKmv3N2ZhHk8og/ItPqzC7Yj7/sp1wkCmmqP+xQWEs064s/ANofNhfumz/ioSevuZWoPwxm760A/XO/jlocc0YzqD8zLO1lS5+3P/mft+nA670/NicIzllViz9mUJXoI8OtP4Ax9lskXnc/oYk6borxnz+a8SV30fKHv3gTiw/uq3K/6p9NhqUhrD/ACqP/IVyTP2R1ZlboMaq/xdCHrX4/jj9YWsZP35eDPxzPgl+hXrY/eAfcS7H1vT8ocHY/AdOnv4qT1Fz4J6k/onZe1e53pD8Y0eocnxGFPyZHOmNOOag/DqSSd34NtD9NdPCUGPapPz5MPDxi5q4/5xSERc51uj83zwJWhfKcP+TCwijWDJe/GvlZz6UiuL91IyBWq9iwP61WvofL9aO/JlI+wXm0mb/moi3qmAS/P0mpSGiFVLA/8jDJ/2CumD9CA3z+IEWmP2knrW0Jm8O/aGSxq8fwuD97g/GTYtCnP4A4DfFL+Ig/GNNtKBXGuL+UOOeKiFKhvzjxpNSpAIg/CV9o4R5Hkj+gj1dVJGhYPw4M7pkgeJ6/irH4hJi+or/lJNSxfvetvwoKhhh8Mqw/iewdSRxPsj84GwwIk6mHv2ASUKQ+J1K/Usep2GEQfz98yP99IBezv79q8wdDv8I/2Nx8PHFypz/c1cRv9Y2Pvzq5RltEkaG/2Cq3FZrsqD/Q8s0gopV8P1RN18/+05w/egVs5q2luj/gSzAOYIZWPwhY2Lgo2rc/shxswVSEmb929Taz37u1PyFoBYpfHp4/rE+UYce6mT+4njz9rXhsv/qFe/eoVLA/iAeeIbjZsj+Uczr1N8iiv1Ns7tnXkaM/jio03uSrp7/YcIwTPilxv74NMGTrxr0/PMscWFN2mj8qGJYtReOJv7z1DqnT3bI/c+0yOIXGlT8llavzTEW9P4i7YM7pBGM/KIAB5jjksD+uwX6GpIOov13E/Y05J6i/17jhcsyBob86QPqSXr60P+B5gjwx4E2/bqkt2bwKnL8MIHl9ugiRPwiWRM08LoA/vntSNT0Msz9AilcohMFIP16mLEmN8qE/dOIZKda+mT+VoKozAkKzP3YZHWYfRrE/rqth3UGCqz/j3X/01OG7P2AAgGhdg34/0Ao9MJNTpD9sW30z+t+mv1i1UbH3h7s/Fi4NR8proT9iCi1C4tGwP5kqufKGaKw/MukoB3CHvT+q8jrXybe/P+uSfM9L3p4/jkql7J3Nrr8E1drS7q2mvywdjtEom6u/3Eh1pbERvr8LJtXNKmeaP+CMSsUvNae/MB1MEyGQZL9PzoMj2yTAP+XFBXg18pe/tB+vpz3OsD8OpW10TxmBv0c0/xShwre/RCM9zCLxdT/oThR0NsS1P5pMvNAcT6Y/3E8Ddbb1rT/yCiPJ6iC6P1uj4HGKy6A/PIaHxvyZlD88Z/JIIrd3P8F2JDIaRaE/LjdtkeR6rj+Wd/UQnQ2jv+ot8Z1rj7Y/S+LH20ukoL8w3VxKx+q5P87PeSYQ4Zo/UMqjdJUgrj9230QIe2GBPw+7Pa0biHi/ZmNU4sHJuz8gAPpYbE2lv7asJgdO+7g/AkPwJrrhsT/I5edQFVOOv3DIY+TI03e/2d/EBnaRnb97wVr63oS8P52VOE2Ttqo/hlKEZTgklD8SHXUwCjS4v1KtP40de5S/Nrc5bpHmrL/2Ktx84oGfP3ZNGeH1emw/A7jSAdZbtz9aLDTcp3SnP2ALxV5Q132/qUjGezShtD88MaTUJAG6P+hGLZUfz6c/3zTYIO0ZwD/LjpaqQs2hP4L4lsGGFKI/J58Xh5WvqT8nLoZX9QGmPwSPdfulVKG/qJPAmuAmqD9cwz/f/CKxPwbqJt4c46A/bvjx3nz2tT9sl242trmev9A6vFwb0LU/OHeNRvb3tT/+WaoD9nmJvwA4EyXEBqC/YUoKJzVssj+eC9Cb4R+vP3gDCIn9Aqk/dNd+7bsYqb9a4YBmdoSfP4UW89drlro/CCowSKKclj/oJ0wYL22yPyJT8iBEjKs/QOOknnHzqT/CfcIPM3SPvykIzns5D7o/45gM/EnIkT9bPNlPGdWmv8zTcOBqmp0/FiYoVfaAnL/mEqM3jvWRv1A0LxO0WbM/gPux9hKnvj+FYQxL4fCSv7aZNELsrqw/ghWp+bP/sT9xjHlWuTWTP8Cf2q7W4rk/5I3JeQ+XtT/jHWIBCFa3Pz81B03S/ZY/8lots0Ukoj/B3ZGhZsSyPzn4K1VgUbw/gGEdjf19er9UqrkJCDWEP6j1dfvZd6G/oFmh9yfPqj/c1fAeaVuAv+qhQAfSdqg/MQtGC/4/oj8K2j8QAxiiP4fIaPI4H7A/HCac252Njj+EViomIKujP4ybXbw1PqC/XvW6xWoGlb+mFS//hMywv/8c1QdKo44/YDRDLS1rQz8to+13m0uxv4RKchDzQYs/3K5Rw1bAmr+MhIqv5PyrP8gaJWqyYoc/xaMyK1y4xT8FRkKoE4mwv40d8j3leoq//jtSiLmClb8fCJSPOvKiPzAGkVlaaWG/TgODw3pUsD9mPiJdYxmqP9cqqMHyUaE/lPBWVEpHtT/oQfYPGR6gP3mOMVuIeKw/jGqEpoABoz+EZBYI52mUP+4s/ujLCac/OJQiT0Qesb8UFOg+7qx5vyt4v1B+7Ko/sKYp+waCvj8+imLoE8uhP98yEHZulcA/DTzFjZb5oL88C8QrtUiiP7wbp73FJ60/elVJYNRqoD/5RILgedSTP/Cxr6g1ela/UIL1njDdsT9N8UqerZOaP5SSL4Dxy4K/7vp51H8Zhz8zdqgTKqSxvx/a6uIr1KY/Ct83quhhtj8kxe3f/y+SP5E/aEa1qJK/amPuo+dRfr8oQZXIyJuEP0UZPHeYAq2/ekx1nOTqrj/BFPPh5besP5wm7lQB0Xa/6u2SSod4lz9PXbM7E+aWv9hVfHXekaW/RcShS5vtsj8PACmHKKimP3bZ+js6/aQ/hq5otE7xsD+1j9wji2q3PxrRUquA06M/cRWkUlHCn78Qwme1m4qoPzBjEJGzBKq/qMEcxwYEoT/sN/TSWcLAP6amGLbCCb8/LMbENa41pD8yn6LMy3abP55o3aE5Wqw/a4OYyzfElT8gNNZLChNBP9j67cSs9WC/Rh6okNXsmb8o/8d1CmeSv/bqrV+Ub3s/cW0azo1Kfb+iGywh6TmSP9TWYr2iyGI/wINEE80vnb8dmHR3RPGPP8aU96Q6Yre/jz0saQXRqj8127IbGcShvwrGGQ/s16E/QNv5SaAHtT8Gbu0hInWQP6bSA2XgKrU/5CLmWKnqj79CLIZm5i64P1/XmjIox6k/vphkakh9cD9uRr5y2EiAv9Cu6NIp2ZQ/frgf8//6pL8rAqLWmGWjv7yIGqWzI5M/cQbSBPj8rD9sNs66Egi8P/7C5ZOUqrk/cKjwtim+sj8AgCADfb6+Plgg1VG8PF0/AMIRw7TMM78Cxa2SiJaEPyB0jk1bNqG/YC6gd8Bmp79qJ+Yw4lWwP3wh7B70bao/XjWF1pDGgD8lbJ0VKrO1PxXZMrD0jYk/eUVKzxBpuz+wd1ciH5GQvwzfMV44FJK/gFlKbnnDpz8gzuQ4AIiWv5hZOFj9o3g/qG5fPmYzeT8ShlDXBfynP1CDh0vl4ZQ/StbzWnRdiL8QBwk5r+a1P8kPpYrr7aO/1/B+uQvJnr/CIyjWPG+uv3Wim7Rqwa6/ZOi8cBImsr+IarnORjGWP1qLje9QWJC/tDKPBtmtoT9ie2U61iabP96C4THCvag/aa5vHdXltj8odA2tA4p8P6Qwcf2+Tnw/2PWkYJbxlD9MJ4G2FjCjPwBmCU5V2hY/Us3Bwo6Ytz+uCaAeMZ+gP1o06D2tjrY/vOr0PP4opD+SW0OtepSfv7AdgEU+jJc/JK2LlHqXl79FaBcJxAi8Pw/fenVnl6i/H6KT6TXErT8WVSFm1BibP7Df4D4ouao/xtGKVEOMrz8eRnAy34WYPysFvJLI7p4/vOxGmzZArb8wEico+ZBgP2hK7VPef7c/U0/2H1kbpL80aYdf7/ugPzfBKRd1IJo/6Iot7kBSuD9Vl10tArebP8SoVU4aVrU/eHo9w/+3dT8HBddVDlCbP+BVO3CzK3E/fJoaGv7gtD/r7kT3XVq6PyhSA8xXtay/L/vQYtfDoT/Rx+W3oIykv4+ld3JgvaO/XRoTWGRUm7/XkFqrMPOqP8dvaOeQW4o/33qzkjKpsj9ZE+xe5GWov5PEEn+7BZI/2nzJDeyhsb+E8tZ4Cuezv67roY8o1ro/SNq3tBDWur+4xX/5nWuevy7KKhLqL7c/yFknebuZtj+gCN6rYeWiPy70yLZaTaE/ktE7ye2kvz+6GDHHiWC1Pws2B2BR5sM/gNO/BPJlVD8gnEX8biVTP2qewEGP36M/iD38OUVWsj+e6QnxvxW9P3kNKbh3Zak/2z+KOppowz9P78DIOjC5P/zAK86C2Y4/TKtrm0xxwD+dmnhHkcmmvxi6f3tQBnY/gKRu2s+fRT8W1AUDZ9qQv/8hCyjnlJs/QMq+NCqwhT8vj0EMZ/ucPzS3h3+esYg/uibV8OYdsj9QTstwJN5nv6AlL5ZK/rc/ByllVXAOk7/EInb3sMmKPxDOjDuS/qc/rMkssfWwuD9N8N3Dfe+3PxzUh7Z/9Y2/tnpoR/qkkz9a024cjOGwP2rUyT0fb7A/EPW2Zv0jmT9cn+TZIy+dv54SPVIvFq6/GMRYgsNVfL+vlkhZ7NShP4MFX9AMd6E/qBGHUKDxrj9IV+GLicxyv3w1sbdN+6k/wvaxjnC8oT/lg6n/hiKav+i1Jy86zLM/fT+O920lnz9wnz8kALatP3mAS7k88Jc/HMGbx+Y0jb+8EJXrDSWFv24Ky4yRMro/mGLl50kgsb8SnEPgA+O5v6cZbo3Rf4s/hKmuwm5grD88pzn3rC6wP8z4CcACip4/OmObaoFHkr9I09xNytW2v6q8cYNTzIQ/eKkeX+dJpr8q/pVKCu64P7Cqa9Emm3c/1ql/M0J2kT/arge8TcC4PzLce+YxgZI/QC45iGlUrT/+YyJApXrCP6KOaAMMJJU/EB8TaMrZdT9CBYaFm1WzP5fPSpshSKE/xn1qnR+UmL+BiWBuGAiqvxRSiF/PJoM/jTS8BvoKlL+4BO0d85SdP/AWQRDKYLM/DlJwyBlsrD+oIXbdQm6Uv9CvXli5pLw/Z1nxgd5Bo78HnMWDTkOlPwMcllwOS48/ICLaNoipXL/S5jszeBR9P5yxXQwNFoK/XhCr+/IKjD/KLtqZc2nHP3Kq/vTaV7A/QSOFhJr2sj9tfmFP8lGivzzKGWloCpE/iiJGMNRvfT+pDZjUGTWjP4wtVigq9LI/+Fh+PIjXiz+AZVnMGa5Hv6pHMpqN+LA/qg3qKAU5wj8Y9kkRoduavxfAz0fgerw/PYn1N8y7tr+eGbcNEgqUP9YHLn/V56g/JlA1eyLzpD93LW38PWvEP2pMnstj8bU/tDD/PR4znr+WUJPhagqCP8YSSfQpB5M/uxjFwklqqr+I3u1UlWVrPynCLKC78oU/zLH+NhHJob8glg512ktBP4y3D+BnnLO/xGmqpYjPmj80koEhw06xP8J6vfciJai/HZtIyarYr7+Ohp0/3+ySP95uGi0MDqu/OnYYEf7lqj/sXT8X0/Wkv3HgAPcJFIs/2ClX9KOgvz8Mp6gHHdqqP6g9rfeP64s/nNWVwqbctz+9wjatyHmxP0c6NkSxYpO/g9D45SHypT9axtmH/9CpP0EbRkVrkqm/I2qzRyaIqz+k0I2g1VpUv6wUqSwUCoa/1Pl1wiE1hz8w5/FlFCiqP07cdAWUdaM/shlvJjM/sL9CYSS4yULCP8hTwsGRHbg/X9M5/pH/rD+VBzp7r2CQPzpBL0sVb8A/l2m7/sN6nT/oPU1Eig94v0TU+WLk2rE/qD3dT1gZkr8Q01Bq9i6EP2/dHH5qM6C/eAW8DB8xm795S4vVuZi1P5DnfK0Vf4k/HoSUmlS0qz+iAiB3z0muP+IypoBWvLA/FMr77APXuz+OQij78upxvyxgZAL8e7U/rfBYrwqkxj+cKaci9oiuv9bKj8rzbKK/7yC46LJdo7+MOVfUtOKrP6Oq3z2nZbI/EgKvQ8VHjb9EFDDjx+GUPxLx6GxN+KI/1uW2EvlYoz+49BKW4adxPxyg9+e397M/+MvSgHZyfz+FsEDw3je7v4wVTHcZG6g/6N1JgaAuhz8QWHXMv/uuPzDlNx0jgqy/oBmUGr1vrD9Y4HEkKLiyv6B2uaYKS7g/lVB9NaBHlD+qb0pqyuyQv6UaU1D4VYu/9H4CWOasrT9z62QWvhGwPyoOGk6d07U/NnYBd92Oor8pZdK6eA6Sv6Vfs7ndJqQ/r/6JCrjHnD8qiBW7B0umP+sYXcB9gKW/xDo88r6Toj/qySHZ30LBP5Ayx+KvWqi/4kJBPof3o7/8eC5GFv6hPwqcyAa5iL0/CFQjS2J9kz9cQOMH6ZuUP5l9r5JvFLg/sJUUNoSjkb8AOh+Lm7GGP2VVPaTzMKw/9rzGeAHerT/kGOvw15mSv5MCDbXFe7I/RYegUe0YmT9GFk7aOTGVvwqokuVLbK0/TFSsie//mz/MUQBqxzdjP+foYDc4CqE/BAt5KI95pT9yvoaIMeuVvwqu9woFUJI/xuE1a7M3jb/oV4R7Bsxvv7plxKRuKKW/jRfmcceCsj+Y5pEil7R8v4wKajtU0bw/ZMnZUkilgT9KwAgRN+XCPxbyZtahdIm/AMftUTQsj7+MOE9qU+Srv2yS+bTbX36/DemdGD3ahz9xvEhi/Sayv9ARw0K7Jo8/5LjpkHRkkD/VY4QToy+rPw4auUA7eK4/9ZV835jsuD9bZUyA7Ua2P0lTSzJxq7o/Ka5MRb35sj9oh6Rautm7P6gcKxWbsqw/4d+Jr1n7tD9ZIunlizaxv6B3x48/inU/TCWvOBUWhz8OqnofbP2lP7leTsvm3bY/e/DisFqfZz/AbxA09SWCvzDLrp8hv6q/5H6DGqhbeb9PU0/7QWuwPzBBK8ulM7A/suUGB11dqz+Pfanwx5qZv4LOfMdPDpe/Qrv0cU//sD8gzYZfnqGvvwlUvtTcYbA/4tj5Ntg7qL/A/9irT6KsP0tMJfOSq6M/ogwbl3bqsT8y3DmN9hlpPz8sQ6fNdrI/cDsPd3jPkL/+iLNtMbu5PwjpGTGMTqy/wSaXwTdjsT9PT18lZ4miv6bngakSaLK/DIdrrudVlD9fPTnFpgejv+zg/4dt4p4/AFAYqHtQgz/kYndEdF7AP2DVrBeBK6q/mPkaGPyFoD8aTnFHQb9+P0WzPtDEXJ0/ge6l4hP6oz+hkRJ1cSOvP8jQJx1CAnK/gBNbNBJdtz+Zk7RVhEmev+q2icG8H6a/cGNOlxJvsT8Y7E+In221PxSVfE5U6H4/29codfWduz98pnV/m+uZP+yihDDKpqo/nMTJDNtIp7+/RCc0OLK9P/Rs92Bf/Le/cuJIW5p3nT9MFKBJHoybvy1y6+8rGbY/xIQyfSphuD9hIe116BekP5PXRN0BhJs/vGE/ImSAg79c8j4ku5Wcv/wtLj/0qLw/ZqadmcbqqD8wE0R/jSuQv6Agj2iA/IO/3OCqL0CdrD9P9yZ6BlmgP6AngfLH06g/PSnYNgKdsD/4G7c2H0R/P3vLfeHHQKm/ofN7lnUTmL/eFo9CGBmuPySVq6+fbb0/pkmcpdcZrD+XDC3g6ErLPz+sO2c9HbA/YU364puAsT8phzrDOoKRv9gz1hxigYu/L3I+VD4zpb+1e8kmSqWZv3V9LqDSuaI/PMOU2rLpmD/mqsx/Ko6/P6u1c9oTX6Q/ut9XA9s+tD/ZkwsaT7ihPww4JaTF2Ho/DKH0+R5Dsz/kUZdpt2qzP+CEqWkuHny/JACJ0eRjjb9xCBGjtLTAP2DO4ONn8nK/XjSj7/wDSz/Y11KpJ/yXP9G/aG8qLK8/FjDwVMv0r7/EkUPPF4y/P9aG5gMIN4U/JAPheGNcWD/3XpD8nCKBP+R2kNprXoc/EFrgDF8RdD+MrqU6rWeHv3SNHRAXh6a/gbrZGL0osz8K54W8ukGePzihTZUhQ3i/3YIAjMCyrz8bNbyNqwqyP2o4eDbTdqG/Hj5SY5rnmL+Q8huWH8SqPxSvWwD+CLg/pnt3nzr1sT8AEPcOipcfPywa3CkJH4Q/3KAZXTuxez/cSFoXROa8P4yoecavxbM/5pXm6aR/hT/YWag67BW0P/KvroE7dp4/qwtnX/lrxT9cLfdrNvWlv+DvL85zVKK/yknPT3jAo79C/XMKq8rAvyNZ56OIP7s/EnmvVO3QoL8wCJs8iJa+PwRFkcIjwq4/KEi//QfOor8cOy1DUBR2v1D75MJxplg/hR3nllyzqT+hLVmtYiOovxyrGFWVZqA/7ioGjlYolL+41ipoABO1P7/dBhYH2Ji/5Z1h/Kp5sT/BdKJdBzOwPzS0Jm1Li6G/SscdnCBtsD+gIC0Obz9/PxHpISGSkam/Aop8JHc9kb+sgKFAEOuNv3jLZK4sF6M/EPPeoc+frT/WDhd9ktSUPwDHe0hof0q/ujOY3PEhoz+UyVDQruR8v/IgGUhhM6s/0sfAKyB7pz+CLDrTQy63P1yo3WYzF7M/9eThVoyDuT+idpzMnzOVP3rbLmDYjqY/lgoObdVTtz/F2i888k/DP6CsyAsXST4/bvQGs3v2qj+iK5eYJKK9P1nctfPw0YM/IFLDlm90wT/v/4t8j+m1P8xs08y4rZa/NxOmotbHuj9CU/01/JqeP9HSK7ofnrK/vzne24xqqj9p//wzXhqyPxvoX581U6c/ONjppftJtD9O8poCfQurP4aLPYRmCqs/xDXCRaFKfD8eSIF+fc6yP0Bca8JKbsA/+mHFTEGYmD/SwCKB6mKSP7C0OHVKyYu/B95oIU1+p78f9EvciCqiP5k88Zl19Ke/rZDapoISpL/Qgi8hnsCZvyNAd/RDCZy/08XmEXLssb8UCpmAx9qGvxQzLB9RcJG/3ZGudhmnsr9+pnKOaBqwPwB1BIM1AH6/INTSE+6BoT+pjNop3Y+fP75f5iGJ9rE/b4YmRKsXqb8VUtDPBaavv7qh3Vw3i6Q/sJwPm24GRL/Qv6DA6NE1v6AvTq96JnO/TOGfgWmwir/71hh/BTu0PzlLvrBP46I/irHjxm3dob+bOoRaKu6pv7plUM1wy7I/23Xt61C+oD+GahwegnekP4J29DC7qaO/6NqWEKC2fr9iS4KgYBWRPwi4Y0zE/XE/PBVLn/Cqqz/xgLmRlCSiP/p79jGgHLC/mgZZH6V4iz/gK61iMDGgP8CRb8L/L7U/Zrv/FsuasT9wwBoBfh57v0U6AwVw6qo/+6usGI1OsT9HsC96ZfuJv4JE/E3wsXq/ptJ+Yiiukz8sdyYWxdSwPwxjgZODqXM/Botx0Xdgtz/cuFXr+zenP6EHEqe5bao/CvuGMYMvkD9QzqGGW2q7P19TGNa4arg/TGZp+FkQoL8RCGyfT3G+v3lixLWftqE/tv57N1wbnz86ZwVY8LS1v/xCSD473ae/deGwj7kRsT96dfUu7uysP4LKnAiwFJk/2nL/ZiKfub820Dod4Qm1P1LEU6VODqi/B9pPUylxvD8cqD8OaZu7v+48g4b8pqC/3oy7OUtQsT/M1z9E6Xafv9zXXdPkQLk/MiErKcUitD/LClWngOSev7hPynhQxUQ/gHDjWOf5ZL9xKft+uC+sPxXMMZWrG6s/JQAZCqYusL9HAGDioyaov+CEL3xZQqa/hETy+4r7hD+gUCrSH427PxsWjhVxWY0/wyeDOBJOob+cQ1rxXiirPz0Ngm2pNqk/4MyMrkVZib8u0hpZUPKovxqpqN5bGcM/mC3fY9kVdj/6Mq+jsXGmP5YnTVarXbI/8JUXZH2BjL+6OUbBWfucv5ZCwjqsd6W/ZTx2VrDJoL8odv019H2dP+arTpuNNpY//upwOzLSsb9AwotRqCSzP0C2v0QsBEA/xnClcybloD/6J5/zcsqfvyqbbZG577U/9uVBalNBlT9POF1tuQqrv5bBEbHfFqq/iyuzsmlGrz+Q2UmdIkpWv7hhFUFFhbA/ptrWjCjihL+ULjulQ8WlPwhMiEYR0JW/XkgHTHW6rT/odsRFXKSgvwi2EcyeS3U/ONlFgF4fjj/hkdpyXPytP2xZ/jH8mbU/mlGfWLeJtz/MPcF4paamvwD1JRFcZmw/JD9Uw2zDlT+AGUPFrqecv3p1T6WG2qc/Mn74mIMTsT8q28LABHexP8+5hDNbxKE/fDE81h9aYz90+YJ0Kju4P9IbNBfSAMM/+pUwGfa0oj/4ZG4SDj2jP8zkSh9jeMI/o0BkDw7do79c1twrUsKeP9WnNJzChLA/+ScNKZeiuz/4yKne07O2Pw7LfKrRIac/SgQigMB0wj9/iip/K9q1Px7oN8P9HZ0/2p6ZCGcqsT81Z63oDvOWP6i92aBaRLE/8JVAnzuSsz/ql0j0Q32fP2E3qmzr2qs/KiBsfiC7oD9+6pLpnq6oP9GrHk93OrI/kY/VMOj+tz9H1xh8GZGnP+lwUQsqLYc/9UFN/2XesL/CSyHwqvnAv62Dv/5K7ao/plDPcw8ucz/ICq5ZujGyP8ryrN0yRZY/dDgNMFCeoD87Ys9VKke2v2nuAZdytp8/MLd/UK1yf7/UFjeaIXtkv7v0F/fb0Ko/HwP2FP1Ssb8+0XI110G8P6TOUd52go4/1Zd5im3Kkz/Aa2tN2R5fvwItFaJBALA/MjO3xvgSrj+5kDL5+TWwv8QaTM/ee6c/+tceuxBDuT/+GR9/JN61P1NdL9z9NZI/+vONH1hjlL9XDUN1Iuihv142wkRXSaa/keyKOPjArD/OosdulquIvzySIgiJpnM/7f0Ct7l+ez+qp/pJqdy1P7z40Vb/baU/lnIAMJgSkD8Qco7fwVqgv3gRIScVb2k/4hfnw8hymT/rEIOMK2+wP/Q9HQZWWYO/umyXU9rwuT9MTkwEB0ebv3h9Sh0wMrM/yAJJEk/zqL8wjtl7r1m6P7hKAYXr2pw/8HZDp8WAtT8EZBssURe1P/AyZXHSYH+/QE+gdsvSXz8oDDAT25Z5v9zhuDr6XLc/JMuBXQ2uor8KJR3VShqiP5DuzmH4Ln0/LkeJbxmTcb8iOV6Ese6MvxxAwZACz5u/1BNsDsPhqD/uvH1dUjW4P/qZBu+jXcC/w09CqTv5tD+gBF68aEOpv5rPhZbKIKU/1STILEQXt79/oxmZYzqjP9w2j+rOXYw/f6bRum4IqD+e5cjGfz+Hv+Upsc6z0qW/nj79ZsJosj+CvUA9qlOhP95828SioKU/B+XAPCn1fT9QHGlJTqRzvyBMImnQPI0/YxjlRhvRvj/W2nZVlQyWv9v8iPf3qak/EgbefQTNsb9ma1ntVUKtv0gpCph0eqe/J706kDMRsT9ogbY2IUe9PwEQyVAAt5I/6Nf2kLeIrD/OHkmgAEWuP0CZNaAU8UA/CmDWqGV5fj81RznNRFzFP46fdZBjDJs/FGl5k3iDtj8kILHTpsO9P7S3XEsGlZW/yNcswgUIsj/xYAJhxAOZP9CaCfsICLc/UJQRG6mrxT84ayvkyDuzP5gFumzYc34/d4JZD0MRkj9e5IXTyLWbv1yWdh53QLA/9I+kK5BslD9CNuxLh7GaP7nYdue2P5a/FEspAcN9oT9j3AZJ9duDv6SmcLLi9YQ/4AenuUrKmz+tasXAw4q1P4RmPI0YSqw//hy9b2eHsb/mU8CU/Oqlv3cgCToHca8/1Z0YuCQulj8WeBmFo1qGP8KyNBQG0aM/4BxzLajhi7/AHmDUHRGkv4xloGg7jpI/B3dUvEabkj+mGP8ARKWQvzjqRJNjyME/uljqW/MGuT9iZe8+tgSUP1ClgcW1o3k/ai8g8hDqpT/uz2znMK6ZP0qmxVTXprI/1VAx1OFWtr8XydPdoCO8P/CgPWui7XW/nrwBU+amkL+AzRMPNqq3P7kl2VLe9LE//LJOmqMdfr81dmfzFsCqP7SJ2SB/L5A/Ico58eOnlD+aFVZ3+FGtP7HDrfB1maY/t+ytfVEItb9excA2JzKNP5CXRoRIJ7S/ZDLqPFL6kT8S2Wz1dDWmv8tqUoS31rW/47+mW4Vptj8Y+f3V+Jasv6cmM2ylTXM/dgq6VMMVmr/An7pHRXO4P9RX7H0PjrQ/cOZ31hQmf7+gN3j54teUPzxyGnoPtZQ/lGbUq5dTv78Aj7UMtcBuv5fq1+pRF6y/+h0XOYOEpD9OyJVzdWObP71ZHmqpF52/tCen1XhBdz+o3mgkYS6qvypDAPkMIoE//UrylaZ8u7/s5nMR8aa+Pz4ESolx0ZM/wIiXvMiBoj+aPUd9e0ijv7Nm2c1htKE/iCztjBOjqT9wMU0oZ5G8P1pe8P8WmKg/kNdazDuLrz+GVlQKRd2Bv8ve+3JRB6o/xUHxRhl9sL+wGjUdPfhmP6RkMxTc6JG/ZvetSh/Coj/IOMdLh9G8P20CzYLrTqW/mwlpByzYkb9kKuoamSmYP2YbcwjFaJY/2AKiBIW+nz+ijfr06ke/PwLS80K47rY/at2oDTivoL/0iSnVfXCQP1T9Jdoto7w/tfGq6gOajL8p5NGJx02hv8Rk4iI31rc/TOG19ILJpT8g2M98taSmPyHHIqnLY7E/0P7WaALyoj9nFli7xa6kv9OitfWI8MA/AMAiub/3Xz8aV/L5AfWyP7aEUm0ycp8/oY8FBpP6tD/J2/0NAf6kP4YkyGdBM7A/VHeEbMZhej/sCFs3JR+xP3Ke+19XN50/zQIhjX3Wpb8X2pjQvpG7P3obrXeqWXk/phWoy/RguD8Y6f/a8DZxP1fT7cQBf8A/MDbQ68F7fz9WutVA2kC5P8jyKoWVsaU/IGK4YGVPoD+IWhhM4393P7VDID78o4C/fGzlV194sD9utgkujtG5P8Dtp4WCHEE/16k5BrCrsj8hMFH1MoqaP8Ah2k4IjTs/Mt3putErqD9vyhXsy2SVP68XBryhTag/UlZs3Ysjvj+guF7rZD5ovztOkZhcZKs/Ziiq0hCqgz/v0ZgCYAG6PwC1Oj/OmD2/aINit7Floj8qBWvvrS+wvxiq261X7Zk/1A92yLcXpj/tbswpQEqYP6SCl9AAaZ0/o1U3XGaOtT8YfC0E+u+xPyqXiVyq0LA/2Dt/Fi8ooD8qe2jqAmWUP8IJpCMpKqA/FVe68ESVmj+kHHKjMyF0P4o7wyxnwqY/ACCjBJpGM7+RI/JxXMKqP72bIdHcg6i/03BpJfyYwD9cW7t1vXWxvyCIGxAIwY0/ZnH3QcgLsT85XtxDVhpwvxpJHq4pEp4/w/PldNXoiT/TNDog8JWJP60NAAxxPpU/gKqbO4mFYL9jka75G8ygPwpwfciTMpk/MPOx5pXcgL/s0vpE8IqyP+j5R4EF7pC/CPm9g2gNqz+d32Od6wSrv/gHvN3ZB7o/oVDAFZICsD9uaYTdybWTP4B0ulaf446/yw0hwx0Jor801Pfq5zm6P+5juwv+XJc/3d0q6d7lnb/K4gvD996WP5wpx4XBt4E/dXeDChM1xL+2hT+2sQykPwTLS43pF6w/PxDjOTdFxL9mLQbyHU2iv7BP2vCeD7I/Frx3lpYToz+dHuIv+5yzP4zbERPKcYs/CHhywK4hnD+Qcpqpm5GtP3WXXvb3Prk/KIqBkdySsj+gJsUObUK1P8aBDw7LlLY/LEQDvwz3oz+w9AXvnBSrP3Qx7c+ZSKe/ZadvxoiHtz+7iEsfwy+ZP0BKki7tIU8/FkQOe+jgnz/aZjcZQOq2vx4fJjHPWpm/qrSTHRlJsr/GxnqBWlqsPwxGn1n3WK8/LAkXs9f8pr9wPwUYAMucPwpEk6XYLqS/M4fGSjVVlb8Y696P7GRyPzDk7LRSRZ4/CIfHqANvpz8FdJxsAz2Qv+CjY6nf82C/aOSs0/m9oj9LFilgjqKzP3LtoKQ587Q/B/JWSDyLhb+PWAkn6OCavxSLOprjALk/sGtDjdr+dL8oWc/a2VK6P6ScGnCwwrY/ZCrNGzlAkL9W+oCWQd6wP+LbZv9rw50/VazfJujcsT+zEy2vbACQP1hQUQl/bZk/jGwBBKZleb9YW0PdYNmmv1EGIDSVqLQ/0jT8FWMDlT8AIvhtGQqzv9BZsS36M6G/O4r+FP4Cqz8yqDdgZleyv6T8wCxVi7A/vKSD8Xc1cj8Z8bSaFS2mP8jSimuKhYm/Qki1GRyquT+XEgrb31anPwL9FVjM+6c/rAM4xw/Ogr+/KCcK/zmlv1K43OBpWrU/zAt9CMPaoj9XfSKMq223P6qR2NfHqaq/R/ZcDNRKpz/OcOeSUZmcv7I0a+A+L8I/2ptkpaesxD/8Au611eKbP4AFfQ/YopY/5CR0+gallb8rmTP3NyOrPyLZxJ3AUIk/wGFdhYl0vT+h/RxzVZOyv4/yQVB2Vqc/1HEHn/xEtT801h7Vitt7P/6LR1DhbJe/isWQ9bRno7+M02498CuqP0ejwlo01qq/n8WpRWJXsT8uI14VQHmdP2wUP4nA96S/Y4Gzg3GEoT+E2h0ChbKiPzgULGpw+rI/1v/pXreylL8wMt9baYyyP2MFjSf4Y7A/vhIJEilNqD/MtVvnyvunPyCUV+G2bLw/bixRa9iBqj/m8jdfBN+9PzXvsEz3K6w/3gsStAw2rj+Cj19Goq+lPxpRvrhIP7s/EFo0l6uqqD8Mzr9s5vqvv4PO92tkA5k/t8mC5Temo7+AkBGlYEO9P5bWkYIj/5I/0Epm2KT/vT+0LlgrRAR9vzY+mg9moLY/suS/ROUJsT8ATiyGuxyXv5YGi7tCkLs/acBDh4+8pT9o/hjdnY6Jv9QNOjNm27g/pn4RA0sAtD8Kh9ezBbGWvzh9SNTF1Hm/4FqrE56Pqj+qlWqs6DixP0QqqwHmQ64/pKOwz1yXsj9IkjGt1U2xv2QFzONKf74/iVNkV184oj/wcf5p4NGqP4jY+lO56IA/Lmuq8i39hD8JTvwPfzW3PzQ/mT/jJYe/PLzQLrwGtj+gsM1125moP0S6yZQg/Ik/jTRIMA77wz9Z9kVh9WypP3yz8UnfW5k/hJBTD15krj/8co9s9ouMv3pKZ0SnYJG/6KP3qP7qqD/bSp7TpMyjvwET5Qhx2JA/3RefM1PYjz88aIlJ8q6uv/BKEFUCDYs/cy9XvGzztD8YgDnLkSmOP6criSgfqqc/4+0iamj+p7/2As17w7CnPzlw41haOpK//maVGHOokb/YlSi9hmqovxx4j/wHwrQ/+k5nJydprT+v3+NDKF+/PyakPsUj7Kg/NIoFF2COtj8+Oo3a9YSiP0XgF14PvKq/EgjYU+QEnz++9/T4BYG6P8DHTL26Zak/HzWkbbCEvj/qVjTHUeekP9RraBtgp68/VLbZLIDmtD8gI6/1bkGNv25vmquXs5o/lWjF1M2NwD+UdAZ0fMLBP7W3gDmDmKU/rbw2Lvxttj/VEGHjEyOrP+ayXZ7SypQ/hz9t+4kZmD9GMua8KAi3P7N/1/APcpQ/Agkx8x7cuz+IYZlqcSGBP8haQeeVrqI/VvrQ/olurj8IdluUUI+2P4Cw8N3NfHe/HCImuUTtxD+Ky5EqrZOCvzQlpr1aULI/E0HItE+DmT+4oxp9llWyP7CJo+gp8Lc/kL6xYWyxtj+CzG1YC2CyP2RbN1P3sKk/gEJge1QmIr9Dm6ioFe7CP5ol+cGQdpq/lPwpkecFnb/AeajXVke1Py8CajHRxqO/ftkOaqIKgj9wPmQJbuGgv0wohiRQdYs/6fOhJBJafr9vtchcyrqFP5iBJjQfdYi/UF0l3zsBYr+ApnWcTUI1v+zxrtD3w56/B/47G0BQrT/UyiAM0OGzP+9qlbusn3G/su7pA3sjuj98sHjX6oCAv6ah/0SGB4u/Vv1oYADil7+oHtsmQ6u6PzRAKNaSNcU/erqszmkTsj8cGcDXSDjAP2od4eixBLs/HT5Y1JoenT+eLgr4zt++v54Tzq4wt7K/pfRDUFgwq78+QlssNf6oP119jlUsPJU/Yqm6KzJMtD/WsC9rIoi0PzfYirj/Nq0/wqJFbhDyrj9Y54fvTHW6v6RAIjEV4qc/cMq+aX9Jtj/sQKTUCTirP9PuBCHdkaw/TgTGEm/Gpj/aM0Rwod2Dv6zvAk5c/Kc/5rM47O/xkT9JEeGAj3egv8cHL/hOiaY/x57NJzEZhD9KXw4rjOOpv8GC5I3IAJO/0TKDJwI4sz9Y+XXOo9y4P+CyFiKTJWg/oVq3LvTyuj/F1QVLeg+tP5gU3vmsq6C/aM8x7NVDwD+U9Zi54KSaPywjydsLgLU/tHEE/Dflsb94R1R5BrmSv4QPrnYt+7Y/aJwVQc/Bs7/qHwHK2nNzv8EyGzbG0a4/gJc8jTPsQL8+psY1hSCfP4thnMuSta0/jKsHEEj9eb9/GjJWfJmhv9xXmt+FbaU/YJbumd/SuT/ENtPnZYbDPxMIW+mCBbA/XHm7t+3pqT/YVU9j2MCFvz7pb7E08og/BGytt7ZueD8cDY/1p5WXv3rIr0OdY6i/s+dEWabasr/egqZ7DcCmv+frfOzRs6k/OBIXR6C5mj8N26Ge6USpv4PcNx2C8KM/rXFsaDAZqj/boeAC6zOhP1xBgadVMKM/fSl1ppM5wD9YOmGuJoWgPwWTnD0J2cA/SX+JGQbrkj/RBqldiWOqP9hf+i1XrJK/5NgPzEV/hj92ndKRX3yovwTfmtaW0Lg/lFh4LApNoL+hmnJ2RnOpv32aZbT3w5M/CH2jSnV8gr8Y2L1d/X+MP9Y5GJk/HK8/8ukUqh3Jor+Qu2DF7Uh5v5dadpb8Lrg/rBrIncnzdj/iLzWrGiC3P55mF6eoa7Y/dOhcYERupT/PTpwXfzGwPzolTASQ8ZW/VLMqq/yPcT/U/Wi5lWSBP2ZY5Zflx5U/NqsKCei6qr+IEBcj0A2mP65FxJI7HLA/whoiAcIlqT/6iAszfh22P3SoUrJq14K/MKd+amArsD+Elaj6joOxP6GcJSuaRZ8/qGs9V00AgD+SHfwK7niAP2qPNKVeSJK/u/ii3oMpsz87gdnYKgCjP9AZpELSCG2/akiBt5pRdD8tOh600jWyP8pO52e6BKy/lLI5FfK5o7+4FsLvxl2oP3EM/Ah9lpa/wD+a60vZqz9gju8ruaBxvx4fuCUPKIS/7NXZOcmUpr9gEJ4KHXinP4Swh0A7HaA/xq68c637g7/Ma3MJbhakP759PJkXD5y/suu2vv8ipT/qpuX/l2SkPyi7o5za2mG/AjwgvKlEpT80bF/Gq+2FPxK3TlslHqg/Y4ZUOOgLqz/UtUEjLQmGv1ra1CHJzIg/APrpGx76Or9ar/Da7oS1PzwJzQ34VoA/BPUfEpG3kr8U5YluMwqYPyTFd5PbC70/aDRMQX8rsr/QcYWtdZmgP6yzUvY1U7I/ZhBhvvp8sz8w4okMCDCjv67lhzrfq3q/vdIIBnJApD8IT47bybN5v6NVZ0yNELw/vWIw2oVxqD9SpExYQKugP0D5LsHloXY/Yma1Qi/Io79oshuagtuUvxuPJuitp74/+KzCeFTDsj8ktfasOaeqP0Fpo5Oua6o/YLHaQsoirj+6mogHQfOav+I3dAUQio0/TnB4LE8Skj82qrGwpF+iP0rxzek+4Zo/ojp/pyaQlz8NbpVPIIaZP7VozW5QOri/ZleXk9yPor9SiIpVYGWwP7RU7LHMY48/HKUHhWAfmT8yWK01P4eYP/koYcRzkq8/0QJPjh5nsD9aJqgbzyCRPz6PZv+4GaI/kkzY8mv3tL9URtVhQXWQvww4GyKjF4W/WJ1OB9juob8AZv6TCp4DPxsbk73Es7o/ziKHpE0RvD+GQ+74u6igv3ice+ugd7A/wwqWkST1kr/uXqLWKlqzP7DrLlGrsaM/qMEaE9ezr7+1idNj2uOZv2hmtzosvnS/qLxlVgRUoD/ySJzuL3acP/6yKAHKJ8A/hMORo91rhL9Kq1v9GkaZv7AstHJ/ZbA/Vh9e734zlL+nGW2mwNqUv4LfvMTnh5C/qTn9ya9Hr79URb5rFk2pvyzwx6BoEKy/fDXoRsG9tj9AYA1pVu+JPyCcRy3pOH0/BR4PdpUzrD84JFS7M51qP3Aj1H17TbA/x/dP4uh5sz/O7H+m795xv0lxW0qq0ZA/KQsEg/UGqD8g670Oz9B9vziXQRnA5nq/PgWrVPZuwD/NfMVlJsefP0ZFKeko9bo/7TOyLpAWtj/J/RfUU2bBPxdr3cjekqM/d1bMzw/arT/O1c+5/YS3P0DX0awCI48/LvvPR+hasD98Nstk4Aqpv7UidHPsubM/jhOAdm8Vlz+Hm7yo7+qJP8DHc1RnLmY/tLrUHRnxoD8oGtUqIIywPwR/U8Y7gbE/Z9hKVig/sD8K+Y1A/HmEP2iMdHyvvrU/a8taC1LuqT+lB3NUWaOwP4ExGyQTFLK/vFAk7XaksD/ybz8VtAu+P6RancplIbW/L9Nf9oU5oT+nPwY3CpWwP6gJJzGQraA/NFsvAQ1Wnr/Ad4NRrCxKPxfTmFerL6c/hYn/Ka5Hsb9K2YLMORiYv5wAwUYgkao/BHolDYOwoD+kfHtCRSbBP4pc4E6v9o6/jIppyeoEhT+KZhdk07eiv8Kg7XD8Maw/PRpQRr0CpD9U4aVHfMeevzZNylhn3LE/JG7nUEFOeD+wNHodvOMwv3MMrrjquKY/ANnEyHK5gD+iQczU/0Cyv7HQmLFaoqS/i98DNUSutT+wgv6T2qKkP5O+B5Ktnqq/Yx13jPsGfD+ILf+1cladv1zZdtgrN2M/k4cuj5kqtT8MMJHRCIOVv1Wj11HxzYG/YENZUQyysr/gnGSwsLZ/v/xUok1/7qu/WOaZ2aYqsr9k3aMHk36RP/HfpKS90aE/zBMp6VsYjT8X7BT84FK8P7A4Bq1QXIa/tpqJqeO2dD+MxPdXT9elP/+mkRbrVZg/LVdAE4quvT9rbb0LmgyqP0ZDHPmZQ7A/70OZwQaRnD8beLyEhHWeP0+XJcfi2ny/RDPsOHW0rL/MQK49ZgOgv9pPXoZ9mag/d4vJLfgmuj9DUB/f1iSiv56HzQcJzJS/MGUZMwiyZb/xmIfYrh6pP2HUVchZJ7W/JLWi9aNYnj8o2/jUhZGSP9IIzxJiRJ8/vaXhuvk3sb+okH70l8emP9ydx8mMhL4/DroOUzq0pj/2Nhm3ZKS1P1TiQwJ0W6s/njgfuHmFkT/GiBI2asyqvwremGYpubg/60zWmJ3er78o2KU9FYmjP8EUUtScu60/jId7PVliiz/c09l6wj6Pv/ZTL0vs65S/XhYZ4kv3nj9/0cg+nka4v5gSmAoDuX8/deahiIGdpD+jGgV3CIuUPwZw9H0cBbQ/yeqJZ49Rmj9aGhHp9P6Qv0JlRZl86KM/GPk2+4wLiL9oziCshY14vzaiRpsSNJe/Vsi39DxgtD8aUeopAgjBP8AbNc5T2VY/ng36NtkHpj9sMsjCk0+4P6l3k8LadsM/bFacOpIEmz+qGQdVGuu0v5AZCDpaN6i/bfl++oDcpT+i9W33ory1v7BI43Yww54/90dbr+HwlD+NvOcBLaKuv/KehvkGKJy/Ra8DP2mKgj9CbEO5Us6tP3YVjCBiM44/xzXmtW1fmL/w/q/FVHexP6B2+R+wR12/QPC3pbfXaj+lSLKuo9m0v5JAsBsvG6m/Isr77t2Jlr+Ubq2tKNm3v0jHihSSIHI/7nUYNUXBnz/+aa9wSTWxv5L5C0RmQo4/JkYH8idrqz9xTRjEwNSSv3vVrQlGbaU/6bLDhYYBsz+YaSEwSAepv6CkEQyrS4y/xC4wXoC+sT+Sju29+1mZP+BztAdZNWq/ZlDkVGHQtz+/T69UUxKhP8MvIiMpKqA/Nw/iFwG7tb97iaf2Vi+sP7L96WyfqqU/rjmPsk6+m79I9YHuTkizP6gIniBLR7y/CMlQc2hjnz8wiKnGHZyiP5lsizOMxKK/0mGrCvzHsT8RBQ2XuOatv6DVdGiDeW6/8EwPSyLOlD+IvSnTHwWHv9ejI61mTIM/0u/Psdibnb/Y84SFMidvPwABaVkA9je/QMDaVvJYOD/lTfNcE3PDP9EnBiczhqK/NlhFl84dqb+nJF0WtI+eP4wXgpLKOLA/Dt5xJb4pkT8mxTaYC728PwiKQF1kGYk/wKdr9BRHT78sOBHmQBSOP1zwtl+EiLq/5HCQ2vjdoz8Nf2ySjSubv0CCKIzO7cE/1vnGK0oOmz8EsK4ARLWhP5Q0GULL5Hs/Fym2ISFyxz/uJD508g20P7CvOO83G3W/m8FUqHJWoT9K3ZIK5MW3Py8cQqhvyZc/WNrwJi+Xpz+otjtT2gFvv76tMy7SIK6/OWHWOcTflz8kBRH8LrqzP5jvmSzbK58/U+F9fWcbfj+iSIGs72CyP0OCx809F7U/IbpeGK55m78+iqV7djyZv0iBRFoVtKw/KK2Mr7+rdT9Q0Jo74yR4v+Hm//EjQak/3sbCNQHDqz+4BeGkEMafP94OTeLjcKO/o/vaJpt+mz9olNchMuiSv7xh2P3mc5k/0Nhh9ChMaL+yX5hySF2zv8ZFxIgYaKE/jxAOCxvBnz+82uk5GY20P/xMS4/MNnA/tQ3YW6mSoj/iECzrwqurPyr4YbJEeaW/APEZuRvHMT8iprJYUbmjv2BuMR6RDlo/kfuZeCLUmD+QUHRuTES9P5AV/53hVXo/x7wCVFsOq7+FNPfunsmgP9O3jgCCLK6/eldjcTLelr/owTugvq+6Py7ztr9+yJI/08+1TuEboz8tj2z8neO1v1Db2sWMRHc/HqGa3RWOij9Ygc7h2XqqPzwAqC7K/b0/YzRSD1lrjz8U/IZ4WbexP3oTbTfg0q8/enSAc9wTtD9vvpchoQm9PzJtpFO6zKW/FAH11QJdsD+1uIANJbSoPx4pACgKobk/g+ekyEKhrL9womprVOqAP4IwaEE+v6s/kjd02Pj5uj+6hDLNHlukP6UjlaSalLU/UhFpSqxdoz9E43l4QMiQv1gD+V7CMn2/jp+n3Otvlr+0nOFHx2ijv+gNs671vLI/MJE19MLFqD+E3X6dWIe5P+hvDvjKPXC/IIjJOBuIPr+csy+pdIB+P5OrWgnKrrW/50pNGm3Ptj+dik/CwNOovyS0a5rlLYA/ePB6JFwanj/WQXAwKH+eP9gmPYrV3Jk/232vGQkokD+59IrcnqalP5QwLsZr2qk/3wsEQhGnrb+O1h5PflumP6+VK2mis7I/AP2aRN/vuj+Ey/HwYhqrP3B7w3PO54c/879xWnRnoD8sK6R3Sm+1P+Cp4lyUt2K/U554FCGasL/6d2dWIaWmP6b1vyPclrM/enHDsAkIkL9E/QkNqkO+PwnpkysxArG/YlZjVOVQrz8fHwZDuOmZv2YCSHW+GbI/rFrsnDxJqz/nyqeC0D+3P1TWRBObfbc/uKCt4297sL8Uixv7Y7i3P1h7bG1J06o/uyuvidDwpz/0zLdQ02m4PwoZaqIwkbA/XZ/uvEcMqT9aKAeG61WxP0SGr8K+iLe/LvGQeJrRm78URzCGlqalv+ze8TXV+5w/9sEeFVWOoj+W41vDhryBv2jPlrXNtFI/1sb0HqCSwD9L3rv+Te+jP7DpCN7wh7Y/Vj6R3PCfpT/Jsziz982yP6iSPYq552E/c1WkuhTYrr8d/Qc3mzzCPwH5/H7uwo4/T/t3jz8bsT9uUuK9nFGDv4CxZIPID6y/i9687gRujT8yweR6IhSlv9xBqauNvIu/UbJOdVj6qT8cpGuKOPSHv+B37CawV3G/8vTqXyUonD+0dw/JSFGzv/AqJO5e92I/hCTrfLxgqj/zIvwTYGKgPwroPy3zgKw/lwTbMzlOk79F6JdFaAKzP/hMe1UWqLY/jxIKCj/GmT+2MFM5mQyrv4LmWMwZgaa/cALSGH5CY7/09kOMK6SMv+CUEkfc3XI/HPvhL5/Zob952VI9Ib+bP+CyJ5LRlq6/mj1Hfdu8mz/by/yvbtWxP1dK+SR3jaO/rP//kpS8gT97wTtA2Gysv9VJ5Kiecqk/5rjwjmvLkD9Txwn5NCOzv+PVcuIro6M/PFS1nfF7g7+Ccf/MK8ucv5OD20AgAMI/xFxma/3vwD+0f2BD4SeoP34qjvze2X0/vHMXUKo+kz+UDjU16USmP0FHu+XStpQ/8AbOxcK4mz/+y816dAa6P2RiHcFknoW/1OS6Dretsz/GKGBR80G1P4AY/6uhh6M/yT7UWmR8sj8LQZJBWtOkP7RnhO/EOr0/6NWsGG11j7+czepOiQOFPwof+UAox5a/7GSj7oL9u792kRV/O8CvP+idZZl8ppI/mRUD7gbotT94gHa15PuoPzWqLFoxgqM/gBAnk9mKJT8xs0JSZbaWP+Gr32nljbw/MybH5nJalj8OWysqrLe9P+XG/rZLfr2/KUSUcTd5lj9iakODju+kP3dfbLdCGq6/lGiy7N6qpz98GtcX2KJ0P9pR+KI1Vqc/NEUD9LcJpr84ddAHjCCyP37qRU6o4LI/CAuS9g6gZz8OMO4H6Qe3P8uWaIfESZs/0EX2rBzQVT96SoyyBvikv5WIWKu8rbA/7n6eCy60tT9K2na7QB2AP4nEznot9JK/nCPGqQsSsD+2HFHy8j+Dv2bshaJZnqs/cAiaCWgRcz9dnz2/gMaVv5hjq89nwb4/bOZHHktJqb/AXpu0I6SpPxYD/bqZtbc/vt9mfxwjlr9axEasQUmnP5IVTxzUh6g/a3qdclU3vz89a4O0aHaOP0jvFSdTKpg/7XvFmD75qj/Yw2Y4akWDvwYgTPRgeMU/YbLqszXltD+MD11ZbtSxP4MvsdNqGKw/FnV3gra+nr/WKwCwoc66P/3y/n0XZ6E/sSKZJSvsg7/Ni19TwXyAv+4ANJR4ba0/KJf/7Ggpcz+KgEbwInq0PyiiKhLzgHu/drPCD8JdoL9Q+prKZbmqP6ATK4FZu1W/aPBESf1utL+u2jnKXwG9PzJGqwABbqS/M0vB+8tQmj/UZ1dCe0elPzohlPAuNq0/s99wdrNzrT9+dUhWoNSoP0DkzfzvCsU/Uw8GPzGckD+QpWlnbTu1PxqrRDxbnbM/fGcq4pH6vj948VwAovh4P379SXV1cKI/b0pU7zE7qj+gldHOcxdZP7ZGnvcB1IE/Gs9UfrRxnj/TMktbuFaWPzYi0HbuyqY/Lmnzsgv5jb9MmjQ8IBi0vyA1xYlbKHG/7VGHhJD7q7+JBfsw11emP0GjMqdWIqe/ADv8wFesXr87RGc/lKK3v+JUZCbreaQ/aHewsKsqmj+S3sP/JVaiv+AQCEhvnYI/eXFaZKMnvj8YVVdn72uRvyMgpNG5R7E/HtpdVYcOtj95uHRQHDWEP66AwEXHc2W/wJ8FNoFSTj/A/Q71ObuIP1Ra5nQHGKK/LRG+xhLxuj8COJ8BzaOcP4jiuJ/ozaq/quY5Uej7tT8FX2Oj6VSqv7jx2Hi5Uro/xJHze3KguT/Py3UhtC6cv8wBS1Ikf7M/WnJcqJgIxD+k5XOGrlOqPzzOm749I5c/wizn424cmD9keHgFqPuzPx4iH4tNioo/y6cDLgENq79NuXbr5x2qP0D89QenS6E/qWTVHrNYir/UWxUg+H2sPyxOZOrHOJO/PmjFfF/0sz/+Bkc78yOXP5hNhZVfi8g/uCzqExV9h7+Oj4hoVDTAP+AxOtG5ba8//zBS+9MzrL+QesOuxvGDv3ftu5aLkaC/ZR8HhIOqmD9kpO4JrUXGP5galp3morQ/uI8Sk6GjdL+w06dxu1m3P9e4F4icC6a/BISqCtIQtz/mVaQV8xG1P9b8Uh2Y8bY/rWWIbRphsD+MvEEVSn2UP6jd1gknzLA/pckxIW+DoD8IcA4Nvq+gv8iGjfvbwLQ/GLh+pFMPqz8J0e5jTS+9P5hkwAxm7JI/qNSU0/JYmr84dIs+vf6aP4B2i0RPNUk/QYMx/J0lpb8wFqC5Mj6zP9SP6grJlKW//6EJQEfhsb822P5pgPasv1laVz7Mq7C/xSKRVKwyqL8aVLc96t7AP7FXFYT3ZrI/Cni7B5SHqL+C50FoMJ2xv+dQ2kNb1ZI/CxaBj1+hp796Ed05u9FyPyeVB6RpK5u/68Ebkogplr8qVYSzyqCXPzLOSrjQYLE/9zkitL+mtb+6gTKGVKuMPx0RfE42iJA/gKdKQkdGqz/NEWk11UahP2LCQFZr5q0/Rp2Wk2x7rj9OH/QmWLCDv8ZxbdxWacA/k8pGq3jPuD+gYyPTQZBjP/JIoRh85ma/3oLFdGjAtT9mlV4Bype7P2aE2VhS9KK/E9befNHStj++ydK+9PCXv4MXIWA/UXq/dex4Z/Uwnj+tGNMduHmyP5LkhcdwTZC/nKoL582vtT9X3kPP/sGeP5MHb4ggtIo/aQ212T3Wtj8cVlw5nZ+4P/N947MlVpE/Crbz+tursj9CivIlh96gP474GDO9XJy/bPsTde+hhL8tvMtv2N+Qv0Btw80IKU+/vHdk0vGNjb/ShKWy8g+xP9XixIBabLU/FKNJ3Lishj/ekvkZlI2kv8gNpUV3y7M/ui1eTRxapz8OkxWMUd23PxD7DGfdVG8/6mY1lJ8IoT8QaaFSYWW0PxhYbXZUKVQ/LoqgGq4XuD8FJWURsQ2cP9Cthzg7lqw/agoQCfZ4vj9ap4aRKCKnP/PyfBJSU4o/fRcT74mbrT9z6cB77w+9vy4V/EqSHaG/MYJ8loTPvj+ki3+LSnd3P6p7xSmQ8Ls/8OZHGajmgD8vOqruujKlP0kIhXbkLZa/LXilxHxcvj+YPxpak/WzP0WJVHvNqaO/7GwCTmiXoz+/wBj6IaC1P9yqd3kdFrW/HZgeoJCIor/GkUT5PqqrP9OgJItCMLW/zQzGeeoso7/+u1XqN/12P6zUknkyVI8/QmdXNBvsi79AF1Fl9IHBP+LrTaXgg3o/QBjikYn4Xj9GUTP99jGsPwWcqSywOri/TljaFjderT90LEXWabaEP62KkRyrqLY/fJDJGIuwjD/X0SKBVrGmPwKujj3VOqS/ABO0k0bkLb8kPntDC/GpvyQOKicWW64/2DL8U7CBuz8fWuHUpNCPP7fYPV1iYpe/gVF/J1lVqT/a+2195E6rPxDV7ctsjqo/PcZeS7Yeeb9sb3UWMOSDP1HwS8YY9qG/fF+3erXdh7+oFr/83kaePx1+7E8KmIu/GQlDI1l+pz8mEhmhJLuqv1FWZPUUWaU/WAbF3hlrjD/4110CU47DPx/A8LnSuKG/DG0hIEqpgb8iQ6wLVlamv45VSH3vlJ4/M/pruWNepz9YEMekk060P29YrYCs4qc/QTDEXJT1oL9bs9LfU5qWP1RtNPB1DpK/SLB7lEDYYL9eyOIlBd+yP3iov5GuOKK/dOQ7DSE9oD94AxMScGGbv6Thlh6dWLo/ZWuatlV4sT8tCvf++yinP/EVrfoohZE/+gx69vUmuT/U855ug5+sPzXHEGsx4Ic/RGSnQG/vjT/uq7OSX4Cov1wt2d0y8ZO/w47Sj6h7sD+48HEv74q8P2/6YWZJTJS/BvfB5KpDuD/hgVYUUZqhP49Npjb5crq/Lt6vohyGpz88RSVEJAKcv+1CdWCx6Ko/7p9cxBWUmz94BAif+X6tP7zuDRcJA5A/eJrBTnnorb9Ah5OoBQp4vwwoUl1Xh54/ENoJoDqJtD+wnbQhQeiiP1ynGsoKZrU/epH3Z8Raoj97983OYMilP3HaBOMOjZk/TQQbIUDSsj/UGIax5ieQP8DyORy6wFO/OD+1NF3apD8HZeaTe3OAPx8tatP3lLC/Z7JGz1D7qz+Y52Y57Q2WPyhaGnL3Gbs/RhjNOo+qpL+6h9a/XiuXP9B+ugU4Z3o/69Iy7yOXiD/gf9u0thmavwSuOnb4jak/zjYWmlnCtD9E0ye/FTurPy4PlzdSR6Y/BukFCo+0qD8hMI4K0Ymav6tAy4a/3KC/8fdqYmC1lT+mPRmN2MCiv5bseCXH/6w/+TvXQqqytz+Uk0QK8Ayav9QO1Xzde6o/SB/ff6XZuj/kwiZD5hqgP7XJik9qXbQ/7Bo2laPrpD97tp/uRveqP7hFLGknrZi/kEttXkfmaT93Idn77M6ZP9jOM6diuXa/elsfbml9nb9kvxSELkmWP3S9u7LjgqK/CNVHsmknbb+mwGYRVauzv5QfYjLLMqO/6SW7PNS4qT9COtLlwhCrP2vC8wkd9ZK/wgznONKFsD++kzjxy2uqP3ZPze4VmLE/tHcIUUoqoT/HknViN6iNv4KF8WgZdKc/VJlP/qQQkz+vCpOUMMakP1SX+83N1IC/eBo1BDW2eb+C5xTGaUunv1k3mUBqCaY/NjkU77rWhL+4RltFJMq3P15hgijD1Kk/5BLmYI5vgD9WmV5Bv7m8P+woeu5hx6k/lytNVCvEhj/Ml7mgK5OTv0nGcmYb27E//BsLrMjPhT981xtLcVygP2FzNNzQGrs/Wp6otc/AoL+7qJXewn1hv0OzQqQK0aM/cxBJsfEHrD+kY3/B28+Zv6hH6Ok+42s/46KvZTONpz+wTf4gXXOdP7lue7q+ULw/5NrAQubZZj8eMFTwqEefP0hCQuCUZZK/40QLivujp7+whJVS4v2lP9z1eyZnw5A/wAdSOCYaQj8GA1OPFmqMP3HCSoh34KK/BX+zzV3Rnb9mxld0tCegv5oqjbiRtKm/pvgwOomirb9NVC74AkqlPyWLj24j+bW/TMaxKUObjT8QXn2zUG+TPy3u8NSrMaq/ZRpw8aR3kD+Q8l831jyzPxUtRCYpaZo/DntgfA0LqT82q7Pc/EKJv3fSF28teKM/DmItBZbJrT/Qpp59YaiVvxYnWZsb84k/blB5lWJkwT8nRORBw96gv79zVatKY7s/qHLxZyzaYz+AicPAK45Uv4hpvX5xY3M/hyRDHkKanr/ms3W8p0etPyZyKbS33bC/CmZE6Pv3f787IFsku9uhP99v3NrDIpc/sGNVRL+2tj948lc6Oma3PzvhEekIOn+/1BbIDfJfjb8igxLQci6jv+CqtMpv9n+/JJ3e2qf5cj8GatDi2WPCP50Y0alWbaA/m1MWsB86sb+iD6LeJtmaP29hbcpywb8/CMB6yASVqT+WSEcBYCWfPwCuvO6PmYg/YHddKW2ftD8=",
          "dtype": "f8"
         }
        }
       ],
       "layout": {
        "legend": {
         "title": {
          "text": "Label"
         },
         "tracegroupgap": 0
        },
        "margin": {
         "t": 60
        },
        "template": {
         "data": {
          "bar": [
           {
            "error_x": {
             "color": "#2a3f5f"
            },
            "error_y": {
             "color": "#2a3f5f"
            },
            "marker": {
             "line": {
              "color": "#E5ECF6",
              "width": 0.5
             },
             "pattern": {
              "fillmode": "overlay",
              "size": 10,
              "solidity": 0.2
             }
            },
            "type": "bar"
           }
          ],
          "barpolar": [
           {
            "marker": {
             "line": {
              "color": "#E5ECF6",
              "width": 0.5
             },
             "pattern": {
              "fillmode": "overlay",
              "size": 10,
              "solidity": 0.2
             }
            },
            "type": "barpolar"
           }
          ],
          "carpet": [
           {
            "aaxis": {
             "endlinecolor": "#2a3f5f",
             "gridcolor": "white",
             "linecolor": "white",
             "minorgridcolor": "white",
             "startlinecolor": "#2a3f5f"
            },
            "baxis": {
             "endlinecolor": "#2a3f5f",
             "gridcolor": "white",
             "linecolor": "white",
             "minorgridcolor": "white",
             "startlinecolor": "#2a3f5f"
            },
            "type": "carpet"
           }
          ],
          "choropleth": [
           {
            "colorbar": {
             "outlinewidth": 0,
             "ticks": ""
            },
            "type": "choropleth"
           }
          ],
          "contour": [
           {
            "colorbar": {
             "outlinewidth": 0,
             "ticks": ""
            },
            "colorscale": [
             [
              0,
              "#0d0887"
             ],
             [
              0.1111111111111111,
              "#46039f"
             ],
             [
              0.2222222222222222,
              "#7201a8"
             ],
             [
              0.3333333333333333,
              "#9c179e"
             ],
             [
              0.4444444444444444,
              "#bd3786"
             ],
             [
              0.5555555555555556,
              "#d8576b"
             ],
             [
              0.6666666666666666,
              "#ed7953"
             ],
             [
              0.7777777777777778,
              "#fb9f3a"
             ],
             [
              0.8888888888888888,
              "#fdca26"
             ],
             [
              1,
              "#f0f921"
             ]
            ],
            "type": "contour"
           }
          ],
          "contourcarpet": [
           {
            "colorbar": {
             "outlinewidth": 0,
             "ticks": ""
            },
            "type": "contourcarpet"
           }
          ],
          "heatmap": [
           {
            "colorbar": {
             "outlinewidth": 0,
             "ticks": ""
            },
            "colorscale": [
             [
              0,
              "#0d0887"
             ],
             [
              0.1111111111111111,
              "#46039f"
             ],
             [
              0.2222222222222222,
              "#7201a8"
             ],
             [
              0.3333333333333333,
              "#9c179e"
             ],
             [
              0.4444444444444444,
              "#bd3786"
             ],
             [
              0.5555555555555556,
              "#d8576b"
             ],
             [
              0.6666666666666666,
              "#ed7953"
             ],
             [
              0.7777777777777778,
              "#fb9f3a"
             ],
             [
              0.8888888888888888,
              "#fdca26"
             ],
             [
              1,
              "#f0f921"
             ]
            ],
            "type": "heatmap"
           }
          ],
          "histogram": [
           {
            "marker": {
             "pattern": {
              "fillmode": "overlay",
              "size": 10,
              "solidity": 0.2
             }
            },
            "type": "histogram"
           }
          ],
          "histogram2d": [
           {
            "colorbar": {
             "outlinewidth": 0,
             "ticks": ""
            },
            "colorscale": [
             [
              0,
              "#0d0887"
             ],
             [
              0.1111111111111111,
              "#46039f"
             ],
             [
              0.2222222222222222,
              "#7201a8"
             ],
             [
              0.3333333333333333,
              "#9c179e"
             ],
             [
              0.4444444444444444,
              "#bd3786"
             ],
             [
              0.5555555555555556,
              "#d8576b"
             ],
             [
              0.6666666666666666,
              "#ed7953"
             ],
             [
              0.7777777777777778,
              "#fb9f3a"
             ],
             [
              0.8888888888888888,
              "#fdca26"
             ],
             [
              1,
              "#f0f921"
             ]
            ],
            "type": "histogram2d"
           }
          ],
          "histogram2dcontour": [
           {
            "colorbar": {
             "outlinewidth": 0,
             "ticks": ""
            },
            "colorscale": [
             [
              0,
              "#0d0887"
             ],
             [
              0.1111111111111111,
              "#46039f"
             ],
             [
              0.2222222222222222,
              "#7201a8"
             ],
             [
              0.3333333333333333,
              "#9c179e"
             ],
             [
              0.4444444444444444,
              "#bd3786"
             ],
             [
              0.5555555555555556,
              "#d8576b"
             ],
             [
              0.6666666666666666,
              "#ed7953"
             ],
             [
              0.7777777777777778,
              "#fb9f3a"
             ],
             [
              0.8888888888888888,
              "#fdca26"
             ],
             [
              1,
              "#f0f921"
             ]
            ],
            "type": "histogram2dcontour"
           }
          ],
          "mesh3d": [
           {
            "colorbar": {
             "outlinewidth": 0,
             "ticks": ""
            },
            "type": "mesh3d"
           }
          ],
          "parcoords": [
           {
            "line": {
             "colorbar": {
              "outlinewidth": 0,
              "ticks": ""
             }
            },
            "type": "parcoords"
           }
          ],
          "pie": [
           {
            "automargin": true,
            "type": "pie"
           }
          ],
          "scatter": [
           {
            "fillpattern": {
             "fillmode": "overlay",
             "size": 10,
             "solidity": 0.2
            },
            "type": "scatter"
           }
          ],
          "scatter3d": [
           {
            "line": {
             "colorbar": {
              "outlinewidth": 0,
              "ticks": ""
             }
            },
            "marker": {
             "colorbar": {
              "outlinewidth": 0,
              "ticks": ""
             }
            },
            "type": "scatter3d"
           }
          ],
          "scattercarpet": [
           {
            "marker": {
             "colorbar": {
              "outlinewidth": 0,
              "ticks": ""
             }
            },
            "type": "scattercarpet"
           }
          ],
          "scattergeo": [
           {
            "marker": {
             "colorbar": {
              "outlinewidth": 0,
              "ticks": ""
             }
            },
            "type": "scattergeo"
           }
          ],
          "scattergl": [
           {
            "marker": {
             "colorbar": {
              "outlinewidth": 0,
              "ticks": ""
             }
            },
            "type": "scattergl"
           }
          ],
          "scattermap": [
           {
            "marker": {
             "colorbar": {
              "outlinewidth": 0,
              "ticks": ""
             }
            },
            "type": "scattermap"
           }
          ],
          "scattermapbox": [
           {
            "marker": {
             "colorbar": {
              "outlinewidth": 0,
              "ticks": ""
             }
            },
            "type": "scattermapbox"
           }
          ],
          "scatterpolar": [
           {
            "marker": {
             "colorbar": {
              "outlinewidth": 0,
              "ticks": ""
             }
            },
            "type": "scatterpolar"
           }
          ],
          "scatterpolargl": [
           {
            "marker": {
             "colorbar": {
              "outlinewidth": 0,
              "ticks": ""
             }
            },
            "type": "scatterpolargl"
           }
          ],
          "scatterternary": [
           {
            "marker": {
             "colorbar": {
              "outlinewidth": 0,
              "ticks": ""
             }
            },
            "type": "scatterternary"
           }
          ],
          "surface": [
           {
            "colorbar": {
             "outlinewidth": 0,
             "ticks": ""
            },
            "colorscale": [
             [
              0,
              "#0d0887"
             ],
             [
              0.1111111111111111,
              "#46039f"
             ],
             [
              0.2222222222222222,
              "#7201a8"
             ],
             [
              0.3333333333333333,
              "#9c179e"
             ],
             [
              0.4444444444444444,
              "#bd3786"
             ],
             [
              0.5555555555555556,
              "#d8576b"
             ],
             [
              0.6666666666666666,
              "#ed7953"
             ],
             [
              0.7777777777777778,
              "#fb9f3a"
             ],
             [
              0.8888888888888888,
              "#fdca26"
             ],
             [
              1,
              "#f0f921"
             ]
            ],
            "type": "surface"
           }
          ],
          "table": [
           {
            "cells": {
             "fill": {
              "color": "#EBF0F8"
             },
             "line": {
              "color": "white"
             }
            },
            "header": {
             "fill": {
              "color": "#C8D4E3"
             },
             "line": {
              "color": "white"
             }
            },
            "type": "table"
           }
          ]
         },
         "layout": {
          "annotationdefaults": {
           "arrowcolor": "#2a3f5f",
           "arrowhead": 0,
           "arrowwidth": 1
          },
          "autotypenumbers": "strict",
          "coloraxis": {
           "colorbar": {
            "outlinewidth": 0,
            "ticks": ""
           }
          },
          "colorscale": {
           "diverging": [
            [
             0,
             "#8e0152"
            ],
            [
             0.1,
             "#c51b7d"
            ],
            [
             0.2,
             "#de77ae"
            ],
            [
             0.3,
             "#f1b6da"
            ],
            [
             0.4,
             "#fde0ef"
            ],
            [
             0.5,
             "#f7f7f7"
            ],
            [
             0.6,
             "#e6f5d0"
            ],
            [
             0.7,
             "#b8e186"
            ],
            [
             0.8,
             "#7fbc41"
            ],
            [
             0.9,
             "#4d9221"
            ],
            [
             1,
             "#276419"
            ]
           ],
           "sequential": [
            [
             0,
             "#0d0887"
            ],
            [
             0.1111111111111111,
             "#46039f"
            ],
            [
             0.2222222222222222,
             "#7201a8"
            ],
            [
             0.3333333333333333,
             "#9c179e"
            ],
            [
             0.4444444444444444,
             "#bd3786"
            ],
            [
             0.5555555555555556,
             "#d8576b"
            ],
            [
             0.6666666666666666,
             "#ed7953"
            ],
            [
             0.7777777777777778,
             "#fb9f3a"
            ],
            [
             0.8888888888888888,
             "#fdca26"
            ],
            [
             1,
             "#f0f921"
            ]
           ],
           "sequentialminus": [
            [
             0,
             "#0d0887"
            ],
            [
             0.1111111111111111,
             "#46039f"
            ],
            [
             0.2222222222222222,
             "#7201a8"
            ],
            [
             0.3333333333333333,
             "#9c179e"
            ],
            [
             0.4444444444444444,
             "#bd3786"
            ],
            [
             0.5555555555555556,
             "#d8576b"
            ],
            [
             0.6666666666666666,
             "#ed7953"
            ],
            [
             0.7777777777777778,
             "#fb9f3a"
            ],
            [
             0.8888888888888888,
             "#fdca26"
            ],
            [
             1,
             "#f0f921"
            ]
           ]
          },
          "colorway": [
           "#636efa",
           "#EF553B",
           "#00cc96",
           "#ab63fa",
           "#FFA15A",
           "#19d3f3",
           "#FF6692",
           "#B6E880",
           "#FF97FF",
           "#FECB52"
          ],
          "font": {
           "color": "#2a3f5f"
          },
          "geo": {
           "bgcolor": "white",
           "lakecolor": "white",
           "landcolor": "#E5ECF6",
           "showlakes": true,
           "showland": true,
           "subunitcolor": "white"
          },
          "hoverlabel": {
           "align": "left"
          },
          "hovermode": "closest",
          "mapbox": {
           "style": "light"
          },
          "paper_bgcolor": "white",
          "plot_bgcolor": "#E5ECF6",
          "polar": {
           "angularaxis": {
            "gridcolor": "white",
            "linecolor": "white",
            "ticks": ""
           },
           "bgcolor": "#E5ECF6",
           "radialaxis": {
            "gridcolor": "white",
            "linecolor": "white",
            "ticks": ""
           }
          },
          "scene": {
           "xaxis": {
            "backgroundcolor": "#E5ECF6",
            "gridcolor": "white",
            "gridwidth": 2,
            "linecolor": "white",
            "showbackground": true,
            "ticks": "",
            "zerolinecolor": "white"
           },
           "yaxis": {
            "backgroundcolor": "#E5ECF6",
            "gridcolor": "white",
            "gridwidth": 2,
            "linecolor": "white",
            "showbackground": true,
            "ticks": "",
            "zerolinecolor": "white"
           },
           "zaxis": {
            "backgroundcolor": "#E5ECF6",
            "gridcolor": "white",
            "gridwidth": 2,
            "linecolor": "white",
            "showbackground": true,
            "ticks": "",
            "zerolinecolor": "white"
           }
          },
          "shapedefaults": {
           "line": {
            "color": "#2a3f5f"
           }
          },
          "ternary": {
           "aaxis": {
            "gridcolor": "white",
            "linecolor": "white",
            "ticks": ""
           },
           "baxis": {
            "gridcolor": "white",
            "linecolor": "white",
            "ticks": ""
           },
           "bgcolor": "#E5ECF6",
           "caxis": {
            "gridcolor": "white",
            "linecolor": "white",
            "ticks": ""
           }
          },
          "title": {
           "x": 0.05
          },
          "xaxis": {
           "automargin": true,
           "gridcolor": "white",
           "linecolor": "white",
           "ticks": "",
           "title": {
            "standoff": 15
           },
           "zerolinecolor": "white",
           "zerolinewidth": 2
          },
          "yaxis": {
           "automargin": true,
           "gridcolor": "white",
           "linecolor": "white",
           "ticks": "",
           "title": {
            "standoff": 15
           },
           "zerolinecolor": "white",
           "zerolinewidth": 2
          }
         }
        },
        "title": {
         "text": "Scaled Positions with Simulation Overlay"
        },
        "xaxis": {
         "anchor": "y",
         "domain": [
          0,
          1
         ],
         "title": {
          "text": "Democracy Scaled"
         }
        },
        "yaxis": {
         "anchor": "x",
         "domain": [
          0,
          1
         ],
         "title": {
          "text": "Welfare State Scaled"
         }
        }
       }
      }
     },
     "metadata": {},
     "output_type": "display_data"
    }
   ],
   "source": [
    "sim=run_simulation(data,10,N,D,sigma_noise,gmm_components,0.5,0.1,1)\n",
    "plot_with_simulation_separate(concatenated_df,sim)"
   ]
  },
  {
   "cell_type": "code",
   "execution_count": null,
   "id": "43f5fd93",
   "metadata": {},
   "outputs": [],
   "source": []
  },
  {
   "cell_type": "code",
   "execution_count": null,
   "id": "4c80ee0e",
   "metadata": {},
   "outputs": [],
   "source": []
  },
  {
   "cell_type": "code",
   "execution_count": null,
   "id": "d819a909",
   "metadata": {},
   "outputs": [],
   "source": []
  }
 ],
 "metadata": {
  "kernelspec": {
   "display_name": "Python 3",
   "language": "python",
   "name": "python3"
  },
  "language_info": {
   "codemirror_mode": {
    "name": "ipython",
    "version": 3
   },
   "file_extension": ".py",
   "mimetype": "text/x-python",
   "name": "python",
   "nbconvert_exporter": "python",
   "pygments_lexer": "ipython3",
   "version": "3.13.2"
  }
 },
 "nbformat": 4,
 "nbformat_minor": 5
}
